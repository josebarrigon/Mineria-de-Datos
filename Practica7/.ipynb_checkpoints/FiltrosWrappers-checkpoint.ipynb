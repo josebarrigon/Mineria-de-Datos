{
 "cells": [
  {
   "cell_type": "markdown",
   "metadata": {
    "deletable": false,
    "editable": false,
    "nbgrader": {
     "cell_type": "markdown",
     "checksum": "aafdf752c878f49e3b7f5026b54b8424",
     "grade": false,
     "grade_id": "cell-e304ce9e089a3a42",
     "locked": true,
     "schema_version": 3,
     "solution": false
    }
   },
   "source": [
    "## Práctica de selección de variables"
   ]
  },
  {
   "cell_type": "markdown",
   "metadata": {
    "deletable": false,
    "editable": false,
    "nbgrader": {
     "cell_type": "markdown",
     "checksum": "f302f2b534ec28c05e70a0ef3d933235",
     "grade": false,
     "grade_id": "cell-c4db50fac01ba95c",
     "locked": true,
     "schema_version": 3,
     "solution": false
    }
   },
   "source": [
    "- [Análisis de correlaciones](#Análisis-de-correlaciones)\n",
    "- [Métodos basados en filtros](#Métodos-basados-en-filtros)\n",
    "- [Métodos basados en wrappers](#Métodos-basados-en-wrappers)\n",
    "- [PCA: Principal component analysis](#PCA:-Principal-component-analysis)"
   ]
  },
  {
   "cell_type": "markdown",
   "metadata": {
    "deletable": false,
    "editable": false,
    "nbgrader": {
     "cell_type": "markdown",
     "checksum": "d71cae7b531be8f3468bd78581de75ff",
     "grade": false,
     "grade_id": "cell-17f2d1701252dad3",
     "locked": true,
     "schema_version": 3,
     "solution": false
    }
   },
   "source": [
    "Importamos todas las librerías que vamos a utilizar durante la práctica."
   ]
  },
  {
   "cell_type": "code",
   "execution_count": 1,
   "metadata": {
    "deletable": false,
    "editable": false,
    "nbgrader": {
     "cell_type": "code",
     "checksum": "2a1d318cc3e9267af38c2e5fa36283fd",
     "grade": false,
     "grade_id": "cell-45f1f7699bfcacdb",
     "locked": true,
     "schema_version": 3,
     "solution": false
    }
   },
   "outputs": [],
   "source": [
    "# %load ../../standard_import.txt\n",
    "import pandas as pd\n",
    "import numpy as np\n",
    "from test_helper import Test\n",
    "\n",
    "pd.set_option('display.notebook_repr_html', False)\n",
    "pd.set_option('display.max_columns', None)\n",
    "pd.set_option('display.max_rows', 150)\n",
    "pd.set_option('display.max_seq_items', None)\n",
    " \n",
    "#%config InlineBackend.figure_formats = {'pdf',}\n",
    "%matplotlib inline"
   ]
  },
  {
   "cell_type": "markdown",
   "metadata": {
    "deletable": false,
    "editable": false,
    "nbgrader": {
     "cell_type": "markdown",
     "checksum": "80840bda51df8b88fdb452d7b3deac31",
     "grade": false,
     "grade_id": "cell-8dada19c167aeec4",
     "locked": true,
     "schema_version": 3,
     "solution": false
    }
   },
   "source": [
    "Para desarrollar la práctica vamos a trabajar con el dataset [Sonar](http://archive.ics.uci.edu/ml/datasets/Connectionist+Bench+%28Sonar%2C+Mines+vs.+Rocks%29). Este dataset contiene la información de un sonar (energía en diferentes bandas de frecuencia) para distinguir rocas (R) de minas (M). En concreto el dataset tiene 60 variables numéricas como entrada y la información de 208 ejemplos."
   ]
  },
  {
   "cell_type": "markdown",
   "metadata": {
    "deletable": false,
    "editable": false,
    "nbgrader": {
     "cell_type": "markdown",
     "checksum": "bfaa4e1fb7beafd41e59f350eb4b7c76",
     "grade": false,
     "grade_id": "cell-e7528fc3de2fa9b3",
     "locked": true,
     "schema_version": 3,
     "solution": false,
     "task": false
    }
   },
   "source": [
    "En el siguiente código se deben leer los datos del problema Sonar almacenados en el archivo *sonar.csv*. En este caso la variable a predecir se llama *Type*. La debéis pasar a codificación ordinal y al resultado de cada ejemplo restarle uno para que las clases queden codificadas comenzando por 0.\n",
    "\n",
    "Realiza la lectura de los datos almacenados en el fichero *sonar.csv* y guardar el resultado en una variable llamada sonar. A partir de la variable sonar, generad las variables X (información de entrada) e y (información de salida)."
   ]
  },
  {
   "cell_type": "code",
   "execution_count": 2,
   "metadata": {
    "deletable": false,
    "nbgrader": {
     "cell_type": "code",
     "checksum": "d17d440010a43f6bf5a5167c98c98b57",
     "grade": false,
     "grade_id": "cell-d69cd65959f18c88",
     "locked": false,
     "schema_version": 3,
     "solution": true
    }
   },
   "outputs": [],
   "source": [
    "import category_encoders as ce\n",
    "# Se realiza la lectura del dataset sonar utilizando pandas\n",
    "    # La primera línea contiene los nombres de las variables\n",
    "    # header=None se utilizaría en caso de que no existiera una primera línea con los nombres para las variables\n",
    "\n",
    "sonar = pd.read_csv('sonar.csv')\n",
    "nombreAtSalida = \"Type\"\n",
    "\n",
    "# Generamos los datos de entrada y de salida: nos quedamos con las columnas correspondientes \n",
    "# y realizamos la codificación ordinal en caso de la variable de salida\n",
    "y =  sonar.Type.copy()\n",
    "X = sonar.drop(['Type'], axis=1).copy()\n",
    "\n",
    "#Codificacion ordinal\n",
    "myEncoder = ce.ordinal.OrdinalEncoder()\n",
    "y = myEncoder.fit_transform(y) - 1"
   ]
  },
  {
   "cell_type": "markdown",
   "metadata": {
    "deletable": false,
    "editable": false,
    "nbgrader": {
     "cell_type": "markdown",
     "checksum": "6d118c6d8c786862386070ce937f1f6f",
     "grade": false,
     "grade_id": "cell-83576addd189d4f8",
     "locked": true,
     "schema_version": 3,
     "solution": false
    }
   },
   "source": [
    "#### Obtención del rendimiento con todas las variables"
   ]
  },
  {
   "cell_type": "markdown",
   "metadata": {
    "deletable": false,
    "editable": false,
    "nbgrader": {
     "cell_type": "markdown",
     "checksum": "8acb99bd305e2a33a6f02cc10dc29e50",
     "grade": false,
     "grade_id": "cell-7f1407b382ba2f52",
     "locked": true,
     "schema_version": 3,
     "solution": false
    }
   },
   "source": [
    "Para comprobar la calidad de las técnicas de selección de variables, en primer lugar vamos a calcular el rendimiento del clasificador KNN (con la configuración por defecto) si utilizamos todas las variables.\n",
    "\n",
    "Para ello debéis aplicar el método hold-out para obtener los conjuntos de entrenamiento y de test (70% de datos para entrenar). Obtener el accuracy rate tanto para el conjunto de entrenamiento como para el conjunto de test.\n",
    "\n",
    "NOTA: Recordar determinar la semilla de Numpy con el valor 12 para garantizar la reproducibilidad de los resultados."
   ]
  },
  {
   "cell_type": "code",
   "execution_count": 3,
   "metadata": {
    "deletable": false,
    "nbgrader": {
     "cell_type": "code",
     "checksum": "2d821a4b105306812a419058f6e8dbac",
     "grade": false,
     "grade_id": "cell-0dced351dbbd445e",
     "locked": false,
     "schema_version": 3,
     "solution": true
    }
   },
   "outputs": [
    {
     "name": "stdout",
     "output_type": "stream",
     "text": [
      "El rendimiento en entrenamiento con todas las variables es el 86.20689655172413%\n",
      "El rendimiento en test con todas las variables es el 68.25396825396825%\n"
     ]
    }
   ],
   "source": [
    "# Se importan las 3 librerías necesarias para resolver el ejercicio\n",
    "from sklearn import neighbors, metrics, model_selection\n",
    "\n",
    "# Se fija la semilla de numpy para que la generación aleatoria siempre nos de los mismos números\n",
    "np.random.seed(12)\n",
    "\n",
    "# Lllamada a la función train_test_split y guardado del resultado\n",
    "X_train, X_test, y_train, y_test = model_selection.train_test_split(X, y.values.ravel(), train_size=0.7)\n",
    "\n",
    "# Realizamos el proceso para KNN por lo que hay que llamar al constructor de dicho clasificador\n",
    "model = neighbors.KNeighborsClassifier()\n",
    "\n",
    "# Llamada a la función que realiza el aprendizaje del clasificador\n",
    "model.fit(X_train,y_train)\n",
    "\n",
    "# Llamada a la función que realiza la predicción de los datos de entrenamiento\n",
    "prediccionTrain = model.predict(X_train)\n",
    "\n",
    "# Llamada a la función que calcula el porcentaje de acierto para los datos de entrenamiento\n",
    "accTrain = metrics.accuracy_score(y_train,prediccionTrain)*100\n",
    "print('El rendimiento en entrenamiento con todas las variables es el {}%'.format(accTrain))\n",
    "\n",
    "# Llamada a la función que realiza la predicción de los datos de test\n",
    "prediccionTest = model.predict(X_test)\n",
    "# Llamada a la función que calcula el porcentaje de acierto para los datos de test\n",
    "accTest = metrics.accuracy_score(y_test,prediccionTest)*100\n",
    "print('El rendimiento en test con todas las variables es el {}%'.format(accTest))"
   ]
  },
  {
   "cell_type": "code",
   "execution_count": 4,
   "metadata": {
    "deletable": false,
    "editable": false,
    "nbgrader": {
     "cell_type": "code",
     "checksum": "5a26a0c45371ffa5075c6545c609888e",
     "grade": true,
     "grade_id": "cell-99963b51faf576fd",
     "locked": true,
     "points": 3,
     "schema_version": 3,
     "solution": false
    }
   },
   "outputs": [
    {
     "name": "stdout",
     "output_type": "stream",
     "text": [
      "1 test passed.\n",
      "1 test passed.\n"
     ]
    }
   ],
   "source": [
    "# ESTA CELDA DARÁ ERROR SI EL RESULTADO NO ES CORRECTO\n",
    "Test.assertEquals(round(accTrain, 2), 86.21, 'Valor de accuracy en train incorrecto')\n",
    "Test.assertEquals(round(accTest, 2), 68.25, 'Valor de accuracy en test incorrecto')"
   ]
  },
  {
   "cell_type": "markdown",
   "metadata": {
    "deletable": false,
    "editable": false,
    "nbgrader": {
     "cell_type": "markdown",
     "checksum": "3e66549783f69706645f4950e967dbd5",
     "grade": false,
     "grade_id": "cell-80b06f9bc5487b83",
     "locked": true,
     "schema_version": 3,
     "solution": false
    }
   },
   "source": [
    "## Análisis de correlaciones"
   ]
  },
  {
   "cell_type": "markdown",
   "metadata": {
    "deletable": false,
    "editable": false,
    "nbgrader": {
     "cell_type": "markdown",
     "checksum": "e5342552c5fc8cfe539a0f5b6a07d4ef",
     "grade": false,
     "grade_id": "cell-4f04961b026a4708",
     "locked": true,
     "schema_version": 3,
     "solution": false
    }
   },
   "source": [
    "### Visualización de la matriz de correlaciones\n",
    "\n",
    "En este apartado vamos a calcular y mostrar visualmente la matriz de correlaciones entre todas las variables de entrada. Para ello vamos a utilizar la librería Pandas y, en concreto, la función [*corr*](https://pandas.pydata.org/pandas-docs/stable/generated/pandas.DataFrame.corr.html)"
   ]
  },
  {
   "cell_type": "code",
   "execution_count": 5,
   "metadata": {
    "deletable": false,
    "nbgrader": {
     "cell_type": "code",
     "checksum": "04628a0e6fb6f5b049076840328c8031",
     "grade": false,
     "grade_id": "cell-cd3a3628d9a07439",
     "locked": false,
     "schema_version": 3,
     "solution": true
    }
   },
   "outputs": [
    {
     "data": {
      "image/png": "[encoded data removed]",
      "text/plain": [
       "<Figure size 3600x3600 with 2 Axes>"
      ]
     },
     "metadata": {
      "needs_background": "light"
     },
     "output_type": "display_data"
    }
   ],
   "source": [
    "import matplotlib.pyplot as plt\n",
    "\n",
    "# Calculamos la matriz de correlaciones con la función corr de pandas sobre los datos de train\n",
    "correlaciones = X_train.corr()\n",
    "\n",
    "# Mostramos la matriz de correlaciones especificando el rango de los valores [-1, 1]\n",
    "fig = plt.figure(figsize=(50,50))\n",
    "ax = fig.add_subplot(111)\n",
    "cax = ax.matshow(correlaciones, vmin=-1, vmax=1, cmap=plt.cm.rainbow)\n",
    "fig.colorbar(cax)\n",
    "ticks = np.arange(0,len(X_train.columns),1)\n",
    "ax.set_xticks(ticks)\n",
    "ax.set_yticks(ticks)\n",
    "# Añadimos los nombres de las variables en la figura\n",
    "names = X_train.columns\n",
    "ax.set_xticklabels(names, rotation='90')\n",
    "ax.set_yticklabels(names)\n",
    "plt.show()"
   ]
  },
  {
   "cell_type": "markdown",
   "metadata": {
    "deletable": false,
    "editable": false,
    "nbgrader": {
     "cell_type": "markdown",
     "checksum": "90eb81fa1dc496730eb0eb7fac3a36b1",
     "grade": false,
     "grade_id": "cell-5e45f3756caf623a",
     "locked": true,
     "schema_version": 3,
     "solution": false
    }
   },
   "source": [
    "En este caso no se observa muy bien (puesto que la matriz es muy grande) que la matriz es simétrica (matriz triangular superior e inferior iguales). Además, se observa que la correlación entre una variable y ella misma es perfecta (diagonal con unos: rojo).\n",
    "\n",
    "A continuación, vamos a tratar de hacer las correlaciones entre las variables de entrada para descartar aquellas que estén altamente correlacionadas entre ellas y que, por tanto, no aporten información extra. Para obtener las variables correlacionadas vamos seleccionar las que tenga un valor de correlación mayor que un umbral (inicialmente lo asignamos a 0.8)."
   ]
  },
  {
   "cell_type": "code",
   "execution_count": 6,
   "metadata": {
    "deletable": false,
    "nbgrader": {
     "cell_type": "code",
     "checksum": "597a34edeb811425829c152a4114295b",
     "grade": false,
     "grade_id": "cell-55a07e457fa56a73",
     "locked": false,
     "schema_version": 3,
     "solution": true
    }
   },
   "outputs": [
    {
     "name": "stdout",
     "output_type": "stream",
     "text": [
      "(145, 24)\n"
     ]
    }
   ],
   "source": [
    "# Creamos la matriz de correlación en valor absoluto: función abs (da igual se se correlacionan positiva o negativamente)\n",
    "corr_matrix = abs(correlaciones)\n",
    "\n",
    "# Seleccionamos el triángulo superior de la matriz de correlación\n",
    "upper = corr_matrix.where(np.triu(np.ones(corr_matrix.shape), k=1).astype(np.bool))\n",
    "# Umbral deseado para determinar variables correlacionadas\n",
    "umbral = 0.8\n",
    "# Obtenemos los índices de aquellas variables con correlación mayor al umbral deseado\n",
    "indices_variables_a_eliminar = [i for i,column in enumerate(upper.columns) if any(upper[column] > umbral)]\n",
    "\n",
    "# Creamos una copia de los datos de train para poder seguir trabajando con ellos posteriormente\n",
    "datos_train = X_train.copy()\n",
    "# Eliminamos las variables con alta correlación con algunda de las variables de entrada \n",
    "datos_train = datos_train.drop(datos_train.columns[indices_variables_a_eliminar], axis=1)\n",
    "# Mostramos las dimensiones del problema tras reducir las variables redundantes\n",
    "print(datos_train.shape)\n",
    "\n",
    "datos_test = X_test.copy()\n",
    "datos_test = datos_test.drop(datos_test.columns[indices_variables_a_eliminar], axis=1)"
   ]
  },
  {
   "cell_type": "code",
   "execution_count": 7,
   "metadata": {
    "deletable": false,
    "editable": false,
    "nbgrader": {
     "cell_type": "code",
     "checksum": "a1c6c1742e577eb517ba4dc407865c15",
     "grade": true,
     "grade_id": "cell-b7dd96bd3306ce20",
     "locked": true,
     "points": 3,
     "schema_version": 3,
     "solution": false
    }
   },
   "outputs": [
    {
     "name": "stdout",
     "output_type": "stream",
     "text": [
      "1 test passed.\n"
     ]
    }
   ],
   "source": [
    "# ESTA CELDA DARÁ ERROR SI EL RESULTADO NO ES CORRECTO\n",
    "    # EN CASO CONTRARIO NO TENDRÁ SALIDA\n",
    "Test.assertEquals(datos_train.shape[1], 24, 'Dimensiones del problemas tras la seleccion incorrectas')"
   ]
  },
  {
   "cell_type": "markdown",
   "metadata": {
    "deletable": false,
    "editable": false,
    "nbgrader": {
     "cell_type": "markdown",
     "checksum": "e92df308065c2384e82343d278b2de5f",
     "grade": false,
     "grade_id": "cell-36fe7a2c523113c9",
     "locked": true,
     "schema_version": 3,
     "solution": false
    }
   },
   "source": [
    "Finalmente obtenemos el rendimiento de KNN con las variables seleccionadas. Recordad que con todas las variables el rendimiento en train es del 86.21% y en test del 68.25%."
   ]
  },
  {
   "cell_type": "code",
   "execution_count": 8,
   "metadata": {
    "deletable": false,
    "nbgrader": {
     "cell_type": "code",
     "checksum": "87ea70a41d066c99ab915d1567f8c5aa",
     "grade": false,
     "grade_id": "cell-e8050620185885e3",
     "locked": false,
     "schema_version": 3,
     "solution": true
    }
   },
   "outputs": [
    {
     "name": "stdout",
     "output_type": "stream",
     "text": [
      "El rendimiento en entrenamiento con las variables no redundantes es el 85.51724137931035%\n",
      "El rendimiento en test con las variables no redundantes  es el 71.42857142857143%\n"
     ]
    }
   ],
   "source": [
    "# Realizamos el proceso para KNN por lo que hay que llamar al constructor de dicho clasificador\n",
    "knn = neighbors.KNeighborsClassifier()\n",
    "\n",
    "# Llamada a la función que realiza el aprendizaje del clasificador con los datos tras reducir su dimensionalidad\n",
    "knn.fit(datos_train,y_train)\n",
    "\n",
    "# Llamada a la función que realiza la predicción de los datos de entrenamiento (tras reducir su dimensionalidad)\n",
    "prediccionTrain = knn.predict(datos_train)\n",
    "\n",
    "# Llamada a la función que calcula el porcentaje de acierto para los datos de entrenamiento \n",
    "accTrain = metrics.accuracy_score(y_train,prediccionTrain)*100\n",
    "print('El rendimiento en entrenamiento con las variables no redundantes es el {}%'.format(accTrain))\n",
    "\n",
    "# Llamada a la función que realiza la predicción de los datos de test (tras reducir su dimensionalidad)\n",
    "prediccionTest = knn.predict(datos_test)\n",
    "\n",
    "# Llamada a la función que calcula el porcentaje de acierto para los datos de test\n",
    "accTest = metrics.accuracy_score(y_test,prediccionTest)*100\n",
    "print('El rendimiento en test con las variables no redundantes  es el {}%'.format(accTest))"
   ]
  },
  {
   "cell_type": "code",
   "execution_count": 9,
   "metadata": {
    "deletable": false,
    "editable": false,
    "nbgrader": {
     "cell_type": "code",
     "checksum": "24599a3ce6aeca3e558c5315e55f8d9f",
     "grade": true,
     "grade_id": "cell-d75434c8972f8959",
     "locked": true,
     "points": 3,
     "schema_version": 3,
     "solution": false
    }
   },
   "outputs": [
    {
     "name": "stdout",
     "output_type": "stream",
     "text": [
      "1 test passed.\n",
      "1 test passed.\n"
     ]
    }
   ],
   "source": [
    "# ESTA CELDA DARÁ ERROR SI EL RESULTADO NO ES CORRECTO\n",
    "    # EN CASO CONTRARIO NO TENDRÁ SALIDA\n",
    "Test.assertEquals(round(accTrain, 2), 85.52, 'Rendimiento en train incorrecto')\n",
    "Test.assertEquals(round(accTest, 2), 71.43, 'Rendimiento en test incorrecto')"
   ]
  },
  {
   "cell_type": "markdown",
   "metadata": {
    "deletable": false,
    "editable": false,
    "nbgrader": {
     "cell_type": "markdown",
     "checksum": "704357f6a3a85c57bbad482493810428",
     "grade": false,
     "grade_id": "cell-1d57e7ec44ab2029",
     "locked": true,
     "schema_version": 3,
     "solution": false
    }
   },
   "source": [
    "A continuación debéis obtener el rendimiento de la eliminación de variables correlacionadas al variar el umbral. Debéis probar los valores 0.6, 0.7, 0.8 y 0.9 como posibles umbrales."
   ]
  },
  {
   "cell_type": "code",
   "execution_count": 10,
   "metadata": {
    "deletable": false,
    "nbgrader": {
     "cell_type": "code",
     "checksum": "412914122b31c52fef38dd724e6ae343",
     "grade": false,
     "grade_id": "cell-280cf53d540d66d6",
     "locked": false,
     "schema_version": 3,
     "solution": true
    }
   },
   "outputs": [],
   "source": [
    "# Listas para almacenar el número de variables no correlacionadas entre ellas y los resultados de train y test\n",
    "listaNumVarSel = []\n",
    "listaAccTrain = []\n",
    "listaAccTest = []\n",
    "for umbral in [0.6,0.7,0.8,0.9]:\n",
    "    \n",
    "    # Obtenemos los índices de aquellas variables con correlación mayor al umbral deseado\n",
    "    indices_variables_a_eliminar = [i for i,column in enumerate(upper.columns) if any(upper[column] > umbral)]\n",
    "    # Creamos una copia de los datos de train para poder seguir trabajando con ellos posteriormente\n",
    "    datos_train = X_train.copy()\n",
    "    # Eliminamos las variables con alta correlación con algunda de las variables de entrada \n",
    "    datos_train = datos_train.drop(datos_train.columns[indices_variables_a_eliminar], axis=1)\n",
    "    # Aplicamos la seleccion a los datos de test\n",
    "    datos_test = X_test.copy()\n",
    "    datos_test = datos_test.drop(datos_test.columns[indices_variables_a_eliminar], axis=1)\n",
    "    \n",
    "    \n",
    "    listaNumVarSel.append(datos_train.shape[1])\n",
    "    # Realizamos el proceso para KNN por lo que hay que llamar al constructor de dicho clasificador\n",
    "    knn = neighbors.KNeighborsClassifier()\n",
    "    # Llamada a la función que realiza el aprendizaje del clasificador con los datos tras reducir su dimensionalidad\n",
    "    knn.fit(datos_train,y_train)\n",
    "\n",
    "    # Llamada a la función que realiza la predicción de los datos de entrenamiento (tras reducir su dimensionalidad)\n",
    "    prediccionTrain = knn.predict(datos_train)\n",
    "\n",
    "    # Llamada a la función que calcula el porcentaje de acierto para los datos de entrenamiento \n",
    "    accTrain = metrics.accuracy_score(y_train,prediccionTrain)*100\n",
    "    listaAccTrain.append(accTrain)\n",
    "\n",
    "    # Llamada a la función que realiza la predicción de los datos de test (tras reducir su dimensionalidad)\n",
    "    prediccionTest = knn.predict(datos_test)\n",
    "\n",
    "    # Llamada a la función que calcula el porcentaje de acierto para los datos de test\n",
    "    accTest = metrics.accuracy_score(y_test,prediccionTest)*100\n",
    "    listaAccTest.append(accTest)"
   ]
  },
  {
   "cell_type": "code",
   "execution_count": 11,
   "metadata": {
    "deletable": false,
    "editable": false,
    "nbgrader": {
     "cell_type": "code",
     "checksum": "122b78c32337b4dec891b81bdd0410dc",
     "grade": true,
     "grade_id": "cell-c08f3c8dd0287471",
     "locked": true,
     "points": 2,
     "schema_version": 3,
     "solution": false
    }
   },
   "outputs": [
    {
     "name": "stdout",
     "output_type": "stream",
     "text": [
      "1 test passed.\n",
      "1 test passed.\n",
      "1 test passed.\n"
     ]
    }
   ],
   "source": [
    "# ESTA CELDA DARÁ ERROR SI EL RESULTADO NO ES CORRECTO\n",
    "Test.assertEquals(list(map(lambda x: round(x, 2), listaAccTrain)), [72.41, 75.17, 85.52, 86.21], 'Valores de accuracy en train incorrectos')\n",
    "Test.assertEquals(list(map(lambda x: round(x, 2), listaAccTest)), [60.32, 58.73, 71.43, 66.67], 'Valores de accuracy en test incorrectos')\n",
    "Test.assertEquals(list(map(lambda x: round(x, 2), listaNumVarSel)), [8, 16, 24, 55], 'Numero de variables seleccionadas incorrecto')"
   ]
  },
  {
   "cell_type": "markdown",
   "metadata": {
    "deletable": false,
    "editable": false,
    "nbgrader": {
     "cell_type": "markdown",
     "checksum": "b564cd8e8818e48d4d233ca9a3bab43f",
     "grade": false,
     "grade_id": "cell-35d5a00ca2ab2b59",
     "locked": true,
     "schema_version": 3,
     "solution": false
    }
   },
   "source": [
    "### Métodos basados en filtros"
   ]
  },
  {
   "cell_type": "markdown",
   "metadata": {
    "deletable": false,
    "editable": false,
    "nbgrader": {
     "cell_type": "markdown",
     "checksum": "0d2a5030a181187389e8164f0ad57486",
     "grade": false,
     "grade_id": "cell-8b50fc44478994e8",
     "locked": true,
     "schema_version": 3,
     "solution": false
    }
   },
   "source": [
    "La librería scikit-learn nos ofrece una librería para realizar la selección variables. Esta librería se llama [*feature_selection*](http://scikit-learn.org/stable/modules/feature_selection.html).\n",
    "\n",
    "Para poder utilizar todas las funcionalidades primero debemos importarla."
   ]
  },
  {
   "cell_type": "code",
   "execution_count": 12,
   "metadata": {
    "deletable": false,
    "editable": false,
    "nbgrader": {
     "cell_type": "code",
     "checksum": "fca9524de20dfce1ffac14a5a22d4231",
     "grade": false,
     "grade_id": "cell-d8c0e03c2c63fb4d",
     "locked": true,
     "schema_version": 3,
     "solution": false
    }
   },
   "outputs": [],
   "source": [
    "# Se importa la librería de selección de variables\n",
    "from sklearn import feature_selection"
   ]
  },
  {
   "cell_type": "markdown",
   "metadata": {
    "deletable": false,
    "editable": false,
    "nbgrader": {
     "cell_type": "markdown",
     "checksum": "f0ecdd9c3e38b14cbdc84f3cf783c78a",
     "grade": false,
     "grade_id": "cell-c13713db9fe5aabe",
     "locked": true,
     "schema_version": 3,
     "solution": false
    }
   },
   "source": [
    "En primer lugar vamos a aplicar técnicas basadas en filtros uni-variable. Los filtros uni-variables aplican una medida (habitualmente estadística) que determina la calidad de las variables individuales. Scikit-learn provee tres métricas de calidad de las variables para resolver problemas de clasificación:\n",
    "* Chi cuadrado: función [*chi2*](http://scikit-learn.org/stable/modules/generated/sklearn.feature_selection.chi2.html#sklearn.feature_selection.chi2)\n",
    "* ANOVA: función [*f_classif*](http://scikit-learn.org/stable/modules/generated/sklearn.feature_selection.f_classif.html#sklearn.feature_selection.f_classif)\n",
    "* Información mutua: función [*mutual_info_classif*](http://scikit-learn.org/stable/modules/generated/sklearn.feature_selection.mutual_info_classif.html#sklearn.feature_selection.mutual_info_classif)\n",
    "\n",
    "Para resolver problemas de regresión ofrece\n",
    "* Correlación mutua: función [*f_regression*](http://scikit-learn.org/stable/modules/generated/sklearn.feature_selection.f_regression.html#sklearn.feature_selection.f_regression)\n",
    "* Información mutua: función [*mutual_info_regression*](http://scikit-learn.org/stable/modules/generated/sklearn.feature_selection.mutual_info_regression.html#sklearn.feature_selection.mutual_info_regression)\n",
    "\n",
    "En esta práctica vamos a utilizar solamente las de clasificación. \n",
    "\n",
    "Una vez conocida la calidad de cada variable se deben escoger las mejores. Para ello vimos en las clases teóricas que había varias opciones. La librería Scikit-learn ofrece dos de estas técnicas en forma de clases (con sus campos y sus métodos):\n",
    "* Elegir las k mejores con la clase [*SelectKBest*](http://scikit-learn.org/stable/modules/generated/sklearn.feature_selection.SelectKBest.html#sklearn.feature_selection.SelectKBest)\n",
    "    \n",
    "    SelectKBest(score_func=funcionCalidad, k=valorK)\n",
    "    \n",
    "    \n",
    "* Elegir las variables en base al percentil (el % de las variables) con la clase [*SelectPercentile*](http://scikit-learn.org/stable/modules/generated/sklearn.feature_selection.SelectPercentile.html#sklearn.feature_selection.SelectPercentile)\n",
    "    \n",
    "    SelectPercentile(score_func=funcionCalidad, percentile=porcentajeVariables)\n",
    "\n",
    "En ambas clases, elegir las k mejores o las que estén en el percentil deseado, en la llamada al constructor se debe especificar:\n",
    "* La medida de calidad (funcionCalidad) de las variables. Es decir, cualquiera de las 3 funciones comentadas anteriormente\n",
    "    * chi2\n",
    "    * f_classif\n",
    "    * mutual_info_classif\n",
    "* El valor del parámetro k (valorK) para el método de las k mejores o el valor del percentil (porcentajeVariables) para el método de selección en base al percentil.\n",
    "\n",
    "En ambas clases disponemos de los mismos métodos para realizar la selección de las variables:\n",
    "* fit: Recibe como parámetro de entrada los datos de entrada (X) y de salida (Y). Esta función aplica la medida de calidad pasada como parámetro de entrada (funcionCalidad) sobre cada variable y establece la importancia de cada una de ellas.\n",
    "* transform: Recibe como parámetro de entrada los datos de entrada (X). Esta función devuelve los datos de entrada con la selección de variables realizada (X'). Es decir, X' tendrá el mismo número de ejemplos pero menor número de variables (solamente las seleccionadas).\n",
    "* fit_transform: Recibe como parámetro de entrada los datos de entrada (X) y de salida (Y). Esta función aplica secuencialmente las dos funciones anteriores.\n",
    "* get_support: esta función devuelve un array de booleanos con tantos elementos como variables. En cada posición tendrá True si la variable asociada ha sido seleccionada y False en caso contrario.\n",
    "* inverse_transform: Recibe como parámetro de entrada los datos de entrada con la selección de variables realizada (X'). Esta función deshace la selección de variables, es decir, devuelve el conjunto de datos original (X)."
   ]
  },
  {
   "cell_type": "markdown",
   "metadata": {
    "deletable": false,
    "editable": false,
    "nbgrader": {
     "cell_type": "markdown",
     "checksum": "3de77cf554020a4eb740e225e32bec73",
     "grade": false,
     "grade_id": "cell-ecaa717582d5ed69",
     "locked": true,
     "schema_version": 3,
     "solution": false
    }
   },
   "source": [
    "Utiliza el método de selección de las k mejores variables seleccionando las 10, 20 y 30 mejores variables aplicando Chi cuadrado como medida de calidad de las variables. Para ello se debe realizar el siguiente proceso:\n",
    "* Realizar la selección de variables utilizando los ejemplos de entrenamiento obtenidos anteriormente.\n",
    "* Utilizar el clasificador KNN con la configuración por defecto para obtener el accuracy rate con los ejemplos de entrenamiento y de test.\n",
    "* Compara los resultados de las diferentes selecciones realizadas y con respecto a los resultados obtenidos al utilizar todas las variables."
   ]
  },
  {
   "cell_type": "code",
   "execution_count": 13,
   "metadata": {
    "deletable": false,
    "nbgrader": {
     "cell_type": "code",
     "checksum": "1416539eb82ef3573372204e4197f31d",
     "grade": false,
     "grade_id": "cell-eeed21e7f2ac07df",
     "locked": false,
     "schema_version": 3,
     "solution": true
    }
   },
   "outputs": [
    {
     "name": "stdout",
     "output_type": "stream",
     "text": [
      "Seleccionando las 10 mejores variables se obtiene un accuracy del 86.89655172413792% en entrenamiento\n",
      "Seleccionando las 10 mejores variables se obtiene un accuracy del 74.60317460317461% en test\n",
      "Seleccionando las 20 mejores variables se obtiene un accuracy del 88.96551724137932% en entrenamiento\n",
      "Seleccionando las 20 mejores variables se obtiene un accuracy del 76.19047619047619% en test\n",
      "Seleccionando las 30 mejores variables se obtiene un accuracy del 86.20689655172413% en entrenamiento\n",
      "Seleccionando las 30 mejores variables se obtiene un accuracy del 76.19047619047619% en test\n"
     ]
    }
   ],
   "source": [
    "# Listas para almacenar los resultados de accuracy en train y test\n",
    "listaAccTrain = []\n",
    "listaAccTest = []\n",
    "for numVar in [10,20,30]:\n",
    "    # Se llama al constructor que realiza la selección de las k mejores variables con los parámetros apropiados\n",
    "    tecnicaSeleccion = feature_selection.SelectKBest(score_func=feature_selection.chi2,k=numVar)\n",
    "    # Llamada a la función que aprende los parámetros de la selección de variables a partir de los datos de entrenamiento\n",
    "    tecnicaSeleccion.fit(X_train,y_train)\n",
    "    # Llamada a la función que transforma los datos de entrenamiento: realiza la selección de variables\n",
    "    X_train_seleccion = tecnicaSeleccion.transform(X_train)\n",
    "    # Llamada a la función que transforma los datos de test: realiza la selección de variables\n",
    "    X_test_seleccion = tecnicaSeleccion.transform(X_test)\n",
    "    # Realizamos el proceso para KNN por lo que hay que llamar al constructor de dicho clasificador\n",
    "    knn = neighbors.KNeighborsClassifier()\n",
    "    # Llamada a la función que realiza el aprendizaje del clasificador\n",
    "    knn.fit(X_train_seleccion,y_train)\n",
    "    # Llamada a la función que realiza la predicción de los datos de entrenamiento\n",
    "    prediccionTrain = knn.predict(X_train_seleccion)\n",
    "    # Llamada a la función que calcula el porcentaje de acierto para los datos de entrenamiento\n",
    "    accTrain = metrics.accuracy_score(y_train,prediccionTrain)*100\n",
    "    # Se añade el resultado a la lista de resultados de train\n",
    "    listaAccTrain.append(accTrain)\n",
    "    print('Seleccionando las {} mejores variables se obtiene un accuracy del {}% en entrenamiento'.format(numVar, accTrain))\n",
    "    # Llamada a la función que realiza la predicción de los datos de test\n",
    "    prediccionTest = knn.predict(X_test_seleccion)\n",
    "    # Llamada a la función que calcula el porcentaje de acierto para los datos de test\n",
    "    accTest = metrics.accuracy_score(y_test,prediccionTest)*100\n",
    "\n",
    "    # Se añade el resultado a la lista de resultados de test\n",
    "    listaAccTest.append(accTest)\n",
    "    print('Seleccionando las {} mejores variables se obtiene un accuracy del {}% en test'.format(numVar, accTest))"
   ]
  },
  {
   "cell_type": "code",
   "execution_count": 14,
   "metadata": {
    "deletable": false,
    "editable": false,
    "nbgrader": {
     "cell_type": "code",
     "checksum": "f390b1ab479b8b27f159b4a99045b088",
     "grade": true,
     "grade_id": "cell-50336884d5a5865a",
     "locked": true,
     "points": 3,
     "schema_version": 3,
     "solution": false
    }
   },
   "outputs": [
    {
     "name": "stdout",
     "output_type": "stream",
     "text": [
      "1 test passed.\n",
      "1 test passed.\n"
     ]
    }
   ],
   "source": [
    "# ESTA CELDA DARÁ ERROR SI EL RESULTADO NO ES CORRECTO\n",
    "Test.assertEquals(list(map(lambda x: round(x, 2), listaAccTrain)), [86.90, 88.97, 86.21], 'Valores de accuracy en train incorrectos')\n",
    "Test.assertEquals(list(map(lambda x: round(x, 2), listaAccTest)), [74.60, 76.19, 76.19], 'Valores de accuracy en test incorrectos')"
   ]
  },
  {
   "cell_type": "markdown",
   "metadata": {
    "deletable": false,
    "editable": false,
    "nbgrader": {
     "cell_type": "markdown",
     "checksum": "67760c1e54d63d34351ea2a011809fda",
     "grade": false,
     "grade_id": "cell-c427fa774cea6349",
     "locked": true,
     "schema_version": 3,
     "solution": false
    }
   },
   "source": [
    "Repetir el ejercicio anterior pero utilizando ANOVA para medir la calidad de las variables."
   ]
  },
  {
   "cell_type": "code",
   "execution_count": 15,
   "metadata": {
    "deletable": false,
    "nbgrader": {
     "cell_type": "code",
     "checksum": "df68dd905b140406ada5db6fdc343422",
     "grade": false,
     "grade_id": "cell-735e174cf838dcdd",
     "locked": false,
     "schema_version": 3,
     "solution": true
    }
   },
   "outputs": [
    {
     "name": "stdout",
     "output_type": "stream",
     "text": [
      "Seleccionando las 10 mejores variables se obtiene un accuracy del 87.58620689655172% en entrenamiento\n",
      "Seleccionando las 10 mejores variables se obtiene un accuracy del 76.19047619047619% en test\n",
      "Seleccionando las 20 mejores variables se obtiene un accuracy del 88.27586206896552% en entrenamiento\n",
      "Seleccionando las 20 mejores variables se obtiene un accuracy del 84.12698412698413% en test\n",
      "Seleccionando las 30 mejores variables se obtiene un accuracy del 87.58620689655172% en entrenamiento\n",
      "Seleccionando las 30 mejores variables se obtiene un accuracy del 82.53968253968253% en test\n"
     ]
    }
   ],
   "source": [
    "listaAccTrain = [] # lista para almancenar el rendimiento de las diferentes posibilidades en train\n",
    "listaAccTest = [] # lista para almancenar el rendimiento de las diferentes posibilidades en test\n",
    "for numVar in [10,20,30]:\n",
    "    # Se llama al constructor que realiza la selección de las k mejores variables con los parámetros apropiados\n",
    "    tecnicaSeleccion = feature_selection.SelectKBest(score_func=feature_selection.f_classif,k=numVar)\n",
    "    # Llamada a la función que aprende los parámetros de la selección de variables a partir de los datos de entrenamiento\n",
    "    tecnicaSeleccion.fit(X_train,y_train)\n",
    "    # Llamada a la función que transforma los datos de entrenamiento: realiza la selección de variables\n",
    "    X_train_seleccion = tecnicaSeleccion.transform(X_train)\n",
    "    # Llamada a la función que transforma los datos de test: realiza la selección de variables\n",
    "    X_test_seleccion = tecnicaSeleccion.transform(X_test)\n",
    "    # Realizamos el proceso para KNN por lo que hay que llamar al constructor de dicho clasificador\n",
    "    knn = neighbors.KNeighborsClassifier()\n",
    "    # Llamada a la función que realiza el aprendizaje del clasificador\n",
    "    knn.fit(X_train_seleccion,y_train)\n",
    "    # Llamada a la función que realiza la predicción de los datos de entrenamiento\n",
    "    prediccionTrain = knn.predict(X_train_seleccion)\n",
    "    # Llamada a la función que calcula el porcentaje de acierto para los datos de entrenamiento\n",
    "    accTrain = metrics.accuracy_score(y_train,prediccionTrain)*100\n",
    "    # Se añade el resultado a la lista de resultados de train\n",
    "    listaAccTrain.append(accTrain)\n",
    "    print('Seleccionando las {} mejores variables se obtiene un accuracy del {}% en entrenamiento'.format(numVar, accTrain))\n",
    "    # Llamada a la función que realiza la predicción de los datos de test\n",
    "    prediccionTest = knn.predict(X_test_seleccion)\n",
    "    # Llamada a la función que calcula el porcentaje de acierto para los datos de test\n",
    "    accTest = metrics.accuracy_score(y_test,prediccionTest)*100\n",
    "\n",
    "    # Se añade el resultado a la lista de resultados de test\n",
    "    listaAccTest.append(accTest)\n",
    "    print('Seleccionando las {} mejores variables se obtiene un accuracy del {}% en test'.format(numVar, accTest))"
   ]
  },
  {
   "cell_type": "code",
   "execution_count": 16,
   "metadata": {
    "deletable": false,
    "editable": false,
    "nbgrader": {
     "cell_type": "code",
     "checksum": "1947982760f80b5f1bbc5c90cae20d6c",
     "grade": true,
     "grade_id": "cell-680c3b0251b905e9",
     "locked": true,
     "points": 3,
     "schema_version": 3,
     "solution": false
    }
   },
   "outputs": [
    {
     "name": "stdout",
     "output_type": "stream",
     "text": [
      "1 test passed.\n",
      "1 test passed.\n"
     ]
    }
   ],
   "source": [
    "# ESTA CELDA DARÁ ERROR SI EL RESULTADO NO ES CORRECTO\n",
    "Test.assertEquals(list(map(lambda x: round(x, 2), listaAccTrain)), [87.59, 88.28,87.59], 'Valores de accuracy en train incorrectos')\n",
    "Test.assertEquals(list(map(lambda x: round(x, 2), listaAccTest)), [76.19, 84.13,82.54], 'Valores de accuracy en test incorrectos')"
   ]
  },
  {
   "cell_type": "markdown",
   "metadata": {
    "deletable": false,
    "editable": false,
    "nbgrader": {
     "cell_type": "markdown",
     "checksum": "ad944bbef2e479c607f2a3839f4b64c7",
     "grade": false,
     "grade_id": "cell-2d11b5e1b7a93e50",
     "locked": true,
     "schema_version": 3,
     "solution": false
    }
   },
   "source": [
    "Repetir el ejercicio anterior pero utilizando el método del percentil (10%, 20% y 30%) y Chi cuadrado para medir la calidad de las variables."
   ]
  },
  {
   "cell_type": "code",
   "execution_count": 17,
   "metadata": {
    "deletable": false,
    "nbgrader": {
     "cell_type": "code",
     "checksum": "47bd2a31f086c8bc26fef931695230a7",
     "grade": false,
     "grade_id": "cell-a25b4fc167f45a14",
     "locked": false,
     "schema_version": 3,
     "solution": true
    }
   },
   "outputs": [
    {
     "name": "stdout",
     "output_type": "stream",
     "text": [
      "Seleccionando las 10 mejores variables se obtiene un accuracy del 82.75862068965517% en entrenamiento\n",
      "Seleccionando las 10 mejores variables se obtiene un accuracy del 79.36507936507937% en test\n",
      "Seleccionando las 20 mejores variables se obtiene un accuracy del 87.58620689655172% en entrenamiento\n",
      "Seleccionando las 20 mejores variables se obtiene un accuracy del 77.77777777777779% en test\n",
      "Seleccionando las 30 mejores variables se obtiene un accuracy del 86.20689655172413% en entrenamiento\n",
      "Seleccionando las 30 mejores variables se obtiene un accuracy del 82.53968253968253% en test\n"
     ]
    }
   ],
   "source": [
    "listaAccTrain = [] # lista para almancenar el rendimiento de las diferentes posibilidades en train\n",
    "listaAccTest = [] # lista para almancenar el rendimiento de las diferentes posibilidades en test\n",
    "for numVar in [10,20,30]:\n",
    "    # Se llama al constructor que realiza la selección de las k mejores variables con los parámetros apropiados\n",
    "    tecnicaSeleccion = feature_selection.SelectPercentile(score_func=feature_selection.chi2,percentile=numVar)\n",
    "    # Llamada a la función que aprende los parámetros de la selección de variables a partir de los datos de entrenamiento\n",
    "    tecnicaSeleccion.fit(X_train,y_train)\n",
    "    # Llamada a la función que transforma los datos de entrenamiento: realiza la selección de variables\n",
    "    X_train_seleccion = tecnicaSeleccion.transform(X_train)\n",
    "    # Llamada a la función que transforma los datos de test: realiza la selección de variables\n",
    "    X_test_seleccion = tecnicaSeleccion.transform(X_test)\n",
    "    # Realizamos el proceso para KNN por lo que hay que llamar al constructor de dicho clasificador\n",
    "    knn = neighbors.KNeighborsClassifier()\n",
    "    # Llamada a la función que realiza el aprendizaje del clasificador\n",
    "    knn.fit(X_train_seleccion,y_train)\n",
    "    # Llamada a la función que realiza la predicción de los datos de entrenamiento\n",
    "    prediccionTrain = knn.predict(X_train_seleccion)\n",
    "    # Llamada a la función que calcula el porcentaje de acierto para los datos de entrenamiento\n",
    "    accTrain = metrics.accuracy_score(y_train,prediccionTrain)*100\n",
    "    # Se añade el resultado a la lista de resultados de train\n",
    "    listaAccTrain.append(accTrain)\n",
    "    print('Seleccionando las {} mejores variables se obtiene un accuracy del {}% en entrenamiento'.format(numVar, accTrain))\n",
    "    # Llamada a la función que realiza la predicción de los datos de test\n",
    "    prediccionTest = knn.predict(X_test_seleccion)\n",
    "    # Llamada a la función que calcula el porcentaje de acierto para los datos de test\n",
    "    accTest = metrics.accuracy_score(y_test,prediccionTest)*100\n",
    "\n",
    "    # Se añade el resultado a la lista de resultados de test\n",
    "    listaAccTest.append(accTest)\n",
    "    print('Seleccionando las {} mejores variables se obtiene un accuracy del {}% en test'.format(numVar, accTest))"
   ]
  },
  {
   "cell_type": "code",
   "execution_count": 18,
   "metadata": {
    "deletable": false,
    "editable": false,
    "nbgrader": {
     "cell_type": "code",
     "checksum": "6473dbd6319fa85b10777f3d3636707d",
     "grade": true,
     "grade_id": "cell-412cea1b806fa633",
     "locked": true,
     "points": 3,
     "schema_version": 3,
     "solution": false
    }
   },
   "outputs": [
    {
     "name": "stdout",
     "output_type": "stream",
     "text": [
      "1 test passed.\n",
      "1 test passed.\n"
     ]
    }
   ],
   "source": [
    "# ESTA CELDA DARÁ ERROR SI EL RESULTADO NO ES CORRECTO\n",
    "Test.assertEquals(list(map(lambda x: round(x, 2), listaAccTrain)), [82.76, 87.59,86.21], 'Valores de accuracy en train incorrectos')\n",
    "Test.assertEquals(list(map(lambda x: round(x, 2), listaAccTest)), [79.37, 77.78,82.54], 'Valores de accuracy en test incorrectos')"
   ]
  },
  {
   "cell_type": "markdown",
   "metadata": {
    "deletable": false,
    "editable": false,
    "nbgrader": {
     "cell_type": "markdown",
     "checksum": "1584707ab18864dffeb491ac1ffd5152",
     "grade": false,
     "grade_id": "cell-888a01630bb286c6",
     "locked": true,
     "schema_version": 3,
     "solution": false
    }
   },
   "source": [
    "Repetir el ejercicio anterior pero utilizando ANOVA para medir la calidad de las variables."
   ]
  },
  {
   "cell_type": "code",
   "execution_count": 19,
   "metadata": {
    "deletable": false,
    "nbgrader": {
     "cell_type": "code",
     "checksum": "ac4c4e74782c1097a1d3ce24697bf98a",
     "grade": false,
     "grade_id": "cell-1d447c532c03f4fc",
     "locked": false,
     "schema_version": 3,
     "solution": true
    }
   },
   "outputs": [
    {
     "name": "stdout",
     "output_type": "stream",
     "text": [
      "Seleccionando las 10 mejores variables se obtiene un accuracy del 80.6896551724138% en entrenamiento\n",
      "Seleccionando las 10 mejores variables se obtiene un accuracy del 82.53968253968253% en test\n",
      "Seleccionando las 20 mejores variables se obtiene un accuracy del 83.44827586206897% en entrenamiento\n",
      "Seleccionando las 20 mejores variables se obtiene un accuracy del 73.01587301587301% en test\n",
      "Seleccionando las 30 mejores variables se obtiene un accuracy del 86.89655172413792% en entrenamiento\n",
      "Seleccionando las 30 mejores variables se obtiene un accuracy del 88.88888888888889% en test\n"
     ]
    }
   ],
   "source": [
    "listaAccTrain = [] # lista para almancenar el rendimiento de las diferentes posibilidades en train\n",
    "listaAccTest = [] # lista para almancenar el rendimiento de las diferentes posibilidades en test\n",
    "for numVar in [10,20,30]:\n",
    "    # Se llama al constructor que realiza la selección de las k mejores variables con los parámetros apropiados\n",
    "    tecnicaSeleccion = feature_selection.SelectPercentile(score_func=feature_selection.f_classif,percentile=numVar)\n",
    "    # Llamada a la función que aprende los parámetros de la selección de variables a partir de los datos de entrenamiento\n",
    "    tecnicaSeleccion.fit(X_train,y_train)\n",
    "    # Llamada a la función que transforma los datos de entrenamiento: realiza la selección de variables\n",
    "    X_train_seleccion = tecnicaSeleccion.transform(X_train)\n",
    "    # Llamada a la función que transforma los datos de test: realiza la selección de variables\n",
    "    X_test_seleccion = tecnicaSeleccion.transform(X_test)\n",
    "    # Realizamos el proceso para KNN por lo que hay que llamar al constructor de dicho clasificador\n",
    "    knn = neighbors.KNeighborsClassifier()\n",
    "    # Llamada a la función que realiza el aprendizaje del clasificador\n",
    "    knn.fit(X_train_seleccion,y_train)\n",
    "    # Llamada a la función que realiza la predicción de los datos de entrenamiento\n",
    "    prediccionTrain = knn.predict(X_train_seleccion)\n",
    "    # Llamada a la función que calcula el porcentaje de acierto para los datos de entrenamiento\n",
    "    accTrain = metrics.accuracy_score(y_train,prediccionTrain)*100\n",
    "    # Se añade el resultado a la lista de resultados de train\n",
    "    listaAccTrain.append(accTrain)\n",
    "    print('Seleccionando las {} mejores variables se obtiene un accuracy del {}% en entrenamiento'.format(numVar, accTrain))\n",
    "    # Llamada a la función que realiza la predicción de los datos de test\n",
    "    prediccionTest = knn.predict(X_test_seleccion)\n",
    "    # Llamada a la función que calcula el porcentaje de acierto para los datos de test\n",
    "    accTest = metrics.accuracy_score(y_test,prediccionTest)*100\n",
    "\n",
    "    # Se añade el resultado a la lista de resultados de test\n",
    "    listaAccTest.append(accTest)\n",
    "    print('Seleccionando las {} mejores variables se obtiene un accuracy del {}% en test'.format(numVar, accTest))"
   ]
  },
  {
   "cell_type": "code",
   "execution_count": 20,
   "metadata": {
    "deletable": false,
    "editable": false,
    "nbgrader": {
     "cell_type": "code",
     "checksum": "d30429e2cd1703b0d5c21f8817e12a16",
     "grade": true,
     "grade_id": "cell-fe93145b9de9a2a2",
     "locked": true,
     "points": 3,
     "schema_version": 3,
     "solution": false
    }
   },
   "outputs": [
    {
     "name": "stdout",
     "output_type": "stream",
     "text": [
      "1 test passed.\n",
      "1 test passed.\n"
     ]
    }
   ],
   "source": [
    "# ESTA CELDA DARÁ ERROR SI EL RESULTADO NO ES CORRECTO\n",
    "Test.assertEquals(list(map(lambda x: round(x, 2), listaAccTrain)), [80.69, 83.45,86.90], 'Valores de accuracy en train incorrectos')\n",
    "Test.assertEquals(list(map(lambda x: round(x, 2), listaAccTest)), [82.54, 73.02,88.89], 'Valores de accuracy en test incorrectos')"
   ]
  },
  {
   "cell_type": "markdown",
   "metadata": {
    "deletable": false,
    "editable": false,
    "nbgrader": {
     "cell_type": "markdown",
     "checksum": "8b95b754a2eba559d78af96abdf9e789",
     "grade": false,
     "grade_id": "cell-7bc2ab6ed330861e",
     "locked": true,
     "schema_version": 3,
     "solution": false,
     "task": false
    }
   },
   "source": [
    "A continuación vamos a imitar el funcionamiento de Scikit-learn pero implementando dos técnicas de filtro vistas en clase de teoría: t-test y Relief. Para ello, Scikit-learn nos ofrece la clase llamada [*TransformerMixin*](https://scikit-learn.org/stable/modules/generated/sklearn.base.TransformerMixin.html) que permite implementar una nueva clase para realizar procesos de pre-procesamento con sus respectivos constructores y los métodos *fit* y *predict* para imitar el funcionamiento de todo el resto de clases de Scikit-learn.\n",
    "\n",
    "Ambas técnicas van a tener el mismo funcionamiento. Se debe definir una clase para cada una de ellas que:\n",
    "* Su constructor reciba\n",
    "    * El tipo de selección de variables a realizar, que será un string con *Kbest* (valor por defecto) o *percentil* como posibles valores.\n",
    "    * El valor de K (valor por defecto *None*) en el caso de realizar la selección de las K mejores variables.\n",
    "    * El valor del percentil (valor por defecto *None*) en el caso de realizar la selección de las mejores variables en base al percentil.\n",
    "* El método *fit* realice las operaciones necesarias para obtener la calidad de las variables de entrada del problema. Para ello va debe recibir como parámetros de entrada el conjunto de ejemplos con el que aprender la calidad de las variables (X_train) y las salidas de las mismas (y_train). Cada clase modificará la propiedad adecuada (llamada t, self.t, en el caso de t-test y w, self.w, en el caso de Relief). Como salida deben devolver el propio objeto de la clase (self).\n",
    "* El método *transform* debe realizar la transformación del DataFrame pasado como parámetro de entrada (X). Para ello, se obtendrán las mejores variables en función del método de selección de variables especificado y se devolverá el DataFrame modificado.\n",
    "\n",
    "Implementad en primer lugar la clase correspondiente a la técnica t-test. Recordad que las restas se deben realizar en valor absoluto.\n",
    "\n",
    "NOTA: para simplificar la implementación vamos a asumir que la varianza es diferente para todas las variables."
   ]
  },
  {
   "cell_type": "code",
   "execution_count": 21,
   "metadata": {
    "deletable": false,
    "nbgrader": {
     "cell_type": "code",
     "checksum": "719935c608dcfbfcb3e70379d6026b8f",
     "grade": false,
     "grade_id": "cell-49b574726b61062e",
     "locked": false,
     "schema_version": 3,
     "solution": true,
     "task": false
    }
   },
   "outputs": [],
   "source": [
    "# Importamos la clase TransformerMixin\n",
    "from sklearn.base import TransformerMixin\n",
    "\n",
    "class t_test(TransformerMixin):\n",
    "\n",
    "    def __init__(self, tipoSeleccion='Kbest', K=None, percentil=None):\n",
    "        self.tipoSeleccion = tipoSeleccion\n",
    "        self.K = K\n",
    "        self.percentil = percentil\n",
    "        \n",
    "    def fit(self, X_train, y_train):\n",
    "        # Variables para almacenar el número de ejemplos, las medias, desviaciones estándar y variazas\n",
    "            # de los ejemplos según su clase (clase 0: C0 y clase 1: C1)\n",
    "        N0 = y_train[y_train==0].size\n",
    "        N1 = y_train[y_train==1].size\n",
    "        mediasC0 = X_train[y_train==0].mean()\n",
    "        mediasC1 = X_train[y_train==1].mean()\n",
    "        stdsC0 = X_train[y_train==0].std()\n",
    "        stdsC1 = X_train[y_train==1].std()\n",
    "        varsC0 = X_train[y_train==0].var()\n",
    "        varsC1 = X_train[y_train==1].var()\n",
    "        # Propiedad para almacenar el valor t de cada variable\n",
    "        self.t =  np.abs(mediasC0-mediasC1)/np.sqrt(np.abs((stdsC0/N0)-(stdsC1/N1)))\n",
    "        return self\n",
    "\n",
    "    def transform(self, X):\n",
    "        # Variable para almacenar los índices de las variables ordenadas de acuerdo al valor t\n",
    "        indices = np.argsort(-self.t)\n",
    "        # Variable para almacenar True en caso de que la variable se seleccione y False en caso contrario\n",
    "            # de aceurdo al tipo de selección especificdo en el constructor\n",
    "        booleanos = np.zeros(X.shape[1],).astype('bool')\n",
    "        if self.tipoSeleccion=='Kbest':\n",
    "            booleanos[indices[0:self.K]] = True\n",
    "        elif self.tipoSeleccion=='percentil':\n",
    "            booleanos[indices[0:(int)(X.shape[1]*self.percentil/100)]] = True        \n",
    "        return X.iloc[:,booleanos]\n",
    "    \n",
    "    # Método para asignar los valores de los híper-parámetros y que, de este modo, \n",
    "    # podamos aplicar GridSearchCV sobre un objeto de esta clase\n",
    "    def set_params(self, **parameters):\n",
    "        for parameter, value in parameters.items():\n",
    "            setattr(self, parameter, value)\n",
    "        return self"
   ]
  },
  {
   "cell_type": "markdown",
   "metadata": {
    "deletable": false,
    "editable": false,
    "nbgrader": {
     "cell_type": "markdown",
     "checksum": "1df72fc9b6e774afd3291e5774d8cba5",
     "grade": false,
     "grade_id": "cell-ba722fb79243277b",
     "locked": true,
     "schema_version": 3,
     "solution": false,
     "task": false
    }
   },
   "source": [
    "Aplicad la técnica t-test con el método de selección de las K mejores variables y obtened los resultados en las mismas condiciones que para el resto de filtros utilizados en esta práctica."
   ]
  },
  {
   "cell_type": "code",
   "execution_count": 22,
   "metadata": {
    "deletable": false,
    "nbgrader": {
     "cell_type": "code",
     "checksum": "c1d21de74c9182e63745ac72f32d264a",
     "grade": false,
     "grade_id": "cell-71e0ea8e0f43c5f1",
     "locked": false,
     "schema_version": 3,
     "solution": true,
     "task": false
    }
   },
   "outputs": [
    {
     "name": "stdout",
     "output_type": "stream",
     "text": [
      "Seleccionando las 10 mejores variables se obtiene un accuracy del 87.58620689655172% en entrenamiento\n",
      "Seleccionando las 10 mejores variables se obtiene un accuracy del 77.77777777777779% en test\n",
      "Seleccionando las 20 mejores variables se obtiene un accuracy del 84.13793103448276% en entrenamiento\n",
      "Seleccionando las 20 mejores variables se obtiene un accuracy del 79.36507936507937% en test\n",
      "Seleccionando las 30 mejores variables se obtiene un accuracy del 84.82758620689656% en entrenamiento\n",
      "Seleccionando las 30 mejores variables se obtiene un accuracy del 79.36507936507937% en test\n"
     ]
    }
   ],
   "source": [
    "listaAccTrain = [] # lista para almancenar el rendimiento de las diferentes posibilidades en train\n",
    "listaAccTest = [] # lista para almancenar el rendimiento de las diferentes posibilidades en test\n",
    "for numVar in [10,20,30]:\n",
    "    # Se llama al constructor que realiza la selección de las k mejores variables con los parámetros apropiados\n",
    "    tecnicaSeleccion = t_test(tipoSeleccion='Kbest',K=numVar)\n",
    "    # Llamada a la función que aprende los parámetros de la selección de variables a partir de los datos de entrenamiento\n",
    "    tecnicaSeleccion.fit(X_train,y_train)\n",
    "    # Llamada a la función que transforma los datos de entrenamiento: realiza la selección de variables\n",
    "    X_train_seleccion = tecnicaSeleccion.transform(X_train)\n",
    "    # Llamada a la función que transforma los datos de test: realiza la selección de variables\n",
    "    X_test_seleccion = tecnicaSeleccion.transform(X_test)\n",
    "    # Realizamos el proceso para KNN por lo que hay que llamar al constructor de dicho clasificador\n",
    "    knn = neighbors.KNeighborsClassifier()\n",
    "    # Llamada a la función que realiza el aprendizaje del clasificador\n",
    "    knn = knn.fit(X_train_seleccion,y_train)\n",
    "    # Llamada a la función que realiza la predicción de los datos de entrenamiento\n",
    "    prediccionTrain = knn.predict(X_train_seleccion)\n",
    "    # Llamada a la función que calcula el porcentaje de acierto para los datos de entrenamiento\n",
    "    accTrain = metrics.accuracy_score(y_train,prediccionTrain)*100\n",
    "    # Se añade el resultado a la lista de resultados de train\n",
    "    listaAccTrain.append(accTrain)\n",
    "    print('Seleccionando las {} mejores variables se obtiene un accuracy del {}% en entrenamiento'.format(numVar, accTrain))\n",
    "    # Llamada a la función que realiza la predicción de los datos de test\n",
    "    prediccionTest = knn.predict(X_test_seleccion)\n",
    "    # Llamada a la función que calcula el porcentaje de acierto para los datos de test\n",
    "    accTest = metrics.accuracy_score(y_test,prediccionTest)*100\n",
    "    # Se añade el resultado a la lista de resultados de test\n",
    "    listaAccTest.append(accTest)\n",
    "    print('Seleccionando las {} mejores variables se obtiene un accuracy del {}% en test'.format(numVar, accTest))"
   ]
  },
  {
   "cell_type": "code",
   "execution_count": 23,
   "metadata": {
    "deletable": false,
    "editable": false,
    "nbgrader": {
     "cell_type": "code",
     "checksum": "1700b16272a6d7c79980d07571285950",
     "grade": true,
     "grade_id": "cell-c3ecbbb6c2c15bba",
     "locked": true,
     "points": 4,
     "schema_version": 3,
     "solution": false,
     "task": false
    }
   },
   "outputs": [
    {
     "name": "stdout",
     "output_type": "stream",
     "text": [
      "1 test passed.\n",
      "1 test passed.\n"
     ]
    }
   ],
   "source": [
    "# ESTA CELDA DARÁ ERROR SI EL RESULTADO NO ES CORRECTO\n",
    "Test.assertEquals(list(map(lambda x: round(x, 2), listaAccTrain)), [87.59, 84.14, 84.83], 'Valores de accuracy en train incorrectos')\n",
    "Test.assertEquals(list(map(lambda x: round(x, 2), listaAccTest)), [77.78, 79.37, 79.37], 'Valores de accuracy en test incorrectos')"
   ]
  },
  {
   "cell_type": "markdown",
   "metadata": {
    "deletable": false,
    "editable": false,
    "nbgrader": {
     "cell_type": "markdown",
     "checksum": "08d323ee94f57776b15ce8c5e7b9e8b2",
     "grade": false,
     "grade_id": "cell-7b748c1b9e1bb016",
     "locked": true,
     "schema_version": 3,
     "solution": false,
     "task": false
    }
   },
   "source": [
    "Aplicad la técnica t-test con el método de selección basado en el percentil y obtened los resultados en las mismas condiciones que para el resto de filtros utilizados en esta práctica."
   ]
  },
  {
   "cell_type": "code",
   "execution_count": 24,
   "metadata": {
    "deletable": false,
    "nbgrader": {
     "cell_type": "code",
     "checksum": "3327fed6fcfb078569b57a940478370d",
     "grade": false,
     "grade_id": "cell-f135fcbb572e9e78",
     "locked": false,
     "schema_version": 3,
     "solution": true,
     "task": false
    }
   },
   "outputs": [
    {
     "name": "stdout",
     "output_type": "stream",
     "text": [
      "Seleccionando las 10 mejores variables se obtiene un accuracy del 82.75862068965517% en entrenamiento\n",
      "Seleccionando las 10 mejores variables se obtiene un accuracy del 79.36507936507937% en test\n",
      "Seleccionando las 20 mejores variables se obtiene un accuracy del 86.20689655172413% en entrenamiento\n",
      "Seleccionando las 20 mejores variables se obtiene un accuracy del 73.01587301587301% en test\n",
      "Seleccionando las 30 mejores variables se obtiene un accuracy del 84.82758620689656% en entrenamiento\n",
      "Seleccionando las 30 mejores variables se obtiene un accuracy del 74.60317460317461% en test\n"
     ]
    }
   ],
   "source": [
    "listaAccTrain = [] # lista para almancenar el rendimiento de las diferentes posibilidades en train\n",
    "listaAccTest = [] # lista para almancenar el rendimiento de las diferentes posibilidades en test\n",
    "for numVar in [10,20,30]:\n",
    "    # Se llama al constructor que realiza la selección de las k mejores variables con los parámetros apropiados\n",
    "    tecnicaSeleccion = t_test(tipoSeleccion='percentil',percentil=numVar)\n",
    "    # Llamada a la función que aprende los parámetros de la selección de variables a partir de los datos de entrenamiento\n",
    "    tecnicaSeleccion.fit(X_train,y_train)\n",
    "    # Llamada a la función que transforma los datos de entrenamiento: realiza la selección de variables\n",
    "    X_train_seleccion = tecnicaSeleccion.transform(X_train)\n",
    "    # Llamada a la función que transforma los datos de test: realiza la selección de variables\n",
    "    X_test_seleccion = tecnicaSeleccion.transform(X_test)\n",
    "    # Realizamos el proceso para KNN por lo que hay que llamar al constructor de dicho clasificador\n",
    "    knn = neighbors.KNeighborsClassifier()\n",
    "    # Llamada a la función que realiza el aprendizaje del clasificador\n",
    "    knn = knn.fit(X_train_seleccion,y_train)\n",
    "    # Llamada a la función que realiza la predicción de los datos de entrenamiento\n",
    "    prediccionTrain = knn.predict(X_train_seleccion)\n",
    "    # Llamada a la función que calcula el porcentaje de acierto para los datos de entrenamiento\n",
    "    accTrain = metrics.accuracy_score(y_train,prediccionTrain)*100\n",
    "    # Se añade el resultado a la lista de resultados de train\n",
    "    listaAccTrain.append(accTrain)\n",
    "    print('Seleccionando las {} mejores variables se obtiene un accuracy del {}% en entrenamiento'.format(numVar, accTrain))\n",
    "    # Llamada a la función que realiza la predicción de los datos de test\n",
    "    prediccionTest = knn.predict(X_test_seleccion)\n",
    "    # Llamada a la función que calcula el porcentaje de acierto para los datos de test\n",
    "    accTest = metrics.accuracy_score(y_test,prediccionTest)*100\n",
    "    # Se añade el resultado a la lista de resultados de test\n",
    "    listaAccTest.append(accTest)\n",
    "    print('Seleccionando las {} mejores variables se obtiene un accuracy del {}% en test'.format(numVar, accTest))"
   ]
  },
  {
   "cell_type": "code",
   "execution_count": 25,
   "metadata": {
    "deletable": false,
    "editable": false,
    "nbgrader": {
     "cell_type": "code",
     "checksum": "c776224f143bab27326472ea591d7ba5",
     "grade": true,
     "grade_id": "cell-d576244ab206b7b0",
     "locked": true,
     "points": 4,
     "schema_version": 3,
     "solution": false,
     "task": false
    }
   },
   "outputs": [
    {
     "name": "stdout",
     "output_type": "stream",
     "text": [
      "1 test passed.\n",
      "1 test passed.\n"
     ]
    }
   ],
   "source": [
    "# ESTA CELDA DARÁ ERROR SI EL RESULTADO NO ES CORRECTO\n",
    "# ESTA CELDA DARÁ ERROR SI EL RESULTADO NO ES CORRECTO\n",
    "Test.assertEquals(list(map(lambda x: round(x, 2), listaAccTrain)), [82.76, 86.21, 84.83], 'Valores de accuracy en train incorrectos')\n",
    "Test.assertEquals(list(map(lambda x: round(x, 2), listaAccTest)), [79.37, 73.02, 74.6], 'Valores de accuracy en test incorrectos')"
   ]
  },
  {
   "cell_type": "markdown",
   "metadata": {
    "deletable": false,
    "editable": false,
    "nbgrader": {
     "cell_type": "markdown",
     "checksum": "1c308564024737b8d705e1cc9a6bbd59",
     "grade": false,
     "grade_id": "cell-a87f8f520966b97c",
     "locked": true,
     "schema_version": 3,
     "solution": false,
     "task": false
    }
   },
   "source": [
    "Implementad en primer lugar la clase correspondiente a la técnica Relief. \n",
    "\n",
    "Para facilitar la tarea se importa la librería *neighbors* puesto que se recomienda el uso del clasificador de los K vecinos más cercanos para obtener los ejemplos más cercanos de la clase del ejemplo (NC) y de la otra clase (NF). En concreto, se deberán crear dos KNNs: \n",
    "* Uno entrenado con los ejemplos de la clase del ejemplo (con k=2). No olvidéis que el vecino más cercano de la misma clase que el ejemplo aleatorio será el propio ejemplo aleatorio y, por tanto, el vecino más cercano debe ser el segundo ejemplo más cercano (por eso se entrena este KNN con k=2).\n",
    "* El otro con los ejemplos de la otra clase (con k=1). \n",
    "\n",
    "Además, se debe utilizar:\n",
    "* Para obtener los vecinos del ejemplo seleccionado se debe utilizar el método [*kneighbors*](https://scikit-learn.org/stable/modules/generated/sklearn.neighbors.KNeighborsClassifier.html#sklearn.neighbors.KNeighborsClassifier.kneighbors) de la clase *KNeighborsClassifier*. \n",
    "* La distancia de Hamming para actualizar los pesos (valor absoluto de la resta). \n",
    "* El valor 12 como semilla de Numpy.\n",
    "* Generad el número aleatorio para elegir el ejemplo con el que trabajar en cada iteración con la función [*randint*](https://numpy.org/doc/stable/reference/random/generated/numpy.random.randint.html) de *Numpy.random*."
   ]
  },
  {
   "cell_type": "code",
   "execution_count": 26,
   "metadata": {},
   "outputs": [
    {
     "data": {
      "text/plain": [
       "     Band1  Band2  Band3  Band4  Band5  Band6  Band7  Band8  Band9  Band10  \\\n",
       "0    0.020  0.037  0.043  0.021  0.095  0.099  0.154  0.160  0.311   0.211   \n",
       "1    0.045  0.052  0.084  0.069  0.118  0.258  0.216  0.348  0.334   0.287   \n",
       "2    0.026  0.058  0.110  0.108  0.097  0.228  0.243  0.377  0.560   0.619   \n",
       "3    0.010  0.017  0.062  0.020  0.020  0.037  0.110  0.128  0.060   0.126   \n",
       "4    0.076  0.067  0.048  0.039  0.059  0.065  0.121  0.247  0.356   0.446   \n",
       "..     ...    ...    ...    ...    ...    ...    ...    ...    ...     ...   \n",
       "203  0.019  0.035  0.017  0.018  0.039  0.163  0.203  0.169  0.233   0.268   \n",
       "204  0.032  0.010  0.030  0.056  0.076  0.096  0.099  0.102  0.103   0.215   \n",
       "205  0.052  0.044  0.018  0.029  0.035  0.117  0.126  0.118  0.126   0.253   \n",
       "206  0.030  0.035  0.049  0.061  0.017  0.135  0.146  0.112  0.194   0.235   \n",
       "207  0.026  0.036  0.014  0.027  0.021  0.034  0.066  0.140  0.184   0.235   \n",
       "\n",
       "     Band11  Band12  Band13  Band14  Band15  Band16  Band17  Band18  Band19  \\\n",
       "0     0.161   0.158   0.224   0.064   0.066   0.227   0.310   0.300   0.508   \n",
       "1     0.492   0.655   0.692   0.780   0.746   0.944   1.000   0.887   0.802   \n",
       "2     0.633   0.706   0.554   0.532   0.648   0.693   0.676   0.755   0.893   \n",
       "3     0.088   0.199   0.018   0.226   0.173   0.213   0.069   0.228   0.406   \n",
       "4     0.415   0.395   0.426   0.414   0.453   0.533   0.731   0.619   0.203   \n",
       "..      ...     ...     ...     ...     ...     ...     ...     ...     ...   \n",
       "203   0.311   0.293   0.228   0.099   0.180   0.220   0.273   0.286   0.203   \n",
       "204   0.308   0.342   0.299   0.140   0.124   0.153   0.190   0.243   0.212   \n",
       "205   0.272   0.237   0.188   0.098   0.068   0.150   0.172   0.234   0.196   \n",
       "206   0.290   0.281   0.158   0.027   0.067   0.144   0.207   0.264   0.283   \n",
       "207   0.272   0.244   0.166   0.034   0.130   0.171   0.218   0.318   0.371   \n",
       "\n",
       "     Band20  Band21  Band22  Band23  Band24  Band25  Band26  Band27  Band28  \\\n",
       "0     0.480   0.578   0.507   0.433   0.555   0.671   0.642   0.710   0.808   \n",
       "1     0.782   0.521   0.405   0.396   0.391   0.325   0.320   0.327   0.277   \n",
       "2     0.862   0.797   0.674   0.429   0.365   0.533   0.241   0.507   0.853   \n",
       "3     0.397   0.274   0.369   0.556   0.485   0.314   0.533   0.526   0.252   \n",
       "4     0.464   0.415   0.429   0.573   0.540   0.316   0.228   0.700   1.000   \n",
       "..      ...     ...     ...     ...     ...     ...     ...     ...     ...   \n",
       "203   0.174   0.413   0.688   0.812   0.845   0.892   0.930   0.999   1.000   \n",
       "204   0.240   0.327   0.595   0.830   0.904   0.989   0.991   0.945   1.000   \n",
       "205   0.140   0.316   0.589   0.763   0.847   0.942   0.999   0.970   1.000   \n",
       "206   0.429   0.568   0.699   0.725   0.762   0.924   1.000   0.998   0.830   \n",
       "207   0.455   0.570   0.740   0.806   0.884   0.943   1.000   0.938   0.760   \n",
       "\n",
       "     Band29  Band30  Band31  Band32  Band33  Band34  Band35  Band36  Band37  \\\n",
       "0     0.679   0.386   0.131   0.260   0.512   0.755   0.854   0.851   0.669   \n",
       "1     0.442   0.203   0.379   0.295   0.198   0.234   0.131   0.418   0.384   \n",
       "2     0.604   0.851   0.851   0.504   0.186   0.271   0.423   0.304   0.612   \n",
       "3     0.209   0.356   0.626   0.734   0.612   0.350   0.395   0.301   0.541   \n",
       "4     0.726   0.472   0.510   0.546   0.288   0.098   0.195   0.418   0.460   \n",
       "..      ...     ...     ...     ...     ...     ...     ...     ...     ...   \n",
       "203   0.810   0.620   0.604   0.555   0.416   0.147   0.085   0.061   0.097   \n",
       "204   0.909   0.741   0.769   0.712   0.530   0.213   0.093   0.130   0.116   \n",
       "205   0.863   0.698   0.772   0.730   0.520   0.179   0.110   0.145   0.107   \n",
       "206   0.703   0.714   0.689   0.496   0.258   0.097   0.078   0.036   0.157   \n",
       "207   0.712   0.836   0.762   0.457   0.172   0.155   0.164   0.187   0.266   \n",
       "\n",
       "     Band38  Band39  Band40  Band41  Band42  Band43  Band44  Band45  Band46  \\\n",
       "0     0.610   0.494   0.274   0.051   0.283   0.282   0.426   0.264   0.139   \n",
       "1     0.106   0.184   0.197   0.167   0.058   0.140   0.163   0.062   0.020   \n",
       "2     0.676   0.538   0.472   0.465   0.259   0.213   0.222   0.211   0.018   \n",
       "3     0.881   0.986   0.917   0.612   0.501   0.321   0.320   0.430   0.365   \n",
       "4     0.322   0.283   0.243   0.198   0.244   0.185   0.084   0.069   0.053   \n",
       "..      ...     ...     ...     ...     ...     ...     ...     ...     ...   \n",
       "203   0.141   0.168   0.120   0.120   0.104   0.198   0.134   0.090   0.108   \n",
       "204   0.123   0.177   0.034   0.156   0.082   0.115   0.169   0.095   0.008   \n",
       "205   0.144   0.193   0.032   0.149   0.033   0.054   0.131   0.091   0.076   \n",
       "206   0.182   0.135   0.085   0.049   0.137   0.155   0.155   0.132   0.098   \n",
       "207   0.171   0.096   0.077   0.085   0.208   0.250   0.186   0.144   0.147   \n",
       "\n",
       "     Band47  Band48  Band49  Band50  Band51  Band52  Band53  Band54  Band55  \\\n",
       "0     0.105   0.134   0.038   0.032   0.023   0.003   0.006   0.016   0.007   \n",
       "1     0.053   0.074   0.041   0.006   0.012   0.008   0.009   0.005   0.009   \n",
       "2     0.135   0.074   0.013   0.011   0.003   0.023   0.017   0.010   0.018   \n",
       "3     0.266   0.158   0.068   0.029   0.024   0.012   0.004   0.015   0.008   \n",
       "4     0.036   0.008   0.023   0.005   0.016   0.003   0.005   0.010   0.011   \n",
       "..      ...     ...     ...     ...     ...     ...     ...     ...     ...   \n",
       "203   0.152   0.136   0.086   0.029   0.020   0.012   0.010   0.020   0.003   \n",
       "204   0.079   0.126   0.065   0.018   0.005   0.006   0.009   0.014   0.006   \n",
       "205   0.106   0.100   0.054   0.024   0.016   0.016   0.003   0.005   0.006   \n",
       "206   0.126   0.095   0.049   0.024   0.004   0.009   0.005   0.013   0.004   \n",
       "207   0.099   0.004   0.015   0.012   0.018   0.015   0.013   0.005   0.004   \n",
       "\n",
       "     Band56  Band57  Band58  Band59  Band60  \n",
       "0     0.017   0.018   0.008   0.009   0.003  \n",
       "1     0.019   0.014   0.005   0.005   0.004  \n",
       "2     0.024   0.032   0.016   0.010   0.008  \n",
       "3     0.007   0.005   0.004   0.004   0.012  \n",
       "4     0.002   0.007   0.005   0.011   0.009  \n",
       "..      ...     ...     ...     ...     ...  \n",
       "203   0.010   0.006   0.012   0.019   0.016  \n",
       "204   0.006   0.003   0.003   0.006   0.007  \n",
       "205   0.009   0.014   0.014   0.008   0.003  \n",
       "206   0.004   0.003   0.008   0.004   0.005  \n",
       "207   0.006   0.004   0.004   0.006   0.012  \n",
       "\n",
       "[208 rows x 60 columns]"
      ]
     },
     "execution_count": 26,
     "metadata": {},
     "output_type": "execute_result"
    }
   ],
   "source": [
    "y_train[5]\n",
    "X"
   ]
  },
  {
   "cell_type": "code",
   "execution_count": 27,
   "metadata": {
    "deletable": false,
    "nbgrader": {
     "cell_type": "code",
     "checksum": "45cf160d518ebcc44114472b0f141fab",
     "grade": false,
     "grade_id": "cell-b446a1b2cd282ced",
     "locked": false,
     "schema_version": 3,
     "solution": true,
     "task": false
    }
   },
   "outputs": [
    {
     "ename": "IndentationError",
     "evalue": "expected an indented block (<ipython-input-27-4f996e16ddb8>, line 45)",
     "output_type": "error",
     "traceback": [
      "\u001b[0;36m  File \u001b[0;32m\"<ipython-input-27-4f996e16ddb8>\"\u001b[0;36m, line \u001b[0;32m45\u001b[0m\n\u001b[0;31m    def set_params(self, **parameters):\u001b[0m\n\u001b[0m      ^\u001b[0m\n\u001b[0;31mIndentationError\u001b[0m\u001b[0;31m:\u001b[0m expected an indented block\n"
     ]
    }
   ],
   "source": [
    "from sklearn import neighbors\n",
    "\n",
    "class relief(TransformerMixin):\n",
    "\n",
    "    def __init__(self, tipoSeleccion='Kbest', K=None, percentil=None):\n",
    "        self.tipoSeleccion = tipoSeleccion\n",
    "        self.K = K\n",
    "        self.percentil = percentil\n",
    "        \n",
    "    def fit(self, X_train, y_train):\n",
    "        np.random.seed(12)\n",
    "        # Propiedad para almacenar el valor w de cada variable\n",
    "        self.w = np.zeros(len(X_train.columns),)\n",
    "        # Bucle ierativo para trabajar con el ejemplo aleatorio elegido en cada iteración\n",
    "        for i in range(X_train.shape[0]):\n",
    "            # índice aleatorio que será el ejemplo con el que trabajemos\n",
    "            indice =  np.random.randint(X_train.shape[0], size=1)\n",
    "            # Nos quedamos con el ejemplo aleatorio y su clase: el ejemplo pasarlo a array de Numpy (.values.reshape(-1,1))\n",
    "            ejemplo = X_train.iloc[indice].values\n",
    "            claseEjemplo = y_train[indice]\n",
    "            # Creación y entrenamiento del clasificador KNN con los ejemplos de la misma clase que el elegido en la iteración\n",
    "            knnClase = neighbors.KNeighborsClassifier()\n",
    "            knnClase = knn.fit(X_train[y_train == claseEjemplo],y_train[y_train == claseEjemplo])\n",
    "            # Creación y entrenamiento del clasificador KNN con los ejemplos de la otra clase que la del elegido en la iteración\n",
    "            knnNoClase = neighbors.KNeighborsClassifier()\n",
    "            knnNoClase = knn.fit(X_train[y_train != claseEjemplo],y_train[y_train != claseEjemplo])\n",
    "            # Nos quedamos con el índice del ejemplo más cercano de clase diferente (NF) y de la misma clase (NC) que el ejemplo de la iteración\n",
    "            _,NF = knnNoClase.kneighbors(ejemplo)\n",
    "            NF = NF[0][0]\n",
    "            _,NC = knnClase.kneighbors(ejemplo)\n",
    "            NC = NC[0][1]\n",
    "            # Cálculo de las distancias para actualizar los pesos (self.w) de cada variable\n",
    "            distEjNF,_ = knnClase.kneighbors(e)\n",
    "            distEjNC,_ = knnNoClase.kneighbors(e)\n",
    "            self.w +=  np.abs((ejemplo.ravel() - X_train[y_train == claseEjemplo].values)) / X_train.shape[0]\n",
    "            self.w -=  np.abs((ejemplo.ravel() - X_train[y_train != claseEjemplo].values)) / X_train.shape[0]\n",
    "        return self\n",
    "\n",
    "    def transform(self, X):\n",
    "        # Métoddo que realiza la selección de las variables y devuelve el DataFrame modificado a partir del pasado como entrada (X)\n",
    "        # <RELLENAR>\n",
    "        \n",
    "    # Método para asignar los valores de los híper-parámetros y que, de este modo, \n",
    "    # podamos aplicar GridSearchCV sobre un objeto de esta clase\n",
    "    def set_params(self, **parameters):\n",
    "        for parameter, value in parameters.items():\n",
    "            setattr(self, parameter, value)\n",
    "        return self"
   ]
  },
  {
   "cell_type": "markdown",
   "metadata": {
    "deletable": false,
    "editable": false,
    "nbgrader": {
     "cell_type": "markdown",
     "checksum": "ed521b599528677e12c53c6f958339f3",
     "grade": false,
     "grade_id": "cell-b9e98b9caebe1870",
     "locked": true,
     "schema_version": 3,
     "solution": false,
     "task": false
    }
   },
   "source": [
    "Aplicad la técnica Relief con el método de selección de las K mejores variables y obtened los resultados en las mismas condiciones que para el resto de filtros utilizados en esta práctica."
   ]
  },
  {
   "cell_type": "code",
   "execution_count": null,
   "metadata": {
    "deletable": false,
    "nbgrader": {
     "cell_type": "code",
     "checksum": "5e7c37bfc4b14913789d60685db3cb7d",
     "grade": false,
     "grade_id": "cell-d23390bc0aae12eb",
     "locked": false,
     "schema_version": 3,
     "solution": true,
     "task": false
    }
   },
   "outputs": [],
   "source": [
    "listaAccTrain = [] # lista para almancenar el rendimiento de las diferentes posibilidades en train\n",
    "listaAccTest = [] # lista para almancenar el rendimiento de las diferentes posibilidades en test\n",
    "# <RELLENAR>"
   ]
  },
  {
   "cell_type": "code",
   "execution_count": null,
   "metadata": {
    "deletable": false,
    "editable": false,
    "nbgrader": {
     "cell_type": "code",
     "checksum": "27f891b2f5d4628e68c0792f2bef365b",
     "grade": true,
     "grade_id": "cell-cd738d0bb136e0bf",
     "locked": true,
     "points": 4,
     "schema_version": 3,
     "solution": false,
     "task": false
    }
   },
   "outputs": [],
   "source": [
    "# ESTA CELDA DARÁ ERROR SI EL RESULTADO NO ES CORRECTO\n",
    "Test.assertEquals(list(map(lambda x: round(x, 2), listaAccTrain)), [89.66, 86.21, 85.52], 'Valores de accuracy en train incorrectos')\n",
    "Test.assertEquals(list(map(lambda x: round(x, 2), listaAccTest)), [79.37, 77.78, 76.19], 'Valores de accuracy en test incorrectos')"
   ]
  },
  {
   "cell_type": "markdown",
   "metadata": {
    "deletable": false,
    "editable": false,
    "nbgrader": {
     "cell_type": "markdown",
     "checksum": "c46db6adeeee3e0fff55a27ab80f68bd",
     "grade": false,
     "grade_id": "cell-35a1b3244bf6e0bf",
     "locked": true,
     "schema_version": 3,
     "solution": false,
     "task": false
    }
   },
   "source": [
    "Aplicad la técnica Relief con el método de selección basado en el percentil y obtened los resultados en las mismas condiciones que para el resto de filtros utilizados en esta práctica."
   ]
  },
  {
   "cell_type": "code",
   "execution_count": null,
   "metadata": {
    "deletable": false,
    "nbgrader": {
     "cell_type": "code",
     "checksum": "cc2d80546acff4e14f341cfda52974c0",
     "grade": false,
     "grade_id": "cell-c1d4734e0cd97349",
     "locked": false,
     "schema_version": 3,
     "solution": true,
     "task": false
    }
   },
   "outputs": [],
   "source": [
    "listaAccTrain = [] # lista para almancenar el rendimiento de las diferentes posibilidades en train\n",
    "listaAccTest = [] # lista para almancenar el rendimiento de las diferentes posibilidades en test\n",
    "# <RELLENAR>"
   ]
  },
  {
   "cell_type": "code",
   "execution_count": null,
   "metadata": {
    "deletable": false,
    "editable": false,
    "nbgrader": {
     "cell_type": "code",
     "checksum": "aa9403230b4873ef4aaf82ee95e8b6ba",
     "grade": true,
     "grade_id": "cell-fcb996ab8dad52de",
     "locked": true,
     "points": 4,
     "schema_version": 3,
     "solution": false,
     "task": false
    }
   },
   "outputs": [],
   "source": [
    "# ESTA CELDA DARÁ ERROR SI EL RESULTADO NO ES CORRECTO\n",
    "Test.assertEquals(list(map(lambda x: round(x, 2), listaAccTrain)), [88.28, 84.14, 86.90], 'Valores de accuracy en train incorrectos')\n",
    "Test.assertEquals(list(map(lambda x: round(x, 2), listaAccTest)), [80.95, 82.54, 77.78], 'Valores de accuracy en test incorrectos')"
   ]
  },
  {
   "cell_type": "markdown",
   "metadata": {
    "deletable": false,
    "editable": false,
    "nbgrader": {
     "cell_type": "markdown",
     "checksum": "5d4a0083a073d3638e652e09e4282ead",
     "grade": false,
     "grade_id": "cell-630df471de9bf4bb",
     "locked": true,
     "schema_version": 3,
     "solution": false
    }
   },
   "source": [
    "### Método basados en wrappers"
   ]
  },
  {
   "cell_type": "markdown",
   "metadata": {
    "deletable": false,
    "editable": false,
    "nbgrader": {
     "cell_type": "markdown",
     "checksum": "3f8dea7cd911957f576bb483c54aa6de",
     "grade": false,
     "grade_id": "cell-72385d2f75a19fdb",
     "locked": true,
     "schema_version": 3,
     "solution": false
    }
   },
   "source": [
    "La librería Scikit-learn también nos ofrece una clase para poder implementar un Wrapper. Esta clase está dentro de la librería feature_selection y se llama [*RFE*](http://scikit-learn.org/stable/modules/generated/sklearn.feature_selection.RFE.html#sklearn.feature_selection.RFE)\n",
    "\n",
    "Esta clase corresponde al método Sequential Backward Selecion (SBS) explicado en clase de teoría. Es decir, es el método en el que se comienza con todas las variables del problema e iterativamente se va eliminando la peor variable de las que queden. En el caso de la implementación de esta clase lo que se hace es lo siguiente:\n",
    "* Se aprende un clasificador (pasado como parámetro de entrada: clasificador) con todas las variables y se asignan pesos a cada una de las variables.\n",
    "* Se elimina(n) variable(s) (el número de variables a eliminar se pasa como parámetro de entrada: numeroVariablesEliminarEnPaso) cuyos pesos en valor absoluto sean los menores.\n",
    "* Luego se vuelve a entrenar con las variables que queden y se vuelven a calcular los pesos de dichas variables.\n",
    "* Este proceso se repite hasta que se alcance el número de variables a mantener (pasado como parámetro de entrada: numeroVariablesMantener)\n",
    "\n",
    "La llamada al constructor de la clase es la siguiente:\n",
    "\n",
    "    RFE(clasificador, n_features_to_select=numeroVariablesMantener, step=numeroVariablesEliminarEnPaso)\n",
    "    \n",
    "Esta clase tiene varios métodos, entre ellos los mismos que se han explicado para los filtros uni-variables utilizados en la primera parte de la práctica:\n",
    "* fit: Recibe como parámetro de entrada los datos de entrada (X) y de salida (Y). Esta función aplica la medida de calidad pasada como parámetro de entrada (funcionCalidad) sobre cada variable y establece la importancia de cada una de ellas.\n",
    "* transform: Recibe como parámetro de entrada los datos de entrada (X). Esta función devuelve los datos de entrada con la selección de variables realizada (X'). Es decir, X' tendrá el mismo número de ejemplos pero menor número de variables (solamente las seleccionadas).\n",
    "* fit_transform: Recibe como parámetro de entrada los datos de entrada (X) y de salida (Y). Esta función aplica secuencialmente las dos funciones anteriores.\n",
    "* get_support: esta función devuelve un array de booleanos con tantos elementos como variables. En cada posición tendrá True si la variable asociada ha sido seleccionada y False en caso contrario.\n",
    "* inverse_transform: Recibe como parámetro de entrada los datos de entrada con la selección de variables realizada (X'). Esta función deshace la selección de variables, es decir, devuelve el conjunto de datos original (X).\n",
    "\n",
    "NOTA: el clasificador utilizado en el wrapper (evaluación de la importancia de las variables) tiene que actualizar el atributo coef_ de su clase correspondiente. En caso de que no lo haga no se puede utilizar como clasificador para la eliminación secuencial de variables."
   ]
  },
  {
   "cell_type": "markdown",
   "metadata": {
    "collapsed": true,
    "deletable": false,
    "editable": false,
    "nbgrader": {
     "cell_type": "markdown",
     "checksum": "85374992c99a1dd279bbc7bf598091c2",
     "grade": false,
     "grade_id": "cell-e8478848d4809870",
     "locked": true,
     "schema_version": 3,
     "solution": false
    }
   },
   "source": [
    "Utiliza la clase RFE para realizar la selección de variables en el problema de Sonar. Para ello debes utilizar lo siguiente\n",
    "* Como clasificador del Wrapper utiliza la [regresión logística](https://scikit-learn.org/stable/modules/generated/sklearn.linear_model.LogisticRegression.html) con la configuración por defecto excepto el *solver* que debe ser 'liblinear'.\n",
    "    * Hay que importar la librería *linear_model* y utilizar la clase LogisticRegression: *linear_model.LogisticRegression()*\n",
    "* Eliminar una variable cada vez (*step=1*)\n",
    "* Probar diferentes valores de variables a mantener: 10, 20 y 30\n",
    "\n",
    "Evalúa la calidad de la selección realizada utilizando la regresión logística con la configuración por defecto excepto el híper-parámetro mencionado anteriormente."
   ]
  },
  {
   "cell_type": "code",
   "execution_count": 28,
   "metadata": {
    "deletable": false,
    "nbgrader": {
     "cell_type": "code",
     "checksum": "acec131a0bc8f796e5f59ff42ddc0c3d",
     "grade": false,
     "grade_id": "cell-a27dce7b2d4ad1aa",
     "locked": false,
     "schema_version": 3,
     "solution": true
    }
   },
   "outputs": [
    {
     "name": "stdout",
     "output_type": "stream",
     "text": [
      "Manteniendo 10 variables se obtiene un accuracy del 76.55172413793103% en entrenamiento\n",
      "Manteniendo 10 variables se obtiene un accuracy del 80.95238095238095% en test\n",
      "Manteniendo 20 variables se obtiene un accuracy del 78.62068965517241% en entrenamiento\n",
      "Manteniendo 20 variables se obtiene un accuracy del 85.71428571428571% en test\n",
      "Manteniendo 30 variables se obtiene un accuracy del 78.62068965517241% en entrenamiento\n",
      "Manteniendo 30 variables se obtiene un accuracy del 88.88888888888889% en test\n"
     ]
    }
   ],
   "source": [
    "from sklearn import linear_model\n",
    "\n",
    "# Listas para almacenar los resultados de accuracy en train y test\n",
    "listaAccTrain = []\n",
    "listaAccTest = []\n",
    "for variablesMantener in [10,20,30]:\n",
    "    # Se llama al constructor que realiza la selección de variables en base a la eliminación secuencial de variables\n",
    "        # Utiliza los parámetros adecuados\n",
    "    tecnicaSeleccion = feature_selection.RFE(linear_model.LogisticRegression(solver = 'liblinear'),n_features_to_select=variablesMantener,step=1)\n",
    "    # Llamada a la función que aprende los parámetros de la selección de variables a partir de los datos de entrenamiento\n",
    "    tecnicaSeleccion.fit(X_train,y_train)\n",
    "    # Llamada a la función que transforma los datos de entrenamiento: realiza la selección de variables\n",
    "    X_train_seleccion = tecnicaSeleccion.transform(X_train)\n",
    "    # Llamada a la función que transforma los datos de test: realiza la selección de variables\n",
    "    X_test_seleccion = tecnicaSeleccion.transform(X_test)\n",
    "    # Realizamos el proceso para la regresión logística por lo que hay que llamar al constructor de dicho clasificador con la configuración apropiada\n",
    "    RL = linear_model.LogisticRegression(solver = 'liblinear')\n",
    "    # Llamada a la función que realiza el aprendizaje del clasificador\n",
    "    RL.fit(X_train_seleccion,y_train)\n",
    "    # Llamada a la función que realiza la predicción de los datos de entrenamiento\n",
    "    prediccionTrain = RL.predict(X_train_seleccion)\n",
    "    # Llamada a la función que calcula el porcentaje de acierto para los datos de entrenamiento\n",
    "    accTrain = metrics.accuracy_score(y_train,prediccionTrain)*100\n",
    "    # Se añade el resultado a la lista de resultados de train\n",
    "    listaAccTrain.append(accTrain)\n",
    "    print('Manteniendo {} variables se obtiene un accuracy del {}% en entrenamiento'.format(variablesMantener, accTrain))\n",
    "    # Llamada a la función que realiza la predicción de los datos de test\n",
    "    prediccionTest = RL.predict(X_test_seleccion)\n",
    "    # Llamada a la función que calcula el porcentaje de acierto para los datos de test\n",
    "    accTest = metrics.accuracy_score(y_test,prediccionTest)*100\n",
    "    # Se añade el resultado a la lista de resultados de test\n",
    "    listaAccTest.append(accTest)\n",
    "    print('Manteniendo {} variables se obtiene un accuracy del {}% en test'.format(variablesMantener, accTest))"
   ]
  },
  {
   "cell_type": "code",
   "execution_count": 29,
   "metadata": {
    "deletable": false,
    "editable": false,
    "nbgrader": {
     "cell_type": "code",
     "checksum": "772d9c4d6ee38090caf68afa0e1373b3",
     "grade": true,
     "grade_id": "cell-3a9c7cbae6401d6c",
     "locked": true,
     "points": 3,
     "schema_version": 3,
     "solution": false
    }
   },
   "outputs": [
    {
     "name": "stdout",
     "output_type": "stream",
     "text": [
      "1 test passed.\n",
      "1 test passed.\n"
     ]
    }
   ],
   "source": [
    "# ESTA CELDA DARÁ ERROR SI EL RESULTADO NO ES CORRECTO\n",
    "Test.assertEquals(list(map(lambda x: round(x, 2), listaAccTrain)), [76.55, 78.62, 78.62], 'Valores de accuracy en train incorrectos')\n",
    "Test.assertEquals(list(map(lambda x: round(x, 2), listaAccTest)), [80.95, 85.71, 88.89], 'Valores de accuracy en test incorrectos')"
   ]
  },
  {
   "cell_type": "markdown",
   "metadata": {
    "deletable": false,
    "editable": false,
    "nbgrader": {
     "cell_type": "markdown",
     "checksum": "e0975f4460351c294784e010cb904697",
     "grade": false,
     "grade_id": "cell-1b0158278149aca4",
     "locked": true,
     "schema_version": 3,
     "solution": false
    }
   },
   "source": [
    "### PCA: Principal component analysis"
   ]
  },
  {
   "cell_type": "markdown",
   "metadata": {
    "deletable": false,
    "editable": false,
    "nbgrader": {
     "cell_type": "markdown",
     "checksum": "fd39b688b4795f2cf86ba7a573e0bbec",
     "grade": false,
     "grade_id": "cell-c4e6b89186ea980b",
     "locked": true,
     "schema_version": 3,
     "solution": false
    }
   },
   "source": [
    "Una técnica muy habitual a la hora de realizar reducción de datos por medio de transformaciones de variables es el análisis de las componentes principales (PCA, de sus siglas en inglés). Scikit-learn nos ofrece dicha técnica implementada en la clase [*PCA*](https://scikit-learn.org/stable/modules/generated/sklearn.decomposition.PCA.html) de la librería *decomposition*. El constructor con los parámetros que vamos a utilizar en esta práctica es el siguiente:\n",
    "    \n",
    "    sklearn.decomposition.PCA(n_components: numCom, svd_solver='full')\n",
    "    \n",
    "El parámetro n_components puede tener diferentes valores al utilizar *svd_solver='full'*:\n",
    "* Si *numCom* es un valor entero especifica el númerto de componentes principales a mantener.\n",
    "* Si *numCom* es un valor real entre 0 y 1 especifica el porcentaje de la varianza que representan los  componentes principales seleccionados. \n",
    "\n",
    "El porcentaje de varianza que representa cada componente principal se puede encontrar en el atributo *explained_variance_ratio_* de la clase PCA. El número de componentes principales seleccionados se puede obtener en el atributo *n_components_* de la clase PCA.\n",
    "\n",
    "Al igual que el resto de técnicas de preprocesamiento, para ejecutar PCA se debe llamar al constructor de la clase PCA, luego entrenarlo, método *fit*, con los ejemplos de entrenamiento y finalmente el objeto entrenado se puede utilizar para transformar ejemplos a la nueva base mediante el método *transform*.\n",
    "\n",
    "En la siguiente celda debéis ejecutar PCA utilizando tantos componentes principales como sean necesarios para mantener el 95% de la varianza. Debéis entrenar PCA con los datos de entrenamiento obtenidos al comienzo de la práctica y transformar tanto los datos de entrenamiento como los de test. Dichos datos transformados serán utilizados para obtener el rendimiento de KNN tanto en entrenamiento como en test con su configuración por defecto."
   ]
  },
  {
   "cell_type": "code",
   "execution_count": 30,
   "metadata": {
    "deletable": false,
    "nbgrader": {
     "cell_type": "code",
     "checksum": "73bcb16a3b9d8133a0071cfde4d513b8",
     "grade": false,
     "grade_id": "cell-2d143be0ecf189c3",
     "locked": false,
     "schema_version": 3,
     "solution": true
    }
   },
   "outputs": [],
   "source": [
    "from sklearn.decomposition import PCA\n",
    "pca = PCA(n_components=0.95)\n",
    "pca.fit(X_train,y_train)\n",
    "X_train_transformed = pca.transform(X_train)\n",
    "X_test_transformed = pca.transform(X_test)\n",
    "\n",
    "knn = neighbors.KNeighborsClassifier()\n",
    "\n",
    "knn.fit(X_train_transformed,y_train)\n",
    "\n",
    "prediccionTrain = knn.predict(X_train_transformed)\n",
    "prediccionTest = knn.predict(X_test_transformed)\n",
    "\n",
    "accTrain = metrics.accuracy_score(y_train,prediccionTrain) * 100\n",
    "accTest = metrics.accuracy_score(y_test,prediccionTest) * 100"
   ]
  },
  {
   "cell_type": "code",
   "execution_count": 31,
   "metadata": {
    "deletable": false,
    "editable": false,
    "nbgrader": {
     "cell_type": "code",
     "checksum": "559e26de9d9f5f43ad5ee55183411d15",
     "grade": true,
     "grade_id": "cell-c8cfb989cc7fa227",
     "locked": true,
     "points": 3,
     "schema_version": 3,
     "solution": false
    }
   },
   "outputs": [
    {
     "name": "stdout",
     "output_type": "stream",
     "text": [
      "1 test passed.\n",
      "1 test passed.\n"
     ]
    }
   ],
   "source": [
    "Test.assertEquals(round(accTrain, 2), 86.90, 'Accuracy en train incorrecto')\n",
    "Test.assertEquals(round(accTest, 2), 71.43, 'Accuracy en test incorrecto')"
   ]
  },
  {
   "cell_type": "markdown",
   "metadata": {
    "deletable": false,
    "editable": false,
    "nbgrader": {
     "cell_type": "markdown",
     "checksum": "eec2395c248877946f33bb586348af68",
     "grade": false,
     "grade_id": "cell-89d334c6e09ab37c",
     "locked": true,
     "schema_version": 3,
     "solution": false
    }
   },
   "source": [
    "Algo interesante de PCA es que podemos analizar la influencia del número de componentes principales utilizados. Scikit-learn nos devuelve los componentes principales ordenados por importancia (varianza de información que representan). Por este motivo, el primer componente principal será el más importante, luego el segundo, etc...\n",
    "\n",
    "El objetivo de este ejercicio es que analicéis la influencia de los componentes principales. Para ello se debe crear un script que analice el rendimiento de KNN con los datos transformados por PCA al seleccionar desde un único componente principal hasta tantos como variables originales tenga el problema. Algo muy útil para analizar dicho rendimiento es crear una gráfica que muestre para cada posibiliad su porcentaje de información representada, su rendimietno en train y su rendimiento en test.\n",
    "\n",
    "En la siguiente celda se debe crear el código necesario para crear dicha gráfica y poder analizar el comportamiento de PCA."
   ]
  },
  {
   "cell_type": "code",
   "execution_count": 32,
   "metadata": {
    "deletable": false,
    "nbgrader": {
     "cell_type": "code",
     "checksum": "bc674582291e3e48d5a28e4446d4b5bb",
     "grade": false,
     "grade_id": "cell-856630dcd5d9d312",
     "locked": false,
     "schema_version": 3,
     "solution": true
    }
   },
   "outputs": [
    {
     "data": {
      "text/plain": [
       "[<matplotlib.lines.Line2D at 0x7fbd3fb7af10>]"
      ]
     },
     "execution_count": 32,
     "metadata": {},
     "output_type": "execute_result"
    },
    {
     "data": {
      "image/png": "[encoded data removed]",
      "text/plain": [
       "<Figure size 432x288 with 1 Axes>"
      ]
     },
     "metadata": {
      "needs_background": "light"
     },
     "output_type": "display_data"
    }
   ],
   "source": [
    "listaAccTrain = [] # lista para almancenar el rendimiento de las diferentes posibilidades en train\n",
    "listaAccTest = [] # lista para almancenar el rendimiento de las diferentes posibilidades en test\n",
    "listaPorInf = [] # lista para almancenar el porcentje de información representado por las diferentes posibilidades\n",
    "for i in range(1,X_train.shape[1]):\n",
    "    pca = PCA(n_components=i)\n",
    "    pca.fit(X_train,y_train)\n",
    "    X_train_transformed =pca.transform(X_train)\n",
    "    X_test_transformed =pca.transform(X_test)\n",
    "\n",
    "    knn = neighbors.KNeighborsClassifier()\n",
    "\n",
    "    knn.fit(X_train_transformed,y_train)\n",
    "    prediccionTrain = knn.predict(X_train_transformed)\n",
    "    prediccionTest = knn.predict(X_test_transformed)\n",
    "\n",
    "    accTrain = metrics.accuracy_score(y_train,prediccionTrain) * 100\n",
    "    accTest = metrics.accuracy_score(y_test,prediccionTest) * 100\n",
    "    listaAccTrain.append(accTrain)\n",
    "    listaAccTest.append(accTest)\n",
    "    listaPorInf.append(np.sum(pca.explained_variance_ratio_)*100)\n",
    "    \n",
    "plt.plot(listaPorInf,listaAccTest)"
   ]
  },
  {
   "cell_type": "code",
   "execution_count": 33,
   "metadata": {
    "deletable": false,
    "editable": false,
    "nbgrader": {
     "cell_type": "code",
     "checksum": "226dc41cc38d7a9f9486c19b774e7a8b",
     "grade": true,
     "grade_id": "cell-eb9836bf30a201c8",
     "locked": true,
     "points": 3,
     "schema_version": 3,
     "solution": false
    }
   },
   "outputs": [
    {
     "name": "stdout",
     "output_type": "stream",
     "text": [
      "1 test passed.\n",
      "1 test passed.\n",
      "1 test passed.\n"
     ]
    }
   ],
   "source": [
    "# ESTA CELDA DARÁ ERROR SI EL RESULTADO NO ES CORRECTO\n",
    "Test.assertEquals(list(map(lambda x: round(x, 2), np.array(listaPorInf)[::4])), [34.92, 75.49, 87.89, 93.08, 96.17, 97.78, 98.7, 99.22, 99.54, 99.75, 99.89, 99.96, 99.99, 100.0, 100.0], 'Porcentaje de informacion incorrecto')\n",
    "Test.assertEquals(list(map(lambda x: round(x, 2), np.array(listaAccTrain)[::4])), [75.17, 86.9, 87.59, 89.66, 86.21, 86.9, 85.52, 85.52, 86.21, 86.21, 86.21, 86.21, 86.21, 86.21, 86.21], 'Valores de accuracy en train incorrectos')\n",
    "Test.assertEquals(list(map(lambda x: round(x, 2), np.array(listaAccTest)[::4])), [42.86, 68.25, 66.67, 69.84, 74.6, 68.25, 68.25, 68.25, 68.25, 68.25, 68.25, 68.25, 68.25, 68.25, 68.25], 'Valores de accuracy en test incorrectos')"
   ]
  },
  {
   "cell_type": "markdown",
   "metadata": {
    "deletable": false,
    "editable": false,
    "nbgrader": {
     "cell_type": "markdown",
     "checksum": "30e1cbbb6dd5286bb3e4d19a33f0105d",
     "grade": false,
     "grade_id": "cell-8d3f0183edc7766a",
     "locked": true,
     "schema_version": 3,
     "solution": false
    }
   },
   "source": [
    "Del mismo modo que en el caso anterior se puede estudiar la influencia del porcentaje de información total a representar por los componentes principales utilizados. Cread el código necesario para obtener el número de compomentes principales utilizados por los porcentajes de información 0.8, 0.85, 0.9 y 0.95 así como sus rendimientos en train y test. En este caso no hace falta realizar una gráfica."
   ]
  },
  {
   "cell_type": "code",
   "execution_count": 35,
   "metadata": {
    "deletable": false,
    "nbgrader": {
     "cell_type": "code",
     "checksum": "a659622c74e80bf065357ebc3a9ff313",
     "grade": false,
     "grade_id": "cell-d5d9a78f6dd5201c",
     "locked": false,
     "schema_version": 3,
     "solution": true
    }
   },
   "outputs": [],
   "source": [
    "listaAccTrain = [] # lista para almancenar el rendimiento de las diferentes posibilidades en train\n",
    "listaAccTest = [] # lista para almancenar el rendimiento de las diferentes posibilidades en test\n",
    "listaNumPCs = [] # lista para almancenar el número de compomentes principales de cada opción\n",
    "for i in [0.8,0.85,0.9,0.95]:\n",
    "    pca = PCA(n_components=i)\n",
    "    pca.fit(X_train,y_train)\n",
    "    X_train_transformed = pca.transform(X_train)\n",
    "    X_test_transformed = pca.transform(X_test)\n",
    "\n",
    "    knn = neighbors.KNeighborsClassifier()\n",
    "\n",
    "    knn.fit(X_train_transformed,y_train)\n",
    "\n",
    "    prediccionTrain = knn.predict(X_train_transformed)\n",
    "    prediccionTest = knn.predict(X_test_transformed)\n",
    "\n",
    "    accTrain = metrics.accuracy_score(y_train,prediccionTrain) * 100\n",
    "    accTest = metrics.accuracy_score(y_test,prediccionTest) * 100\n",
    "    \n",
    "    listaAccTrain.append(accTrain)\n",
    "    listaAccTest.append(accTest)\n",
    "    listaNumPCs.append(pca.n_components_)"
   ]
  },
  {
   "cell_type": "code",
   "execution_count": 36,
   "metadata": {
    "deletable": false,
    "editable": false,
    "nbgrader": {
     "cell_type": "code",
     "checksum": "d7b32da0ff2be61eae42ee4e2530d738",
     "grade": true,
     "grade_id": "cell-095ca31e07ead1ee",
     "locked": true,
     "points": 3,
     "schema_version": 3,
     "solution": false
    }
   },
   "outputs": [
    {
     "name": "stdout",
     "output_type": "stream",
     "text": [
      "1 test passed.\n",
      "1 test passed.\n",
      "1 test passed.\n"
     ]
    }
   ],
   "source": [
    "# ESTA CELDA DARÁ ERROR SI EL RESULTADO NO ES CORRECTO\n",
    "Test.assertEquals(list(map(lambda x: x, listaNumPCs)), [7, 8, 11, 16], 'Numero de componentes principales incorrecto')\n",
    "Test.assertEquals(list(map(lambda x: round(x, 2), listaAccTrain)), [91.03, 88.28, 86.9, 86.9], 'Valores de accuracy en train incorrectos')\n",
    "Test.assertEquals(list(map(lambda x: round(x, 2), listaAccTest)), [69.84, 69.84, 68.25, 71.43], 'Valores de accuracy en test incorrectos')"
   ]
  },
  {
   "cell_type": "markdown",
   "metadata": {
    "deletable": false,
    "editable": false,
    "nbgrader": {
     "cell_type": "markdown",
     "checksum": "3bbde9be3cd799037500da35a8fbffa0",
     "grade": false,
     "grade_id": "cell-501117c8ab2928d0",
     "locked": true,
     "schema_version": 3,
     "solution": false
    }
   },
   "source": [
    "Finalmente, algo muy interesante es analizar qué variables influyen más en cada componente principal. PAra ello, lo que se suele realizar es calcular la correlación entre las nuevas variables creadas por PCA (los valores de los ejemplos tras realizar la transformación) y las variables originales. Por ejemplo, para analizar las variables que más influyen al primer componente principal (PC1) deberemos realizar la correlación entre los valores de todos los ejemplos tras realizar la transformación con el PC1 y los valores de todos los ejemplos con cada variable original. De este modo, si una variable tiene correlación positiva el valor del PC1 crecerá conforme crezca dicha variable y decrecerá en caso de correlación negativa. Este hecho se puede mostrar muy fácilmente relizando una gráfica con el comando *plot*.\n",
    "\n",
    "Para realizar la correlación entre las variables se puede utilizar la función [*corrcoef*](https://docs.scipy.org/doc/numpy/reference/generated/numpy.corrcoef.html) de Numpy. En este caso, la matiz de entrada tiene tantas filas como variables a calcular su correlación y tantas columnas como ejemplos.\n",
    "\n",
    "En la siguiente celda vamos a analizar la influencia de las variables originales en los componentes principales obtenidos al mantener el 95% de la información."
   ]
  },
  {
   "cell_type": "code",
   "execution_count": 37,
   "metadata": {
    "deletable": false,
    "nbgrader": {
     "cell_type": "code",
     "checksum": "4d0c91e0141e333b89ebb7e21888c925",
     "grade": false,
     "grade_id": "cell-e12e1cb0cafe4dd6",
     "locked": false,
     "schema_version": 3,
     "solution": true
    }
   },
   "outputs": [
    {
     "data": {
      "image/png": "[encoded data removed]",
      "text/plain": [
       "<Figure size 1728x5040 with 60 Axes>"
      ]
     },
     "metadata": {
      "needs_background": "light"
     },
     "output_type": "display_data"
    }
   ],
   "source": [
    "# Obtener los componentes principales de PCA utiliando X_train para entrenar el modelo y transformar los datos\n",
    "PCA = PCA(n_components=0.95)\n",
    "PCA.fit(X_train)\n",
    "X_train_seleccion = PCA.transform(X_train)\n",
    "\n",
    "# Concatenar verticalmente las matrices de ejemplos originales y transformados en ese orden (transpuestas para que las variables sean las filas)\n",
    "variablesConPCs = np.vstack((np.transpose(X_train),np.transpose(X_train_seleccion)))\n",
    "# Obtener la matriz de correlaciones\n",
    "correlacionesPCs = np.corrcoef(variablesConPCs)\n",
    "# Seleccionar las últimss n_components_ filas y las X_train.shape[1] primeras columnas\n",
    "corrPCsVars = correlacionesPCs[pca.n_components_:,:X_train.shape[1]]\n",
    "\n",
    "# Figura que muestra la influencia de las variables originales en cada componente principal\n",
    "fig = plt.figure(1, figsize=(24,70))\n",
    "for i in range(corrPCsVars.shape[0]):\n",
    "    fig.add_subplot(corrPCsVars.shape[0],1,i+1)\n",
    "    plt.title(\"PC\"+str(i+1))\n",
    "    plt.ylim([-1,1])\n",
    "    plt.bar(range(corrPCsVars.shape[1]),corrPCsVars[i,:])\n",
    "plt.show()"
   ]
  },
  {
   "cell_type": "markdown",
   "metadata": {
    "deletable": false,
    "editable": false,
    "nbgrader": {
     "cell_type": "markdown",
     "checksum": "b63c676c5616468be53b8be0d5198a20",
     "grade": false,
     "grade_id": "cell-6968476e533a4f16",
     "locked": true,
     "schema_version": 3,
     "solution": false
    }
   },
   "source": [
    "Realizar una Pipeline que combine:\n",
    "* Selección de variables utilizando el filtro de ANOVA en base al percentil (seleccionar el 30% de las variables) \n",
    "    * feature_selection.SelectPercentile(feature_selection.f_classif, percentile=30)\n",
    "* Clasificador KNN\n",
    "    * neighbors.KNeighborsClassifier()\n",
    "\n",
    "Para ello, utiliza los conjuntos de entrenamiento y test generados al comienzo de la práctica utilizando Hold-out.\n",
    "\n",
    "Comprueba que los resultados son los mismos que los obtenidos cuando hemos utilizado por separado ambos objetos."
   ]
  },
  {
   "cell_type": "code",
   "execution_count": 38,
   "metadata": {
    "deletable": false,
    "nbgrader": {
     "cell_type": "code",
     "checksum": "3b90e21f95c2b87fa77af3989b0a081b",
     "grade": false,
     "grade_id": "cell-9065e0b2ec3a4250",
     "locked": false,
     "schema_version": 3,
     "solution": true
    }
   },
   "outputs": [
    {
     "name": "stdout",
     "output_type": "stream",
     "text": [
      "Resultado en entrenamiento: 86.89655172413792%\n",
      "Resultado en test: 88.88888888888889%\n"
     ]
    }
   ],
   "source": [
    "# Se importa la librería pipeline\n",
    "from sklearn import pipeline\n",
    "\n",
    "# Se crea la Pipeline con las fases deseadas\n",
    "pipe = pipeline.Pipeline([('filtroANOVA', feature_selection.SelectPercentile(feature_selection.f_classif, percentile=30)), ('clasificadorKNN', neighbors.KNeighborsClassifier())])\n",
    "# Se realiza el aprendizaje de los parámetros de todas las fases de la Pipeline\n",
    "pipe.fit(X_train,y_train)\n",
    "# Se llama a la predicción de la pipeline sobre los datos de entrenamiento\n",
    "prediccionesTrain =  pipe.predict(X_train)\n",
    "# Se calcula el accuracy para los datos de entrenamiento (entre 0.0 y 100.0)\n",
    "accTrain =  metrics.accuracy_score(y_train,prediccionesTrain)*100\n",
    "print('Resultado en entrenamiento: {}%'.format(accTrain))\n",
    "# Se llama a la predicción de la pipeline sobre los datos de test\n",
    "prediccionesTest = pipe.predict(X_test)\n",
    "# Se calcula el accuracy para los datos de test (entre 0.0 y 100.0)\n",
    "accTest = metrics.accuracy_score(y_test,prediccionesTest)*100\n",
    "print('Resultado en test: {}%'.format(accTest))"
   ]
  },
  {
   "cell_type": "code",
   "execution_count": 39,
   "metadata": {
    "deletable": false,
    "editable": false,
    "nbgrader": {
     "cell_type": "code",
     "checksum": "6f6396e1e62781957d8fcede64ecf212",
     "grade": true,
     "grade_id": "cell-c172b129563c6dc0",
     "locked": true,
     "points": 3,
     "schema_version": 3,
     "solution": false
    }
   },
   "outputs": [
    {
     "name": "stdout",
     "output_type": "stream",
     "text": [
      "1 test passed.\n",
      "1 test passed.\n"
     ]
    }
   ],
   "source": [
    "# ESTA CELDA DARÁ ERROR SI EL RESULTADO NO ES CORRECTO\n",
    "Test.assertEquals(round(accTrain, 2), 86.90, 'Valor de accuracy en train incorrecto')\n",
    "Test.assertEquals(round(accTest, 2), 88.89, 'Valor de accuracy en test incorrecto')"
   ]
  },
  {
   "cell_type": "markdown",
   "metadata": {
    "deletable": false,
    "editable": false,
    "nbgrader": {
     "cell_type": "markdown",
     "checksum": "f93061f4a32930138b980328b5ce1d21",
     "grade": false,
     "grade_id": "cell-5af6760dc0cc36a3",
     "locked": true,
     "schema_version": 3,
     "solution": false
    }
   },
   "source": [
    "Realizar una Pipeline que combine el filtro ANOVA anterior, el clasificador KNN y además realice en primer lugar la normalización de datos utilizando el método de los mínimos y los máximos:\n",
    "    * preprocessing.MinMaxScaler()\n",
    "\n",
    "NOTA: recodar que hay que importar la librería preprocessing"
   ]
  },
  {
   "cell_type": "code",
   "execution_count": 41,
   "metadata": {
    "deletable": false,
    "nbgrader": {
     "cell_type": "code",
     "checksum": "99e3acc3458670e1f28729728f9e7604",
     "grade": false,
     "grade_id": "cell-1a6006241e629dda",
     "locked": false,
     "schema_version": 3,
     "solution": true
    }
   },
   "outputs": [
    {
     "name": "stdout",
     "output_type": "stream",
     "text": [
      "Resultado en entrenamiento: 85.51724137931035%\n",
      "Resultado en test: 85.71428571428571%\n"
     ]
    }
   ],
   "source": [
    "# Se importa la librería de pre-procesamiento para hacer la normalización\n",
    "from sklearn import preprocessing\n",
    "\n",
    "# Se crea la Pipeline con las fases deseadas\n",
    "pipe = pipeline.Pipeline([('normalizacion',preprocessing.MinMaxScaler()),('filtroANOVA', feature_selection.SelectPercentile(feature_selection.f_classif, percentile=30)), ('clasificadorKNN', neighbors.KNeighborsClassifier())])\n",
    "# Se realiza el aprendizaje de los parámetros de todas las fases de la Pipeline\n",
    "pipe.fit(X_train,y_train)\n",
    "# Se llama a la predicción de la pipeline sobre los datos de entrenamiento\n",
    "prediccionesTrain = pipe.predict(X_train)\n",
    "# Se calcula el accuracy para los datos de entrenamiento (entre 0.0 y 100.0)\n",
    "accTrain =  metrics.accuracy_score(y_train,prediccionesTrain)*100\n",
    "print('Resultado en entrenamiento: {}%'.format(accTrain))\n",
    "# Se llama a la predicción de la pipeline sobre los datos de test\n",
    "prediccionesTest =  pipe.predict(X_test)\n",
    "# Se calcula el accuracy para los datos de test (entre 0.0 y 100.0)\n",
    "accTest =  metrics.accuracy_score(y_test,prediccionesTest)*100\n",
    "print('Resultado en test: {}%'.format(accTest))"
   ]
  },
  {
   "cell_type": "code",
   "execution_count": 42,
   "metadata": {
    "deletable": false,
    "editable": false,
    "nbgrader": {
     "cell_type": "code",
     "checksum": "c70da5742020f3f155131e34411edce4",
     "grade": true,
     "grade_id": "cell-cd81f199bfd692c8",
     "locked": true,
     "points": 3,
     "schema_version": 3,
     "solution": false
    }
   },
   "outputs": [
    {
     "name": "stdout",
     "output_type": "stream",
     "text": [
      "1 test passed.\n",
      "1 test passed.\n"
     ]
    }
   ],
   "source": [
    "# ESTA CELDA DARÁ ERROR SI EL RESULTADO NO ES CORRECTO\n",
    "Test.assertEquals(round(accTrain, 2), 85.52, 'Valor de accuracy en train incorrecto')\n",
    "Test.assertEquals(round(accTest, 2), 85.71, 'Valor de accuracy en test incorrecto')"
   ]
  },
  {
   "cell_type": "markdown",
   "metadata": {
    "deletable": false,
    "editable": false,
    "nbgrader": {
     "cell_type": "markdown",
     "checksum": "836918b56ad0c97211bbbd75efa3d5e3",
     "grade": false,
     "grade_id": "cell-dd4543ddc5cd2b9a",
     "locked": true,
     "schema_version": 3,
     "solution": false
    }
   },
   "source": [
    "Utiliza la clase GridSearchCV para buscar la configuración óptima de la Pipeline compuesta por el filtro ANOVA y el clasificador KNN (sin normalización). Los híper-parámetros y sus valores son:\n",
    "* Para la selección de variables basado en el percentil y el filtro ANOVA\n",
    "    * percentile: 10, 20, 30\n",
    "* Para el clasificador KNN\n",
    "    * n_neighbors: 1, 3, 5, 7, 9\n",
    "    * weights: ‘uniform’, ‘distance’\n",
    "    * p: [1, 2, 1.5, 3]\n",
    "\n",
    "NOTAS:\n",
    "* Llamad al componente del filtro Anova *filtroANOVA* y al clasificador KNN *KNN*.\n",
    "* Utiliza 10 particiones y el accuracy para realizar la validación cruzada."
   ]
  },
  {
   "cell_type": "code",
   "execution_count": 43,
   "metadata": {
    "deletable": false,
    "nbgrader": {
     "cell_type": "code",
     "checksum": "db7e3bcd60d5b350169cd1f20797332e",
     "grade": false,
     "grade_id": "cell-0670789b01d0d721",
     "locked": false,
     "schema_version": 3,
     "solution": true
    }
   },
   "outputs": [
    {
     "name": "stdout",
     "output_type": "stream",
     "text": [
      "0.8285714285714285\n",
      "{'KNN__n_neighbors': 1, 'KNN__p': 2, 'KNN__weights': 'uniform', 'filtroANOVA__percentile': 30}\n",
      "0.8285714285714285\n",
      "{'KNN__n_neighbors': 1, 'KNN__p': 2, 'KNN__weights': 'uniform', 'filtroANOVA__percentile': 30}\n",
      "100.0 84.12698412698413\n"
     ]
    }
   ],
   "source": [
    "from sklearn import model_selection\n",
    "\n",
    "# Se crea la Pipeline con las fases deseadas\n",
    "pipe = pipeline.Pipeline([('filtroANOVA', feature_selection.SelectPercentile(feature_selection.f_classif)), ('KNN', neighbors.KNeighborsClassifier())])\n",
    "# Se crea el grid de híper-parámetros\n",
    "parameters =  {'filtroANOVA__percentile':[10, 20 ,30], 'KNN__n_neighbors':[1, 3, 5, 7, 9], 'KNN__weights': ['uniform','distance'], 'KNN__p': [1,2, 1.5 ,3]}\n",
    "# Se llama al constructor de GridSearchCV para que genere todas las combinaciones de los híper-parámetros definidos anteriormente\n",
    "gridSearch_pipe = model_selection.GridSearchCV(pipe, parameters, n_jobs=-1, cv=10)\n",
    "# Se realiza el aprendizaje de todos los clasificadores considerados (todas las configuraciones)\n",
    "gridSearch_pipe.fit(X_train,y_train)\n",
    "# Se muestra la mejor configuración junto con su rendimiento\n",
    "print(gridSearch_pipe.best_score_)\n",
    "print(gridSearch_pipe.best_params_)\n",
    "\n",
    "\n",
    "# Almacenamos el DataFrame con los resultados\n",
    "diccionarioResultados = pd.DataFrame(gridSearch_pipe.cv_results_)\n",
    "\n",
    "# Se imprime el mejor porcentaje de acierto y los resultados de todas las configuraciones\n",
    "print(gridSearch_pipe.best_score_)\n",
    "print(gridSearch_pipe.best_params_)\n",
    "\n",
    "# Se obtiene el rendimiento en entrenamiento y test por la mejor configuración\n",
    "prediccionesTrain = gridSearch_pipe.predict(X_train)\n",
    "prediccionesTest = gridSearch_pipe.predict(X_test)\n",
    "accTrain = metrics.accuracy_score(y_train,prediccionesTrain)*100\n",
    "accTest = metrics.accuracy_score(y_test,prediccionesTest)*100\n",
    "print(accTrain,accTest)"
   ]
  },
  {
   "cell_type": "code",
   "execution_count": 44,
   "metadata": {
    "deletable": false,
    "editable": false,
    "nbgrader": {
     "cell_type": "code",
     "checksum": "972cc2dbd9be1026387e0ca255cc68e9",
     "grade": true,
     "grade_id": "cell-0b9eb32a86611ef2",
     "locked": true,
     "points": 2,
     "schema_version": 3,
     "solution": false,
     "task": false
    }
   },
   "outputs": [
    {
     "name": "stdout",
     "output_type": "stream",
     "text": [
      "1 test passed.\n",
      "1 test passed.\n"
     ]
    }
   ],
   "source": [
    "# ESTA CELDA DARÁ ERROR SI EL RESULTADO NO ES CORRECTO\n",
    "    # EN CASO CONTRARIO NO TENDRÁ SALIDA\n",
    "Test.assertEquals(round(accTrain, 2), 100.00, 'Valor de accuracy en train incorrecto')\n",
    "Test.assertEquals(round(accTest, 2), 84.13, 'Valor de accuracy en test incorrecto')"
   ]
  },
  {
   "cell_type": "code",
   "execution_count": 45,
   "metadata": {
    "deletable": false,
    "editable": false,
    "nbgrader": {
     "cell_type": "code",
     "checksum": "743f4c837afc89e845b8b57f7163b73f",
     "grade": true,
     "grade_id": "cell-9c185f858728ea2d",
     "locked": true,
     "points": 2,
     "schema_version": 3,
     "solution": false,
     "task": false
    }
   },
   "outputs": [
    {
     "name": "stdout",
     "output_type": "stream",
     "text": [
      "1 test passed.\n",
      "1 test passed.\n"
     ]
    },
    {
     "name": "stderr",
     "output_type": "stream",
     "text": [
      "/home/wyryby/anaconda3/envs/py37machlearn/lib/python3.7/site-packages/numpy/core/fromnumeric.py:56: FutureWarning: \n",
      "The current behaviour of 'Series.argmax' is deprecated, use 'idxmax'\n",
      "instead.\n",
      "The behavior of 'argmax' will be corrected to return the positional\n",
      "maximum in the future. For now, use 'series.values.argmax' or\n",
      "'np.argmax(np.array(values))' to get the position of the maximum\n",
      "row.\n",
      "  return getattr(obj, method)(*args, **kwds)\n"
     ]
    }
   ],
   "source": [
    "# ESTA CELDA DARÁ ERROR SI EL RESULTADO NO ES CORRECTO\n",
    "    # EN CASO CONTRARIO NO TENDRÁ SALIDA\n",
    "indice = np.argmax(diccionarioResultados['mean_test_score'])\n",
    "Test.assertEquals(round(np.max(diccionarioResultados['mean_test_score']), 4), 0.8286, \"Accuracy de la mejor configuración incorrecto\")\n",
    "Test.assertEquals(diccionarioResultados['params'][indice], {'KNN__n_neighbors': 1, 'KNN__p': 2, 'KNN__weights': 'uniform', 'filtroANOVA__percentile': 30}, \"Mejor configuración incorrecta\")"
   ]
  },
  {
   "cell_type": "markdown",
   "metadata": {
    "deletable": false,
    "editable": false,
    "nbgrader": {
     "cell_type": "markdown",
     "checksum": "c22ce6967f1be5640fc27afac3a42e8a",
     "grade": false,
     "grade_id": "cell-0aa9e37459a16e0a",
     "locked": true,
     "schema_version": 3,
     "solution": false,
     "task": false
    }
   },
   "source": [
    "Crea una Pipeline que aplique el filtro t_test que hemos implementado utilizando la selección de las K mejores variables y el clasificador de los K vecinos más cercanos. Obtened la mejor configuración de dicha Pipeline al examinar los mismos valores que en el caso anterior para KNN y los valores 10, 20 y 30 para el filtro t_test.\n",
    "\n",
    "NOTAS:\n",
    "* Llamad al componente del filtro t_test *t_test* y al clasificador KNN *KNN*."
   ]
  },
  {
   "cell_type": "code",
   "execution_count": 47,
   "metadata": {
    "deletable": false,
    "nbgrader": {
     "cell_type": "code",
     "checksum": "eb704ce4354b81758e596849ad207238",
     "grade": false,
     "grade_id": "cell-e703937cbcfc6cd8",
     "locked": false,
     "schema_version": 3,
     "solution": true,
     "task": false
    }
   },
   "outputs": [
    {
     "name": "stdout",
     "output_type": "stream",
     "text": [
      "0.8471428571428572\n",
      "{'KNN__n_neighbors': 1, 'KNN__p': 3, 'KNN__weights': 'uniform', 't_test__K': 30, 't_test__tipoSeleccion': 'Kbest'}\n",
      "0.8471428571428572\n",
      "{'KNN__n_neighbors': 1, 'KNN__p': 3, 'KNN__weights': 'uniform', 't_test__K': 30, 't_test__tipoSeleccion': 'Kbest'}\n"
     ]
    }
   ],
   "source": [
    "# Se crea la Pipeline con las fases deseadas\n",
    "pipe = pipeline.Pipeline([('t_test', t_test(tipoSeleccion='Kbest',K=numVar)), ('KNN', neighbors.KNeighborsClassifier())])\n",
    "# Se crea el grid de híper-parámetros\n",
    "parameters =  {'t_test__tipoSeleccion':['Kbest'],'t_test__K':[10, 20 ,30], 'KNN__n_neighbors':[1, 3, 5, 7, 9], 'KNN__weights': ['uniform','distance'], 'KNN__p': [1,2, 1.5 ,3]}\n",
    "# Se llama al constructor de GridSearchCV para que genere todas las combinaciones de los híper-parámetros definidos anteriormente\n",
    "gridSearch_pipe = model_selection.GridSearchCV(pipe, parameters, cv=10)\n",
    "# Se realiza el aprendizaje de todos los clasificadores considerados (todas las configuraciones)\n",
    "gridSearch_pipe.fit(X_train,y_train)\n",
    "# Se muestra la mejor configuración junto con su rendimiento\n",
    "print(gridSearch_pipe.best_score_)\n",
    "print(gridSearch_pipe.best_params_)\n",
    "\n",
    "\n",
    "# Almacenamos el DataFrame con los resultados\n",
    "diccionarioResultados = pd.DataFrame(gridSearch_pipe.cv_results_)\n",
    "\n",
    "# Se imprime el mejor porcentaje de acierto y los resultados de todas las configuraciones\n",
    "print(gridSearch_pipe.best_score_)\n",
    "print(gridSearch_pipe.best_params_)\n",
    "\n",
    "# Se obtiene el rendimiento en entrenamiento y test por la mejor configuración\n",
    "prediccionesTrain = gridSearch_pipe.predict(X_train)\n",
    "prediccionesTest = gridSearch_pipe.predict(X_test)\n",
    "accTrain = metrics.accuracy_score(y_train,prediccionesTrain)*100\n",
    "accTest =  metrics.accuracy_score(y_test,prediccionesTest)*100"
   ]
  },
  {
   "cell_type": "code",
   "execution_count": 48,
   "metadata": {
    "deletable": false,
    "editable": false,
    "nbgrader": {
     "cell_type": "code",
     "checksum": "42a7348261d426140ea6402cbe7938f5",
     "grade": true,
     "grade_id": "cell-022f61cda93103ea",
     "locked": true,
     "points": 2,
     "schema_version": 3,
     "solution": false,
     "task": false
    }
   },
   "outputs": [
    {
     "name": "stdout",
     "output_type": "stream",
     "text": [
      "1 test passed.\n",
      "1 test passed.\n"
     ]
    }
   ],
   "source": [
    "# ESTA CELDA DARÁ ERROR SI EL RESULTADO NO ES CORRECTO\n",
    "    # EN CASO CONTRARIO NO TENDRÁ SALIDA\n",
    "Test.assertEquals(round(accTrain, 2), 100.00, 'Valor de accuracy en train incorrecto')\n",
    "Test.assertEquals(round(accTest, 2), 85.71, 'Valor de accuracy en test incorrecto')"
   ]
  },
  {
   "cell_type": "code",
   "execution_count": 49,
   "metadata": {
    "deletable": false,
    "editable": false,
    "nbgrader": {
     "cell_type": "code",
     "checksum": "a17b932978d0178d509530e529250252",
     "grade": true,
     "grade_id": "cell-34bb3d1c0c7142e5",
     "locked": true,
     "points": 2,
     "schema_version": 3,
     "solution": false,
     "task": false
    }
   },
   "outputs": [
    {
     "name": "stdout",
     "output_type": "stream",
     "text": [
      "1 test passed.\n",
      "1 test failed. Mejor configuración incorrecta\n"
     ]
    },
    {
     "name": "stderr",
     "output_type": "stream",
     "text": [
      "/home/wyryby/anaconda3/envs/py37machlearn/lib/python3.7/site-packages/numpy/core/fromnumeric.py:56: FutureWarning: \n",
      "The current behaviour of 'Series.argmax' is deprecated, use 'idxmax'\n",
      "instead.\n",
      "The behavior of 'argmax' will be corrected to return the positional\n",
      "maximum in the future. For now, use 'series.values.argmax' or\n",
      "'np.argmax(np.array(values))' to get the position of the maximum\n",
      "row.\n",
      "  return getattr(obj, method)(*args, **kwds)\n"
     ]
    },
    {
     "ename": "Exception",
     "evalue": "Mejor configuración incorrecta",
     "output_type": "error",
     "traceback": [
      "\u001b[0;31m---------------------------------------------------------------------------\u001b[0m",
      "\u001b[0;31mException\u001b[0m                                 Traceback (most recent call last)",
      "\u001b[0;32m<ipython-input-49-43f8c2ddbab6>\u001b[0m in \u001b[0;36m<module>\u001b[0;34m\u001b[0m\n\u001b[1;32m      3\u001b[0m \u001b[0mindice\u001b[0m \u001b[0;34m=\u001b[0m \u001b[0mnp\u001b[0m\u001b[0;34m.\u001b[0m\u001b[0margmax\u001b[0m\u001b[0;34m(\u001b[0m\u001b[0mdiccionarioResultados\u001b[0m\u001b[0;34m[\u001b[0m\u001b[0;34m'mean_test_score'\u001b[0m\u001b[0;34m]\u001b[0m\u001b[0;34m)\u001b[0m\u001b[0;34m\u001b[0m\u001b[0;34m\u001b[0m\u001b[0m\n\u001b[1;32m      4\u001b[0m \u001b[0mTest\u001b[0m\u001b[0;34m.\u001b[0m\u001b[0massertEquals\u001b[0m\u001b[0;34m(\u001b[0m\u001b[0mround\u001b[0m\u001b[0;34m(\u001b[0m\u001b[0mnp\u001b[0m\u001b[0;34m.\u001b[0m\u001b[0mmax\u001b[0m\u001b[0;34m(\u001b[0m\u001b[0mdiccionarioResultados\u001b[0m\u001b[0;34m[\u001b[0m\u001b[0;34m'mean_test_score'\u001b[0m\u001b[0;34m]\u001b[0m\u001b[0;34m)\u001b[0m\u001b[0;34m,\u001b[0m \u001b[0;36m4\u001b[0m\u001b[0;34m)\u001b[0m\u001b[0;34m,\u001b[0m \u001b[0;36m0.8471\u001b[0m\u001b[0;34m,\u001b[0m \u001b[0;34m\"Accuracy de la mejor configuración incorrecto\"\u001b[0m\u001b[0;34m)\u001b[0m\u001b[0;34m\u001b[0m\u001b[0;34m\u001b[0m\u001b[0m\n\u001b[0;32m----> 5\u001b[0;31m \u001b[0mTest\u001b[0m\u001b[0;34m.\u001b[0m\u001b[0massertEquals\u001b[0m\u001b[0;34m(\u001b[0m\u001b[0mdiccionarioResultados\u001b[0m\u001b[0;34m[\u001b[0m\u001b[0;34m'params'\u001b[0m\u001b[0;34m]\u001b[0m\u001b[0;34m[\u001b[0m\u001b[0mindice\u001b[0m\u001b[0;34m]\u001b[0m\u001b[0;34m,\u001b[0m \u001b[0;34m{\u001b[0m\u001b[0;34m'KNN__n_neighbors'\u001b[0m\u001b[0;34m:\u001b[0m \u001b[0;36m1\u001b[0m\u001b[0;34m,\u001b[0m \u001b[0;34m'KNN__p'\u001b[0m\u001b[0;34m:\u001b[0m \u001b[0;36m3\u001b[0m\u001b[0;34m,\u001b[0m \u001b[0;34m'KNN__weights'\u001b[0m\u001b[0;34m:\u001b[0m \u001b[0;34m'uniform'\u001b[0m\u001b[0;34m,\u001b[0m \u001b[0;34m't_test__K'\u001b[0m\u001b[0;34m:\u001b[0m \u001b[0;36m30\u001b[0m\u001b[0;34m}\u001b[0m\u001b[0;34m,\u001b[0m \u001b[0;34m\"Mejor configuración incorrecta\"\u001b[0m\u001b[0;34m)\u001b[0m\u001b[0;34m\u001b[0m\u001b[0;34m\u001b[0m\u001b[0m\n\u001b[0m",
      "\u001b[0;32m~/Documentos/Mineria/Practicas/Mineria-de-Datos/Practica7/test_helper.py\u001b[0m in \u001b[0;36massertEquals\u001b[0;34m(cls, var, val, msg)\u001b[0m\n\u001b[1;32m     37\u001b[0m   \u001b[0;34m@\u001b[0m\u001b[0mclassmethod\u001b[0m\u001b[0;34m\u001b[0m\u001b[0;34m\u001b[0m\u001b[0m\n\u001b[1;32m     38\u001b[0m   \u001b[0;32mdef\u001b[0m \u001b[0massertEquals\u001b[0m\u001b[0;34m(\u001b[0m\u001b[0mcls\u001b[0m\u001b[0;34m,\u001b[0m \u001b[0mvar\u001b[0m\u001b[0;34m,\u001b[0m \u001b[0mval\u001b[0m\u001b[0;34m,\u001b[0m \u001b[0mmsg\u001b[0m\u001b[0;34m=\u001b[0m\u001b[0;34m\"\"\u001b[0m\u001b[0;34m)\u001b[0m\u001b[0;34m:\u001b[0m\u001b[0;34m\u001b[0m\u001b[0;34m\u001b[0m\u001b[0m\n\u001b[0;32m---> 39\u001b[0;31m     \u001b[0mcls\u001b[0m\u001b[0;34m.\u001b[0m\u001b[0massertTrue\u001b[0m\u001b[0;34m(\u001b[0m\u001b[0mvar\u001b[0m \u001b[0;34m==\u001b[0m \u001b[0mval\u001b[0m\u001b[0;34m,\u001b[0m \u001b[0mmsg\u001b[0m\u001b[0;34m)\u001b[0m\u001b[0;34m\u001b[0m\u001b[0;34m\u001b[0m\u001b[0m\n\u001b[0m\u001b[1;32m     40\u001b[0m \u001b[0;34m\u001b[0m\u001b[0m\n\u001b[1;32m     41\u001b[0m   \u001b[0;34m@\u001b[0m\u001b[0mclassmethod\u001b[0m\u001b[0;34m\u001b[0m\u001b[0;34m\u001b[0m\u001b[0m\n",
      "\u001b[0;32m~/Documentos/Mineria/Practicas/Mineria-de-Datos/Practica7/test_helper.py\u001b[0m in \u001b[0;36massertTrue\u001b[0;34m(cls, result, msg)\u001b[0m\n\u001b[1;32m     28\u001b[0m     \u001b[0;32melse\u001b[0m\u001b[0;34m:\u001b[0m\u001b[0;34m\u001b[0m\u001b[0;34m\u001b[0m\u001b[0m\n\u001b[1;32m     29\u001b[0m       \u001b[0mprint\u001b[0m\u001b[0;34m(\u001b[0m\u001b[0;34m\"1 test failed. \"\u001b[0m \u001b[0;34m+\u001b[0m \u001b[0mmsg\u001b[0m\u001b[0;34m)\u001b[0m\u001b[0;34m\u001b[0m\u001b[0;34m\u001b[0m\u001b[0m\n\u001b[0;32m---> 30\u001b[0;31m       \u001b[0;32mraise\u001b[0m \u001b[0mException\u001b[0m\u001b[0;34m(\u001b[0m\u001b[0mmsg\u001b[0m\u001b[0;34m)\u001b[0m\u001b[0;34m\u001b[0m\u001b[0;34m\u001b[0m\u001b[0m\n\u001b[0m\u001b[1;32m     31\u001b[0m       \u001b[0;31m# if cls.failFast:\u001b[0m\u001b[0;34m\u001b[0m\u001b[0;34m\u001b[0m\u001b[0;34m\u001b[0m\u001b[0m\n\u001b[1;32m     32\u001b[0m         \u001b[0;31m# if cls.private:\u001b[0m\u001b[0;34m\u001b[0m\u001b[0;34m\u001b[0m\u001b[0;34m\u001b[0m\u001b[0m\n",
      "\u001b[0;31mException\u001b[0m: Mejor configuración incorrecta"
     ]
    }
   ],
   "source": [
    "# ESTA CELDA DARÁ ERROR SI EL RESULTADO NO ES CORRECTO\n",
    "    # EN CASO CONTRARIO NO TENDRÁ SALIDA\n",
    "indice = np.argmax(diccionarioResultados['mean_test_score'])\n",
    "Test.assertEquals(round(np.max(diccionarioResultados['mean_test_score']), 4), 0.8471, \"Accuracy de la mejor configuración incorrecto\")\n",
    "Test.assertEquals(diccionarioResultados['params'][indice], {'KNN__n_neighbors': 1, 'KNN__p': 3, 'KNN__weights': 'uniform', 't_test__K': 30}, \"Mejor configuración incorrecta\")"
   ]
  },
  {
   "cell_type": "markdown",
   "metadata": {
    "deletable": false,
    "editable": false,
    "nbgrader": {
     "cell_type": "markdown",
     "checksum": "db8c945e5e44f14caf859c96be02d105",
     "grade": false,
     "grade_id": "cell-56c1f89a7e0874ae",
     "locked": true,
     "schema_version": 3,
     "solution": false
    }
   },
   "source": [
    "Crea una Pipeline que aplique PCA utilizando 'full' como valor del parámetro *svd_solver* y el clasificador de los K vecinos más cercanos. Obtened la mejor configuración de dicha Pipeline al examinar los mismos valores que en el caso anterior para KNN y los valores 0.85, 0.88, 0.92, 0.95 y 0.97 como porcentaje de información a mantener al aplicar PCA.\n",
    "\n",
    "NOTAS:\n",
    "* Llamad al componente de PCA *pca* y al clasificador KNN *KNN*."
   ]
  },
  {
   "cell_type": "code",
   "execution_count": 56,
   "metadata": {
    "deletable": false,
    "nbgrader": {
     "cell_type": "code",
     "checksum": "8820eef7256c05b2e43fb6410b1287a2",
     "grade": false,
     "grade_id": "cell-0dc4f26ae8c517a0",
     "locked": false,
     "schema_version": 3,
     "solution": true
    }
   },
   "outputs": [],
   "source": [
    "from sklearn.decomposition import PCA\n",
    "# Se crea la Pipeline con las fases deseadas\n",
    "clf_compuestoPCA = pipeline.Pipeline([('pca', PCA(svd_solver='full')), ('KNN', neighbors.KNeighborsClassifier())])\n",
    "# Se crea el grid de parámetros a \"optimizar\"\n",
    "parameters = {'pca__n_components':[0.85, 0.88 ,0.92, 0.95, 0.97],  'KNN__n_neighbors':[1, 3, 5, 7, 9], 'KNN__weights': ['uniform','distance'], 'KNN__p': [1,2, 1.5 ,3]}\n",
    "# Se llama al constructor de GridSearchCV para que genere todas las combinaciones ce los parámetros definidos anteriormente\n",
    "gridSearch_pipe = model_selection.GridSearchCV(clf_compuestoPCA, parameters, n_jobs=-1, cv=10)\n",
    "# Se realiza el aprendizaje de todos los clasificadores considerados (todas las configuraciones)\n",
    "gridSearch_pipe.fit(X_train,y_train)\n",
    "# Se muestra la mejor configuración junto con su rendimiento\n",
    "\n",
    "diccionarioResultados = pd.DataFrame(gridSearch_pipe.cv_results_)\n",
    "\n",
    "prediccionesTrain = gridSearch_pipe.predict(X_train)\n",
    "prediccionesTest = gridSearch_pipe.predict(X_test)\n",
    "accTrain = metrics.accuracy_score(y_train,prediccionesTrain)*100\n",
    "accTest =  metrics.accuracy_score(y_test,prediccionesTest)*100"
   ]
  },
  {
   "cell_type": "code",
   "execution_count": 57,
   "metadata": {
    "deletable": false,
    "editable": false,
    "nbgrader": {
     "cell_type": "code",
     "checksum": "900de164aecedb5f233a0ed64b45a435",
     "grade": true,
     "grade_id": "cell-8f072d4d6c98c7b0",
     "locked": true,
     "points": 2,
     "schema_version": 3,
     "solution": false,
     "task": false
    }
   },
   "outputs": [
    {
     "name": "stdout",
     "output_type": "stream",
     "text": [
      "1 test passed.\n",
      "1 test passed.\n"
     ]
    }
   ],
   "source": [
    "# ESTA CELDA DARÁ ERROR SI EL RESULTADO NO ES CORRECTO\n",
    "    # EN CASO CONTRARIO NO TENDRÁ SALIDA\n",
    "Test.assertEquals(round(accTrain, 2), 100.00, 'Valor de accuracy en train incorrecto')\n",
    "Test.assertEquals(round(accTest, 2), 76.19, 'Valor de accuracy en test incorrecto')"
   ]
  },
  {
   "cell_type": "code",
   "execution_count": 58,
   "metadata": {
    "deletable": false,
    "editable": false,
    "nbgrader": {
     "cell_type": "code",
     "checksum": "997e288901b6797f189f15d2d3059d8f",
     "grade": true,
     "grade_id": "cell-367edc46dcecdd24",
     "locked": true,
     "points": 2,
     "schema_version": 3,
     "solution": false,
     "task": false
    }
   },
   "outputs": [
    {
     "name": "stdout",
     "output_type": "stream",
     "text": [
      "1 test passed.\n",
      "1 test passed.\n"
     ]
    },
    {
     "name": "stderr",
     "output_type": "stream",
     "text": [
      "/home/wyryby/anaconda3/envs/py37machlearn/lib/python3.7/site-packages/numpy/core/fromnumeric.py:56: FutureWarning: \n",
      "The current behaviour of 'Series.argmax' is deprecated, use 'idxmax'\n",
      "instead.\n",
      "The behavior of 'argmax' will be corrected to return the positional\n",
      "maximum in the future. For now, use 'series.values.argmax' or\n",
      "'np.argmax(np.array(values))' to get the position of the maximum\n",
      "row.\n",
      "  return getattr(obj, method)(*args, **kwds)\n"
     ]
    }
   ],
   "source": [
    "# ESTA CELDA DARÁ ERROR SI EL RESULTADO NO ES CORRECTO\n",
    "    # EN CASO CONTRARIO NO TENDRÁ SALIDA\n",
    "indice = np.argmax(diccionarioResultados['mean_test_score'])\n",
    "Test.assertEquals(round(np.max(diccionarioResultados['mean_test_score']), 4), 0.8438, \"Accuracy de la mejor configuración incorrecto\")\n",
    "Test.assertEquals(diccionarioResultados['params'][indice], {'KNN__n_neighbors': 3, 'KNN__p': 3, 'KNN__weights': 'distance', 'pca__n_components': 0.88}, \"Mejor configuración incorrecta\")"
   ]
  }
 ],
 "metadata": {
  "anaconda-cloud": {},
  "kernelspec": {
   "display_name": "Python 3",
   "language": "python",
   "name": "python3"
  },
  "language_info": {
   "codemirror_mode": {
    "name": "ipython",
    "version": 3
   },
   "file_extension": ".py",
   "mimetype": "text/x-python",
   "name": "python",
   "nbconvert_exporter": "python",
   "pygments_lexer": "ipython3",
   "version": "3.7.4"
  }
 },
 "nbformat": 4,
 "nbformat_minor": 1
}
