{
 "cells": [
  {
   "cell_type": "markdown",
   "metadata": {},
   "source": [
    "# Práctica Final: Star Type Classification / NASA\n",
    "<br><br><br>\n",
    " <div class=\"row\">\n",
    "  <div class=\"column\">\n",
    "    <img src=\"star.jpeg\" alt=\"Snow\" style=\"width:100%\">\n",
    "  </div>\n",
    "</div> \n",
    "<br><br><br><br>"
   ]
  },
  {
   "cell_type": "markdown",
   "metadata": {},
   "source": [
    "## Índice\n",
    "\n",
    "- [Importación de librerías](#Importación-de-librerías)\n",
    "- [Lectura de datos](#Lectura-de-datos)\n",
    "- [Preprocesamiento](#Preprocesamiento)\n",
    "    - [Análisis y eliminación de outliers](#Análisis-y-eliminación-de-outliers)\n",
    "    - [Estandarización](#Estandarización)\n",
    "    - [Imputación de valores perdidos](#Imputación-de-valores-perdidos)\n",
    "    - [Codificación ordinal](#Codificación-ordinal)\n",
    "- [Entrenamiento y validación de modelos](#Entrenamiento-y-validación-de-modelos)\n",
    "    - [Resultados sin Estandarización ni detección de outliers](#Resultados-sin-Estandarización-ni-detección-de-outliers)\n",
    "        - [KNN](#KNN)\n",
    "        - [Árboles de Decisión](#Árboles-de-Decisión)\n",
    "        - [Random Forest](#Random-Forest)\n",
    "        - [Gráfica de resultados](#Gráfica-de-resultados)\n",
    "    - [Resultados con Estandarización y detección de outliers](#Resultados-sin-Estandarización-ni-detección-de-outliers)\n",
    "        - [KNN](#KNN)\n",
    "        - [Árboles de Decisión](#Árboles-de-Decisión)\n",
    "        - [Random Forest](#Random-Forest)\n",
    "        - [Gráfica de resultados](#Gráfica-de-resultados)"
   ]
  },
  {
   "cell_type": "markdown",
   "metadata": {},
   "source": [
    "# Importación de librerías"
   ]
  },
  {
   "cell_type": "code",
   "execution_count": 1,
   "metadata": {},
   "outputs": [],
   "source": [
    "# %load ../../standard_import.txt\n",
    "import pandas as pd\n",
    "import numpy as np\n",
    "import matplotlib.pyplot as plt\n",
    "from sklearn.ensemble import RandomForestClassifier\n",
    "from sklearn import metrics, model_selection, neighbors,preprocessing\n",
    "from sklearn.linear_model import LinearRegression\n",
    "from sklearn import tree as TREE\n",
    "from sklearn.ensemble import RandomForestClassifier\n",
    "\n",
    "pd.set_option('display.notebook_repr_html', False)\n",
    "pd.set_option('display.max_columns', None)\n",
    "pd.set_option('display.max_rows', 150)\n",
    "pd.set_option('display.max_seq_items', None)\n",
    " \n",
    "#%config InlineBackend.figure_formats = {'pdf',}\n",
    "%matplotlib inline"
   ]
  },
  {
   "cell_type": "markdown",
   "metadata": {},
   "source": [
    "# Lectura de datos\n",
    "\n",
    "Lectura de datos almacenados en el archivo Stars.csv. La variable a predecir se llama Type, que puede ser de seis tipos diferentes:\n",
    " <ul>\n",
    "  <li>Red Dwarf - 0</li>\n",
    "  <li>Brown Dwarf - 1</li>\n",
    "  <li>White Dwarf - 2</li>\n",
    "  <li>Main Sequence - 3</li>\n",
    "  <li>Super Giants - 4</li> \n",
    "  <li>Hyper Giants - 5</li>\n",
    "</ul> \n",
    "\n",
    "Existen 6 variables de entrada, 4 de ellas numéricas y las otras dos categóricas, a saber:\n",
    " <ul>\n",
    "  <li>Temperatura: Temperatura media de la estrella en Kelvins (0 K  = -273,1 °C)</li>\n",
    "  <li>L: Luminosidad de la estrella</li>\n",
    "  <li>R: Radio de la estrella</li>\n",
    "  <li>A-M: Magnitud absoluta de la estrella <href>https://es.wikipedia.org/wiki/Magnitud_absoluta</href></li>\n",
    "  <li>Color: Color de la estrella</li> \n",
    "  <li>Spectral_Class: Clase espectral Morgan–Keenan (MK) <href>https://es.wikipedia.org/wiki/Clasificaci%C3%B3n_estelar</href></li>\n",
    "</ul> \n",
    "<br>\n",
    "La variable de salida tiene el nombre de *Type*\n",
    "\n",
    "Vamos a generar las variables X (información de entrada) e y (información de salida).\n",
    "</br>"
   ]
  },
  {
   "cell_type": "code",
   "execution_count": 2,
   "metadata": {},
   "outputs": [],
   "source": [
    "import category_encoders as ce\n",
    "stars = pd.read_csv('Stars.csv',na_values='NONE')\n",
    "\n",
    "#División de variables\n",
    "y =  stars.Type.copy()\n",
    "X = stars.drop(['Type'], axis=1).copy()\n",
    "\n",
    "#Nombre de variables\n",
    "varEntrada = X.columns.values\n",
    "varSalida = 'Type'"
   ]
  },
  {
   "cell_type": "markdown",
   "metadata": {},
   "source": [
    "# Preprocesamiento"
   ]
  },
  {
   "cell_type": "markdown",
   "metadata": {},
   "source": [
    "## Análisis y eliminación de outliers\n",
    "Una vez leidos los datos, empezamos el preprocesamiento de los mismos. Para ello, vamos a analizar y eliminar posibles outliers \n",
    "en los datos."
   ]
  },
  {
   "cell_type": "markdown",
   "metadata": {},
   "source": [
    "Como se trata de un problema de clasificación, analizaremos los outliers por clases. Para ello, dividimos el dataframe por clases.\n"
   ]
  },
  {
   "cell_type": "code",
   "execution_count": 3,
   "metadata": {},
   "outputs": [],
   "source": [
    "#Dividimos el dataFrame en clases\n",
    "clase0 = X[stars['Type']==0]\n",
    "clase1 = X[stars['Type']==1]\n",
    "clase2 = X[stars['Type']==2]\n",
    "clase3 = X[stars['Type']==3]\n",
    "clase4 = X[stars['Type']==4]\n",
    "clase5 = X[stars['Type']==5]\n",
    "\n",
    "\n",
    "clases = [clase0,clase1,clase2,clase3,clase4,clase5]"
   ]
  },
  {
   "cell_type": "markdown",
   "metadata": {},
   "source": [
    "Ahora vamos a mostrar graficamente los datos para poder visualizar mejor los outliers. Para ello, creamos la función *mostrarOutliers* que muestra un hisograma y un boxplot de cada variable."
   ]
  },
  {
   "cell_type": "code",
   "execution_count": 4,
   "metadata": {},
   "outputs": [],
   "source": [
    "def mostrarOutliers(X,i):\n",
    "    X['Temperature']\n",
    "    plt.figure(figsize=(16,10))\n",
    "    fig, ((ax1, ax2, ax3, ax4), (ax5, ax6, ax7, ax8)) = plt.subplots(2, 4)\n",
    "    fig.suptitle('Clase ' + i)\n",
    "    ax1.hist(X['Temperature'],bins=20)\n",
    "    ax1.grid(True)\n",
    "    ax2.hist(X['L'],bins=20)\n",
    "    ax2.grid(True)\n",
    "    ax3.hist(X['R'],bins=20)\n",
    "    ax3.grid(True)\n",
    "    ax4.hist(X['A_M'],bins=20)\n",
    "    ax4.grid(True)\n",
    "    ax5.boxplot(X['Temperature'])\n",
    "    ax5.grid(True)\n",
    "    ax6.boxplot(X['L'])\n",
    "    ax6.grid(True)\n",
    "    ax7.boxplot(X['R'])\n",
    "    ax7.grid(True)\n",
    "    ax8.boxplot(X['A_M'])\n",
    "    ax8.grid(True)\n"
   ]
  },
  {
   "cell_type": "markdown",
   "metadata": {},
   "source": [
    "Introducimos las clases en la función"
   ]
  },
  {
   "cell_type": "code",
   "execution_count": 5,
   "metadata": {},
   "outputs": [
    {
     "data": {
      "text/plain": [
       "<Figure size 1152x720 with 0 Axes>"
      ]
     },
     "metadata": {},
     "output_type": "display_data"
    },
    {
     "data": {
      "image/png": "[encoded data removed]",
      "text/plain": [
       "<Figure size 432x288 with 8 Axes>"
      ]
     },
     "metadata": {
      "needs_background": "light"
     },
     "output_type": "display_data"
    },
    {
     "data": {
      "text/plain": [
       "<Figure size 1152x720 with 0 Axes>"
      ]
     },
     "metadata": {},
     "output_type": "display_data"
    },
    {
     "data": {
      "image/png": "[encoded data removed]",
      "text/plain": [
       "<Figure size 432x288 with 8 Axes>"
      ]
     },
     "metadata": {
      "needs_background": "light"
     },
     "output_type": "display_data"
    },
    {
     "data": {
      "text/plain": [
       "<Figure size 1152x720 with 0 Axes>"
      ]
     },
     "metadata": {},
     "output_type": "display_data"
    },
    {
     "data": {
      "image/png": "[encoded data removed]",
      "text/plain": [
       "<Figure size 432x288 with 8 Axes>"
      ]
     },
     "metadata": {
      "needs_background": "light"
     },
     "output_type": "display_data"
    },
    {
     "data": {
      "text/plain": [
       "<Figure size 1152x720 with 0 Axes>"
      ]
     },
     "metadata": {},
     "output_type": "display_data"
    },
    {
     "data": {
      "image/png": "[encoded data removed]",
      "text/plain": [
       "<Figure size 432x288 with 8 Axes>"
      ]
     },
     "metadata": {
      "needs_background": "light"
     },
     "output_type": "display_data"
    },
    {
     "data": {
      "text/plain": [
       "<Figure size 1152x720 with 0 Axes>"
      ]
     },
     "metadata": {},
     "output_type": "display_data"
    },
    {
     "data": {
      "image/png": "[encoded data removed]",
      "text/plain": [
       "<Figure size 432x288 with 8 Axes>"
      ]
     },
     "metadata": {
      "needs_background": "light"
     },
     "output_type": "display_data"
    },
    {
     "data": {
      "text/plain": [
       "<Figure size 1152x720 with 0 Axes>"
      ]
     },
     "metadata": {},
     "output_type": "display_data"
    },
    {
     "data": {
      "image/png": "[encoded data removed]",
      "text/plain": [
       "<Figure size 432x288 with 8 Axes>"
      ]
     },
     "metadata": {
      "needs_background": "light"
     },
     "output_type": "display_data"
    }
   ],
   "source": [
    "i=0\n",
    "for clase in clases:\n",
    "    mostrarOutliers(clase,str(i))\n",
    "    i = i+1"
   ]
  },
  {
   "cell_type": "markdown",
   "metadata": {},
   "source": [
    "Como podemos observar, exiten una serie de outliers por lo que vamos a proceder a eliminarlos. Para ello, hacemos uso de la función *deteccionOutliers_MeanStd*."
   ]
  },
  {
   "cell_type": "code",
   "execution_count": 6,
   "metadata": {},
   "outputs": [],
   "source": [
    "# Para calcular la media y la desviación debéis utilizar los métodos mean y std, respectivamente, y determinar el eje apropiado\n",
    "def deteccionOutliers_MeanStd(dataFrame, k=1.5):\n",
    "    mean = dataFrame.mean()\n",
    "    std = dataFrame.std()\n",
    "    return np.logical_or(dataFrame > mean + k * std, dataFrame < mean - k * std).any(1)"
   ]
  },
  {
   "cell_type": "code",
   "execution_count": 7,
   "metadata": {},
   "outputs": [],
   "source": [
    "X_sinOut_ms = X.copy() #Inicilizamos las variables\n",
    "y_sinOut_ms = y.copy() #Inicializamos la variable de salida\n",
    "\n",
    "for clase in clases:\n",
    "    # obtenemos el listado de booleanos que representa la presencia de outliers   \n",
    "    outliers_ms= deteccionOutliers_MeanStd(clase.iloc[:,0:4], k=3) #lo hacemos solo para las variables numericas\n",
    "    \n",
    "    #Eliminamos los outliers hallados\n",
    "    X_sinOut_ms = X_sinOut_ms.drop(index=outliers_ms[outliers_ms].index)\n",
    "    y_sinOut_ms = y_sinOut_ms.drop(index=outliers_ms[outliers_ms].index)"
   ]
  },
  {
   "cell_type": "code",
   "execution_count": 8,
   "metadata": {},
   "outputs": [
    {
     "name": "stdout",
     "output_type": "stream",
     "text": [
      "     Temperature              L          R    A_M  Color Spectral_Class\n",
      "0         3068.0       0.002400     0.1700  16.12    Red              M\n",
      "1         3042.0       0.000500     0.1542  16.60    Red              M\n",
      "2         2600.0            NaN     0.1020  18.70    Red              M\n",
      "3         2800.0       0.000200     0.1600  16.65    Red              M\n",
      "4         1939.0       0.000138     0.1030  20.06    Red              M\n",
      "..           ...            ...        ...    ...    ...            ...\n",
      "235      38940.0  374830.000000  1356.0000  -9.93   Blue              O\n",
      "236          NaN  834042.000000  1194.0000 -10.63   Blue              O\n",
      "237       8829.0  537493.000000  1423.0000 -10.73  White              A\n",
      "238       9235.0  404940.000000  1112.0000 -11.23  White              A\n",
      "239      37882.0  294903.000000  1783.0000  -7.80   Blue              O\n",
      "\n",
      "[240 rows x 6 columns]\n",
      "     Temperature             L          R    A_M  Color Spectral_Class\n",
      "0         3068.0       0.00240     0.1700  16.12    Red              M\n",
      "1         3042.0       0.00050     0.1542  16.60    Red              M\n",
      "2         2600.0           NaN     0.1020  18.70    Red              M\n",
      "3         2800.0       0.00020     0.1600  16.65    Red              M\n",
      "5         2840.0       0.00065     0.1100  16.98    Red              M\n",
      "..           ...           ...        ...    ...    ...            ...\n",
      "235      38940.0  374830.00000  1356.0000  -9.93   Blue              O\n",
      "236          NaN  834042.00000  1194.0000 -10.63   Blue              O\n",
      "237       8829.0  537493.00000  1423.0000 -10.73  White              A\n",
      "238       9235.0  404940.00000  1112.0000 -11.23  White              A\n",
      "239      37882.0  294903.00000  1783.0000  -7.80   Blue              O\n",
      "\n",
      "[235 rows x 6 columns]\n"
     ]
    }
   ],
   "source": [
    "#Podemos observar como, entre otros, el ejemplo 4 ha sido eliminado por un outlier en la variable temperatura\n",
    "print(X) \n",
    "print(X_sinOut_ms)"
   ]
  },
  {
   "cell_type": "markdown",
   "metadata": {},
   "source": [
    "## Estandarización\n",
    "Una vez elimnados los outliers, procedemos a la estandarización de los datos. Para ello creamos la función *estandarizarDatos* para estandarizar datos tanto con outliers como sin ellos para, posteriormente, poder constatar la eficacia del preprocesamiento."
   ]
  },
  {
   "cell_type": "code",
   "execution_count": 9,
   "metadata": {},
   "outputs": [],
   "source": [
    "def estandarizarDatos(X):\n",
    "    normalizarPorMedia = preprocessing.StandardScaler()\n",
    "    datosEstandarizados = normalizarPorMedia.fit_transform(X.iloc[:,0:4])\n",
    "    return pd.DataFrame(np.concatenate([datosEstandarizados,X.iloc[:,4:]],axis=1),columns=X.columns)"
   ]
  },
  {
   "cell_type": "markdown",
   "metadata": {},
   "source": [
    "Ahora estandarizamos los datos con outliers y sin outliers por media y desviación estandar."
   ]
  },
  {
   "cell_type": "code",
   "execution_count": 10,
   "metadata": {},
   "outputs": [],
   "source": [
    "X_Est = estandarizarDatos(X)\n",
    "X_sinOut_ms_Est = estandarizarDatos(X_sinOut_ms)"
   ]
  },
  {
   "cell_type": "markdown",
   "metadata": {},
   "source": [
    "Mostramos ahora los histogramas y los bloxpots con los datos sin outliers"
   ]
  },
  {
   "cell_type": "code",
   "execution_count": 11,
   "metadata": {},
   "outputs": [
    {
     "data": {
      "text/plain": [
       "<Figure size 1152x720 with 0 Axes>"
      ]
     },
     "metadata": {},
     "output_type": "display_data"
    },
    {
     "data": {
      "image/png": "[encoded data removed]",
      "text/plain": [
       "<Figure size 432x288 with 8 Axes>"
      ]
     },
     "metadata": {
      "needs_background": "light"
     },
     "output_type": "display_data"
    },
    {
     "data": {
      "text/plain": [
       "<Figure size 1152x720 with 0 Axes>"
      ]
     },
     "metadata": {},
     "output_type": "display_data"
    },
    {
     "data": {
      "image/png": "[encoded data removed]",
      "text/plain": [
       "<Figure size 432x288 with 8 Axes>"
      ]
     },
     "metadata": {
      "needs_background": "light"
     },
     "output_type": "display_data"
    },
    {
     "data": {
      "text/plain": [
       "<Figure size 1152x720 with 0 Axes>"
      ]
     },
     "metadata": {},
     "output_type": "display_data"
    },
    {
     "data": {
      "image/png": "[encoded data removed]",
      "text/plain": [
       "<Figure size 432x288 with 8 Axes>"
      ]
     },
     "metadata": {
      "needs_background": "light"
     },
     "output_type": "display_data"
    },
    {
     "data": {
      "text/plain": [
       "<Figure size 1152x720 with 0 Axes>"
      ]
     },
     "metadata": {},
     "output_type": "display_data"
    },
    {
     "data": {
      "image/png": "[encoded data removed]",
      "text/plain": [
       "<Figure size 432x288 with 8 Axes>"
      ]
     },
     "metadata": {
      "needs_background": "light"
     },
     "output_type": "display_data"
    },
    {
     "data": {
      "text/plain": [
       "<Figure size 1152x720 with 0 Axes>"
      ]
     },
     "metadata": {},
     "output_type": "display_data"
    },
    {
     "data": {
      "image/png": "[encoded data removed]",
      "text/plain": [
       "<Figure size 432x288 with 8 Axes>"
      ]
     },
     "metadata": {
      "needs_background": "light"
     },
     "output_type": "display_data"
    },
    {
     "data": {
      "text/plain": [
       "<Figure size 1152x720 with 0 Axes>"
      ]
     },
     "metadata": {},
     "output_type": "display_data"
    },
    {
     "data": {
      "image/png": "[encoded data removed]",
      "text/plain": [
       "<Figure size 432x288 with 8 Axes>"
      ]
     },
     "metadata": {
      "needs_background": "light"
     },
     "output_type": "display_data"
    }
   ],
   "source": [
    "clase0_SinOutliers = X_sinOut_ms[y_sinOut_ms.values==0]\n",
    "clase1_SinOutliers = X_sinOut_ms[y_sinOut_ms.values==1]\n",
    "clase2_SinOutliers = X_sinOut_ms[y_sinOut_ms.values==2]\n",
    "clase3_SinOutliers = X_sinOut_ms[y_sinOut_ms.values==3]\n",
    "clase4_SinOutliers = X_sinOut_ms[y_sinOut_ms.values==4]\n",
    "clase5_SinOutliers = X_sinOut_ms[y_sinOut_ms.values==5]\n",
    "\n",
    "clases = [clase0_SinOutliers,clase1_SinOutliers,clase2_SinOutliers,clase3_SinOutliers,clase4_SinOutliers,clase5_SinOutliers]\n",
    "\n",
    "i=0\n",
    "for clase in clases:\n",
    "    mostrarOutliers(clase,str(i))\n",
    "    i = i+1"
   ]
  },
  {
   "cell_type": "markdown",
   "metadata": {},
   "source": [
    "Podemos observar como varios outliers han sido eliminados con éxito."
   ]
  },
  {
   "cell_type": "markdown",
   "metadata": {},
   "source": [
    "## Imputación de valores perdidos\n",
    "En el star.csv existen varios valores nulos (NONE). Analizamos los posibles valores perdidos de las variables e imputamos \n",
    "los nuevos valores mediante *SimpleImputer*"
   ]
  },
  {
   "cell_type": "code",
   "execution_count": 30,
   "metadata": {},
   "outputs": [],
   "source": [
    "# Importamos las librerías SimpleImputer y ColumnTransformer\n",
    "from sklearn.impute import SimpleImputer\n",
    "from sklearn.compose import ColumnTransformer\n",
    "\n",
    "# Obtnemos las listas de variables categóricas y numéricas\n",
    "nombres_variables_numericas = X_sinOut_ms_Est.dtypes != object\n",
    "nombres_variables_categoricas = X_sinOut_ms_Est.dtypes == object\n",
    "\n",
    "# Las variables numéricas las imputamos con la media y las categóricas con la moda: creamos el objeto de ColumnTransformer\n",
    "t = [('num', SimpleImputer(strategy='mean'), nombres_variables_numericas), ('cat', SimpleImputer(strategy='most_frequent'), nombres_variables_categoricas)]\n",
    "preprocesamiento = ColumnTransformer(transformers = t)\n",
    "\n",
    "# Entrenamos e imputamos el método de preprocesamiento: imputación apropiada según el tipo de variable\n",
    "# Lo hacemos tanto para los datos estandarizados como para los originales\n",
    "X = preprocesamiento.fit_transform(X)\n",
    "X_sinOut_ms_Est = preprocesamiento.fit_transform(X_sinOut_ms_Est)"
   ]
  },
  {
   "cell_type": "markdown",
   "metadata": {},
   "source": [
    "Como el *ColumnTransformer* devuelve un array, lo convertimos en un dataframe mediante la siguente celda."
   ]
  },
  {
   "cell_type": "code",
   "execution_count": 31,
   "metadata": {},
   "outputs": [],
   "source": [
    "# Creamos un DataFrame a partir de stars_sin_missing\n",
    "X = pd.DataFrame(X,columns=varEntrada)\n",
    "X_sinOut_ms_Est = pd.DataFrame(X_sinOut_ms_Est,columns=varEntrada)"
   ]
  },
  {
   "cell_type": "markdown",
   "metadata": {},
   "source": [
    "## Codificación ordinal\n",
    "Realizamos ahora la división de las variables de entrada y salida y pasamos las variables categóricas a codificación ordinal"
   ]
  },
  {
   "cell_type": "code",
   "execution_count": 14,
   "metadata": {},
   "outputs": [],
   "source": [
    "#Codificacion ordinal\n",
    "myEncoder = ce.ordinal.OrdinalEncoder()\n",
    "X[[\"Spectral_Class\",\"Color\"]] = myEncoder.fit_transform(X[[\"Spectral_Class\",\"Color\"]]) - 1"
   ]
  },
  {
   "cell_type": "code",
   "execution_count": 15,
   "metadata": {},
   "outputs": [
    {
     "name": "stderr",
     "output_type": "stream",
     "text": [
      "C:\\Users\\Alain\\Anaconda3\\lib\\site-packages\\category_encoders\\utils.py:21: FutureWarning: is_categorical is deprecated and will be removed in a future version.  Use is_categorical_dtype instead\n",
      "  elif pd.api.types.is_categorical(cols):\n"
     ]
    }
   ],
   "source": [
    "X_sinOut_ms_Est[[\"Spectral_Class\",\"Color\"]] = myEncoder.fit_transform(X_sinOut_ms_Est[[\"Spectral_Class\",\"Color\"]]) - 1"
   ]
  },
  {
   "cell_type": "markdown",
   "metadata": {},
   "source": [
    "# Entrenamiento y validación de modelos\n",
    "Vamos a entrenar los modelos con diferente algoritmos y configuraciones, y para cada algoritmo vamos a quedarnos con el que mejor resultados muestre."
   ]
  },
  {
   "cell_type": "markdown",
   "metadata": {},
   "source": [
    "Comenzamos por crear los conjuntos de train y test mediante *train_test_split* tanto para los datos originales como para los estandarizados limpios de outliers."
   ]
  },
  {
   "cell_type": "code",
   "execution_count": 16,
   "metadata": {},
   "outputs": [],
   "source": [
    "X_train, X_test, y_train, y_test = model_selection.train_test_split(X, y.values, train_size=0.65,random_state=12)\n",
    "\n",
    "X_train_sinOut_Est, X_test_sinOut_Est, y_train_sinOut_Est, y_test_sinOut_Est = model_selection.train_test_split(\n",
    "    X_sinOut_ms_Est, y_sinOut_ms.values, train_size=0.70,random_state=187)"
   ]
  },
  {
   "cell_type": "code",
   "execution_count": 17,
   "metadata": {},
   "outputs": [],
   "source": [
    "def gridSearchKNN(X_,y_,tipoRendimiento):\n",
    "    modeloReg = neighbors.KNeighborsClassifier()\n",
    "    grid = {'n_neighbors': [1, 3, 5, 7, 9], 'weights': ['uniform', 'distance'], 'p': [1, 2, 1.5, 3]}\n",
    "    grid_search = model_selection.GridSearchCV(modeloReg,  grid, cv=10,scoring=tipoRendimiento)\n",
    "    \n",
    "    grid_search.fit(X_,y_)\n",
    "    \n",
    "    print(\"Medida Rendimiento \\033[1m'\",tipoRendimiento,'\\033[0m :',grid_search.best_score_)\n",
    "    print(\"Mejor configuracion encontrada: \",grid_search.best_params_)\n",
    "    return grid_search"
   ]
  },
  {
   "cell_type": "code",
   "execution_count": 18,
   "metadata": {},
   "outputs": [],
   "source": [
    "def gridSearchArbolDecision(X_train,y_train,tipoRendimiento):\n",
    "    grid = {'criterion': ['gini', 'entropy'], 'min_samples_split': [2, 3, 5, 10, 15], 'min_samples_leaf': [1, 2, 4]}\n",
    "    grid_search = model_selection.GridSearchCV(TREE.DecisionTreeClassifier(),grid,cv=10,scoring=tipoRendimiento)\n",
    "\n",
    "    grid_search.fit(X_train,y_train)\n",
    "    \n",
    "    print(\"Medida Rendimiento \\033[1m'\",tipoRendimiento,'\\033[0m :',grid_search.best_score_)\n",
    "    print(\"Mejor configuracion encontrada: \",grid_search.best_params_)\n",
    "    return grid_search"
   ]
  },
  {
   "cell_type": "code",
   "execution_count": 19,
   "metadata": {},
   "outputs": [],
   "source": [
    "def gridSearchRandomForest(X_train,y_train,tipoRendimiento):\n",
    "    param_grid = {'n_estimators': [10,50],\n",
    "                'max_depth': [5,10,None],\n",
    "                'min_samples_split': [2,10]}\n",
    "\n",
    "    grid_search = model_selection.GridSearchCV(RandomForestClassifier(),param_grid,scoring=tipoRendimiento,cv=10)\n",
    "    grid_search.fit(X_train,y_train)    \n",
    "    print(\"Medida Rendimiento \\033[1m'\",tipoRendimiento,'\\033[0m :',grid_search.best_score_)\n",
    "    print(\"Mejor configuracion encontrada: \",grid_search.best_params_)\n",
    "    return grid_search"
   ]
  },
  {
   "cell_type": "code",
   "execution_count": 20,
   "metadata": {},
   "outputs": [],
   "source": [
    "def getRendimientosTrainTest(X_train,y_train,X_test,y_test,clasificador):\n",
    "    predTrain = clasificador.predict(X_train)\n",
    "    accTrain = round(metrics.accuracy_score(y_train,predTrain)*100,2)\n",
    "    print('El rendimiento en train es el {}%'.format(accTrain))\n",
    "\n",
    "    ## En test usamos todos los ejemplos\n",
    "    predTest = clasificador.predict(X_test)\n",
    "    accTest = round(metrics.accuracy_score(y_test,predTest)*100,2)\n",
    "    print('El rendimiento en test es {}%'.format(accTest),\"\\n\")    \n",
    "    return accTrain,accTest"
   ]
  },
  {
   "cell_type": "markdown",
   "metadata": {},
   "source": [
    "## Resultados sin Estandarización ni detección de outliers"
   ]
  },
  {
   "cell_type": "markdown",
   "metadata": {},
   "source": [
    "### KNN"
   ]
  },
  {
   "cell_type": "code",
   "execution_count": 21,
   "metadata": {},
   "outputs": [
    {
     "name": "stdout",
     "output_type": "stream",
     "text": [
      "Medida Rendimiento \u001b[1m' precision_micro \u001b[0m : 0.7112499999999999\n",
      "Mejor configuracion encontrada:  {'n_neighbors': 1, 'p': 1, 'weights': 'uniform'}\n",
      "El rendimiento en train es el 100.0%\n",
      "El rendimiento en test es 71.43% \n",
      "\n",
      "Medida Rendimiento \u001b[1m' recall_micro \u001b[0m : 0.7112499999999999\n",
      "Mejor configuracion encontrada:  {'n_neighbors': 1, 'p': 1, 'weights': 'uniform'}\n",
      "El rendimiento en train es el 100.0%\n",
      "El rendimiento en test es 71.43% \n",
      "\n",
      "Medida Rendimiento \u001b[1m' accuracy \u001b[0m : 0.7112499999999999\n",
      "Mejor configuracion encontrada:  {'n_neighbors': 1, 'p': 1, 'weights': 'uniform'}\n",
      "El rendimiento en train es el 100.0%\n",
      "El rendimiento en test es 71.43% \n",
      "\n",
      "Medida Rendimiento \u001b[1m' f1_micro \u001b[0m : 0.7112499999999999\n",
      "Mejor configuracion encontrada:  {'n_neighbors': 1, 'p': 1, 'weights': 'uniform'}\n",
      "El rendimiento en train es el 100.0%\n",
      "El rendimiento en test es 71.43% \n",
      "\n",
      "Medida Rendimiento \u001b[1m' roc_auc_ovr \u001b[0m : 0.9363934676434678\n",
      "Mejor configuracion encontrada:  {'n_neighbors': 7, 'p': 1, 'weights': 'distance'}\n",
      "El rendimiento en train es el 100.0%\n",
      "El rendimiento en test es 67.86% \n",
      "\n"
     ]
    }
   ],
   "source": [
    "listaScoring = ['precision_micro', 'recall_micro','accuracy','f1_micro','roc_auc_ovr']\n",
    "rendimientoKNN = []\n",
    "\n",
    "for scoring in listaScoring:\n",
    "    knn = gridSearchKNN(X_train,y_train,scoring)\n",
    "    rendimientoKNN.append(getRendimientosTrainTest(X_train,y_train,X_test,y_test,knn))"
   ]
  },
  {
   "cell_type": "markdown",
   "metadata": {},
   "source": [
    "### Árboles de Decisión "
   ]
  },
  {
   "cell_type": "code",
   "execution_count": 22,
   "metadata": {},
   "outputs": [
    {
     "name": "stdout",
     "output_type": "stream",
     "text": [
      "Medida Rendimiento \u001b[1m' precision_micro \u001b[0m : 1.0\n",
      "Mejor configuracion encontrada:  {'criterion': 'gini', 'min_samples_leaf': 1, 'min_samples_split': 3}\n",
      "El rendimiento en train es el 100.0%\n",
      "El rendimiento en test es 98.81% \n",
      "\n",
      "Medida Rendimiento \u001b[1m' recall_micro \u001b[0m : 1.0\n",
      "Mejor configuracion encontrada:  {'criterion': 'gini', 'min_samples_leaf': 1, 'min_samples_split': 3}\n",
      "El rendimiento en train es el 100.0%\n",
      "El rendimiento en test es 100.0% \n",
      "\n",
      "Medida Rendimiento \u001b[1m' accuracy \u001b[0m : 1.0\n",
      "Mejor configuracion encontrada:  {'criterion': 'gini', 'min_samples_leaf': 1, 'min_samples_split': 2}\n",
      "El rendimiento en train es el 100.0%\n",
      "El rendimiento en test es 98.81% \n",
      "\n",
      "Medida Rendimiento \u001b[1m' f1_micro \u001b[0m : 1.0\n",
      "Mejor configuracion encontrada:  {'criterion': 'gini', 'min_samples_leaf': 1, 'min_samples_split': 2}\n",
      "El rendimiento en train es el 100.0%\n",
      "El rendimiento en test es 98.81% \n",
      "\n",
      "Medida Rendimiento \u001b[1m' roc_auc_ovr \u001b[0m : 1.0\n",
      "Mejor configuracion encontrada:  {'criterion': 'gini', 'min_samples_leaf': 1, 'min_samples_split': 5}\n",
      "El rendimiento en train es el 100.0%\n",
      "El rendimiento en test es 100.0% \n",
      "\n"
     ]
    }
   ],
   "source": [
    "rendimientoTree = []\n",
    "\n",
    "for scoring in listaScoring:\n",
    "    tree = gridSearchArbolDecision(X_train,y_train,scoring)\n",
    "    rendimientoTree.append(getRendimientosTrainTest(X_train,y_train,X_test,y_test,tree))"
   ]
  },
  {
   "cell_type": "markdown",
   "metadata": {},
   "source": [
    "### Random Forest"
   ]
  },
  {
   "cell_type": "code",
   "execution_count": 23,
   "metadata": {},
   "outputs": [
    {
     "name": "stdout",
     "output_type": "stream",
     "text": [
      "Medida Rendimiento \u001b[1m' precision_micro \u001b[0m : 1.0\n",
      "Mejor configuracion encontrada:  {'max_depth': 5, 'min_samples_split': 10, 'n_estimators': 10}\n",
      "El rendimiento en train es el 100.0%\n",
      "El rendimiento en test es 98.81% \n",
      "\n",
      "Medida Rendimiento \u001b[1m' recall_micro \u001b[0m : 1.0\n",
      "Mejor configuracion encontrada:  {'max_depth': 5, 'min_samples_split': 2, 'n_estimators': 50}\n",
      "El rendimiento en train es el 100.0%\n",
      "El rendimiento en test es 98.81% \n",
      "\n",
      "Medida Rendimiento \u001b[1m' accuracy \u001b[0m : 1.0\n",
      "Mejor configuracion encontrada:  {'max_depth': 5, 'min_samples_split': 2, 'n_estimators': 50}\n",
      "El rendimiento en train es el 100.0%\n",
      "El rendimiento en test es 100.0% \n",
      "\n",
      "Medida Rendimiento \u001b[1m' f1_micro \u001b[0m : 1.0\n",
      "Mejor configuracion encontrada:  {'max_depth': 5, 'min_samples_split': 2, 'n_estimators': 10}\n",
      "El rendimiento en train es el 100.0%\n",
      "El rendimiento en test es 98.81% \n",
      "\n",
      "Medida Rendimiento \u001b[1m' roc_auc_ovr \u001b[0m : 1.0\n",
      "Mejor configuracion encontrada:  {'max_depth': 5, 'min_samples_split': 2, 'n_estimators': 10}\n",
      "El rendimiento en train es el 100.0%\n",
      "El rendimiento en test es 98.81% \n",
      "\n"
     ]
    }
   ],
   "source": [
    "rendimientoRF = []\n",
    "\n",
    "for scoring in listaScoring:\n",
    "    randomForest = gridSearchRandomForest(X_train,y_train,scoring)\n",
    "    rendimientoRF.append(getRendimientosTrainTest(X_train,y_train,X_test,y_test,randomForest))"
   ]
  },
  {
   "cell_type": "markdown",
   "metadata": {},
   "source": [
    "### Gráfica de resultados\n",
    "Mostramos una gráfica con los resultados de cada método"
   ]
  },
  {
   "cell_type": "code",
   "execution_count": 24,
   "metadata": {},
   "outputs": [
    {
     "data": {
      "image/png": "[encoded data removed]",
      "text/plain": [
       "<Figure size 720x504 with 1 Axes>"
      ]
     },
     "metadata": {
      "needs_background": "light"
     },
     "output_type": "display_data"
    }
   ],
   "source": [
    "labels = ['KNN', 'Arbol Decisión', 'Ramndom Forest']\n",
    "accTrain = [rendimientoKNN[1][0],rendimientoTree[1][0],rendimientoRF[1][0]]\n",
    "accTest = [rendimientoKNN[1][1], rendimientoTree[1][1],rendimientoRF[1][1]]\n",
    "\n",
    "x = np.arange(len(labels))  \n",
    "width = 0.35\n",
    "\n",
    "fig, ax = plt.subplots(figsize=(10,7))\n",
    "rects1 = ax.bar(x - width/2, accTrain, width, label='Train')\n",
    "rects2 = ax.bar(x + width/2, accTest, width, label='Test')\n",
    "\n",
    "ax.set_ylabel('Accuracy')\n",
    "ax.set_title('Rendimiento sin preprocesamiento')\n",
    "ax.set_xticks(x)\n",
    "ax.set_xticklabels(labels)\n",
    "ax.legend()\n",
    "\n",
    "\n",
    "fig.tight_layout()\n",
    "\n",
    "plt.show()"
   ]
  },
  {
   "cell_type": "markdown",
   "metadata": {},
   "source": [
    "# Resultados con Estandarización y detección de outliers"
   ]
  },
  {
   "cell_type": "markdown",
   "metadata": {},
   "source": [
    "### KNN"
   ]
  },
  {
   "cell_type": "code",
   "execution_count": 25,
   "metadata": {},
   "outputs": [
    {
     "name": "stdout",
     "output_type": "stream",
     "text": [
      "Medida Rendimiento \u001b[1m' precision_micro \u001b[0m : 0.9878676470588236\n",
      "Mejor configuracion encontrada:  {'n_neighbors': 1, 'p': 1, 'weights': 'uniform'}\n",
      "El rendimiento en train es el 100.0%\n",
      "El rendimiento en test es 95.77% \n",
      "\n",
      "Medida Rendimiento \u001b[1m' recall_micro \u001b[0m : 0.9878676470588236\n",
      "Mejor configuracion encontrada:  {'n_neighbors': 1, 'p': 1, 'weights': 'uniform'}\n",
      "El rendimiento en train es el 100.0%\n",
      "El rendimiento en test es 95.77% \n",
      "\n",
      "Medida Rendimiento \u001b[1m' accuracy \u001b[0m : 0.9878676470588236\n",
      "Mejor configuracion encontrada:  {'n_neighbors': 1, 'p': 1, 'weights': 'uniform'}\n",
      "El rendimiento en train es el 100.0%\n",
      "El rendimiento en test es 95.77% \n",
      "\n",
      "Medida Rendimiento \u001b[1m' f1_micro \u001b[0m : 0.9878676470588236\n",
      "Mejor configuracion encontrada:  {'n_neighbors': 1, 'p': 1, 'weights': 'uniform'}\n",
      "El rendimiento en train es el 100.0%\n",
      "El rendimiento en test es 95.77% \n",
      "\n",
      "Medida Rendimiento \u001b[1m' roc_auc_ovr \u001b[0m : 0.9938492063492064\n",
      "Mejor configuracion encontrada:  {'n_neighbors': 5, 'p': 1.5, 'weights': 'distance'}\n",
      "El rendimiento en train es el 100.0%\n",
      "El rendimiento en test es 95.77% \n",
      "\n"
     ]
    }
   ],
   "source": [
    "listaScoring = ['precision_micro', 'recall_micro','accuracy','f1_micro','roc_auc_ovr']\n",
    "rendimientoKNN = []\n",
    "\n",
    "for scoring in listaScoring:\n",
    "    knn = gridSearchKNN(X_train_sinOut_Est,y_train_sinOut_Est,scoring)\n",
    "    rendimientoKNN.append(getRendimientosTrainTest(X_train_sinOut_Est,y_train_sinOut_Est,X_test_sinOut_Est,y_test_sinOut_Est,knn))"
   ]
  },
  {
   "cell_type": "markdown",
   "metadata": {},
   "source": [
    "### Arboles de Decisión"
   ]
  },
  {
   "cell_type": "code",
   "execution_count": 26,
   "metadata": {},
   "outputs": [
    {
     "name": "stdout",
     "output_type": "stream",
     "text": [
      "Medida Rendimiento \u001b[1m' precision_micro \u001b[0m : 1.0\n",
      "Mejor configuracion encontrada:  {'criterion': 'gini', 'min_samples_leaf': 1, 'min_samples_split': 2}\n",
      "El rendimiento en train es el 100.0%\n",
      "El rendimiento en test es 97.18% \n",
      "\n",
      "Medida Rendimiento \u001b[1m' recall_micro \u001b[0m : 1.0\n",
      "Mejor configuracion encontrada:  {'criterion': 'entropy', 'min_samples_leaf': 1, 'min_samples_split': 15}\n",
      "El rendimiento en train es el 100.0%\n",
      "El rendimiento en test es 95.77% \n",
      "\n",
      "Medida Rendimiento \u001b[1m' accuracy \u001b[0m : 1.0\n",
      "Mejor configuracion encontrada:  {'criterion': 'gini', 'min_samples_leaf': 2, 'min_samples_split': 15}\n",
      "El rendimiento en train es el 100.0%\n",
      "El rendimiento en test es 97.18% \n",
      "\n",
      "Medida Rendimiento \u001b[1m' f1_micro \u001b[0m : 1.0\n",
      "Mejor configuracion encontrada:  {'criterion': 'gini', 'min_samples_leaf': 4, 'min_samples_split': 5}\n",
      "El rendimiento en train es el 100.0%\n",
      "El rendimiento en test es 97.18% \n",
      "\n",
      "Medida Rendimiento \u001b[1m' roc_auc_ovr \u001b[0m : 1.0\n",
      "Mejor configuracion encontrada:  {'criterion': 'entropy', 'min_samples_leaf': 4, 'min_samples_split': 15}\n",
      "El rendimiento en train es el 100.0%\n",
      "El rendimiento en test es 97.18% \n",
      "\n"
     ]
    }
   ],
   "source": [
    "rendimientoTree = []\n",
    "\n",
    "for scoring in listaScoring:\n",
    "    tree = gridSearchArbolDecision(X_train_sinOut_Est,y_train_sinOut_Est,scoring)\n",
    "    rendimientoTree.append(getRendimientosTrainTest(X_train_sinOut_Est,y_train_sinOut_Est,X_test_sinOut_Est,y_test_sinOut_Est,tree))"
   ]
  },
  {
   "cell_type": "markdown",
   "metadata": {},
   "source": [
    "### Random Forest"
   ]
  },
  {
   "cell_type": "code",
   "execution_count": 27,
   "metadata": {},
   "outputs": [
    {
     "name": "stdout",
     "output_type": "stream",
     "text": [
      "Medida Rendimiento \u001b[1m' precision_micro \u001b[0m : 1.0\n",
      "Mejor configuracion encontrada:  {'max_depth': 5, 'min_samples_split': 10, 'n_estimators': 50}\n",
      "El rendimiento en train es el 100.0%\n",
      "El rendimiento en test es 100.0% \n",
      "\n",
      "Medida Rendimiento \u001b[1m' recall_micro \u001b[0m : 1.0\n",
      "Mejor configuracion encontrada:  {'max_depth': 5, 'min_samples_split': 10, 'n_estimators': 50}\n",
      "El rendimiento en train es el 100.0%\n",
      "El rendimiento en test es 100.0% \n",
      "\n",
      "Medida Rendimiento \u001b[1m' accuracy \u001b[0m : 1.0\n",
      "Mejor configuracion encontrada:  {'max_depth': 5, 'min_samples_split': 2, 'n_estimators': 50}\n",
      "El rendimiento en train es el 100.0%\n",
      "El rendimiento en test es 100.0% \n",
      "\n",
      "Medida Rendimiento \u001b[1m' f1_micro \u001b[0m : 1.0\n",
      "Mejor configuracion encontrada:  {'max_depth': 5, 'min_samples_split': 2, 'n_estimators': 10}\n",
      "El rendimiento en train es el 100.0%\n",
      "El rendimiento en test es 97.18% \n",
      "\n",
      "Medida Rendimiento \u001b[1m' roc_auc_ovr \u001b[0m : 1.0\n",
      "Mejor configuracion encontrada:  {'max_depth': 5, 'min_samples_split': 2, 'n_estimators': 10}\n",
      "El rendimiento en train es el 100.0%\n",
      "El rendimiento en test es 100.0% \n",
      "\n"
     ]
    }
   ],
   "source": [
    "rendimientoRF = []\n",
    "\n",
    "for scoring in listaScoring:\n",
    "    randomForest = gridSearchRandomForest(X_train_sinOut_Est,y_train_sinOut_Est,scoring)\n",
    "    rendimientoRF.append(getRendimientosTrainTest(X_train_sinOut_Est,y_train_sinOut_Est,X_test_sinOut_Est,y_test_sinOut_Est,randomForest))"
   ]
  },
  {
   "cell_type": "markdown",
   "metadata": {},
   "source": [
    "### Gráfica de resultados\n",
    "Mostramos una gráfica con los resultados de cada método"
   ]
  },
  {
   "cell_type": "code",
   "execution_count": 28,
   "metadata": {},
   "outputs": [
    {
     "data": {
      "image/png": "[encoded data removed]",
      "text/plain": [
       "<Figure size 720x504 with 1 Axes>"
      ]
     },
     "metadata": {
      "needs_background": "light"
     },
     "output_type": "display_data"
    }
   ],
   "source": [
    "labels = ['KNN', 'Arbol Decisión', 'Ramndom Forest']\n",
    "accTrain = [rendimientoKNN[1][0],rendimientoTree[1][0],rendimientoRF[1][0]]\n",
    "accTest = [rendimientoKNN[1][1], rendimientoTree[1][1],rendimientoRF[1][1]]\n",
    "\n",
    "x = np.arange(len(labels))  \n",
    "width = 0.35\n",
    "\n",
    "fig, ax = plt.subplots(figsize=(10,7))\n",
    "rects1 = ax.bar(x - width/2, accTrain, width, label='Train')\n",
    "rects2 = ax.bar(x + width/2, accTest, width, label='Test')\n",
    "\n",
    "ax.set_ylabel('Accuracy')\n",
    "ax.set_title('Rendimiento con estandarización y detección de outliers')\n",
    "ax.set_xticks(x)\n",
    "ax.set_xticklabels(labels)\n",
    "ax.legend()\n",
    "\n",
    "\n",
    "fig.tight_layout()\n",
    "\n",
    "plt.show()"
   ]
  }
 ],
 "metadata": {
  "kernelspec": {
   "display_name": "Python 3",
   "language": "python",
   "name": "python3"
  },
  "language_info": {
   "codemirror_mode": {
    "name": "ipython",
    "version": 3
   },
   "file_extension": ".py",
   "mimetype": "text/x-python",
   "name": "python",
   "nbconvert_exporter": "python",
   "pygments_lexer": "ipython3",
   "version": "3.7.3"
  }
 },
 "nbformat": 4,
 "nbformat_minor": 2
}
