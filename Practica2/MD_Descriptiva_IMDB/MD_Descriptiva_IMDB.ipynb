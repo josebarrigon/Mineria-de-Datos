{
 "cells": [
  {
   "cell_type": "markdown",
   "metadata": {
    "deletable": false,
    "editable": false,
    "nbgrader": {
     "cell_type": "markdown",
     "checksum": "978441b3f0ad651f851495f40208af23",
     "grade": false,
     "grade_id": "cell-ab7ad59f7ff65b78",
     "locked": true,
     "schema_version": 3,
     "solution": false
    }
   },
   "source": [
    "### Minería de datos descriptiva"
   ]
  },
  {
   "cell_type": "markdown",
   "metadata": {
    "deletable": false,
    "editable": false,
    "nbgrader": {
     "cell_type": "markdown",
     "checksum": "d93aa8ad2f073c0d9bb2f0526bdda826",
     "grade": false,
     "grade_id": "cell-6ab465b0a62d5605",
     "locked": true,
     "schema_version": 3,
     "solution": false
    }
   },
   "source": [
    "En esta práctica vamos a trabajar con la información extraída de un portal de valoración de películas. En concreto se ha extraído información de 943 usuarios del portal, 1682 películas y 100.000 valoraciones realizadas por los usuarios a las películas. La información de cada tipo de entidad está almacenada en su correspondiente documento .csv:\n",
    "* u.user: contiene la información de los 943 usuarios\n",
    "* u.item: contiene la información de las 1.682 películas\n",
    "* u.data: contiene la información de las 100.000 valoraciones de los usuarios a las películas"
   ]
  },
  {
   "cell_type": "markdown",
   "metadata": {
    "deletable": false,
    "editable": false,
    "nbgrader": {
     "cell_type": "markdown",
     "checksum": "c90e5926dced9253f5792f63b2175321",
     "grade": false,
     "grade_id": "cell-63e6d481dc2588af",
     "locked": true,
     "schema_version": 3,
     "solution": false
    }
   },
   "source": [
    "En primer lugar se importa una librería para realizar las comparaciones entre los resultados obtenidos y los que se deberían obtener a lo largo de la práctica. De este modo podéis saber en muchos apartados si el resultado es correcto."
   ]
  },
  {
   "cell_type": "code",
   "execution_count": 1,
   "metadata": {
    "deletable": false,
    "editable": false,
    "nbgrader": {
     "cell_type": "code",
     "checksum": "5095fed8b7d4d0c41fe582887d8a1f3c",
     "grade": false,
     "grade_id": "cell-25256906bfe75f05",
     "locked": true,
     "schema_version": 3,
     "solution": false
    }
   },
   "outputs": [],
   "source": [
    "from test_helper import Test"
   ]
  },
  {
   "cell_type": "markdown",
   "metadata": {
    "deletable": false,
    "editable": false,
    "nbgrader": {
     "cell_type": "markdown",
     "checksum": "71466ae386f6286e43a02a2425a17acf",
     "grade": false,
     "grade_id": "cell-db2e8f84683f8392",
     "locked": true,
     "schema_version": 3,
     "solution": false
    }
   },
   "source": [
    "Importa los paquetes numpy, pandas y matplotlib.pyplot como np, pd y plt"
   ]
  },
  {
   "cell_type": "code",
   "execution_count": 2,
   "metadata": {
    "deletable": false,
    "editable": false,
    "nbgrader": {
     "cell_type": "code",
     "checksum": "496e7f6a29af6cadd02ddca4e59a1d71",
     "grade": false,
     "grade_id": "cell-9983900b3fb64a15",
     "locked": true,
     "schema_version": 3,
     "solution": false
    }
   },
   "outputs": [],
   "source": [
    "import numpy as np\n",
    "import pandas as pd\n",
    "import matplotlib.pyplot as plt\n",
    "%matplotlib inline"
   ]
  },
  {
   "cell_type": "markdown",
   "metadata": {
    "deletable": false,
    "editable": false,
    "nbgrader": {
     "cell_type": "markdown",
     "checksum": "16dc1de4f2667ef9f14ec2b0d1314244",
     "grade": false,
     "grade_id": "cell-db77ab635c0efb07",
     "locked": true,
     "schema_version": 3,
     "solution": false
    }
   },
   "source": [
    "Lee y obtén un DataFrame de cada una de las entidades\n",
    "* De los usuarios debes leer solamente las columnas: user_id, age, sex, occupation y zip_code. Utiliza como separador: '|'\n",
    "* De las películas debes leer solamente las columnas: movie_id, title, release_date, video_release_date e imdb_url. Utiliza como separador: '|'. Como este fichero contiene más de esos campos se debe especificar que éstos son los 5 primeros por lo que hay que incluir en la llamada a read_csv la opción usecols=range(5)\n",
    "* De las valoraciones debes leer solamente las columnas: user_id, movie_id, rating y unix_timestamp. Utiliza como separador: '\\t'\n",
    "\n",
    "En todos los casos debéis utilizar como codificación latin-1."
   ]
  },
  {
   "cell_type": "code",
   "execution_count": 3,
   "metadata": {
    "deletable": false,
    "editable": false,
    "nbgrader": {
     "cell_type": "code",
     "checksum": "05bca8e056d03fb9a3a5154f3d19996a",
     "grade": false,
     "grade_id": "cell-5d500e5e6c89f425",
     "locked": true,
     "schema_version": 3,
     "solution": false
    }
   },
   "outputs": [],
   "source": [
    "u_cols = ['user_id', 'age', 'sex', 'occupation', 'zip_code']\n",
    "users = pd.read_csv('u.user', sep='|', names=u_cols, encoding='latin-1')\n",
    "\n",
    "r_cols = ['user_id', 'movie_id', 'rating', 'unix_timestamp']\n",
    "ratings = pd.read_csv('u.data', sep='\\t', names=r_cols, encoding='latin-1')\n",
    "\n",
    "m_cols = ['movie_id', 'title', 'release_date', 'video_release_date', 'imdb_url']\n",
    "movies = pd.read_csv('u.item', sep='|', names=m_cols, usecols=range(5), encoding='latin-1')"
   ]
  },
  {
   "cell_type": "markdown",
   "metadata": {
    "deletable": false,
    "editable": false,
    "nbgrader": {
     "cell_type": "markdown",
     "checksum": "b0fc1a00a307373124cbf0e423cf59b9",
     "grade": false,
     "grade_id": "cell-a27b2bcde56e0db8",
     "locked": true,
     "schema_version": 3,
     "solution": false
    }
   },
   "source": [
    "Muestra por pantalla el número de usuarios masculinos (sex=='M') y femeninos (sex=='F'). ¿Está balanceado? Para contar el número de elementos de una columna se debe utilizar la función count de Pandas."
   ]
  },
  {
   "cell_type": "code",
   "execution_count": 4,
   "metadata": {
    "deletable": false,
    "nbgrader": {
     "cell_type": "code",
     "checksum": "e2b69155cb4d7e37a28dea0c85eae44f",
     "grade": false,
     "grade_id": "cell-4a2ead7ac0325709",
     "locked": false,
     "schema_version": 3,
     "solution": true
    }
   },
   "outputs": [],
   "source": [
    "numUsuariosMasculinos = users.sex[users.sex=='M'].count()\n",
    "numUsuariosFemeninos = users.sex[users.sex=='F'].count()"
   ]
  },
  {
   "cell_type": "code",
   "execution_count": 5,
   "metadata": {
    "deletable": false,
    "editable": false,
    "nbgrader": {
     "cell_type": "code",
     "checksum": "2482baf2860d7dec4c2bd251c3261420",
     "grade": true,
     "grade_id": "cell-69f4a53cdbc6bd4b",
     "locked": true,
     "points": 1,
     "schema_version": 3,
     "solution": false
    }
   },
   "outputs": [
    {
     "name": "stdout",
     "output_type": "stream",
     "text": [
      "1 test passed.\n",
      "1 test passed.\n"
     ]
    }
   ],
   "source": [
    "Test.assertEquals(numUsuariosMasculinos, 670, 'Número de usuarios masculinos incorreto')\n",
    "Test.assertEquals(numUsuariosFemeninos, 273, 'Número de usuarios femeninos incorreto')"
   ]
  },
  {
   "cell_type": "markdown",
   "metadata": {
    "deletable": false,
    "editable": false,
    "nbgrader": {
     "cell_type": "markdown",
     "checksum": "3c91661f63a4d63e88fc1ae55d9d40db",
     "grade": false,
     "grade_id": "cell-164efabd1efd4e8f",
     "locked": true,
     "schema_version": 3,
     "solution": false
    }
   },
   "source": [
    "Obtén una descripción completa (función describe) de la columna rating de ratings. ¿Qué tipo de valoración se hacen en imdb? Sabiendo que la mejor valoración es 5 y la peor 1, ¿Hay más comentarios positivos o negativos? "
   ]
  },
  {
   "cell_type": "code",
   "execution_count": 6,
   "metadata": {
    "deletable": false,
    "nbgrader": {
     "cell_type": "code",
     "checksum": "3fc0e890fe501e01e58e86ad13c99843",
     "grade": false,
     "grade_id": "cell-5f7fc7cc71cddf1b",
     "locked": false,
     "schema_version": 3,
     "solution": true
    }
   },
   "outputs": [
    {
     "data": {
      "text/plain": [
       "movie_id\n",
       "1       452\n",
       "2       131\n",
       "3        90\n",
       "4       209\n",
       "5        86\n",
       "       ... \n",
       "1678      1\n",
       "1679      1\n",
       "1680      1\n",
       "1681      1\n",
       "1682      1\n",
       "Name: rating, Length: 1682, dtype: int64"
      ]
     },
     "execution_count": 6,
     "metadata": {},
     "output_type": "execute_result"
    }
   ],
   "source": [
    "ratings.rating.describe\n",
    "ratings.groupby(ratings.movie_id).rating.count()"
   ]
  },
  {
   "cell_type": "markdown",
   "metadata": {},
   "source": [
    "#### Hay más comentarios positivos"
   ]
  },
  {
   "cell_type": "markdown",
   "metadata": {
    "deletable": false,
    "editable": false,
    "nbgrader": {
     "cell_type": "markdown",
     "checksum": "4405a46ceabeaa9b12345eaacf210ef7",
     "grade": false,
     "grade_id": "cell-f850b1f8c49c2312",
     "locked": true,
     "schema_version": 3,
     "solution": false
    }
   },
   "source": [
    "¿Has observado que podemos establecer una relación entre los 3 dataframes? Vamos a verlo: el primero (users) contiene la información de los usuarios que hacen los reviews. Parece ser que el user_id sirve para identificar a cada usuario unívocamente; El segundo (movies) contiene la información de las películas que están siendo valoradas. Parece ser que movie_id sirve para identificar unívocamente cada una de las películas; El tercero (ratings) contiene, por cada fila, el identificador del usuario, el identificador de la película y la valoración numérica que dicho usuario ha otorgado a la correspondiente película. Está claro que podemos establecer una relación users-ratings-movies."
   ]
  },
  {
   "cell_type": "markdown",
   "metadata": {
    "deletable": false,
    "editable": false,
    "nbgrader": {
     "cell_type": "markdown",
     "checksum": "45efc8f7d2597422ca9627217187966c",
     "grade": false,
     "grade_id": "cell-87d5c47256e61ddf",
     "locked": true,
     "schema_version": 3,
     "solution": false
    }
   },
   "source": [
    "Para explotar la información de las 3 entidades se debe generar un DataFrame con la unión de la información de los 3 existentes. LLama al DataFrame generado PRU (películas rating usuarios). Muestra las tres primeras entradas del DataFrame generado.\n",
    "\n",
    "Recordar que para realizar la unión se debe utilizar la función merge de los DataFrames que equivale al join de SQL. Realizad la unión en el orden mencionado en el párrafo anterior."
   ]
  },
  {
   "cell_type": "code",
   "execution_count": 7,
   "metadata": {
    "deletable": false,
    "nbgrader": {
     "cell_type": "code",
     "checksum": "c41828ed638c0d7c1f6b29f0df206c3b",
     "grade": false,
     "grade_id": "cell-777dc8e75a85680e",
     "locked": false,
     "schema_version": 3,
     "solution": true
    }
   },
   "outputs": [
    {
     "data": {
      "text/html": [
       "<div>\n",
       "<style scoped>\n",
       "    .dataframe tbody tr th:only-of-type {\n",
       "        vertical-align: middle;\n",
       "    }\n",
       "\n",
       "    .dataframe tbody tr th {\n",
       "        vertical-align: top;\n",
       "    }\n",
       "\n",
       "    .dataframe thead th {\n",
       "        text-align: right;\n",
       "    }\n",
       "</style>\n",
       "<table border=\"1\" class=\"dataframe\">\n",
       "  <thead>\n",
       "    <tr style=\"text-align: right;\">\n",
       "      <th></th>\n",
       "      <th>movie_id</th>\n",
       "      <th>title</th>\n",
       "      <th>release_date</th>\n",
       "      <th>video_release_date</th>\n",
       "      <th>imdb_url</th>\n",
       "      <th>user_id</th>\n",
       "      <th>rating</th>\n",
       "      <th>unix_timestamp</th>\n",
       "      <th>age</th>\n",
       "      <th>sex</th>\n",
       "      <th>occupation</th>\n",
       "      <th>zip_code</th>\n",
       "    </tr>\n",
       "  </thead>\n",
       "  <tbody>\n",
       "    <tr>\n",
       "      <td>0</td>\n",
       "      <td>1</td>\n",
       "      <td>Toy Story (1995)</td>\n",
       "      <td>01-Jan-1995</td>\n",
       "      <td>NaN</td>\n",
       "      <td>http://us.imdb.com/M/title-exact?Toy%20Story%2...</td>\n",
       "      <td>308</td>\n",
       "      <td>4</td>\n",
       "      <td>887736532</td>\n",
       "      <td>60</td>\n",
       "      <td>M</td>\n",
       "      <td>retired</td>\n",
       "      <td>95076</td>\n",
       "    </tr>\n",
       "    <tr>\n",
       "      <td>1</td>\n",
       "      <td>4</td>\n",
       "      <td>Get Shorty (1995)</td>\n",
       "      <td>01-Jan-1995</td>\n",
       "      <td>NaN</td>\n",
       "      <td>http://us.imdb.com/M/title-exact?Get%20Shorty%...</td>\n",
       "      <td>308</td>\n",
       "      <td>5</td>\n",
       "      <td>887737890</td>\n",
       "      <td>60</td>\n",
       "      <td>M</td>\n",
       "      <td>retired</td>\n",
       "      <td>95076</td>\n",
       "    </tr>\n",
       "    <tr>\n",
       "      <td>2</td>\n",
       "      <td>5</td>\n",
       "      <td>Copycat (1995)</td>\n",
       "      <td>01-Jan-1995</td>\n",
       "      <td>NaN</td>\n",
       "      <td>http://us.imdb.com/M/title-exact?Copycat%20(1995)</td>\n",
       "      <td>308</td>\n",
       "      <td>4</td>\n",
       "      <td>887739608</td>\n",
       "      <td>60</td>\n",
       "      <td>M</td>\n",
       "      <td>retired</td>\n",
       "      <td>95076</td>\n",
       "    </tr>\n",
       "  </tbody>\n",
       "</table>\n",
       "</div>"
      ],
      "text/plain": [
       "   movie_id              title release_date  video_release_date  \\\n",
       "0         1   Toy Story (1995)  01-Jan-1995                 NaN   \n",
       "1         4  Get Shorty (1995)  01-Jan-1995                 NaN   \n",
       "2         5     Copycat (1995)  01-Jan-1995                 NaN   \n",
       "\n",
       "                                            imdb_url  user_id  rating  \\\n",
       "0  http://us.imdb.com/M/title-exact?Toy%20Story%2...      308       4   \n",
       "1  http://us.imdb.com/M/title-exact?Get%20Shorty%...      308       5   \n",
       "2  http://us.imdb.com/M/title-exact?Copycat%20(1995)      308       4   \n",
       "\n",
       "   unix_timestamp  age sex occupation zip_code  \n",
       "0       887736532   60   M    retired    95076  \n",
       "1       887737890   60   M    retired    95076  \n",
       "2       887739608   60   M    retired    95076  "
      ]
     },
     "execution_count": 7,
     "metadata": {},
     "output_type": "execute_result"
    }
   ],
   "source": [
    "PRU = movies.merge(ratings, on='movie_id').merge(users,on='user_id')\n",
    "PRU.head(3)"
   ]
  },
  {
   "cell_type": "code",
   "execution_count": 8,
   "metadata": {
    "deletable": false,
    "editable": false,
    "nbgrader": {
     "cell_type": "code",
     "checksum": "da7ee95d6b9d6e4419bb4d052c6cf69a",
     "grade": true,
     "grade_id": "cell-12b6e876efa2284b",
     "locked": true,
     "points": 1,
     "schema_version": 3,
     "solution": false
    }
   },
   "outputs": [
    {
     "name": "stdout",
     "output_type": "stream",
     "text": [
      "1 test passed.\n"
     ]
    }
   ],
   "source": [
    "Test.assertEquals(list(PRU['movie_id'].head(3)), [1, 4, 5], 'Unión incorrecta')"
   ]
  },
  {
   "cell_type": "markdown",
   "metadata": {
    "deletable": false,
    "editable": false,
    "nbgrader": {
     "cell_type": "markdown",
     "checksum": "1bedd274819ede3ce87cae7a11f71c74",
     "grade": false,
     "grade_id": "cell-840ca8265f234bd9",
     "locked": true,
     "schema_version": 3,
     "solution": false
    }
   },
   "source": [
    "A partir del DataFrame *PRU*, obten por cada película (id y título) el número de veces que ha sido valorada y ordena las películas de mayor a  menor según el número de valoraciones. Guarda las 25 películas con un mayor número de valoraciones en una variable llamada most_rated y muestrala por pantalla.\n",
    "\n",
    "NOTA: se deben utilizar las funciones groupby, count y sort_values."
   ]
  },
  {
   "cell_type": "code",
   "execution_count": 9,
   "metadata": {
    "deletable": false,
    "nbgrader": {
     "cell_type": "code",
     "checksum": "882d6ee74037ad76d45557ff55699d54",
     "grade": false,
     "grade_id": "cell-0d0d157e46d526f3",
     "locked": false,
     "schema_version": 3,
     "solution": true
    }
   },
   "outputs": [],
   "source": [
    "most_rated = PRU.groupby(['movie_id','title']).count().sort_values(by=['rating'],ascending=False).head(25)"
   ]
  },
  {
   "cell_type": "code",
   "execution_count": 10,
   "metadata": {
    "deletable": false,
    "editable": false,
    "nbgrader": {
     "cell_type": "code",
     "checksum": "c8820a4861b854e507182261b752f086",
     "grade": true,
     "grade_id": "cell-7ab987a84ffb8518",
     "locked": true,
     "points": 2,
     "schema_version": 3,
     "solution": false
    }
   },
   "outputs": [
    {
     "name": "stdout",
     "output_type": "stream",
     "text": [
      "1 test passed.\n"
     ]
    }
   ],
   "source": [
    "Test.assertEquals(list(most_rated.index.get_level_values(0)), [50,258,100,181,294,286,288,1,300,121,174,127,56,7,98,237,117,172,222,313,204,405,79,210,151], 'Peliculas más valoradas incorrectas')"
   ]
  },
  {
   "cell_type": "markdown",
   "metadata": {
    "deletable": false,
    "editable": false,
    "nbgrader": {
     "cell_type": "markdown",
     "checksum": "e1d5f14724d41036a755809bf7e5d077",
     "grade": false,
     "grade_id": "cell-6ab461fd89ef9092",
     "locked": true,
     "schema_version": 3,
     "solution": false
    }
   },
   "source": [
    "A partir del DataFrame *PRU*, crea un DataFrame llamado movie_stats en el que se calcule por cada película (id y título) el número de veces que haya sido valorada y la media de sus valoraciones. Las valoraciones están almacenadas en el campo llamado rating. Ordena el dataFrame de mayor a menor por la media de las valoraciones. \n",
    "\n",
    "Muestra las 5 con mayor media de sus valoraciones.\n",
    "\n",
    "NOTAS:\n",
    "* Debéis utilizar las funciones groupby, agg y sort_values\n",
    "* Para realizar la cuenta y la media de las valoraciones debéis utilizar las funciones size y mean de Numpy."
   ]
  },
  {
   "cell_type": "code",
   "execution_count": 11,
   "metadata": {
    "deletable": false,
    "nbgrader": {
     "cell_type": "code",
     "checksum": "1508a15d3c518d6cb9449f843b625654",
     "grade": false,
     "grade_id": "cell-db51cd0188ac7cb5",
     "locked": false,
     "schema_version": 3,
     "solution": true
    }
   },
   "outputs": [
    {
     "data": {
      "text/html": [
       "<div>\n",
       "<style scoped>\n",
       "    .dataframe tbody tr th:only-of-type {\n",
       "        vertical-align: middle;\n",
       "    }\n",
       "\n",
       "    .dataframe tbody tr th {\n",
       "        vertical-align: top;\n",
       "    }\n",
       "\n",
       "    .dataframe thead tr th {\n",
       "        text-align: left;\n",
       "    }\n",
       "\n",
       "    .dataframe thead tr:last-of-type th {\n",
       "        text-align: right;\n",
       "    }\n",
       "</style>\n",
       "<table border=\"1\" class=\"dataframe\">\n",
       "  <thead>\n",
       "    <tr>\n",
       "      <th></th>\n",
       "      <th></th>\n",
       "      <th colspan=\"2\" halign=\"left\">video_release_date</th>\n",
       "      <th colspan=\"2\" halign=\"left\">user_id</th>\n",
       "      <th colspan=\"2\" halign=\"left\">rating</th>\n",
       "      <th colspan=\"2\" halign=\"left\">unix_timestamp</th>\n",
       "      <th colspan=\"2\" halign=\"left\">age</th>\n",
       "    </tr>\n",
       "    <tr>\n",
       "      <th></th>\n",
       "      <th></th>\n",
       "      <th>count</th>\n",
       "      <th>mean</th>\n",
       "      <th>count</th>\n",
       "      <th>mean</th>\n",
       "      <th>count</th>\n",
       "      <th>mean</th>\n",
       "      <th>count</th>\n",
       "      <th>mean</th>\n",
       "      <th>count</th>\n",
       "      <th>mean</th>\n",
       "    </tr>\n",
       "    <tr>\n",
       "      <th>movie_id</th>\n",
       "      <th>title</th>\n",
       "      <th></th>\n",
       "      <th></th>\n",
       "      <th></th>\n",
       "      <th></th>\n",
       "      <th></th>\n",
       "      <th></th>\n",
       "      <th></th>\n",
       "      <th></th>\n",
       "      <th></th>\n",
       "      <th></th>\n",
       "    </tr>\n",
       "  </thead>\n",
       "  <tbody>\n",
       "    <tr>\n",
       "      <td>814</td>\n",
       "      <td>Great Day in Harlem, A (1994)</td>\n",
       "      <td>0</td>\n",
       "      <td>NaN</td>\n",
       "      <td>1</td>\n",
       "      <td>13.0</td>\n",
       "      <td>1</td>\n",
       "      <td>5.0</td>\n",
       "      <td>1</td>\n",
       "      <td>886302261.0</td>\n",
       "      <td>1</td>\n",
       "      <td>47.0</td>\n",
       "    </tr>\n",
       "    <tr>\n",
       "      <td>1599</td>\n",
       "      <td>Someone Else's America (1995)</td>\n",
       "      <td>0</td>\n",
       "      <td>NaN</td>\n",
       "      <td>1</td>\n",
       "      <td>437.0</td>\n",
       "      <td>1</td>\n",
       "      <td>5.0</td>\n",
       "      <td>1</td>\n",
       "      <td>880142614.0</td>\n",
       "      <td>1</td>\n",
       "      <td>27.0</td>\n",
       "    </tr>\n",
       "    <tr>\n",
       "      <td>1201</td>\n",
       "      <td>Marlene Dietrich: Shadow and Light (1996)</td>\n",
       "      <td>0</td>\n",
       "      <td>NaN</td>\n",
       "      <td>1</td>\n",
       "      <td>90.0</td>\n",
       "      <td>1</td>\n",
       "      <td>5.0</td>\n",
       "      <td>1</td>\n",
       "      <td>891383687.0</td>\n",
       "      <td>1</td>\n",
       "      <td>60.0</td>\n",
       "    </tr>\n",
       "    <tr>\n",
       "      <td>1122</td>\n",
       "      <td>They Made Me a Criminal (1939)</td>\n",
       "      <td>0</td>\n",
       "      <td>NaN</td>\n",
       "      <td>1</td>\n",
       "      <td>60.0</td>\n",
       "      <td>1</td>\n",
       "      <td>5.0</td>\n",
       "      <td>1</td>\n",
       "      <td>883326498.0</td>\n",
       "      <td>1</td>\n",
       "      <td>50.0</td>\n",
       "    </tr>\n",
       "    <tr>\n",
       "      <td>1653</td>\n",
       "      <td>Entertaining Angels: The Dorothy Day Story (1996)</td>\n",
       "      <td>0</td>\n",
       "      <td>NaN</td>\n",
       "      <td>1</td>\n",
       "      <td>675.0</td>\n",
       "      <td>1</td>\n",
       "      <td>5.0</td>\n",
       "      <td>1</td>\n",
       "      <td>889489913.0</td>\n",
       "      <td>1</td>\n",
       "      <td>34.0</td>\n",
       "    </tr>\n",
       "  </tbody>\n",
       "</table>\n",
       "</div>"
      ],
      "text/plain": [
       "                                                           video_release_date  \\\n",
       "                                                                        count   \n",
       "movie_id title                                                                  \n",
       "814      Great Day in Harlem, A (1994)                                      0   \n",
       "1599     Someone Else's America (1995)                                      0   \n",
       "1201     Marlene Dietrich: Shadow and Light (1996)                          0   \n",
       "1122     They Made Me a Criminal (1939)                                     0   \n",
       "1653     Entertaining Angels: The Dorothy Day Story (1996)                  0   \n",
       "\n",
       "                                                                user_id  \\\n",
       "                                                           mean   count   \n",
       "movie_id title                                                            \n",
       "814      Great Day in Harlem, A (1994)                      NaN       1   \n",
       "1599     Someone Else's America (1995)                      NaN       1   \n",
       "1201     Marlene Dietrich: Shadow and Light (1996)          NaN       1   \n",
       "1122     They Made Me a Criminal (1939)                     NaN       1   \n",
       "1653     Entertaining Angels: The Dorothy Day Story (1996)  NaN       1   \n",
       "\n",
       "                                                                  rating       \\\n",
       "                                                             mean  count mean   \n",
       "movie_id title                                                                  \n",
       "814      Great Day in Harlem, A (1994)                       13.0      1  5.0   \n",
       "1599     Someone Else's America (1995)                      437.0      1  5.0   \n",
       "1201     Marlene Dietrich: Shadow and Light (1996)           90.0      1  5.0   \n",
       "1122     They Made Me a Criminal (1939)                      60.0      1  5.0   \n",
       "1653     Entertaining Angels: The Dorothy Day Story (1996)  675.0      1  5.0   \n",
       "\n",
       "                                                           unix_timestamp  \\\n",
       "                                                                    count   \n",
       "movie_id title                                                              \n",
       "814      Great Day in Harlem, A (1994)                                  1   \n",
       "1599     Someone Else's America (1995)                                  1   \n",
       "1201     Marlene Dietrich: Shadow and Light (1996)                      1   \n",
       "1122     They Made Me a Criminal (1939)                                 1   \n",
       "1653     Entertaining Angels: The Dorothy Day Story (1996)              1   \n",
       "\n",
       "                                                                          age  \\\n",
       "                                                                   mean count   \n",
       "movie_id title                                                                  \n",
       "814      Great Day in Harlem, A (1994)                      886302261.0     1   \n",
       "1599     Someone Else's America (1995)                      880142614.0     1   \n",
       "1201     Marlene Dietrich: Shadow and Light (1996)          891383687.0     1   \n",
       "1122     They Made Me a Criminal (1939)                     883326498.0     1   \n",
       "1653     Entertaining Angels: The Dorothy Day Story (1996)  889489913.0     1   \n",
       "\n",
       "                                                                  \n",
       "                                                            mean  \n",
       "movie_id title                                                    \n",
       "814      Great Day in Harlem, A (1994)                      47.0  \n",
       "1599     Someone Else's America (1995)                      27.0  \n",
       "1201     Marlene Dietrich: Shadow and Light (1996)          60.0  \n",
       "1122     They Made Me a Criminal (1939)                     50.0  \n",
       "1653     Entertaining Angels: The Dorothy Day Story (1996)  34.0  "
      ]
     },
     "execution_count": 11,
     "metadata": {},
     "output_type": "execute_result"
    }
   ],
   "source": [
    "movie_stats = PRU.groupby(['movie_id','title']).agg(['count', 'mean']).sort_values(by=[('rating','mean')],ascending=False)\n",
    "movie_stats.head(5)"
   ]
  },
  {
   "cell_type": "code",
   "execution_count": 12,
   "metadata": {
    "deletable": false,
    "editable": false,
    "nbgrader": {
     "cell_type": "code",
     "checksum": "87c6b14b8feb0796ab2eb7aaecfcb095",
     "grade": true,
     "grade_id": "cell-53f4ea7e083152e9",
     "locked": true,
     "points": 4,
     "schema_version": 3,
     "solution": false
    }
   },
   "outputs": [
    {
     "name": "stdout",
     "output_type": "stream",
     "text": [
      "1 test passed.\n"
     ]
    }
   ],
   "source": [
    "Test.assertEquals(list(movie_stats.head().index.get_level_values(0)), [814,1599,1201,1122,1653], 'Peliculas incorrectas')"
   ]
  },
  {
   "cell_type": "markdown",
   "metadata": {
    "deletable": false,
    "editable": false,
    "nbgrader": {
     "cell_type": "markdown",
     "checksum": "69ea74ed1b1ff9c7489fbf4b0b30eac8",
     "grade": false,
     "grade_id": "cell-71e78c27d345cc29",
     "locked": true,
     "schema_version": 3,
     "solution": false
    }
   },
   "source": [
    "Si observamos los resultados de la consulta anterior, podemos ver que las películas de mayor media son raras en el sentido de que han sido valoradas muy pocas veces. \n",
    "\n",
    "Por ello se debe crear un nuevo DataFrame (a partir del DataFrame movie_stats), llamado movie_stats_top15, que contenga las 15 películas con mayor media de valoraciones que hayan sido valoradas al menos 100 veces. Muestralo por pantalla.\n",
    "\n",
    "NOTA:\n",
    "* Debéis utilizar el DataFrame creado en la celda anterior y recordar que la función agg devuelve multi-índices\n",
    "* Debéis utilizar la función sort_values"
   ]
  },
  {
   "cell_type": "code",
   "execution_count": 13,
   "metadata": {
    "deletable": false,
    "nbgrader": {
     "cell_type": "code",
     "checksum": "15c5519a5e837e5cb26b6ca8d937c20c",
     "grade": false,
     "grade_id": "cell-a510cadecb2b2e8e",
     "locked": false,
     "schema_version": 3,
     "solution": true
    }
   },
   "outputs": [],
   "source": [
    "# Array (Serie) de booleanos de tantas posiciones como películas\n",
    "    # en cada posición se pone True si tiene 100 o más valoraciones y False en caso contrario\n",
    "atleast_100 = movie_stats[('rating','count')]>=100\n",
    "# Utilizar el array anterior para seleecionar las 15 mejores películas\n",
    "movie_stats_top15 = movie_stats.loc[atleast_100].sort_values(by=[('rating','mean')],ascending=False).head(15)"
   ]
  },
  {
   "cell_type": "code",
   "execution_count": 14,
   "metadata": {
    "deletable": false,
    "editable": false,
    "nbgrader": {
     "cell_type": "code",
     "checksum": "23960e0ccdfadf80f9c7a8aeeecdcde9",
     "grade": true,
     "grade_id": "cell-7b1d9420670be621",
     "locked": true,
     "points": 3,
     "schema_version": 3,
     "solution": false
    }
   },
   "outputs": [
    {
     "name": "stdout",
     "output_type": "stream",
     "text": [
      "1 test passed.\n"
     ]
    }
   ],
   "source": [
    "Test.assertEquals(list(movie_stats_top15.index.get_level_values(0)), [408,318,169,483,64,603,12,50,178,134,427,357,98,480,127], 'Peliculas incorrectas')"
   ]
  },
  {
   "cell_type": "markdown",
   "metadata": {
    "deletable": false,
    "editable": false,
    "nbgrader": {
     "cell_type": "markdown",
     "checksum": "ed5b915e2313a18d2ceeb9a75396782e",
     "grade": false,
     "grade_id": "cell-e12b173f522fb617",
     "locked": true,
     "schema_version": 3,
     "solution": false
    }
   },
   "source": [
    "Como vemos, estas películas son muy conocidas a diferencia de las anteriores.\n",
    "\n",
    "Ahora se desea obtener la información de las películas correspondientes a las 50 más valoradas.\n",
    "\n",
    "Para ello, se debe hacer lo siguiente:\n",
    "* Crear un objeto de Series a partir del DataFrame PRU, llamado most_50, cuyo índice sean los identificadores (movie_id) y el número de valoraciones de las 50 películas que tengan un mayor número de valoraciones. \n",
    "    * Recordad que groupby devuelve un objeto cuyos índices son los valores agrupados.\n",
    "* Crear un DataFrame a partir del DataFrame PRU, llamado top50pelis, que contenta la información de las películas correspondientes a las obtenidas en el apartado anterior. Se deben comparar los identificadores de las películas que son los índices tanto de la Serie creada como del DataFrame PRU.\n",
    "* Mostrar los 5 primeros registros tanto de most_50 como de top50pelis por pantalla.\n",
    "\n",
    "NOTAS: \n",
    "* Para crear la serie most_50 se deben utilizar las funciones groupby, count y sort_values.\n",
    "* Para crear el DataFrame top50pelis debéis conocer que\n",
    "    * La lista de índices correspondientes a una Serie se obtienen con la función index, nombreSerie.index\n",
    "    * La función isin que chuequea si un elemento de una lista está en otra (o en una Series)."
   ]
  },
  {
   "cell_type": "code",
   "execution_count": 15,
   "metadata": {
    "deletable": false,
    "nbgrader": {
     "cell_type": "code",
     "checksum": "c6bc1dc7b49522b1b0e33c374d107b37",
     "grade": false,
     "grade_id": "cell-a8c36b5f8d624372",
     "locked": false,
     "schema_version": 3,
     "solution": true
    }
   },
   "outputs": [],
   "source": [
    "most_50 = PRU.groupby(['movie_id']).rating.count().sort_values(ascending=False).head(50)\n",
    "top50pelis = PRU[PRU.movie_id.isin(most_50.index)]"
   ]
  },
  {
   "cell_type": "code",
   "execution_count": 16,
   "metadata": {
    "deletable": false,
    "editable": false,
    "nbgrader": {
     "cell_type": "code",
     "checksum": "5c0cb6012de09a872993c500213edfc2",
     "grade": true,
     "grade_id": "cell-3b12b11766237d15",
     "locked": true,
     "points": 4,
     "schema_version": 3,
     "solution": false
    }
   },
   "outputs": [
    {
     "name": "stdout",
     "output_type": "stream",
     "text": [
      "1 test passed.\n"
     ]
    }
   ],
   "source": [
    "Test.assertEquals(list(top50pelis.head(10).index.get_level_values(0)), [0,3,5,8,12,15,16,26,29,34], 'Peliculas incorrectas')"
   ]
  },
  {
   "cell_type": "markdown",
   "metadata": {
    "deletable": false,
    "editable": false,
    "nbgrader": {
     "cell_type": "markdown",
     "checksum": "c4c8a35cd4d0e8ccccaa98604a028ea2",
     "grade": false,
     "grade_id": "cell-23a4ea0fe11afb3c",
     "locked": true,
     "schema_version": 3,
     "solution": false
    }
   },
   "source": [
    "Se desea analizar la edad de los usuarios que realizan las valoraciones en el portal. Para ello se debe mostrar en un gráfico de barras en forma de histograma que muestre la distribución de la edad de los usuarios. \n",
    "\n",
    "Para realizar la gráfica es necesario utilizar la función plot de los DataFrames con la función histograma (hist) especificando el número de grupos que deseas mostrar (bins=numGrupos). Para añadir información al gráfico se debe añadir un título y el nombre de los ejes  mediante las funciones/campos correspondientes de matplotlib.pyplot: abrir primero una figura de matplotlib.pyplot y luego especificar el contenido de los campos title, xlabel y ylabel.\n",
    "\n",
    "Realiza el gráfica mostrando 30 grupos de edad diferentes."
   ]
  },
  {
   "cell_type": "code",
   "execution_count": 17,
   "metadata": {
    "deletable": false,
    "nbgrader": {
     "cell_type": "code",
     "checksum": "71e21c714f8cc72dca96561d4d4ee6cc",
     "grade": false,
     "grade_id": "cell-49e2f2311f2a14e2",
     "locked": false,
     "schema_version": 3,
     "solution": true
    }
   },
   "outputs": [
    {
     "data": {
      "text/plain": [
       "(array([ 2.,  5.,  9., 19., 41., 59., 65., 71., 69., 68., 64., 54., 44.,\n",
       "        40., 39., 31., 34., 38., 26., 39., 40., 18., 15., 15.,  6., 12.,\n",
       "         5.,  5.,  3.]),\n",
       " array([10, 12, 14, 16, 18, 20, 22, 24, 26, 28, 30, 32, 34, 36, 38, 40, 42,\n",
       "        44, 46, 48, 50, 52, 54, 56, 58, 60, 62, 64, 66, 68]),\n",
       " <a list of 29 Patch objects>)"
      ]
     },
     "execution_count": 17,
     "metadata": {},
     "output_type": "execute_result"
    },
    {
     "data": {
      "image/png": "[encoded data removed]",
      "text/plain": [
       "<Figure size 432x288 with 1 Axes>"
      ]
     },
     "metadata": {
      "needs_background": "light"
     },
     "output_type": "display_data"
    }
   ],
   "source": [
    "plt.title('Grafica Edades')\n",
    "plt.xlabel('Edad')\n",
    "plt.ylabel('nPersonas')\n",
    "plt.hist(users.age,range(10,70,2))"
   ]
  },
  {
   "cell_type": "markdown",
   "metadata": {
    "deletable": false,
    "editable": false,
    "nbgrader": {
     "cell_type": "markdown",
     "checksum": "1cc2465422f23e2e1dd830a0261b72f9",
     "grade": false,
     "grade_id": "cell-996c97bd973aac25",
     "locked": true,
     "schema_version": 3,
     "solution": false
    }
   },
   "source": [
    "Se desea profundizar en el análisis de la influencia de la edad en las valoraciones realizadas. Para ello el director del portal desea crear grupos de usuarios por edad (grupos de 10 años). Para ello se debe utilizar la función *cut* ofrecida por pandas (información en http://pandas.pydata.org/pandas-docs/stable/generated/pandas.cut.html) aplicando el siguiente proceso:\n",
    "* Crear nombres para los grupos de edad generados ya que vamos a transformar una variable numérica (edad) en categórica\n",
    "    * groupNames = ['0-9', '10-19', '20-29', '30-39', '40-49', '50-59', '60-69', '70-79']\n",
    "* Utilizar la función *cut* para realizar la transformación de los valores, la llamada a la función y los parámetros que son necesarios para esta práctica son los siguientes:\n",
    "    * pandas.cut(x, bins, right=True, labels=None)\n",
    "        * x: los valores a transformar: la variable edad\n",
    "        * bins: los valores por los que realizar la transformación: 0, 10, 20, 30, 40, 50, 60, 70 y 80.\n",
    "        * right: booleano que si está a True indica que se cogen los valores entre el bin izquierdo (sin incluir) y el derecho (incluido), es decir, con los bins anteriores se realizarían los grupos de edad (0, 10], (10, 20], (20, 30], etc...Si está a False no se coge el bin derecho y se coge el izquierdo: [0, 10), [10, 20), [20, 30), etc... Asignar este campo a False.\n",
    "        * labels: los nombres de los nuevos valores: los que acabamos de definir en el paso anterior\n",
    "    * La función cut devuelve una Serie con valores categóricos si el parámetro labels tiene valor e integers si no tiene valor. Guardar el resultado en una variable auxiliar.\n",
    "* Crear un nuevo campo, llamado *age_group*, en el DataFrame PRU en el que se almacene el resultado de la función cut."
   ]
  },
  {
   "cell_type": "code",
   "execution_count": 18,
   "metadata": {
    "deletable": false,
    "nbgrader": {
     "cell_type": "code",
     "checksum": "7d9683a573b807b77723b32c94c5812a",
     "grade": false,
     "grade_id": "cell-5d7127edbbab7998",
     "locked": false,
     "schema_version": 3,
     "solution": true
    }
   },
   "outputs": [],
   "source": [
    "groupNames =  ['0-9', '10-19', '20-29', '30-39', '40-49', '50-59', '60-69', '70-79'] \n",
    "aux = pd.cut(x=PRU.age,bins = range(0,81,10), right=False,labels = groupNames) \n",
    "PRU['age_group'] = aux"
   ]
  },
  {
   "cell_type": "code",
   "execution_count": 19,
   "metadata": {
    "deletable": false,
    "editable": false,
    "nbgrader": {
     "cell_type": "code",
     "checksum": "097f0c6d70272be16db9e124c08b2f4b",
     "grade": true,
     "grade_id": "cell-c59cf2420f7146ec",
     "locked": true,
     "points": 3,
     "schema_version": 3,
     "solution": false
    }
   },
   "outputs": [
    {
     "name": "stdout",
     "output_type": "stream",
     "text": [
      "1 test passed.\n"
     ]
    }
   ],
   "source": [
    "Test.assertEquals(list(PRU['age_group'].head(5)), ['60-69','60-69','60-69','60-69','60-69'], 'Grupos creados incorrectamente')"
   ]
  },
  {
   "cell_type": "markdown",
   "metadata": {
    "deletable": false,
    "editable": false,
    "nbgrader": {
     "cell_type": "markdown",
     "checksum": "5f2b8ab0c574c124c8317deb8e1a67a3",
     "grade": false,
     "grade_id": "cell-5883f40387308ae6",
     "locked": true,
     "schema_version": 3,
     "solution": false
    }
   },
   "source": [
    "Ahora se desea obtener el número de valoraciones que han hecho usuarios de cada grupo de edad así como sus valoraciones medias. De esta forma podremos saber si existen diferencias en las valoraciones entre los distintos grupos de edad.\n",
    "\n",
    "Para ello se debe crear un DataFrame a partir del DataFrame inicial PRU, llamado valoracionesPorGrupoEdad, en el que se obtenga para cada grupo de edad de los usuarios el número de valoraciones realizada así como la media de las mismas. Muestralo por pantalla.\n",
    "\n",
    "NOTA:\n",
    "* Debéis utilizar las funciones groupby, agg así como size y mean de numpy."
   ]
  },
  {
   "cell_type": "code",
   "execution_count": 20,
   "metadata": {
    "deletable": false,
    "nbgrader": {
     "cell_type": "code",
     "checksum": "80529e9e7fc9e32719ec6701312fde85",
     "grade": false,
     "grade_id": "cell-28ba34e7fc509bec",
     "locked": false,
     "schema_version": 3,
     "solution": true
    }
   },
   "outputs": [
    {
     "name": "stderr",
     "output_type": "stream",
     "text": [
      "/home/wyryby/anaconda3/envs/py37machlearn/lib/python3.7/site-packages/ipykernel_launcher.py:1: FutureWarning: using a dict on a Series for aggregation\n",
      "is deprecated and will be removed in a future version. Use                 named aggregation instead.\n",
      "\n",
      "    >>> grouper.agg(name_1=func_1, name_2=func_2)\n",
      "\n",
      "  \"\"\"Entry point for launching an IPython kernel.\n"
     ]
    }
   ],
   "source": [
    "valoracionesPorGrupoEdad = PRU.groupby('age_group').rating.agg({'rating' : ['size'], 'size' : ['mean']})"
   ]
  },
  {
   "cell_type": "code",
   "execution_count": 21,
   "metadata": {
    "deletable": false,
    "editable": false,
    "nbgrader": {
     "cell_type": "code",
     "checksum": "b1d47d7825a7c831056f8fb68ccfc5d0",
     "grade": true,
     "grade_id": "cell-b82470ab4084e553",
     "locked": true,
     "points": 2,
     "schema_version": 3,
     "solution": false
    }
   },
   "outputs": [
    {
     "name": "stdout",
     "output_type": "stream",
     "text": [
      "1 test passed.\n"
     ]
    }
   ],
   "source": [
    "Test.assertEquals(list(valoracionesPorGrupoEdad[('rating','size')]), [43,8181,39535,25696,15021,8704,2623,197], 'Estadisticas creadas incorrectamente')"
   ]
  },
  {
   "cell_type": "markdown",
   "metadata": {
    "deletable": false,
    "editable": false,
    "nbgrader": {
     "cell_type": "markdown",
     "checksum": "284bd8195533d13ea8b9006d55f065e0",
     "grade": false,
     "grade_id": "cell-81a0fab39ee6dd6f",
     "locked": true,
     "schema_version": 3,
     "solution": false
    }
   },
   "source": [
    "El propietario del portal quiere responder a la siguiente pregunta: ¿En qué películas de las 50 con mayor número de valoraciones están más en desacuerdo los hombres y las mujeres? \n",
    "\n",
    "Para resolverla se debe realizar el siguiente proceso:\n",
    "* Crear una pivot table, llamada pivoted, sobre el DataFrame guardado en top50pelis, con los valores agrupados por el título de cada película, calculando la media de las valoraciones (campo rating) en función del sexo (campo sex).\n",
    "* Añadir una columna llamada diff a la pivot table resultante (pivoted) que sea la diferencia entre las valoraciones medias realizadas por hombres y mujeres. \n",
    "    * Para añadir una columna a la pivot table se debe poner el nombre de la pivot table y entre corchetes el nombre del nuevo campo. Luego se guarda el resultado de la operación.\n",
    "* Ordena de mayor a menor el DataFrame de acuerdo a dicha diferencia con la instrucción sort_values.\n",
    "* Muestra una gráfica de barras horizontales en la que se muestren las diferencias entre las valoraciones de hombres y mujeres para las películas en estudio.\n",
    "\n",
    "NOTA:\n",
    "* Para crear un gráfico de barras horizontales utilizar la función plot especificando el tipo de gráfico y el tamaño del mismo (plot(kind='barh', figsize=[9, 15]))"
   ]
  },
  {
   "cell_type": "code",
   "execution_count": 22,
   "metadata": {
    "deletable": false,
    "nbgrader": {
     "cell_type": "code",
     "checksum": "913d47c2289b552be9a2c6d7d440c1a8",
     "grade": false,
     "grade_id": "cell-b76f282e3bae54e5",
     "locked": false,
     "schema_version": 3,
     "solution": true
    }
   },
   "outputs": [],
   "source": [
    "pivoted = pd.pivot_table(top50pelis, values='rating', index=['title'], columns=['sex'], aggfunc='mean')\n",
    "pivoted['diff'] = pivoted.F - pivoted.M\n",
    "pivoted = pivoted.sort_values(by = 'diff',ascending=False)"
   ]
  },
  {
   "cell_type": "code",
   "execution_count": 23,
   "metadata": {
    "deletable": false,
    "editable": false,
    "nbgrader": {
     "cell_type": "code",
     "checksum": "eec08679d74b81517f3c2afd42f84196",
     "grade": true,
     "grade_id": "cell-14666765642edea3",
     "locked": true,
     "points": 4,
     "schema_version": 3,
     "solution": false
    }
   },
   "outputs": [
    {
     "name": "stdout",
     "output_type": "stream",
     "text": [
      "1 test passed.\n"
     ]
    }
   ],
   "source": [
    "Test.assertEquals(list(map(lambda x: round(x, 2), pivoted['diff'][:10].values)),[0.33, 0.32, 0.24, 0.24, 0.23, 0.22, 0.22, 0.22, 0.17, 0.17], 'Pivot table mal creada')"
   ]
  }
 ],
 "metadata": {
  "anaconda-cloud": {},
  "kernelspec": {
   "display_name": "Python [conda env:py37machlearn] *",
   "language": "python",
   "name": "conda-env-py37machlearn-py"
  },
  "language_info": {
   "codemirror_mode": {
    "name": "ipython",
    "version": 3
   },
   "file_extension": ".py",
   "mimetype": "text/x-python",
   "name": "python",
   "nbconvert_exporter": "python",
   "pygments_lexer": "ipython3",
   "version": "3.7.4"
  }
 },
 "nbformat": 4,
 "nbformat_minor": 1
}
