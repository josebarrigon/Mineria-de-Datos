{
 "cells": [
  {
   "cell_type": "markdown",
   "metadata": {
    "deletable": false,
    "editable": false,
    "nbgrader": {
     "cell_type": "markdown",
     "checksum": "b5135e8036c1c8e9d16fca230b1dca4b",
     "grade": false,
     "grade_id": "cell-637be58929fcc02b",
     "locked": true,
     "schema_version": 3,
     "solution": false,
     "task": false
    }
   },
   "source": [
    "## Práctica de manejo de variables categóricas e imputación de valores perdidos\n",
    "\n",
    "En esta práctica vamos a aplicar técnicas para tratar con valores perdidos y transformar variables categóricas en variables numéricas para que todas las técnicas implementadas en Scikit-learn puedan utilizarse con toda la información disponible del problema a abordar.  Además, veremos cómo generar Pipelines (cadenas de técnicas aplicadas secuencialmente) y cómo aplicar transformaciones diferentes a las variables en función de sus características. El guión de la práctica es el siguiente:\n",
    "\n",
    "* [Imputación de valores perdidos](#1)\n",
    "* [Transformación de variables categóricas a numéricas](#2)\n",
    "* [Pipelines](#3)\n",
    "* [Mezcla de transformaciones en función de las características de las variables](#4)"
   ]
  },
  {
   "cell_type": "code",
   "execution_count": 134,
   "metadata": {
    "deletable": false,
    "editable": false,
    "nbgrader": {
     "cell_type": "code",
     "checksum": "5e93a690029b16f1a6d1c846bf106a98",
     "grade": false,
     "grade_id": "cell-4575ad5592b311ee",
     "locked": true,
     "schema_version": 3,
     "solution": false,
     "task": false
    }
   },
   "outputs": [],
   "source": [
    "# Importamos algunas de las librerías y clases necesarias para desarrollar la práctica\n",
    "import pandas as pd\n",
    "import numpy as np\n",
    "from sklearn.neighbors import KNeighborsRegressor\n",
    "from sklearn.model_selection import train_test_split\n",
    "from sklearn.preprocessing import StandardScaler\n",
    "from sklearn.metrics import mean_squared_error\n",
    "from test_helper import Test"
   ]
  },
  {
   "cell_type": "markdown",
   "metadata": {
    "deletable": false,
    "editable": false,
    "nbgrader": {
     "cell_type": "markdown",
     "checksum": "55eabb7eeae37aeae021cd3a6e8ac16b",
     "grade": false,
     "grade_id": "cell-9e51b55c82577a25",
     "locked": true,
     "schema_version": 3,
     "solution": false,
     "task": false
    }
   },
   "source": [
    "En esta práctica vamos a utilizar un dataset que ofrece una buena combinación entre variable continuas y categóricas, [*Automobile Data*](https://archive.ics.uci.edu/ml/datasets/automobile). Es un problema de regresión en el que debemos predecir el precio de un coche en base a diferentes variables de entrada (numéricas y categóricas).\n",
    "\n",
    "En primer lugar debemos leer los datos, os facilito los nombres de los atributos puesto que en el .csv no están incluidos.\n",
    "\n",
    "Leer los datos utilizando la función [*read_csv*](https://pandas.pydata.org/pandas-docs/stable/reference/api/pandas.read_csv.html) de Pandas (como no hay nombres de variables el parámetro *header* se debe asignar a *None* y se debe indicar que el símbolo *?* en el .csv denota valores perdidos): \n",
    "\n",
    "Llamad al DataFrame autos y mostrad los 5 primeros ejemplos."
   ]
  },
  {
   "cell_type": "code",
   "execution_count": 135,
   "metadata": {
    "deletable": false,
    "nbgrader": {
     "cell_type": "code",
     "checksum": "dd85ef06c4861a49a8a4f68781b0b7a3",
     "grade": false,
     "grade_id": "cell-13b9c4a95866471b",
     "locked": false,
     "schema_version": 3,
     "solution": true,
     "task": false
    }
   },
   "outputs": [],
   "source": [
    "# Definimos los nombres de los atributos ya que el dataset no los contiene\n",
    "headers = [\"symboling\", \"normalized_losses\", \"make\", \"fuel_type\", \"aspiration\",\n",
    "           \"num_doors\", \"body_style\", \"drive_wheels\", \"engine_location\",\n",
    "           \"wheel_base\", \"length\", \"width\", \"height\", \"curb_weight\",\n",
    "           \"engine_type\", \"num_cylinders\", \"engine_size\", \"fuel_system\",\n",
    "           \"bore\", \"stroke\", \"compression_ratio\", \"horsepower\", \"peak_rpm\",\n",
    "           \"city_mpg\", \"highway_mpg\", \"price\"]\n",
    "\n",
    "autos = pd.read_csv('automobile.csv',header=None,na_values='?',names=headers)\n",
    "atSalida = 'price'"
   ]
  },
  {
   "cell_type": "code",
   "execution_count": 136,
   "metadata": {
    "deletable": false,
    "editable": false,
    "nbgrader": {
     "cell_type": "code",
     "checksum": "6ba48e6bc34e4e8573f8503a3ee58948",
     "grade": true,
     "grade_id": "cell-f4438825a8fc333b",
     "locked": true,
     "points": 1,
     "schema_version": 3,
     "solution": false,
     "task": false
    },
    "scrolled": true
   },
   "outputs": [
    {
     "name": "stdout",
     "output_type": "stream",
     "text": [
      "1 test passed.\n"
     ]
    }
   ],
   "source": [
    "Test.assertEquals(list(map(lambda ind: ind, list(autos.symboling.head(5)))), [3, 3, 1, 2, 2], 'Lectura incorrecta')"
   ]
  },
  {
   "cell_type": "markdown",
   "metadata": {
    "deletable": false,
    "editable": false,
    "nbgrader": {
     "cell_type": "markdown",
     "checksum": "988e73adab744941631e71126ad48321",
     "grade": false,
     "grade_id": "cell-2a3478499bfe031e",
     "locked": true,
     "schema_version": 3,
     "solution": false,
     "task": false
    }
   },
   "source": [
    "En primer lugar, vamos a analizar los tipos de datos almacenados en el DataFrame que acabamos de generar. Para ello se puede visualizar la propiedad *dtypes*."
   ]
  },
  {
   "cell_type": "code",
   "execution_count": 137,
   "metadata": {
    "deletable": false,
    "nbgrader": {
     "cell_type": "code",
     "checksum": "f2a3e82356beedcf69527dc6cd1d60b6",
     "grade": false,
     "grade_id": "cell-b3beab5208b6743d",
     "locked": false,
     "schema_version": 3,
     "solution": true,
     "task": false
    }
   },
   "outputs": [
    {
     "name": "stdout",
     "output_type": "stream",
     "text": [
      "symboling              int64\n",
      "normalized_losses    float64\n",
      "make                  object\n",
      "fuel_type             object\n",
      "aspiration            object\n",
      "num_doors             object\n",
      "body_style            object\n",
      "drive_wheels          object\n",
      "engine_location       object\n",
      "wheel_base           float64\n",
      "length               float64\n",
      "width                float64\n",
      "height               float64\n",
      "curb_weight            int64\n",
      "engine_type           object\n",
      "num_cylinders         object\n",
      "engine_size            int64\n",
      "fuel_system           object\n",
      "bore                 float64\n",
      "stroke               float64\n",
      "compression_ratio    float64\n",
      "horsepower           float64\n",
      "peak_rpm             float64\n",
      "city_mpg               int64\n",
      "highway_mpg            int64\n",
      "price                float64\n",
      "dtype: object\n"
     ]
    }
   ],
   "source": [
    "print(autos.dtypes)"
   ]
  },
  {
   "cell_type": "markdown",
   "metadata": {
    "deletable": false,
    "editable": false,
    "nbgrader": {
     "cell_type": "markdown",
     "checksum": "af23e10aa76071a66c5fc0020c6fdf62",
     "grade": false,
     "grade_id": "cell-ade14f16a54d78d7",
     "locked": true,
     "schema_version": 3,
     "solution": false,
     "task": false
    }
   },
   "source": [
    "Las columnas cuyo tipo de dato sea *object* son posibles variables categóricas. La razón de que solamente sean posibles que si existieran valores perdidos en un atributo numérico y estuviera representado por un string también conllevaría que el tipo de la columna fuera *object*."
   ]
  },
  {
   "cell_type": "markdown",
   "metadata": {
    "deletable": false,
    "editable": false,
    "nbgrader": {
     "cell_type": "markdown",
     "checksum": "b2706516cc671f1b3b29e921fe2b8472",
     "grade": false,
     "grade_id": "cell-b71d741884ce6a32",
     "locked": true,
     "schema_version": 3,
     "solution": false,
     "task": false
    }
   },
   "source": [
    "# Imputación de valores perdidos <a class=\"anchor\" id=\"1\"></a>"
   ]
  },
  {
   "cell_type": "markdown",
   "metadata": {
    "deletable": false,
    "editable": false,
    "nbgrader": {
     "cell_type": "markdown",
     "checksum": "f7a0b2fffc084562d8ce2d0cce00f027",
     "grade": false,
     "grade_id": "cell-dfe273d516560e63",
     "locked": true,
     "schema_version": 3,
     "solution": false,
     "task": false
    }
   },
   "source": [
    "Lo primero que vamos a realizar es ver si la variable a predecir, *price*, contiene valores perdidos o no. En caso de que tenga vamos a eliminar los ejemplos correspondientes puesto que no podemos utilizarlos para resolver nuestro problema de regresión:\n",
    "* El método [*isnull*](https://pandas.pydata.org/pandas-docs/stable/reference/api/pandas.isnull.html) de Pandas determina si los valores de una columna son nulos o no. Si sumamos esa máscara obtendremos el número de valores perdidos.\n",
    "\n",
    "Obtened el número de valores nulos de la variable *price*."
   ]
  },
  {
   "cell_type": "code",
   "execution_count": 138,
   "metadata": {
    "deletable": false,
    "nbgrader": {
     "cell_type": "code",
     "checksum": "eb9fef8e1dc82196628af14b82bcc428",
     "grade": false,
     "grade_id": "cell-1b27f708c3aa16f0",
     "locked": false,
     "schema_version": 3,
     "solution": true,
     "task": false
    }
   },
   "outputs": [],
   "source": [
    "numeroNulosPrice = pd.isnull(autos.price).sum()"
   ]
  },
  {
   "cell_type": "code",
   "execution_count": 139,
   "metadata": {
    "deletable": false,
    "editable": false,
    "nbgrader": {
     "cell_type": "code",
     "checksum": "4ffbe95547d4760c726cf3c2bd3da99a",
     "grade": true,
     "grade_id": "cell-f52b1884e8c7d563",
     "locked": true,
     "points": 1,
     "schema_version": 3,
     "solution": false,
     "task": false
    }
   },
   "outputs": [
    {
     "name": "stdout",
     "output_type": "stream",
     "text": [
      "1 test passed.\n"
     ]
    }
   ],
   "source": [
    "Test.assertEquals(numeroNulosPrice, 4, 'Numero de valores nulos de price incorrecto')"
   ]
  },
  {
   "cell_type": "markdown",
   "metadata": {
    "deletable": false,
    "editable": false,
    "nbgrader": {
     "cell_type": "markdown",
     "checksum": "6f43b810d3eee12aedb391e38f8d22ff",
     "grade": false,
     "grade_id": "cell-aba55599c97b45de",
     "locked": true,
     "schema_version": 3,
     "solution": false,
     "task": false
    }
   },
   "source": [
    "Ahora vamos a obtener los índices de los ejemplos con valores nulos en la variable *price* y los vamos a eliminar."
   ]
  },
  {
   "cell_type": "code",
   "execution_count": 140,
   "metadata": {
    "deletable": false,
    "editable": false,
    "nbgrader": {
     "cell_type": "code",
     "checksum": "11a8a47b56949b58368c817f9647da1d",
     "grade": false,
     "grade_id": "cell-ce95dfe38949a4ef",
     "locked": true,
     "schema_version": 3,
     "solution": false,
     "task": false
    }
   },
   "outputs": [
    {
     "name": "stdout",
     "output_type": "stream",
     "text": [
      "[9, 44, 45, 129]\n"
     ]
    }
   ],
   "source": [
    "indicesNull_price = autos[autos[atSalida].isnull()].index.tolist()\n",
    "print(indicesNull_price)\n",
    "autos.drop(indicesNull_price, inplace=True)"
   ]
  },
  {
   "cell_type": "markdown",
   "metadata": {
    "deletable": false,
    "editable": false,
    "nbgrader": {
     "cell_type": "markdown",
     "checksum": "0286da5c04667582c6cd5d43e273f86c",
     "grade": false,
     "grade_id": "cell-a79ca80384634895",
     "locked": true,
     "schema_version": 3,
     "solution": false,
     "task": false
    }
   },
   "source": [
    "Lo primero que vamos a hacer es dividir el DataFrame en dos: uno con las variables de entrada y otro con la de salida."
   ]
  },
  {
   "cell_type": "code",
   "execution_count": 141,
   "metadata": {
    "deletable": false,
    "nbgrader": {
     "cell_type": "code",
     "checksum": "142c72ba8dfb7c221e5bc368f542717a",
     "grade": false,
     "grade_id": "cell-d778ba1d8e62a57a",
     "locked": false,
     "schema_version": 3,
     "solution": true,
     "task": false
    }
   },
   "outputs": [],
   "source": [
    "# DataFrame con la variable de salida\n",
    "autos_output = autos.price.copy()\n",
    "# DataFrame con la variable de entrada\n",
    "autos = autos.drop(['price'], axis=1).copy()"
   ]
  },
  {
   "cell_type": "markdown",
   "metadata": {
    "deletable": false,
    "editable": false,
    "nbgrader": {
     "cell_type": "markdown",
     "checksum": "b107ab993f845e50703a0d36270a1f06",
     "grade": false,
     "grade_id": "cell-728bfedc8dada786",
     "locked": true,
     "schema_version": 3,
     "solution": false,
     "task": false
    }
   },
   "source": [
    "A continuación vamos a imputar los valores perdidos de las diferentes variables de entrada del problema. Para ello, como hemos mencionado anteriormente, podemos utilizar el método *isnull*. En este caso, vamos a visualizar el número de valores nulos de cada variable del DataFrame *autos*. Si aplicamos *isnull* sin especificar ninguna variable y sumamos el resultado (la máscara booleana) obtenemos una *Serie* cuyo índice son los nombres de las variables y los valores son el número de valores nulos de cada una de ellas.\n",
    "\n",
    "Visualizad el número de valores nulos de cada variable y obtened el número total de valores nulos de este DataFrame (sumad los valores, propiedad *values* de la *Serie* obtenida al visualizar los datos)."
   ]
  },
  {
   "cell_type": "code",
   "execution_count": 142,
   "metadata": {
    "deletable": false,
    "nbgrader": {
     "cell_type": "code",
     "checksum": "b13fab745a91ef803ac1d1ef784e26ee",
     "grade": false,
     "grade_id": "cell-a5cbc21e4d2583b3",
     "locked": false,
     "schema_version": 3,
     "solution": true,
     "task": false
    }
   },
   "outputs": [],
   "source": [
    "# Variables y valores nulos\n",
    "vars_numNulos = pd.isnull(autos).sum()\n",
    "# Número total de valores nulos del DataFrame\n",
    "numNulos = vars_numNulos.sum()"
   ]
  },
  {
   "cell_type": "code",
   "execution_count": 143,
   "metadata": {
    "deletable": false,
    "editable": false,
    "nbgrader": {
     "cell_type": "code",
     "checksum": "3d88974574bfd5f2150ef471a125eab5",
     "grade": true,
     "grade_id": "cell-18e5fc4207f464da",
     "locked": true,
     "points": 1,
     "schema_version": 3,
     "solution": false,
     "task": false
    }
   },
   "outputs": [
    {
     "name": "stdout",
     "output_type": "stream",
     "text": [
      "1 test passed.\n",
      "1 test passed.\n"
     ]
    }
   ],
   "source": [
    "Test.assertEquals(list(map(lambda ind: ind, list(vars_numNulos.values))), [0, 37, 0, 0, 0, 2, 0, 0, 0, 0, 0, 0, 0, 0, 0, 0, 0, 0, 4, 4, 0, 2, 2, 0, 0], 'Numero de nulos por variable incorrecto')\n",
    "Test.assertEquals(numNulos, 51, 'Numero de valores nulos incorrecto')"
   ]
  },
  {
   "cell_type": "markdown",
   "metadata": {
    "deletable": false,
    "editable": false,
    "nbgrader": {
     "cell_type": "markdown",
     "checksum": "127518308b7c68deb11a9accde377d80",
     "grade": false,
     "grade_id": "cell-16deca5206ef34da",
     "locked": true,
     "schema_version": 3,
     "solution": false,
     "task": false
    }
   },
   "source": [
    "Podemos visualizar los ejemplos con valores nulos del siguiente modo."
   ]
  },
  {
   "cell_type": "code",
   "execution_count": 144,
   "metadata": {
    "deletable": false,
    "editable": false,
    "nbgrader": {
     "cell_type": "code",
     "checksum": "41db8bc0407c31f9309333fb6d024067",
     "grade": false,
     "grade_id": "cell-b86b7cfdc1218a12",
     "locked": true,
     "schema_version": 3,
     "solution": false,
     "task": false
    }
   },
   "outputs": [
    {
     "data": {
      "text/html": [
       "<div>\n",
       "<style scoped>\n",
       "    .dataframe tbody tr th:only-of-type {\n",
       "        vertical-align: middle;\n",
       "    }\n",
       "\n",
       "    .dataframe tbody tr th {\n",
       "        vertical-align: top;\n",
       "    }\n",
       "\n",
       "    .dataframe thead th {\n",
       "        text-align: right;\n",
       "    }\n",
       "</style>\n",
       "<table border=\"1\" class=\"dataframe\">\n",
       "  <thead>\n",
       "    <tr style=\"text-align: right;\">\n",
       "      <th></th>\n",
       "      <th>symboling</th>\n",
       "      <th>normalized_losses</th>\n",
       "      <th>make</th>\n",
       "      <th>fuel_type</th>\n",
       "      <th>aspiration</th>\n",
       "      <th>num_doors</th>\n",
       "      <th>body_style</th>\n",
       "      <th>drive_wheels</th>\n",
       "      <th>engine_location</th>\n",
       "      <th>wheel_base</th>\n",
       "      <th>...</th>\n",
       "      <th>num_cylinders</th>\n",
       "      <th>engine_size</th>\n",
       "      <th>fuel_system</th>\n",
       "      <th>bore</th>\n",
       "      <th>stroke</th>\n",
       "      <th>compression_ratio</th>\n",
       "      <th>horsepower</th>\n",
       "      <th>peak_rpm</th>\n",
       "      <th>city_mpg</th>\n",
       "      <th>highway_mpg</th>\n",
       "    </tr>\n",
       "  </thead>\n",
       "  <tbody>\n",
       "    <tr>\n",
       "      <td>0</td>\n",
       "      <td>3</td>\n",
       "      <td>NaN</td>\n",
       "      <td>alfa-romero</td>\n",
       "      <td>gas</td>\n",
       "      <td>std</td>\n",
       "      <td>two</td>\n",
       "      <td>convertible</td>\n",
       "      <td>rwd</td>\n",
       "      <td>front</td>\n",
       "      <td>88.6</td>\n",
       "      <td>...</td>\n",
       "      <td>four</td>\n",
       "      <td>130</td>\n",
       "      <td>mpfi</td>\n",
       "      <td>3.47</td>\n",
       "      <td>2.68</td>\n",
       "      <td>9.0</td>\n",
       "      <td>111.0</td>\n",
       "      <td>5000.0</td>\n",
       "      <td>21</td>\n",
       "      <td>27</td>\n",
       "    </tr>\n",
       "    <tr>\n",
       "      <td>1</td>\n",
       "      <td>3</td>\n",
       "      <td>NaN</td>\n",
       "      <td>alfa-romero</td>\n",
       "      <td>gas</td>\n",
       "      <td>std</td>\n",
       "      <td>two</td>\n",
       "      <td>convertible</td>\n",
       "      <td>rwd</td>\n",
       "      <td>front</td>\n",
       "      <td>88.6</td>\n",
       "      <td>...</td>\n",
       "      <td>four</td>\n",
       "      <td>130</td>\n",
       "      <td>mpfi</td>\n",
       "      <td>3.47</td>\n",
       "      <td>2.68</td>\n",
       "      <td>9.0</td>\n",
       "      <td>111.0</td>\n",
       "      <td>5000.0</td>\n",
       "      <td>21</td>\n",
       "      <td>27</td>\n",
       "    </tr>\n",
       "    <tr>\n",
       "      <td>2</td>\n",
       "      <td>1</td>\n",
       "      <td>NaN</td>\n",
       "      <td>alfa-romero</td>\n",
       "      <td>gas</td>\n",
       "      <td>std</td>\n",
       "      <td>two</td>\n",
       "      <td>hatchback</td>\n",
       "      <td>rwd</td>\n",
       "      <td>front</td>\n",
       "      <td>94.5</td>\n",
       "      <td>...</td>\n",
       "      <td>six</td>\n",
       "      <td>152</td>\n",
       "      <td>mpfi</td>\n",
       "      <td>2.68</td>\n",
       "      <td>3.47</td>\n",
       "      <td>9.0</td>\n",
       "      <td>154.0</td>\n",
       "      <td>5000.0</td>\n",
       "      <td>19</td>\n",
       "      <td>26</td>\n",
       "    </tr>\n",
       "    <tr>\n",
       "      <td>5</td>\n",
       "      <td>2</td>\n",
       "      <td>NaN</td>\n",
       "      <td>audi</td>\n",
       "      <td>gas</td>\n",
       "      <td>std</td>\n",
       "      <td>two</td>\n",
       "      <td>sedan</td>\n",
       "      <td>fwd</td>\n",
       "      <td>front</td>\n",
       "      <td>99.8</td>\n",
       "      <td>...</td>\n",
       "      <td>five</td>\n",
       "      <td>136</td>\n",
       "      <td>mpfi</td>\n",
       "      <td>3.19</td>\n",
       "      <td>3.40</td>\n",
       "      <td>8.5</td>\n",
       "      <td>110.0</td>\n",
       "      <td>5500.0</td>\n",
       "      <td>19</td>\n",
       "      <td>25</td>\n",
       "    </tr>\n",
       "    <tr>\n",
       "      <td>7</td>\n",
       "      <td>1</td>\n",
       "      <td>NaN</td>\n",
       "      <td>audi</td>\n",
       "      <td>gas</td>\n",
       "      <td>std</td>\n",
       "      <td>four</td>\n",
       "      <td>wagon</td>\n",
       "      <td>fwd</td>\n",
       "      <td>front</td>\n",
       "      <td>105.8</td>\n",
       "      <td>...</td>\n",
       "      <td>five</td>\n",
       "      <td>136</td>\n",
       "      <td>mpfi</td>\n",
       "      <td>3.19</td>\n",
       "      <td>3.40</td>\n",
       "      <td>8.5</td>\n",
       "      <td>110.0</td>\n",
       "      <td>5500.0</td>\n",
       "      <td>19</td>\n",
       "      <td>25</td>\n",
       "    </tr>\n",
       "    <tr>\n",
       "      <td>14</td>\n",
       "      <td>1</td>\n",
       "      <td>NaN</td>\n",
       "      <td>bmw</td>\n",
       "      <td>gas</td>\n",
       "      <td>std</td>\n",
       "      <td>four</td>\n",
       "      <td>sedan</td>\n",
       "      <td>rwd</td>\n",
       "      <td>front</td>\n",
       "      <td>103.5</td>\n",
       "      <td>...</td>\n",
       "      <td>six</td>\n",
       "      <td>164</td>\n",
       "      <td>mpfi</td>\n",
       "      <td>3.31</td>\n",
       "      <td>3.19</td>\n",
       "      <td>9.0</td>\n",
       "      <td>121.0</td>\n",
       "      <td>4250.0</td>\n",
       "      <td>20</td>\n",
       "      <td>25</td>\n",
       "    </tr>\n",
       "    <tr>\n",
       "      <td>15</td>\n",
       "      <td>0</td>\n",
       "      <td>NaN</td>\n",
       "      <td>bmw</td>\n",
       "      <td>gas</td>\n",
       "      <td>std</td>\n",
       "      <td>four</td>\n",
       "      <td>sedan</td>\n",
       "      <td>rwd</td>\n",
       "      <td>front</td>\n",
       "      <td>103.5</td>\n",
       "      <td>...</td>\n",
       "      <td>six</td>\n",
       "      <td>209</td>\n",
       "      <td>mpfi</td>\n",
       "      <td>3.62</td>\n",
       "      <td>3.39</td>\n",
       "      <td>8.0</td>\n",
       "      <td>182.0</td>\n",
       "      <td>5400.0</td>\n",
       "      <td>16</td>\n",
       "      <td>22</td>\n",
       "    </tr>\n",
       "    <tr>\n",
       "      <td>16</td>\n",
       "      <td>0</td>\n",
       "      <td>NaN</td>\n",
       "      <td>bmw</td>\n",
       "      <td>gas</td>\n",
       "      <td>std</td>\n",
       "      <td>two</td>\n",
       "      <td>sedan</td>\n",
       "      <td>rwd</td>\n",
       "      <td>front</td>\n",
       "      <td>103.5</td>\n",
       "      <td>...</td>\n",
       "      <td>six</td>\n",
       "      <td>209</td>\n",
       "      <td>mpfi</td>\n",
       "      <td>3.62</td>\n",
       "      <td>3.39</td>\n",
       "      <td>8.0</td>\n",
       "      <td>182.0</td>\n",
       "      <td>5400.0</td>\n",
       "      <td>16</td>\n",
       "      <td>22</td>\n",
       "    </tr>\n",
       "    <tr>\n",
       "      <td>17</td>\n",
       "      <td>0</td>\n",
       "      <td>NaN</td>\n",
       "      <td>bmw</td>\n",
       "      <td>gas</td>\n",
       "      <td>std</td>\n",
       "      <td>four</td>\n",
       "      <td>sedan</td>\n",
       "      <td>rwd</td>\n",
       "      <td>front</td>\n",
       "      <td>110.0</td>\n",
       "      <td>...</td>\n",
       "      <td>six</td>\n",
       "      <td>209</td>\n",
       "      <td>mpfi</td>\n",
       "      <td>3.62</td>\n",
       "      <td>3.39</td>\n",
       "      <td>8.0</td>\n",
       "      <td>182.0</td>\n",
       "      <td>5400.0</td>\n",
       "      <td>15</td>\n",
       "      <td>20</td>\n",
       "    </tr>\n",
       "    <tr>\n",
       "      <td>27</td>\n",
       "      <td>1</td>\n",
       "      <td>148.0</td>\n",
       "      <td>dodge</td>\n",
       "      <td>gas</td>\n",
       "      <td>turbo</td>\n",
       "      <td>NaN</td>\n",
       "      <td>sedan</td>\n",
       "      <td>fwd</td>\n",
       "      <td>front</td>\n",
       "      <td>93.7</td>\n",
       "      <td>...</td>\n",
       "      <td>four</td>\n",
       "      <td>98</td>\n",
       "      <td>mpfi</td>\n",
       "      <td>3.03</td>\n",
       "      <td>3.39</td>\n",
       "      <td>7.6</td>\n",
       "      <td>102.0</td>\n",
       "      <td>5500.0</td>\n",
       "      <td>24</td>\n",
       "      <td>30</td>\n",
       "    </tr>\n",
       "    <tr>\n",
       "      <td>43</td>\n",
       "      <td>0</td>\n",
       "      <td>NaN</td>\n",
       "      <td>isuzu</td>\n",
       "      <td>gas</td>\n",
       "      <td>std</td>\n",
       "      <td>four</td>\n",
       "      <td>sedan</td>\n",
       "      <td>rwd</td>\n",
       "      <td>front</td>\n",
       "      <td>94.3</td>\n",
       "      <td>...</td>\n",
       "      <td>four</td>\n",
       "      <td>111</td>\n",
       "      <td>2bbl</td>\n",
       "      <td>3.31</td>\n",
       "      <td>3.23</td>\n",
       "      <td>8.5</td>\n",
       "      <td>78.0</td>\n",
       "      <td>4800.0</td>\n",
       "      <td>24</td>\n",
       "      <td>29</td>\n",
       "    </tr>\n",
       "    <tr>\n",
       "      <td>46</td>\n",
       "      <td>2</td>\n",
       "      <td>NaN</td>\n",
       "      <td>isuzu</td>\n",
       "      <td>gas</td>\n",
       "      <td>std</td>\n",
       "      <td>two</td>\n",
       "      <td>hatchback</td>\n",
       "      <td>rwd</td>\n",
       "      <td>front</td>\n",
       "      <td>96.0</td>\n",
       "      <td>...</td>\n",
       "      <td>four</td>\n",
       "      <td>119</td>\n",
       "      <td>spfi</td>\n",
       "      <td>3.43</td>\n",
       "      <td>3.23</td>\n",
       "      <td>9.2</td>\n",
       "      <td>90.0</td>\n",
       "      <td>5000.0</td>\n",
       "      <td>24</td>\n",
       "      <td>29</td>\n",
       "    </tr>\n",
       "    <tr>\n",
       "      <td>48</td>\n",
       "      <td>0</td>\n",
       "      <td>NaN</td>\n",
       "      <td>jaguar</td>\n",
       "      <td>gas</td>\n",
       "      <td>std</td>\n",
       "      <td>four</td>\n",
       "      <td>sedan</td>\n",
       "      <td>rwd</td>\n",
       "      <td>front</td>\n",
       "      <td>113.0</td>\n",
       "      <td>...</td>\n",
       "      <td>six</td>\n",
       "      <td>258</td>\n",
       "      <td>mpfi</td>\n",
       "      <td>3.63</td>\n",
       "      <td>4.17</td>\n",
       "      <td>8.1</td>\n",
       "      <td>176.0</td>\n",
       "      <td>4750.0</td>\n",
       "      <td>15</td>\n",
       "      <td>19</td>\n",
       "    </tr>\n",
       "    <tr>\n",
       "      <td>49</td>\n",
       "      <td>0</td>\n",
       "      <td>NaN</td>\n",
       "      <td>jaguar</td>\n",
       "      <td>gas</td>\n",
       "      <td>std</td>\n",
       "      <td>two</td>\n",
       "      <td>sedan</td>\n",
       "      <td>rwd</td>\n",
       "      <td>front</td>\n",
       "      <td>102.0</td>\n",
       "      <td>...</td>\n",
       "      <td>twelve</td>\n",
       "      <td>326</td>\n",
       "      <td>mpfi</td>\n",
       "      <td>3.54</td>\n",
       "      <td>2.76</td>\n",
       "      <td>11.5</td>\n",
       "      <td>262.0</td>\n",
       "      <td>5000.0</td>\n",
       "      <td>13</td>\n",
       "      <td>17</td>\n",
       "    </tr>\n",
       "    <tr>\n",
       "      <td>55</td>\n",
       "      <td>3</td>\n",
       "      <td>150.0</td>\n",
       "      <td>mazda</td>\n",
       "      <td>gas</td>\n",
       "      <td>std</td>\n",
       "      <td>two</td>\n",
       "      <td>hatchback</td>\n",
       "      <td>rwd</td>\n",
       "      <td>front</td>\n",
       "      <td>95.3</td>\n",
       "      <td>...</td>\n",
       "      <td>two</td>\n",
       "      <td>70</td>\n",
       "      <td>4bbl</td>\n",
       "      <td>NaN</td>\n",
       "      <td>NaN</td>\n",
       "      <td>9.4</td>\n",
       "      <td>101.0</td>\n",
       "      <td>6000.0</td>\n",
       "      <td>17</td>\n",
       "      <td>23</td>\n",
       "    </tr>\n",
       "    <tr>\n",
       "      <td>56</td>\n",
       "      <td>3</td>\n",
       "      <td>150.0</td>\n",
       "      <td>mazda</td>\n",
       "      <td>gas</td>\n",
       "      <td>std</td>\n",
       "      <td>two</td>\n",
       "      <td>hatchback</td>\n",
       "      <td>rwd</td>\n",
       "      <td>front</td>\n",
       "      <td>95.3</td>\n",
       "      <td>...</td>\n",
       "      <td>two</td>\n",
       "      <td>70</td>\n",
       "      <td>4bbl</td>\n",
       "      <td>NaN</td>\n",
       "      <td>NaN</td>\n",
       "      <td>9.4</td>\n",
       "      <td>101.0</td>\n",
       "      <td>6000.0</td>\n",
       "      <td>17</td>\n",
       "      <td>23</td>\n",
       "    </tr>\n",
       "    <tr>\n",
       "      <td>57</td>\n",
       "      <td>3</td>\n",
       "      <td>150.0</td>\n",
       "      <td>mazda</td>\n",
       "      <td>gas</td>\n",
       "      <td>std</td>\n",
       "      <td>two</td>\n",
       "      <td>hatchback</td>\n",
       "      <td>rwd</td>\n",
       "      <td>front</td>\n",
       "      <td>95.3</td>\n",
       "      <td>...</td>\n",
       "      <td>two</td>\n",
       "      <td>70</td>\n",
       "      <td>4bbl</td>\n",
       "      <td>NaN</td>\n",
       "      <td>NaN</td>\n",
       "      <td>9.4</td>\n",
       "      <td>101.0</td>\n",
       "      <td>6000.0</td>\n",
       "      <td>17</td>\n",
       "      <td>23</td>\n",
       "    </tr>\n",
       "    <tr>\n",
       "      <td>58</td>\n",
       "      <td>3</td>\n",
       "      <td>150.0</td>\n",
       "      <td>mazda</td>\n",
       "      <td>gas</td>\n",
       "      <td>std</td>\n",
       "      <td>two</td>\n",
       "      <td>hatchback</td>\n",
       "      <td>rwd</td>\n",
       "      <td>front</td>\n",
       "      <td>95.3</td>\n",
       "      <td>...</td>\n",
       "      <td>two</td>\n",
       "      <td>80</td>\n",
       "      <td>mpfi</td>\n",
       "      <td>NaN</td>\n",
       "      <td>NaN</td>\n",
       "      <td>9.4</td>\n",
       "      <td>135.0</td>\n",
       "      <td>6000.0</td>\n",
       "      <td>16</td>\n",
       "      <td>23</td>\n",
       "    </tr>\n",
       "    <tr>\n",
       "      <td>63</td>\n",
       "      <td>0</td>\n",
       "      <td>NaN</td>\n",
       "      <td>mazda</td>\n",
       "      <td>diesel</td>\n",
       "      <td>std</td>\n",
       "      <td>NaN</td>\n",
       "      <td>sedan</td>\n",
       "      <td>fwd</td>\n",
       "      <td>front</td>\n",
       "      <td>98.8</td>\n",
       "      <td>...</td>\n",
       "      <td>four</td>\n",
       "      <td>122</td>\n",
       "      <td>idi</td>\n",
       "      <td>3.39</td>\n",
       "      <td>3.39</td>\n",
       "      <td>22.7</td>\n",
       "      <td>64.0</td>\n",
       "      <td>4650.0</td>\n",
       "      <td>36</td>\n",
       "      <td>42</td>\n",
       "    </tr>\n",
       "    <tr>\n",
       "      <td>66</td>\n",
       "      <td>0</td>\n",
       "      <td>NaN</td>\n",
       "      <td>mazda</td>\n",
       "      <td>diesel</td>\n",
       "      <td>std</td>\n",
       "      <td>four</td>\n",
       "      <td>sedan</td>\n",
       "      <td>rwd</td>\n",
       "      <td>front</td>\n",
       "      <td>104.9</td>\n",
       "      <td>...</td>\n",
       "      <td>four</td>\n",
       "      <td>134</td>\n",
       "      <td>idi</td>\n",
       "      <td>3.43</td>\n",
       "      <td>3.64</td>\n",
       "      <td>22.0</td>\n",
       "      <td>72.0</td>\n",
       "      <td>4200.0</td>\n",
       "      <td>31</td>\n",
       "      <td>39</td>\n",
       "    </tr>\n",
       "    <tr>\n",
       "      <td>71</td>\n",
       "      <td>-1</td>\n",
       "      <td>NaN</td>\n",
       "      <td>mercedes-benz</td>\n",
       "      <td>gas</td>\n",
       "      <td>std</td>\n",
       "      <td>four</td>\n",
       "      <td>sedan</td>\n",
       "      <td>rwd</td>\n",
       "      <td>front</td>\n",
       "      <td>115.6</td>\n",
       "      <td>...</td>\n",
       "      <td>eight</td>\n",
       "      <td>234</td>\n",
       "      <td>mpfi</td>\n",
       "      <td>3.46</td>\n",
       "      <td>3.10</td>\n",
       "      <td>8.3</td>\n",
       "      <td>155.0</td>\n",
       "      <td>4750.0</td>\n",
       "      <td>16</td>\n",
       "      <td>18</td>\n",
       "    </tr>\n",
       "    <tr>\n",
       "      <td>73</td>\n",
       "      <td>0</td>\n",
       "      <td>NaN</td>\n",
       "      <td>mercedes-benz</td>\n",
       "      <td>gas</td>\n",
       "      <td>std</td>\n",
       "      <td>four</td>\n",
       "      <td>sedan</td>\n",
       "      <td>rwd</td>\n",
       "      <td>front</td>\n",
       "      <td>120.9</td>\n",
       "      <td>...</td>\n",
       "      <td>eight</td>\n",
       "      <td>308</td>\n",
       "      <td>mpfi</td>\n",
       "      <td>3.80</td>\n",
       "      <td>3.35</td>\n",
       "      <td>8.0</td>\n",
       "      <td>184.0</td>\n",
       "      <td>4500.0</td>\n",
       "      <td>14</td>\n",
       "      <td>16</td>\n",
       "    </tr>\n",
       "    <tr>\n",
       "      <td>74</td>\n",
       "      <td>1</td>\n",
       "      <td>NaN</td>\n",
       "      <td>mercedes-benz</td>\n",
       "      <td>gas</td>\n",
       "      <td>std</td>\n",
       "      <td>two</td>\n",
       "      <td>hardtop</td>\n",
       "      <td>rwd</td>\n",
       "      <td>front</td>\n",
       "      <td>112.0</td>\n",
       "      <td>...</td>\n",
       "      <td>eight</td>\n",
       "      <td>304</td>\n",
       "      <td>mpfi</td>\n",
       "      <td>3.80</td>\n",
       "      <td>3.35</td>\n",
       "      <td>8.0</td>\n",
       "      <td>184.0</td>\n",
       "      <td>4500.0</td>\n",
       "      <td>14</td>\n",
       "      <td>16</td>\n",
       "    </tr>\n",
       "    <tr>\n",
       "      <td>75</td>\n",
       "      <td>1</td>\n",
       "      <td>NaN</td>\n",
       "      <td>mercury</td>\n",
       "      <td>gas</td>\n",
       "      <td>turbo</td>\n",
       "      <td>two</td>\n",
       "      <td>hatchback</td>\n",
       "      <td>rwd</td>\n",
       "      <td>front</td>\n",
       "      <td>102.7</td>\n",
       "      <td>...</td>\n",
       "      <td>four</td>\n",
       "      <td>140</td>\n",
       "      <td>mpfi</td>\n",
       "      <td>3.78</td>\n",
       "      <td>3.12</td>\n",
       "      <td>8.0</td>\n",
       "      <td>175.0</td>\n",
       "      <td>5000.0</td>\n",
       "      <td>19</td>\n",
       "      <td>24</td>\n",
       "    </tr>\n",
       "    <tr>\n",
       "      <td>82</td>\n",
       "      <td>3</td>\n",
       "      <td>NaN</td>\n",
       "      <td>mitsubishi</td>\n",
       "      <td>gas</td>\n",
       "      <td>turbo</td>\n",
       "      <td>two</td>\n",
       "      <td>hatchback</td>\n",
       "      <td>fwd</td>\n",
       "      <td>front</td>\n",
       "      <td>95.9</td>\n",
       "      <td>...</td>\n",
       "      <td>four</td>\n",
       "      <td>156</td>\n",
       "      <td>spdi</td>\n",
       "      <td>3.58</td>\n",
       "      <td>3.86</td>\n",
       "      <td>7.0</td>\n",
       "      <td>145.0</td>\n",
       "      <td>5000.0</td>\n",
       "      <td>19</td>\n",
       "      <td>24</td>\n",
       "    </tr>\n",
       "    <tr>\n",
       "      <td>83</td>\n",
       "      <td>3</td>\n",
       "      <td>NaN</td>\n",
       "      <td>mitsubishi</td>\n",
       "      <td>gas</td>\n",
       "      <td>turbo</td>\n",
       "      <td>two</td>\n",
       "      <td>hatchback</td>\n",
       "      <td>fwd</td>\n",
       "      <td>front</td>\n",
       "      <td>95.9</td>\n",
       "      <td>...</td>\n",
       "      <td>four</td>\n",
       "      <td>156</td>\n",
       "      <td>spdi</td>\n",
       "      <td>3.59</td>\n",
       "      <td>3.86</td>\n",
       "      <td>7.0</td>\n",
       "      <td>145.0</td>\n",
       "      <td>5000.0</td>\n",
       "      <td>19</td>\n",
       "      <td>24</td>\n",
       "    </tr>\n",
       "    <tr>\n",
       "      <td>84</td>\n",
       "      <td>3</td>\n",
       "      <td>NaN</td>\n",
       "      <td>mitsubishi</td>\n",
       "      <td>gas</td>\n",
       "      <td>turbo</td>\n",
       "      <td>two</td>\n",
       "      <td>hatchback</td>\n",
       "      <td>fwd</td>\n",
       "      <td>front</td>\n",
       "      <td>95.9</td>\n",
       "      <td>...</td>\n",
       "      <td>four</td>\n",
       "      <td>156</td>\n",
       "      <td>spdi</td>\n",
       "      <td>3.59</td>\n",
       "      <td>3.86</td>\n",
       "      <td>7.0</td>\n",
       "      <td>145.0</td>\n",
       "      <td>5000.0</td>\n",
       "      <td>19</td>\n",
       "      <td>24</td>\n",
       "    </tr>\n",
       "    <tr>\n",
       "      <td>109</td>\n",
       "      <td>0</td>\n",
       "      <td>NaN</td>\n",
       "      <td>peugot</td>\n",
       "      <td>gas</td>\n",
       "      <td>std</td>\n",
       "      <td>four</td>\n",
       "      <td>wagon</td>\n",
       "      <td>rwd</td>\n",
       "      <td>front</td>\n",
       "      <td>114.2</td>\n",
       "      <td>...</td>\n",
       "      <td>four</td>\n",
       "      <td>120</td>\n",
       "      <td>mpfi</td>\n",
       "      <td>3.46</td>\n",
       "      <td>3.19</td>\n",
       "      <td>8.4</td>\n",
       "      <td>97.0</td>\n",
       "      <td>5000.0</td>\n",
       "      <td>19</td>\n",
       "      <td>24</td>\n",
       "    </tr>\n",
       "    <tr>\n",
       "      <td>110</td>\n",
       "      <td>0</td>\n",
       "      <td>NaN</td>\n",
       "      <td>peugot</td>\n",
       "      <td>diesel</td>\n",
       "      <td>turbo</td>\n",
       "      <td>four</td>\n",
       "      <td>wagon</td>\n",
       "      <td>rwd</td>\n",
       "      <td>front</td>\n",
       "      <td>114.2</td>\n",
       "      <td>...</td>\n",
       "      <td>four</td>\n",
       "      <td>152</td>\n",
       "      <td>idi</td>\n",
       "      <td>3.70</td>\n",
       "      <td>3.52</td>\n",
       "      <td>21.0</td>\n",
       "      <td>95.0</td>\n",
       "      <td>4150.0</td>\n",
       "      <td>25</td>\n",
       "      <td>25</td>\n",
       "    </tr>\n",
       "    <tr>\n",
       "      <td>113</td>\n",
       "      <td>0</td>\n",
       "      <td>NaN</td>\n",
       "      <td>peugot</td>\n",
       "      <td>gas</td>\n",
       "      <td>std</td>\n",
       "      <td>four</td>\n",
       "      <td>wagon</td>\n",
       "      <td>rwd</td>\n",
       "      <td>front</td>\n",
       "      <td>114.2</td>\n",
       "      <td>...</td>\n",
       "      <td>four</td>\n",
       "      <td>120</td>\n",
       "      <td>mpfi</td>\n",
       "      <td>3.46</td>\n",
       "      <td>2.19</td>\n",
       "      <td>8.4</td>\n",
       "      <td>95.0</td>\n",
       "      <td>5000.0</td>\n",
       "      <td>19</td>\n",
       "      <td>24</td>\n",
       "    </tr>\n",
       "    <tr>\n",
       "      <td>114</td>\n",
       "      <td>0</td>\n",
       "      <td>NaN</td>\n",
       "      <td>peugot</td>\n",
       "      <td>diesel</td>\n",
       "      <td>turbo</td>\n",
       "      <td>four</td>\n",
       "      <td>wagon</td>\n",
       "      <td>rwd</td>\n",
       "      <td>front</td>\n",
       "      <td>114.2</td>\n",
       "      <td>...</td>\n",
       "      <td>four</td>\n",
       "      <td>152</td>\n",
       "      <td>idi</td>\n",
       "      <td>3.70</td>\n",
       "      <td>3.52</td>\n",
       "      <td>21.0</td>\n",
       "      <td>95.0</td>\n",
       "      <td>4150.0</td>\n",
       "      <td>25</td>\n",
       "      <td>25</td>\n",
       "    </tr>\n",
       "    <tr>\n",
       "      <td>124</td>\n",
       "      <td>3</td>\n",
       "      <td>NaN</td>\n",
       "      <td>plymouth</td>\n",
       "      <td>gas</td>\n",
       "      <td>turbo</td>\n",
       "      <td>two</td>\n",
       "      <td>hatchback</td>\n",
       "      <td>rwd</td>\n",
       "      <td>front</td>\n",
       "      <td>95.9</td>\n",
       "      <td>...</td>\n",
       "      <td>four</td>\n",
       "      <td>156</td>\n",
       "      <td>spdi</td>\n",
       "      <td>3.59</td>\n",
       "      <td>3.86</td>\n",
       "      <td>7.0</td>\n",
       "      <td>145.0</td>\n",
       "      <td>5000.0</td>\n",
       "      <td>19</td>\n",
       "      <td>24</td>\n",
       "    </tr>\n",
       "    <tr>\n",
       "      <td>126</td>\n",
       "      <td>3</td>\n",
       "      <td>NaN</td>\n",
       "      <td>porsche</td>\n",
       "      <td>gas</td>\n",
       "      <td>std</td>\n",
       "      <td>two</td>\n",
       "      <td>hardtop</td>\n",
       "      <td>rwd</td>\n",
       "      <td>rear</td>\n",
       "      <td>89.5</td>\n",
       "      <td>...</td>\n",
       "      <td>six</td>\n",
       "      <td>194</td>\n",
       "      <td>mpfi</td>\n",
       "      <td>3.74</td>\n",
       "      <td>2.90</td>\n",
       "      <td>9.5</td>\n",
       "      <td>207.0</td>\n",
       "      <td>5900.0</td>\n",
       "      <td>17</td>\n",
       "      <td>25</td>\n",
       "    </tr>\n",
       "    <tr>\n",
       "      <td>127</td>\n",
       "      <td>3</td>\n",
       "      <td>NaN</td>\n",
       "      <td>porsche</td>\n",
       "      <td>gas</td>\n",
       "      <td>std</td>\n",
       "      <td>two</td>\n",
       "      <td>hardtop</td>\n",
       "      <td>rwd</td>\n",
       "      <td>rear</td>\n",
       "      <td>89.5</td>\n",
       "      <td>...</td>\n",
       "      <td>six</td>\n",
       "      <td>194</td>\n",
       "      <td>mpfi</td>\n",
       "      <td>3.74</td>\n",
       "      <td>2.90</td>\n",
       "      <td>9.5</td>\n",
       "      <td>207.0</td>\n",
       "      <td>5900.0</td>\n",
       "      <td>17</td>\n",
       "      <td>25</td>\n",
       "    </tr>\n",
       "    <tr>\n",
       "      <td>128</td>\n",
       "      <td>3</td>\n",
       "      <td>NaN</td>\n",
       "      <td>porsche</td>\n",
       "      <td>gas</td>\n",
       "      <td>std</td>\n",
       "      <td>two</td>\n",
       "      <td>convertible</td>\n",
       "      <td>rwd</td>\n",
       "      <td>rear</td>\n",
       "      <td>89.5</td>\n",
       "      <td>...</td>\n",
       "      <td>six</td>\n",
       "      <td>194</td>\n",
       "      <td>mpfi</td>\n",
       "      <td>3.74</td>\n",
       "      <td>2.90</td>\n",
       "      <td>9.5</td>\n",
       "      <td>207.0</td>\n",
       "      <td>5900.0</td>\n",
       "      <td>17</td>\n",
       "      <td>25</td>\n",
       "    </tr>\n",
       "    <tr>\n",
       "      <td>130</td>\n",
       "      <td>0</td>\n",
       "      <td>NaN</td>\n",
       "      <td>renault</td>\n",
       "      <td>gas</td>\n",
       "      <td>std</td>\n",
       "      <td>four</td>\n",
       "      <td>wagon</td>\n",
       "      <td>fwd</td>\n",
       "      <td>front</td>\n",
       "      <td>96.1</td>\n",
       "      <td>...</td>\n",
       "      <td>four</td>\n",
       "      <td>132</td>\n",
       "      <td>mpfi</td>\n",
       "      <td>3.46</td>\n",
       "      <td>3.90</td>\n",
       "      <td>8.7</td>\n",
       "      <td>NaN</td>\n",
       "      <td>NaN</td>\n",
       "      <td>23</td>\n",
       "      <td>31</td>\n",
       "    </tr>\n",
       "    <tr>\n",
       "      <td>131</td>\n",
       "      <td>2</td>\n",
       "      <td>NaN</td>\n",
       "      <td>renault</td>\n",
       "      <td>gas</td>\n",
       "      <td>std</td>\n",
       "      <td>two</td>\n",
       "      <td>hatchback</td>\n",
       "      <td>fwd</td>\n",
       "      <td>front</td>\n",
       "      <td>96.1</td>\n",
       "      <td>...</td>\n",
       "      <td>four</td>\n",
       "      <td>132</td>\n",
       "      <td>mpfi</td>\n",
       "      <td>3.46</td>\n",
       "      <td>3.90</td>\n",
       "      <td>8.7</td>\n",
       "      <td>NaN</td>\n",
       "      <td>NaN</td>\n",
       "      <td>23</td>\n",
       "      <td>31</td>\n",
       "    </tr>\n",
       "    <tr>\n",
       "      <td>181</td>\n",
       "      <td>-1</td>\n",
       "      <td>NaN</td>\n",
       "      <td>toyota</td>\n",
       "      <td>gas</td>\n",
       "      <td>std</td>\n",
       "      <td>four</td>\n",
       "      <td>wagon</td>\n",
       "      <td>rwd</td>\n",
       "      <td>front</td>\n",
       "      <td>104.5</td>\n",
       "      <td>...</td>\n",
       "      <td>six</td>\n",
       "      <td>161</td>\n",
       "      <td>mpfi</td>\n",
       "      <td>3.27</td>\n",
       "      <td>3.35</td>\n",
       "      <td>9.2</td>\n",
       "      <td>156.0</td>\n",
       "      <td>5200.0</td>\n",
       "      <td>19</td>\n",
       "      <td>24</td>\n",
       "    </tr>\n",
       "    <tr>\n",
       "      <td>189</td>\n",
       "      <td>3</td>\n",
       "      <td>NaN</td>\n",
       "      <td>volkswagen</td>\n",
       "      <td>gas</td>\n",
       "      <td>std</td>\n",
       "      <td>two</td>\n",
       "      <td>convertible</td>\n",
       "      <td>fwd</td>\n",
       "      <td>front</td>\n",
       "      <td>94.5</td>\n",
       "      <td>...</td>\n",
       "      <td>four</td>\n",
       "      <td>109</td>\n",
       "      <td>mpfi</td>\n",
       "      <td>3.19</td>\n",
       "      <td>3.40</td>\n",
       "      <td>8.5</td>\n",
       "      <td>90.0</td>\n",
       "      <td>5500.0</td>\n",
       "      <td>24</td>\n",
       "      <td>29</td>\n",
       "    </tr>\n",
       "    <tr>\n",
       "      <td>191</td>\n",
       "      <td>0</td>\n",
       "      <td>NaN</td>\n",
       "      <td>volkswagen</td>\n",
       "      <td>gas</td>\n",
       "      <td>std</td>\n",
       "      <td>four</td>\n",
       "      <td>sedan</td>\n",
       "      <td>fwd</td>\n",
       "      <td>front</td>\n",
       "      <td>100.4</td>\n",
       "      <td>...</td>\n",
       "      <td>five</td>\n",
       "      <td>136</td>\n",
       "      <td>mpfi</td>\n",
       "      <td>3.19</td>\n",
       "      <td>3.40</td>\n",
       "      <td>8.5</td>\n",
       "      <td>110.0</td>\n",
       "      <td>5500.0</td>\n",
       "      <td>19</td>\n",
       "      <td>24</td>\n",
       "    </tr>\n",
       "    <tr>\n",
       "      <td>192</td>\n",
       "      <td>0</td>\n",
       "      <td>NaN</td>\n",
       "      <td>volkswagen</td>\n",
       "      <td>diesel</td>\n",
       "      <td>turbo</td>\n",
       "      <td>four</td>\n",
       "      <td>sedan</td>\n",
       "      <td>fwd</td>\n",
       "      <td>front</td>\n",
       "      <td>100.4</td>\n",
       "      <td>...</td>\n",
       "      <td>four</td>\n",
       "      <td>97</td>\n",
       "      <td>idi</td>\n",
       "      <td>3.01</td>\n",
       "      <td>3.40</td>\n",
       "      <td>23.0</td>\n",
       "      <td>68.0</td>\n",
       "      <td>4500.0</td>\n",
       "      <td>33</td>\n",
       "      <td>38</td>\n",
       "    </tr>\n",
       "    <tr>\n",
       "      <td>193</td>\n",
       "      <td>0</td>\n",
       "      <td>NaN</td>\n",
       "      <td>volkswagen</td>\n",
       "      <td>gas</td>\n",
       "      <td>std</td>\n",
       "      <td>four</td>\n",
       "      <td>wagon</td>\n",
       "      <td>fwd</td>\n",
       "      <td>front</td>\n",
       "      <td>100.4</td>\n",
       "      <td>...</td>\n",
       "      <td>four</td>\n",
       "      <td>109</td>\n",
       "      <td>mpfi</td>\n",
       "      <td>3.19</td>\n",
       "      <td>3.40</td>\n",
       "      <td>9.0</td>\n",
       "      <td>88.0</td>\n",
       "      <td>5500.0</td>\n",
       "      <td>25</td>\n",
       "      <td>31</td>\n",
       "    </tr>\n",
       "  </tbody>\n",
       "</table>\n",
       "<p>42 rows × 25 columns</p>\n",
       "</div>"
      ],
      "text/plain": [
       "     symboling  normalized_losses           make fuel_type aspiration  \\\n",
       "0            3                NaN    alfa-romero       gas        std   \n",
       "1            3                NaN    alfa-romero       gas        std   \n",
       "2            1                NaN    alfa-romero       gas        std   \n",
       "5            2                NaN           audi       gas        std   \n",
       "7            1                NaN           audi       gas        std   \n",
       "14           1                NaN            bmw       gas        std   \n",
       "15           0                NaN            bmw       gas        std   \n",
       "16           0                NaN            bmw       gas        std   \n",
       "17           0                NaN            bmw       gas        std   \n",
       "27           1              148.0          dodge       gas      turbo   \n",
       "43           0                NaN          isuzu       gas        std   \n",
       "46           2                NaN          isuzu       gas        std   \n",
       "48           0                NaN         jaguar       gas        std   \n",
       "49           0                NaN         jaguar       gas        std   \n",
       "55           3              150.0          mazda       gas        std   \n",
       "56           3              150.0          mazda       gas        std   \n",
       "57           3              150.0          mazda       gas        std   \n",
       "58           3              150.0          mazda       gas        std   \n",
       "63           0                NaN          mazda    diesel        std   \n",
       "66           0                NaN          mazda    diesel        std   \n",
       "71          -1                NaN  mercedes-benz       gas        std   \n",
       "73           0                NaN  mercedes-benz       gas        std   \n",
       "74           1                NaN  mercedes-benz       gas        std   \n",
       "75           1                NaN        mercury       gas      turbo   \n",
       "82           3                NaN     mitsubishi       gas      turbo   \n",
       "83           3                NaN     mitsubishi       gas      turbo   \n",
       "84           3                NaN     mitsubishi       gas      turbo   \n",
       "109          0                NaN         peugot       gas        std   \n",
       "110          0                NaN         peugot    diesel      turbo   \n",
       "113          0                NaN         peugot       gas        std   \n",
       "114          0                NaN         peugot    diesel      turbo   \n",
       "124          3                NaN       plymouth       gas      turbo   \n",
       "126          3                NaN        porsche       gas        std   \n",
       "127          3                NaN        porsche       gas        std   \n",
       "128          3                NaN        porsche       gas        std   \n",
       "130          0                NaN        renault       gas        std   \n",
       "131          2                NaN        renault       gas        std   \n",
       "181         -1                NaN         toyota       gas        std   \n",
       "189          3                NaN     volkswagen       gas        std   \n",
       "191          0                NaN     volkswagen       gas        std   \n",
       "192          0                NaN     volkswagen    diesel      turbo   \n",
       "193          0                NaN     volkswagen       gas        std   \n",
       "\n",
       "    num_doors   body_style drive_wheels engine_location  wheel_base  ...  \\\n",
       "0         two  convertible          rwd           front        88.6  ...   \n",
       "1         two  convertible          rwd           front        88.6  ...   \n",
       "2         two    hatchback          rwd           front        94.5  ...   \n",
       "5         two        sedan          fwd           front        99.8  ...   \n",
       "7        four        wagon          fwd           front       105.8  ...   \n",
       "14       four        sedan          rwd           front       103.5  ...   \n",
       "15       four        sedan          rwd           front       103.5  ...   \n",
       "16        two        sedan          rwd           front       103.5  ...   \n",
       "17       four        sedan          rwd           front       110.0  ...   \n",
       "27        NaN        sedan          fwd           front        93.7  ...   \n",
       "43       four        sedan          rwd           front        94.3  ...   \n",
       "46        two    hatchback          rwd           front        96.0  ...   \n",
       "48       four        sedan          rwd           front       113.0  ...   \n",
       "49        two        sedan          rwd           front       102.0  ...   \n",
       "55        two    hatchback          rwd           front        95.3  ...   \n",
       "56        two    hatchback          rwd           front        95.3  ...   \n",
       "57        two    hatchback          rwd           front        95.3  ...   \n",
       "58        two    hatchback          rwd           front        95.3  ...   \n",
       "63        NaN        sedan          fwd           front        98.8  ...   \n",
       "66       four        sedan          rwd           front       104.9  ...   \n",
       "71       four        sedan          rwd           front       115.6  ...   \n",
       "73       four        sedan          rwd           front       120.9  ...   \n",
       "74        two      hardtop          rwd           front       112.0  ...   \n",
       "75        two    hatchback          rwd           front       102.7  ...   \n",
       "82        two    hatchback          fwd           front        95.9  ...   \n",
       "83        two    hatchback          fwd           front        95.9  ...   \n",
       "84        two    hatchback          fwd           front        95.9  ...   \n",
       "109      four        wagon          rwd           front       114.2  ...   \n",
       "110      four        wagon          rwd           front       114.2  ...   \n",
       "113      four        wagon          rwd           front       114.2  ...   \n",
       "114      four        wagon          rwd           front       114.2  ...   \n",
       "124       two    hatchback          rwd           front        95.9  ...   \n",
       "126       two      hardtop          rwd            rear        89.5  ...   \n",
       "127       two      hardtop          rwd            rear        89.5  ...   \n",
       "128       two  convertible          rwd            rear        89.5  ...   \n",
       "130      four        wagon          fwd           front        96.1  ...   \n",
       "131       two    hatchback          fwd           front        96.1  ...   \n",
       "181      four        wagon          rwd           front       104.5  ...   \n",
       "189       two  convertible          fwd           front        94.5  ...   \n",
       "191      four        sedan          fwd           front       100.4  ...   \n",
       "192      four        sedan          fwd           front       100.4  ...   \n",
       "193      four        wagon          fwd           front       100.4  ...   \n",
       "\n",
       "     num_cylinders  engine_size  fuel_system  bore stroke compression_ratio  \\\n",
       "0             four          130         mpfi  3.47   2.68               9.0   \n",
       "1             four          130         mpfi  3.47   2.68               9.0   \n",
       "2              six          152         mpfi  2.68   3.47               9.0   \n",
       "5             five          136         mpfi  3.19   3.40               8.5   \n",
       "7             five          136         mpfi  3.19   3.40               8.5   \n",
       "14             six          164         mpfi  3.31   3.19               9.0   \n",
       "15             six          209         mpfi  3.62   3.39               8.0   \n",
       "16             six          209         mpfi  3.62   3.39               8.0   \n",
       "17             six          209         mpfi  3.62   3.39               8.0   \n",
       "27            four           98         mpfi  3.03   3.39               7.6   \n",
       "43            four          111         2bbl  3.31   3.23               8.5   \n",
       "46            four          119         spfi  3.43   3.23               9.2   \n",
       "48             six          258         mpfi  3.63   4.17               8.1   \n",
       "49          twelve          326         mpfi  3.54   2.76              11.5   \n",
       "55             two           70         4bbl   NaN    NaN               9.4   \n",
       "56             two           70         4bbl   NaN    NaN               9.4   \n",
       "57             two           70         4bbl   NaN    NaN               9.4   \n",
       "58             two           80         mpfi   NaN    NaN               9.4   \n",
       "63            four          122          idi  3.39   3.39              22.7   \n",
       "66            four          134          idi  3.43   3.64              22.0   \n",
       "71           eight          234         mpfi  3.46   3.10               8.3   \n",
       "73           eight          308         mpfi  3.80   3.35               8.0   \n",
       "74           eight          304         mpfi  3.80   3.35               8.0   \n",
       "75            four          140         mpfi  3.78   3.12               8.0   \n",
       "82            four          156         spdi  3.58   3.86               7.0   \n",
       "83            four          156         spdi  3.59   3.86               7.0   \n",
       "84            four          156         spdi  3.59   3.86               7.0   \n",
       "109           four          120         mpfi  3.46   3.19               8.4   \n",
       "110           four          152          idi  3.70   3.52              21.0   \n",
       "113           four          120         mpfi  3.46   2.19               8.4   \n",
       "114           four          152          idi  3.70   3.52              21.0   \n",
       "124           four          156         spdi  3.59   3.86               7.0   \n",
       "126            six          194         mpfi  3.74   2.90               9.5   \n",
       "127            six          194         mpfi  3.74   2.90               9.5   \n",
       "128            six          194         mpfi  3.74   2.90               9.5   \n",
       "130           four          132         mpfi  3.46   3.90               8.7   \n",
       "131           four          132         mpfi  3.46   3.90               8.7   \n",
       "181            six          161         mpfi  3.27   3.35               9.2   \n",
       "189           four          109         mpfi  3.19   3.40               8.5   \n",
       "191           five          136         mpfi  3.19   3.40               8.5   \n",
       "192           four           97          idi  3.01   3.40              23.0   \n",
       "193           four          109         mpfi  3.19   3.40               9.0   \n",
       "\n",
       "     horsepower peak_rpm  city_mpg  highway_mpg  \n",
       "0         111.0   5000.0        21           27  \n",
       "1         111.0   5000.0        21           27  \n",
       "2         154.0   5000.0        19           26  \n",
       "5         110.0   5500.0        19           25  \n",
       "7         110.0   5500.0        19           25  \n",
       "14        121.0   4250.0        20           25  \n",
       "15        182.0   5400.0        16           22  \n",
       "16        182.0   5400.0        16           22  \n",
       "17        182.0   5400.0        15           20  \n",
       "27        102.0   5500.0        24           30  \n",
       "43         78.0   4800.0        24           29  \n",
       "46         90.0   5000.0        24           29  \n",
       "48        176.0   4750.0        15           19  \n",
       "49        262.0   5000.0        13           17  \n",
       "55        101.0   6000.0        17           23  \n",
       "56        101.0   6000.0        17           23  \n",
       "57        101.0   6000.0        17           23  \n",
       "58        135.0   6000.0        16           23  \n",
       "63         64.0   4650.0        36           42  \n",
       "66         72.0   4200.0        31           39  \n",
       "71        155.0   4750.0        16           18  \n",
       "73        184.0   4500.0        14           16  \n",
       "74        184.0   4500.0        14           16  \n",
       "75        175.0   5000.0        19           24  \n",
       "82        145.0   5000.0        19           24  \n",
       "83        145.0   5000.0        19           24  \n",
       "84        145.0   5000.0        19           24  \n",
       "109        97.0   5000.0        19           24  \n",
       "110        95.0   4150.0        25           25  \n",
       "113        95.0   5000.0        19           24  \n",
       "114        95.0   4150.0        25           25  \n",
       "124       145.0   5000.0        19           24  \n",
       "126       207.0   5900.0        17           25  \n",
       "127       207.0   5900.0        17           25  \n",
       "128       207.0   5900.0        17           25  \n",
       "130         NaN      NaN        23           31  \n",
       "131         NaN      NaN        23           31  \n",
       "181       156.0   5200.0        19           24  \n",
       "189        90.0   5500.0        24           29  \n",
       "191       110.0   5500.0        19           24  \n",
       "192        68.0   4500.0        33           38  \n",
       "193        88.0   5500.0        25           31  \n",
       "\n",
       "[42 rows x 25 columns]"
      ]
     },
     "execution_count": 144,
     "metadata": {},
     "output_type": "execute_result"
    }
   ],
   "source": [
    "autos[autos.isnull().any(axis=1)]"
   ]
  },
  {
   "cell_type": "markdown",
   "metadata": {
    "deletable": false,
    "editable": false,
    "nbgrader": {
     "cell_type": "markdown",
     "checksum": "3d7829b3c3fbcd792e632bc8d2d5b4fd",
     "grade": false,
     "grade_id": "cell-050a882dedd72913",
     "locked": true,
     "schema_version": 3,
     "solution": false,
     "task": false
    }
   },
   "source": [
    "Una vez que sabemos que algunas de las variables de entrada tienen valores perdidos vamos a imputar sus valores mediante la técnica de la imputación de la media (moda, mediana). Para ello Scikit-learn nos ofrece la clase [*SimpleImputer*](https://scikit-learn.org/stable/modules/generated/sklearn.impute.SimpleImputer.html) en la que el híper-parámetro *strategy* define la estrategia de imputación a utilizar:\n",
    "* *mean*: asigna la media de los ejemplos en cada variable para los valores perdidos\n",
    "* *median*: asigna la mediana de los ejemplos en cada variable para los valores perdidos\n",
    "* *most_frequent*: asigna la moda de los ejemplos en cada variable para los valores perdidos"
   ]
  },
  {
   "cell_type": "markdown",
   "metadata": {
    "deletable": false,
    "editable": false,
    "nbgrader": {
     "cell_type": "markdown",
     "checksum": "a27a9b329c3e4ae2e61aa7c6d2b63ef0",
     "grade": false,
     "grade_id": "cell-ff14f6792c816a19",
     "locked": true,
     "schema_version": 3,
     "solution": false,
     "task": false
    }
   },
   "source": [
    "Sin embargo, tenemos un problema y es que existen valores perdidos en variables tanto categóricas como numéricas. Por este motivo, debemos realizar la imputación adecuada a cada tipo de variable.\n",
    "\n",
    "Para poder aplicar operaciones diferentes a cada grupo de variables, *Scikit-learn* provee la clase [*ColumnTransformer*](https://scikit-learn.org/stable/modules/generated/sklearn.compose.ColumnTransformer.html#sklearn.compose.ColumnTransformer) mediante la que se pueden aplicar determinadas transformaciones a determinadas variables. Para ello, en el híper-parámetro *transformers* se debe especificar una lista de tuplas en la que en cada tupla se determina el nombre de la transformación, la transformación a aplicar y las variables sobre las que aplicarla:\n",
    "\n",
    "    (nombreTransformación, transformación, ListaVariables)\n",
    "    \n",
    "Una vez creado el objeto de la clase *ColumnTransformer* se pueden aplicar los métodos habituales de las técnicas de pre-procesamiento de datos: *fit*, *transform* y *fit_transform*."
   ]
  },
  {
   "cell_type": "markdown",
   "metadata": {
    "deletable": false,
    "editable": false,
    "nbgrader": {
     "cell_type": "markdown",
     "checksum": "9534e986c8c5619c25d0d511cc4f1ee0",
     "grade": false,
     "grade_id": "cell-aaa8792d800d2b6f",
     "locked": true,
     "schema_version": 3,
     "solution": false,
     "task": false
    }
   },
   "source": [
    "En primer lugar, debemos obtener dos listas con los nombres de las variables que sean categóricas (*dtypes=object*) y numéricas (*dtypes!=object*). De este modo, podremos realizar operaciones diferentes a cada tipo de variable."
   ]
  },
  {
   "cell_type": "markdown",
   "metadata": {
    "deletable": false,
    "nbgrader": {
     "cell_type": "code",
     "checksum": "4067308dcdfea19df09602243be4ef75",
     "grade": false,
     "grade_id": "cell-c351b721c070b2bb",
     "locked": false,
     "schema_version": 3,
     "solution": true,
     "task": false
    }
   },
   "source": [
    "# Obtnemos las listas de variables categóricas y numéricas"
   ]
  },
  {
   "cell_type": "code",
   "execution_count": 145,
   "metadata": {},
   "outputs": [],
   "source": [
    "nombres_variables_numericas = autos.dtypes != object\n",
    "nombres_variables_categoricas = autos.dtypes == object"
   ]
  },
  {
   "cell_type": "markdown",
   "metadata": {
    "deletable": false,
    "editable": false,
    "nbgrader": {
     "cell_type": "markdown",
     "checksum": "3a5e4a8135d02dbd65a353dedcb9a7e6",
     "grade": false,
     "grade_id": "cell-63c288459bec619b",
     "locked": true,
     "schema_version": 3,
     "solution": false,
     "task": false
    }
   },
   "source": [
    "A continuación se debe realizar la imputación de valores perdidos de acuerdo al tipo de las variables."
   ]
  },
  {
   "cell_type": "code",
   "execution_count": 146,
   "metadata": {
    "deletable": false,
    "nbgrader": {
     "cell_type": "code",
     "checksum": "2442052e15ca1c0cdbbe2c1b29f5f479",
     "grade": false,
     "grade_id": "cell-857f480b750bb727",
     "locked": false,
     "schema_version": 3,
     "solution": true,
     "task": false
    }
   },
   "outputs": [],
   "source": [
    "# Importamos las librerías SimpleImputer y ColumnTransformer\n",
    "from sklearn.impute import SimpleImputer\n",
    "from sklearn.compose import ColumnTransformer\n",
    "\n",
    "# Las variables numéricas las imputamos con la media y las categóricas con la moda: creamos el objeto de ColumnTransformer\n",
    "t = [(\"media\", SimpleImputer(strategy='mean'), nombres_variables_numericas), (\"moda\", SimpleImputer(strategy='most_frequent'), nombres_variables_categoricas)]\n",
    "preprocesamiento = ColumnTransformer(transformers=t)\n",
    "\n",
    "# Creamos una copia de autos para poder trabajar posteriormente con los datos originales\n",
    "autos_sin_missing = autos.copy()\n",
    "# Entrenamos e imputamos el método de preprocesamiento: imputación apropiada según el tipo de variable\n",
    "autos_sin_missing = preprocesamiento.fit_transform(autos_sin_missing)"
   ]
  },
  {
   "cell_type": "markdown",
   "metadata": {
    "deletable": false,
    "editable": false,
    "nbgrader": {
     "cell_type": "markdown",
     "checksum": "734170a05f2801aa50a83928aa11de8e",
     "grade": false,
     "grade_id": "cell-39ba0a393c3dc236",
     "locked": true,
     "schema_version": 3,
     "solution": false,
     "task": false
    }
   },
   "source": [
    "El realizar la transformación anterior, la variable con los datos imputados pasa a ser un array de Numpy. Por este motivo, vamos crear un DataFrame a partir de dicha variable (y tener toda la información de nombres de variables por ejemplo). La único que hay que tener en cuenta es que las variables no estarán en el orden original sino en el orden en el que haya sido utilizadas por *ColumnTransformer*. Por tanto, el parámetro *columns* de *DataFrame* hay que asignarlo de forma adecuada (el *index* será el mismo que el del DataFrame *autos*)."
   ]
  },
  {
   "cell_type": "code",
   "execution_count": 147,
   "metadata": {
    "deletable": false,
    "nbgrader": {
     "cell_type": "code",
     "checksum": "6a7acef8f50fe1a2990405472cf1579a",
     "grade": false,
     "grade_id": "cell-9109f8e3532a9466",
     "locked": false,
     "schema_version": 3,
     "solution": true,
     "task": false
    }
   },
   "outputs": [],
   "source": [
    "# Creamos un DataFrame a partir de autos_sin_missing\n",
    "cols = np.concatenate((nombres_variables_numericas[nombres_variables_numericas].index,nombres_variables_categoricas[nombres_variables_categoricas].index))\n",
    "autos_sin_missing = pd.DataFrame(autos_sin_missing,columns=cols)"
   ]
  },
  {
   "cell_type": "code",
   "execution_count": 148,
   "metadata": {
    "deletable": false,
    "editable": false,
    "nbgrader": {
     "cell_type": "code",
     "checksum": "fbf8d8acbc41895b3c946d626c13a64d",
     "grade": true,
     "grade_id": "cell-78a4e120744473fa",
     "locked": true,
     "points": 3,
     "schema_version": 3,
     "solution": false,
     "task": false
    }
   },
   "outputs": [
    {
     "name": "stdout",
     "output_type": "stream",
     "text": [
      "1 test passed.\n",
      "1 test passed.\n"
     ]
    }
   ],
   "source": [
    "Test.assertEquals(list(map(lambda ind: ind, list(autos_sin_missing['normalized_losses'].head()))), [122,122,122,164,164], 'Valores imputados para normalized_losses incorrecto')\n",
    "Test.assertEquals(list(map(lambda ind: round(ind,2), list(autos_sin_missing['bore'][50:55]))), [3.03,3.08,3.33,3.33,3.33], 'Valores imputados para bore incorrecto')"
   ]
  },
  {
   "cell_type": "markdown",
   "metadata": {
    "deletable": false,
    "editable": false,
    "nbgrader": {
     "cell_type": "markdown",
     "checksum": "c4bd8a15efeb594438eb62184ee5b011",
     "grade": false,
     "grade_id": "cell-d292c8c0bb9b551f",
     "locked": true,
     "schema_version": 3,
     "solution": false,
     "task": false
    }
   },
   "source": [
    "# Transformación de variables categóricas a numéricas <a class=\"anchor\" id=\"2\"></a>"
   ]
  },
  {
   "cell_type": "markdown",
   "metadata": {
    "deletable": false,
    "editable": false,
    "nbgrader": {
     "cell_type": "markdown",
     "checksum": "a056112ad02d624aa2b7843ec82b356d",
     "grade": false,
     "grade_id": "cell-236313aaea889944",
     "locked": true,
     "schema_version": 3,
     "solution": false,
     "task": false
    }
   },
   "source": [
    "En esta segunda parte de la práctica vamos a abordar un problema habitual en problemas de Data Science, lidiar con las variables categóricas: aquellas que suelen estar almacenadas como texto y que tienen un número finito de valores. El reto es saber cómo utilizar estas variables para poder aplicar técnicas de aprendizaje automático que no las permitan o que la librería utilizada no las permita. Es decir, el reto es saber cómo transformar los valores textuales en valores numéricos.\n",
    "\n",
    "Afortunadamente, existe una librería en la que están implementadas numerosas técnicas de transformación de variables categóricas a numéricas. Esta librería se llama [*category_encoders*](https://pypi.org/project/category-encoders/) y la debemos instalar: \n",
    "\n",
    "    pip install category_encoders\n",
    "    \n",
    "En concreto vamos a utilizar los siguientes métodos de transformación de variables categóricas en numéricas:\n",
    "\n",
    "* Codificación ordinal\n",
    "* Codificación del conteo\n",
    "* Codificación One-Hot\n",
    "* Codificación binaria\n",
    "* Codificación basada en la salida\n",
    "\n",
    "Además de todas estas técnicas, también ofrece métodos avanzados como Catboost, el contraste de Helmert, el contraste polinomial, backward difference, etc... \n",
    "\n",
    "Las librerías Pandas y Scikit también implementan algunas de estas técnicas pero los procesos son más complicados y, en el caso de las implementaciones de Pandas no permiten incluir esta transformación dentro de una *Pipeline* (la veremos en esta práctica) al no tener implementados los métodos *fit* y *transform*."
   ]
  },
  {
   "cell_type": "code",
   "execution_count": 149,
   "metadata": {
    "deletable": false,
    "editable": false,
    "nbgrader": {
     "cell_type": "code",
     "checksum": "f43ba8a0f03fbcfdc39b3fd0e25a7b23",
     "grade": false,
     "grade_id": "cell-9605a12a9194d48d",
     "locked": true,
     "schema_version": 3,
     "solution": false,
     "task": false
    }
   },
   "outputs": [],
   "source": [
    "# Importamos la librería\n",
    "import category_encoders as ce"
   ]
  },
  {
   "cell_type": "markdown",
   "metadata": {
    "deletable": false,
    "editable": false,
    "nbgrader": {
     "cell_type": "markdown",
     "checksum": "def9b86f96b2a6ba5c870dfc1e39c5b5",
     "grade": false,
     "grade_id": "cell-0dd6a3444478fdd0",
     "locked": true,
     "schema_version": 3,
     "solution": false,
     "task": false
    }
   },
   "source": [
    "## Codificación ordinal\n",
    "\n",
    "La codificación ordinal consiste en asignar valores numéricos a las diferentes etiquetas. \n",
    "\n",
    "Para realizarlo muy fácilmente, *category_encoders* ofrece la clase [*OrdinalEncoder*](http://contrib.scikit-learn.org/category_encoders/ordinal.html). Los híper-parámetros de esta clase son sencillos, debemos destacar dos:\n",
    "* *cols*: permite establecer una lista con los nombres de las variables a transformar. Si se usa el valor por defecto, que es *None*, transforma todas las variables categóricas.\n",
    "* *mapping*: es una lista de diccionarios que permitiría establecer manualmente los valores numéricos a asignar a las diferentes categorías de cada variable. \n",
    "    * Esta opción daría lugar a la técnica de transformación de variables categóricas a numericas conocida como *encoding labels*. En Scikit-learn se puede realizar esta transformación utilizando la clase [*LabelEncoder*](https://scikit-learn.org/stable/modules/generated/sklearn.preprocessing.LabelEncoder.html) y en Pandas mediante el método [*replace*](https://pandas.pydata.org/pandas-docs/stable/reference/api/pandas.DataFrame.replace.html).\n",
    "    \n",
    "NOTA: Pandas permite realizar la transformación ordinal utilizando el método [*factorize*](https://pandas.pydata.org/pandas-docs/stable/reference/api/pandas.factorize.html).\n",
    "\n",
    "Cread un DataFrame llamado autos_ord, en el que transforméis todas las variable categóricas utilizando la codificación ordinal. Partid del DataFrame en el que hemos imputado los valores perdidos."
   ]
  },
  {
   "cell_type": "code",
   "execution_count": 150,
   "metadata": {
    "deletable": false,
    "nbgrader": {
     "cell_type": "code",
     "checksum": "d21ab6ca3fca7f6a88ec8a16e7ff7745",
     "grade": false,
     "grade_id": "cell-56b17e0d51369bd0",
     "locked": false,
     "schema_version": 3,
     "solution": true,
     "task": false
    }
   },
   "outputs": [],
   "source": [
    "# Creamos una copia del DataFrame para no perder los datos originales y poder seguir trabajando con ellos\n",
    "autos_ord = autos_sin_missing.copy()\n",
    "\n",
    "# Realizamos la transformación utilizando la codificación ordinal\n",
    "myEncoder = ce.ordinal.OrdinalEncoder()\n",
    "autos_ord = myEncoder.fit_transform(autos_ord)"
   ]
  },
  {
   "cell_type": "code",
   "execution_count": 151,
   "metadata": {
    "deletable": false,
    "editable": false,
    "nbgrader": {
     "cell_type": "code",
     "checksum": "f557fc4c2bd10cb864ce116a03f233ea",
     "grade": true,
     "grade_id": "cell-55200f9b70ca5aca",
     "locked": true,
     "points": 1,
     "schema_version": 3,
     "solution": false,
     "task": false
    }
   },
   "outputs": [
    {
     "name": "stdout",
     "output_type": "stream",
     "text": [
      "1 test passed.\n",
      "1 test passed.\n"
     ]
    }
   ],
   "source": [
    "Test.assertEquals(list(map(lambda ind: ind, list(autos_ord.make.head(5)))), [1, 1, 1, 2, 2], 'Transformacion incorrecta')\n",
    "Test.assertEquals(list(map(lambda ind: ind, list(autos_ord.engine_type.head(5)))), [1, 1, 2, 3, 3], 'Transformacion incorrecta')"
   ]
  },
  {
   "cell_type": "markdown",
   "metadata": {
    "deletable": false,
    "editable": false,
    "nbgrader": {
     "cell_type": "markdown",
     "checksum": "67105dea20a826805ead96a99b239a65",
     "grade": false,
     "grade_id": "cell-8032c84e319f462d",
     "locked": true,
     "schema_version": 3,
     "solution": false,
     "task": false
    }
   },
   "source": [
    "## Codificación del conteo"
   ]
  },
  {
   "cell_type": "markdown",
   "metadata": {
    "deletable": false,
    "editable": false,
    "nbgrader": {
     "cell_type": "markdown",
     "checksum": "77dab2af174e3182fd126dd822702cc1",
     "grade": false,
     "grade_id": "cell-c1a6e79097d3aa33",
     "locked": true,
     "schema_version": 3,
     "solution": false,
     "task": false
    }
   },
   "source": [
    "En la codificación del conteo reemplazamos cada valor categórico por el número de apariciones en el conjunto de entrenamiento de dicho valor.\n",
    "\n",
    "La librería *category_encoders* ofrece la clase [*CountEncoder*](http://contrib.scikit-learn.org/category_encoders/count.html). Los híper-parámetros de esta clase son sencillos y también dispone de *cols* como el método anterior."
   ]
  },
  {
   "cell_type": "markdown",
   "metadata": {
    "deletable": false,
    "editable": false,
    "nbgrader": {
     "cell_type": "markdown",
     "checksum": "89f2e0d809e27d288a324631f3b156e3",
     "grade": false,
     "grade_id": "cell-aecd40cc0467d4f5",
     "locked": true,
     "schema_version": 3,
     "solution": false,
     "task": false
    }
   },
   "source": [
    "Cread un DataFrame, *autos_count*, en el que se transformen todas las variables categóricas de acuerdo a esta codificación. Recordad ralizar una copia al DataFrame en el que se ha realizado la imputación de valores perdidos."
   ]
  },
  {
   "cell_type": "code",
   "execution_count": 152,
   "metadata": {
    "deletable": false,
    "nbgrader": {
     "cell_type": "code",
     "checksum": "b946f456597342798e544e3ecf904ce6",
     "grade": false,
     "grade_id": "cell-bff1e6a48e8bac1e",
     "locked": false,
     "schema_version": 3,
     "solution": true,
     "task": false
    }
   },
   "outputs": [],
   "source": [
    "# Realizamos la transformación utilizando la codificación del conteo\n",
    "autos_count = autos_sin_missing.copy()\n",
    "\n",
    "# Realizamos la transformación utilizando la codificación\n",
    "myEncoder = ce.count.CountEncoder()\n",
    "autos_count = myEncoder.fit_transform(autos_count)"
   ]
  },
  {
   "cell_type": "code",
   "execution_count": 153,
   "metadata": {
    "deletable": false,
    "editable": false,
    "nbgrader": {
     "cell_type": "code",
     "checksum": "5f5f0cb3324926b2165ae681c281799c",
     "grade": true,
     "grade_id": "cell-70f6f68c678aba67",
     "locked": true,
     "points": 0,
     "schema_version": 3,
     "solution": false,
     "task": false
    }
   },
   "outputs": [
    {
     "name": "stdout",
     "output_type": "stream",
     "text": [
      "1 test passed.\n"
     ]
    }
   ],
   "source": [
    "Test.assertEquals(list(map(lambda ind: ind, list(autos_count.make.head(5)))), [3, 3, 3, 6, 6], 'Transformacion incorrecta')"
   ]
  },
  {
   "cell_type": "markdown",
   "metadata": {
    "deletable": false,
    "editable": false,
    "nbgrader": {
     "cell_type": "markdown",
     "checksum": "583bf80490d491b6c30f8266d19f4073",
     "grade": false,
     "grade_id": "cell-faa5bbf6758c77d6",
     "locked": true,
     "schema_version": 3,
     "solution": false,
     "task": false
    }
   },
   "source": [
    "## Codificación One Hot\n",
    "\n",
    "En la codificación One Hot, se crean tantas variables nuevas como posibles valores de cada variable categórica. En cada una de estas variables se asignará el valor *True* en caso de que el ejemplo tenga ese valor y *False* en caso contrario.\n",
    "\n",
    "La librería *category_encoders* ofrece la clase [*OneHotEncoder*](http://contrib.scikit-learn.org/category_encoders/onehot.html) y los híper-parámetros son comunes a las clases anteriores. \n",
    "* Pandas permite realizar esta transformación mediante el método [*get_dummies*](https://pandas.pydata.org/pandas-docs/stable/reference/api/pandas.get_dummies.html).\n",
    "* Scikit-learn ofrece la clase [*LabelBinarizer*](https://scikit-learn.org/stable/modules/generated/sklearn.preprocessing.LabelBinarizer.html) para realizara esta transformación.\n",
    "\n",
    "Realizad la transformación de todas las variables categóricas partiendo de una copia del DataFrame en el que hemos realizado la imputación de valores perdidos y almacenad el resultado en un DataFrame llamado *autos_oh*."
   ]
  },
  {
   "cell_type": "code",
   "execution_count": 154,
   "metadata": {
    "deletable": false,
    "nbgrader": {
     "cell_type": "code",
     "checksum": "792cb055199580cd4b293c2e4e62d232",
     "grade": false,
     "grade_id": "cell-672d3eeff020d746",
     "locked": false,
     "schema_version": 3,
     "solution": true,
     "task": false
    }
   },
   "outputs": [],
   "source": [
    "# Realizamos la transformación utilizando la codificación One Hot\n",
    "autos_oh = autos_sin_missing.copy()\n",
    "\n",
    "# Realizamos la transformación utilizando la codificación\n",
    "myEncoder = ce.one_hot.OneHotEncoder()\n",
    "autos_oh = myEncoder.fit_transform(autos_oh)"
   ]
  },
  {
   "cell_type": "code",
   "execution_count": 155,
   "metadata": {
    "deletable": false,
    "editable": false,
    "nbgrader": {
     "cell_type": "code",
     "checksum": "3e2a688178d9ab73239c2e1161546591",
     "grade": true,
     "grade_id": "cell-02aff5c697fb96fc",
     "locked": true,
     "points": 1,
     "schema_version": 3,
     "solution": false,
     "task": false
    }
   },
   "outputs": [
    {
     "name": "stdout",
     "output_type": "stream",
     "text": [
      "1 test passed.\n"
     ]
    }
   ],
   "source": [
    "Test.assertEquals(list(map(lambda ind: ind, list(autos_oh.make_1.head(5)))), [1, 1, 1, 0, 0], 'Transformacion incorrecta')"
   ]
  },
  {
   "cell_type": "markdown",
   "metadata": {
    "deletable": false,
    "editable": false,
    "nbgrader": {
     "cell_type": "markdown",
     "checksum": "c1aed8d4fcf3ba08db78d0db08992327",
     "grade": false,
     "grade_id": "cell-93df204f0be1d8e6",
     "locked": true,
     "schema_version": 3,
     "solution": false,
     "task": false
    }
   },
   "source": [
    "## Codificación binaria\n",
    "\n",
    "La codificación binaria, el igual que la One Hot, aumenta el número de variables de entrada. En este caso, realiza la creación de nuevas variables aplicando primero la codificación ordinal, cada valor lo pasa a binario y luego crea tantas nuevas variables como bits tenga el número binario más grande copiando el número bit a bit.\n",
    "\n",
    "La librería *category_encoders* ofrece la clase [*BinaryEncoder*](http://contrib.scikit-learn.org/category_encoders/binary.html) y los híper-parámetros son comunes a las clases anteriores. \n",
    "\n",
    "Realizad la transformación de todas las variables categóricas partiendo de una copia del DataFrame en el que hemos realizado la imputación de valores perdidos y almacenad el resultado en un DataFrame llamado *autos_binary*."
   ]
  },
  {
   "cell_type": "code",
   "execution_count": 156,
   "metadata": {
    "deletable": false,
    "nbgrader": {
     "cell_type": "code",
     "checksum": "431bdc24b25f1e0b8bea78b0e4274f99",
     "grade": false,
     "grade_id": "cell-0170192ad1081f7d",
     "locked": false,
     "schema_version": 3,
     "solution": true,
     "task": false
    }
   },
   "outputs": [],
   "source": [
    "# Realizamos la transformación utilizando la codificación binaria\n",
    "autos_binary = autos_sin_missing.copy()\n",
    "\n",
    "# Realizamos la transformación utilizando la codificación\n",
    "myEncoder = ce.binary.BinaryEncoder()\n",
    "autos_binary = myEncoder.fit_transform(autos_binary)"
   ]
  },
  {
   "cell_type": "code",
   "execution_count": 157,
   "metadata": {
    "deletable": false,
    "editable": false,
    "nbgrader": {
     "cell_type": "code",
     "checksum": "05e95422839328e0e0b6a59b58201cd2",
     "grade": true,
     "grade_id": "cell-c62ceffb67d6ceb8",
     "locked": true,
     "points": 1,
     "schema_version": 3,
     "solution": false,
     "task": false
    }
   },
   "outputs": [
    {
     "name": "stdout",
     "output_type": "stream",
     "text": [
      "1 test passed.\n"
     ]
    }
   ],
   "source": [
    "Test.assertEquals(list(map(lambda ind: ind, list(autos_binary.make_4.head(5)))), [0, 0, 0, 1, 1], 'Transformacion incorrecta')"
   ]
  },
  {
   "cell_type": "markdown",
   "metadata": {
    "deletable": false,
    "editable": false,
    "nbgrader": {
     "cell_type": "markdown",
     "checksum": "91356a40930d2017f107fd384e36c216",
     "grade": false,
     "grade_id": "cell-397a0295f44bb388",
     "locked": true,
     "schema_version": 3,
     "solution": false,
     "task": false
    }
   },
   "source": [
    "## Codificación basada en la salida\n",
    "\n",
    "La codificación basada en la salida es la única de la que hemos visto que tiene en cuenta información de la salida para realizar la transformación.\n",
    "\n",
    "La librería *category_encoders* ofrece la clase [*TargetEncoder*](http://contrib.scikit-learn.org/category_encoders/targetencoder.html) y los híper-parámetros son comunes a las clases anteriores. Esta clase tiene un híper-parámetro llamado *smoothing* que determina si para asignar el valor se tiene en cuenta los valores de la variable a predecir de todos los ejemplos (independientemente de la categoría a sustituir):\n",
    "* Regresión: la media de los valores (de la variable a predecir) que sean de la categoría a transformar se modifica teniendo en cuenta la media de los valores de la variable a predecir de todos los ejemplos. \n",
    "* Clasificación: la probabilidad de que los ejemplos que sean de la categoría a transformar sean de la clase 1 se modifica teniendo en cuenta la probabilidad de tener dicha clase en el conjunto de entrenamiento.\n",
    "\n",
    "En ambos caso, cuanto mayor sea el valor del híper-parámetro *smoothing* más tenderá el valor transformado a la media de la variable a predecir de todos los ejemplos (o la probabilidad de tener ejemplos de la clase 1). \n",
    "\n",
    "Además, como esta técnica utiliza información de la variable a predecir, al método *fit* se le debe pasar tanto los valores de los ejemplos en las variables de entrada (X) como en la de salida (y) para que pueda aprender los valores a asignar a cada categoría.\n",
    "\n",
    "Realizad la transformación de todas las variables categóricas partiendo de una copia del DataFrame en el que hemos realizado la imputación de valores perdidos y almacenad el resultado en un DataFrame llamado *autos_te*. Para ello, utilizad 0.0000001 como valor de *smoothing*."
   ]
  },
  {
   "cell_type": "code",
   "execution_count": 158,
   "metadata": {
    "deletable": false,
    "nbgrader": {
     "cell_type": "code",
     "checksum": "7e275df24ee9355abd9f2b90501d0412",
     "grade": false,
     "grade_id": "cell-6d701684999f5010",
     "locked": false,
     "schema_version": 3,
     "solution": true,
     "task": false
    }
   },
   "outputs": [],
   "source": [
    "# Realizamos la transformación utilizando la codificación basada en la salida \n",
    "autos_te = autos_sin_missing.copy()\n",
    "\n",
    "# Realizamos la transformación utilizando la codificación\n",
    "myEncoder = ce.target_encoder.TargetEncoder(smoothing=0.0000001)\n",
    "autos_te = myEncoder.fit_transform(autos_te,autos_output)"
   ]
  },
  {
   "cell_type": "code",
   "execution_count": 159,
   "metadata": {
    "deletable": false,
    "editable": false,
    "nbgrader": {
     "cell_type": "code",
     "checksum": "8f473618b610263e2ec1192ce997e4b1",
     "grade": true,
     "grade_id": "cell-fdddd0a1823e985d",
     "locked": true,
     "points": 1,
     "schema_version": 3,
     "solution": false,
     "task": false
    }
   },
   "outputs": [
    {
     "name": "stdout",
     "output_type": "stream",
     "text": [
      "1 test passed.\n"
     ]
    }
   ],
   "source": [
    "Test.assertEquals(list(map(lambda ind: round(ind,2), list(autos_te.make.head(5)))), [15498.33, 15498.33, 15498.33, 17859.17, 17859.17], 'Transformacion incorrecta')"
   ]
  },
  {
   "cell_type": "markdown",
   "metadata": {
    "deletable": false,
    "editable": false,
    "nbgrader": {
     "cell_type": "markdown",
     "checksum": "55fda87bfffd42fc5571ed2a791ad59f",
     "grade": false,
     "grade_id": "cell-6c9ae50c6cc1c5a6",
     "locked": true,
     "schema_version": 3,
     "solution": false,
     "task": false
    }
   },
   "source": [
    "## Pipelines <a class=\"anchor\" id=\"3\"></a>"
   ]
  },
  {
   "cell_type": "markdown",
   "metadata": {
    "deletable": false,
    "editable": false,
    "nbgrader": {
     "cell_type": "markdown",
     "checksum": "bcf3680a7f9934f0ddf427d2a1585d38",
     "grade": false,
     "grade_id": "cell-1118b889616569eb",
     "locked": true,
     "schema_version": 3,
     "solution": false,
     "task": false
    }
   },
   "source": [
    "En esta sección vamos a ver una clases que permite establecer una secuencia de técnicas a aplicar a los datos. Es decir, podemos establecer todas las técnicas de pre-procesamiento a aplicar (y en el orden deseado) y finalizar con una técnica de predicción. Una vez que se ha establecido la secuencia, al realizar el aprendizaje, se aplicará el aprendizaje de cada componente de forma secuencial y por tanto, los componentes aprenderán sobre el resultado dado por los componentes previos de la secuencia (lo mismo pasa al realizar la predicción). De este modo, ahorramos código y minimizamos las opciones de cometer fallos de programación y incurrir en *data leakage* que afecten al resultado obtenido. \n",
    "\n",
    "La clase que nos ofrece esta posibilidad se llama [*Pipeline*](http://scikit-learn.org/stable/modules/generated/sklearn.pipeline.Pipeline.html#sklearn.pipeline.Pipeline) y está dentro de la librería *pipeline* de Scikit-learn. La llamada al constructor de esta clase consiste en un conjunto de tuplas del tipo (nombreFase, objeto), cuyo significado es:\n",
    "* nombreFase: string que establece el nombre de la fase. Por ejemplo 'tipoCodificacion', 'estandarizacion' o 'clasificador'\n",
    "* objeto: variable en la que se almacena la llamada al constructor de lo que se desee hacer. Por ejemplo ce.TargetEncoder(smoothing=0.0000001), MinMaxScaler() o neighbors.KNeighborsRegressor()\n",
    "\n",
    "Es decir, si quisiéramos combinar los procesos mencionados anteriormente deberíamos realizar la siguiente llamada:\n",
    "\n",
    "    pipeline = Pipeline([('tipoCodificacion', ce.TargetEncoder(smoothing=0.0000001)), ('estandarizacion', MinMaxScaler()),  ('modelo', neighbors.KNeighborsRegressor())])\n",
    "    \n",
    "Hay que destacar que los objetos de todas las fases de la secuencia (excepto de la última) tienen que tener los métodos *fit* y *transform*, para que puedan aprender de los datos y transformarlos en consecuencia. El último objeto debe tener el método *fit*, para aprender de los datos, y el método *predict* para poder realizar nuevas predicciones. Es decir, el último objeto debe ser un modelo de clasificación o regresión.\n",
    "\n",
    "El objeto combinado, la Pipeline generada, dispone de los siguientes métodos:\n",
    "* fit: Recibe como parámetros de entrada los datos de entrada (X) y de salida (Y). Cada objeto de cada fase aprende en base a dichos datos.\n",
    "* predict: Recibe como parámetro de entrada los datos de entrada (X). Realiza la predicción realizando lo siguiente:\n",
    "    * Primero se aplican las transformaciones de datos por medio de los primeros objetos (llaman a sus respectivas funciones transform)\n",
    "    * Finalmente, se aplica al objeto de la última fase (clasificador o modelo de regresión) para realizar la predicción correspondiente a los datos de entrada (llamada a su método predict). "
   ]
  },
  {
   "cell_type": "markdown",
   "metadata": {
    "deletable": false,
    "editable": false,
    "nbgrader": {
     "cell_type": "markdown",
     "checksum": "191facd6bce6b5dc753c171d7e591eec",
     "grade": false,
     "grade_id": "cell-f2904d9a24a05fff",
     "locked": true,
     "schema_version": 3,
     "solution": false,
     "task": false
    }
   },
   "source": [
    "Realizar una Pipeline que combine:\n",
    "* Transformación de variables categóricas a numéricas utilizando la codificación ordinal.\n",
    "* Estandarización de los datos utilizando el método del mínimo y del máximo.\n",
    "* Modelo de regresión KNN\n",
    "\n",
    "Para ello, en primer lugar crea los conjuntos de entrenamiento y test utilizando *train_test_split*, un 20% de los ejemplos como test y con la semilla 12 sobre el DataFrame al que le hemos imputado valores perdidos, *autos_sin_missing*.\n",
    "\n",
    "Obtened la raíz cuadrada del error cuadrático medio (RMSE) en train y en test."
   ]
  },
  {
   "cell_type": "code",
   "execution_count": 160,
   "metadata": {
    "deletable": false,
    "nbgrader": {
     "cell_type": "code",
     "checksum": "58f02e58308afb866265aadc26e91f40",
     "grade": false,
     "grade_id": "cell-2a1e369ff77b2ba0",
     "locked": false,
     "schema_version": 3,
     "solution": true,
     "task": false
    }
   },
   "outputs": [
    {
     "name": "stdout",
     "output_type": "stream",
     "text": [
      "Error en entrenamiento 4531.67 y en test 5102.61\n"
     ]
    }
   ],
   "source": [
    "# Se importa la librería pipeline\n",
    "from sklearn import pipeline\n",
    "from sklearn.preprocessing import MinMaxScaler\n",
    "from sklearn import metrics, model_selection, neighbors\n",
    "from sklearn.metrics import mean_squared_error\n",
    "from math import sqrt\n",
    "\n",
    "\n",
    "# Creación de los conjuntos de train y de test\n",
    "X_train, X_test, y_train, y_test = model_selection.train_test_split(\n",
    "autos_sin_missing, autos_output,train_size=0.8, random_state=12)\n",
    "\n",
    "# Se crea la Pipeline con las fases deseadas\n",
    "pipe = pipeline.Pipeline([('tipoCodificacion', ce.ordinal.OrdinalEncoder()), \n",
    "                 ('estandarizacion', MinMaxScaler()),  ('modelo', neighbors.KNeighborsRegressor())\n",
    "                ])\n",
    "# Se realiza el aprendizaje de los parámetros de todas las fases de la Pipeline\n",
    "pipe = pipe.fit(X_train,y_train)\n",
    "# Se llama a la predicción de la pipeline sobre los datos de entrenamiento\n",
    "prediccionesTrain = pipe.predict(X_train)\n",
    "# Se calcula la raíz cuadrada del error cuadrático medio en train (con dos decimales)\n",
    "rmseTrain = round(sqrt(mean_squared_error(y_train.values, prediccionesTrain)),2)\n",
    "# Se llama a la predicción de la pipeline sobre los datos de test\n",
    "prediccionesTest = pipe.predict(X_test)\n",
    "# Se calcula la raíz cuadrada del error cuadrático medio en test (con dos decimales)\n",
    "rmseTest = round(sqrt(mean_squared_error(y_test.values, prediccionesTest)),2) \n",
    "print('Error en entrenamiento {} y en test {}'.format(rmseTrain, rmseTest))"
   ]
  },
  {
   "cell_type": "code",
   "execution_count": 161,
   "metadata": {
    "deletable": false,
    "editable": false,
    "nbgrader": {
     "cell_type": "code",
     "checksum": "0e44b478cb67be7319e4a449ef4cd77a",
     "grade": true,
     "grade_id": "cell-977f0ee24820f9ff",
     "locked": true,
     "points": 2,
     "schema_version": 3,
     "solution": false,
     "task": false
    }
   },
   "outputs": [
    {
     "name": "stdout",
     "output_type": "stream",
     "text": [
      "1 test passed.\n",
      "1 test passed.\n"
     ]
    }
   ],
   "source": [
    "# ESTA CELDA DARÁ ERROR SI EL RESULTADO NO ES CORRECTO\n",
    "Test.assertEquals(rmseTrain, 4531.67, 'Valor de RMSE en train incorrecto')\n",
    "Test.assertEquals(rmseTest, 5102.61, 'Valor de RMSE en test incorrecto')"
   ]
  },
  {
   "cell_type": "markdown",
   "metadata": {
    "deletable": false,
    "editable": false,
    "nbgrader": {
     "cell_type": "markdown",
     "checksum": "a66bd048716ef584ab8568e091ddb16f",
     "grade": false,
     "grade_id": "cell-92876d81e4ac0e5b",
     "locked": true,
     "schema_version": 3,
     "solution": false,
     "task": false
    }
   },
   "source": [
    "Al igual que realizamos para un modelo de aprendizaje, existe la posibilidad de buscar la mejor configuración de toda la Pipeline (los mejores valores de sus híper-parámetros). Para ello, utilizamos la clase llamada *GridSearchCV* de la librería *model_selection* que realiza tal proceso de forma automática.\n",
    "\n",
    "Una vez importado el paquete podemos usar la clase y para ello lo primero que hay que hacer es una llamada al constructor\n",
    "\n",
    "    model_selection.GridSearchCV(pipeline, hiperParametros)\n",
    "    \n",
    "El resto de parámetros de la clase son los mismos que vimos en prácticas anteriores. Los parámetros indicados en el código anterior son:\n",
    "* pipeline: el objeto de la clase Pipeline\n",
    "* hiperParametros: un diccionario con los nombres de los híper-parámetros como claves y los valores de cada uno de ellos como valor. \n",
    "    * En este caso, al nombre del campo hay que insertarle como prefijo el componente al que hace referencia seguido de dos barras bajas (nombreComponente__campo: [valores]). \n",
    "    * Por ejemplo modelo__n_neighbors: [3,5,7,9]\n",
    "\n",
    "Una vez generado el objeto, el siguiente paso es realizar el aprendizaje. Para ello se llama al método *fit*. Este paso y la visualización de la mejor configuración los rendimientos asociados es igual a los vistos para la validación de modelos."
   ]
  },
  {
   "cell_type": "markdown",
   "metadata": {
    "deletable": false,
    "editable": false,
    "nbgrader": {
     "cell_type": "markdown",
     "checksum": "a72d7cfe77e0e04ed97555cb86b8aed4",
     "grade": false,
     "grade_id": "cell-5980d284246db040",
     "locked": true,
     "schema_version": 3,
     "solution": false,
     "task": false
    }
   },
   "source": [
    "Utiliza la clase GridSearchCV para buscar la configuración óptima de la Pipeline creada en la celda anterior. Los híper-parámetros a analizar y sus valores son:\n",
    "* Para KNN\n",
    "    * n_neighbos: 3, 5, 7 y 9\n",
    "    * weights: uniform y distance\n",
    "    * p: 1, 2, 1.5 y 3\n",
    "    \n",
    "Como métrica de rendimiento se debe utilizar *neg_root_mean_squared_error* (es la raíz del error cuadrático medio en negativo, para que un mayor valor sea un mejor modelo). Como metodología de validación de modelos se debe usar Hold-out utilizando un 20% de los ejemplo para validación (para ello se debe usar [*ShuffleSplit*](https://scikit-learn.org/stable/modules/generated/sklearn.model_selection.ShuffleSplit.html) de la librería *model_selection* que es la misma que *StratifiedShuffleSplit* pero sin aplicar estatificación puesto que estamos en un problema de regresión). \n",
    "\n",
    "Una vez encontrada la mejor configuración de la Pipeline, utilizadla para obtener el rendimiento (RMSE) en entrenamiento y en test."
   ]
  },
  {
   "cell_type": "code",
   "execution_count": 162,
   "metadata": {
    "deletable": false,
    "nbgrader": {
     "cell_type": "code",
     "checksum": "31271f7bccb3f57fd31df29bb42d8c26",
     "grade": false,
     "grade_id": "cell-80e7bcdff6cf4d24",
     "locked": false,
     "schema_version": 3,
     "solution": true,
     "task": false
    }
   },
   "outputs": [
    {
     "ename": "NameError",
     "evalue": "name 'gridSearch_pipeline' is not defined",
     "output_type": "error",
     "traceback": [
      "\u001b[0;31m---------------------------------------------------------------------------\u001b[0m",
      "\u001b[0;31mNameError\u001b[0m                                 Traceback (most recent call last)",
      "\u001b[0;32m<ipython-input-162-27c49acf9bb2>\u001b[0m in \u001b[0;36m<module>\u001b[0;34m\u001b[0m\n\u001b[1;32m     11\u001b[0m \u001b[0;31m# gridSearch_ClasCompuesto = <RELLENAR>\u001b[0m\u001b[0;34m\u001b[0m\u001b[0;34m\u001b[0m\u001b[0;34m\u001b[0m\u001b[0m\n\u001b[1;32m     12\u001b[0m \u001b[0;31m# Se muestra la mejor configuración junto con su rendimiento\u001b[0m\u001b[0;34m\u001b[0m\u001b[0;34m\u001b[0m\u001b[0;34m\u001b[0m\u001b[0m\n\u001b[0;32m---> 13\u001b[0;31m \u001b[0mprint\u001b[0m\u001b[0;34m(\u001b[0m\u001b[0mgridSearch_pipeline\u001b[0m\u001b[0;34m.\u001b[0m\u001b[0mbest_score_\u001b[0m\u001b[0;34m)\u001b[0m\u001b[0;34m\u001b[0m\u001b[0;34m\u001b[0m\u001b[0m\n\u001b[0m\u001b[1;32m     14\u001b[0m \u001b[0mprint\u001b[0m\u001b[0;34m(\u001b[0m\u001b[0mgridSearch_pipeline\u001b[0m\u001b[0;34m.\u001b[0m\u001b[0mbest_params_\u001b[0m\u001b[0;34m)\u001b[0m\u001b[0;34m\u001b[0m\u001b[0;34m\u001b[0m\u001b[0m\n\u001b[1;32m     15\u001b[0m \u001b[0;34m\u001b[0m\u001b[0m\n",
      "\u001b[0;31mNameError\u001b[0m: name 'gridSearch_pipeline' is not defined"
     ]
    }
   ],
   "source": [
    "from sklearn import model_selection\n",
    "\n",
    "# Se crea la Pipeline con las fases deseadas\n",
    "# pipe = <RELLENAR>\n",
    "# Se crea el grid de híper-parámetros a \"optimizar\"\n",
    "# hiperParameters = <RELLENAR>\n",
    "# Se llama al constructor de GridSearchCV para que genere todas las combinaciones ce los parámetros definidos anteriormente\n",
    "np.random.seed(12)\n",
    "# gridSearch_pipeline = <RELLENAR>\n",
    "# Se realiza el aprendizaje de todos los clasificadores considerados (todas las configuraciones)\n",
    "# gridSearch_ClasCompuesto = <RELLENAR>\n",
    "# Se muestra la mejor configuración junto con su rendimiento\n",
    "print(gridSearch_pipeline.best_score_)\n",
    "print(gridSearch_pipeline.best_params_)\n",
    "\n",
    "# Almacenamos el DataFrame con los resultados\n",
    "diccionarioResultados = gridSearch_pipeline.cv_results_\n",
    "\n",
    "# Se muestra el RMSE obtenido para cada posible combinación de híper-parámetros\n",
    "# <RELLENAR>\n",
    "\n",
    "# Se obtiene el rendimiento en entrenamiento y test por la mejor configuración (mejor modelo)\n",
    "# mejorModelo = <RELLENAR>\n",
    "# rmseTrain = <RELLENAR>\n",
    "# rmseTest = <RELLENAR>"
   ]
  },
  {
   "cell_type": "code",
   "execution_count": null,
   "metadata": {
    "deletable": false,
    "editable": false,
    "nbgrader": {
     "cell_type": "code",
     "checksum": "9a1056e3fcafb25f3907e4d0e9aa8099",
     "grade": true,
     "grade_id": "cell-3c4f37a222a25edf",
     "locked": true,
     "points": 2,
     "schema_version": 3,
     "solution": false,
     "task": false
    }
   },
   "outputs": [],
   "source": [
    "# ESTA CELDA DARÁ ERROR SI EL RESULTADO NO ES CORRECTO\n",
    "    # EN CASO CONTRARIO NO TENDRÁ SALIDA\n",
    "Test.assertEquals(rmseTrain, 177.01, 'Valor de RMSE en train incorrecto')\n",
    "Test.assertEquals(rmseTest, 3222.77, 'Valor de RMSE en test incorrecto')"
   ]
  },
  {
   "cell_type": "code",
   "execution_count": null,
   "metadata": {
    "deletable": false,
    "editable": false,
    "nbgrader": {
     "cell_type": "code",
     "checksum": "d60db5766b3c4664876c618cd385da24",
     "grade": true,
     "grade_id": "cell-392f3e2cb350c83d",
     "locked": true,
     "points": 2,
     "schema_version": 3,
     "solution": false,
     "task": false
    }
   },
   "outputs": [],
   "source": [
    "# ESTA CELDA DARÁ ERROR SI EL RESULTADO NO ES CORRECTO\n",
    "    # EN CASO CONTRARIO NO TENDRÁ SALIDA\n",
    "indice = np.argmax(diccionarioResultados['mean_test_score'])\n",
    "Test.assertEquals(round(np.max(diccionarioResultados['mean_test_score']), 2), -2323.70, \"RMSE de la mejor configuración incorrecto\")\n",
    "Test.assertEquals(diccionarioResultados['params'][indice], {'modelo__n_neighbors': 3, 'modelo__weights': 'distance', 'modelo__p': 1}, \"Mejor configuración incorrecta\")"
   ]
  },
  {
   "cell_type": "markdown",
   "metadata": {
    "deletable": false,
    "editable": false,
    "nbgrader": {
     "cell_type": "markdown",
     "checksum": "dcd8e08d2cf9935908f5bab2cd3093cd",
     "grade": false,
     "grade_id": "cell-1859002130e22a5c",
     "locked": true,
     "schema_version": 3,
     "solution": false,
     "task": false
    }
   },
   "source": [
    "## Mezcla de transformaciones en función de las características de las variables <a class=\"anchor\" id=\"4\"></a>\n",
    "\n",
    "Finalmente, vamos a aplicar todo lo que hemos visto hasta ahora de forma conjunta. Es decir, vamos a partir del conjunto original de ejemplos (con valores perdidos) y vamos a aplicar todas las técnicas necesarias para resolver el problema de predicción. \n",
    "\n",
    "En este caso, también vamos a tener en cuenta el número de valores diferentes de las variables categóricas para aplicar un tipo de transformación u otra. El motivo es que puede ser interesante aplicar una transformación ordinal a las variables con dos valores (o menos), una transformación *One hot* a las variables con pocos valores y una basada en la salida para las que tienen muchos y, de esta forma, evitar generar una matriz dispersa.\n",
    "\n",
    "NOTA: la transformación a aplicar en la clase *ColumnTransformer* puede ser una Pipeline en la que se encadenen varias técnicas a aplicar sobre las variables."
   ]
  },
  {
   "cell_type": "markdown",
   "metadata": {
    "deletable": false,
    "editable": false,
    "nbgrader": {
     "cell_type": "markdown",
     "checksum": "0a58562a9cea1935d059d786aae4914c",
     "grade": false,
     "grade_id": "cell-135fe35895d07c15",
     "locked": true,
     "schema_version": 3,
     "solution": false,
     "task": false
    }
   },
   "source": [
    "Cread 4 listas con los nombres de las variables que cumplan:\n",
    "* Sean numéricas (nombres_variables_numericas)\n",
    "* Sean categóricas cuyo número de valores diferentes sea 2 o menos (nombres_variables_categoricas_2_valores)\n",
    "* Sean categóricas cuyo número de v\n",
    "alores diferentes esté entre 3 y 6, incluído (nombres_variables_categoricas_entre3y6_valores)\n",
    "* Sean categóricas cuyo número de valores diferentes sea mayor que 6 (nombres_variables_categoricas_masDe6_valores)"
   ]
  },
  {
   "cell_type": "code",
   "execution_count": null,
   "metadata": {
    "deletable": false,
    "nbgrader": {
     "cell_type": "code",
     "checksum": "646df9006f5068f7de8c850ab4971d22",
     "grade": false,
     "grade_id": "cell-01d5382bed01184d",
     "locked": false,
     "schema_version": 3,
     "solution": true,
     "task": false
    }
   },
   "outputs": [],
   "source": [
    "# Obtnemos las listas de variables \n",
    "# nombres_variables_numericas = <RELLENAR>\n",
    "# nombres_variables_categoricas_2_valores = <RELLENAR>\n",
    "# nombres_variables_categoricas_entre3y6_valores = <RELLENAR>\n",
    "# nombres_variables_categoricas_masDe6_valores = <RELLENAR>"
   ]
  },
  {
   "cell_type": "markdown",
   "metadata": {
    "deletable": false,
    "editable": false,
    "nbgrader": {
     "cell_type": "markdown",
     "checksum": "ff30c2cb4cbb8e936ed0ef67ae3a607d",
     "grade": false,
     "grade_id": "cell-45419810e9c12462",
     "locked": true,
     "schema_version": 3,
     "solution": false,
     "task": false
    }
   },
   "source": [
    "Aplicad a cada tipo de variable las siguientes técnicas:\n",
    "* Numéricas\n",
    "    * Imputación de valores perdidos por la media\n",
    "* Categóricas cuyo número de valores diferentes sea 2 o menos\n",
    "    * Imputación de valores perdidos por la moda\n",
    "    * Transforamción ordinal\n",
    "* Categóricas cuyo número de v alores diferentes esté entre 3 y 6\n",
    "    * Imputación de valores perdidos por la moda\n",
    "    * Transformación One Hot\n",
    "* Categóricas cuyo número de valores diferentes sea mayor que 6\n",
    "    * Imputación de valores perdidos por la moda\n",
    "    * Transformación basada en la salida con *smoothing=0.0000001* \n",
    "    \n",
    "A todas las variables, una vez realizadas las transformaciones mencionadas anteriormente, se les aplica la estandarización del mínimo y del máximo y se debe utilizar KNN, con sus valores por defecto, como método de regresión.\n",
    "\n",
    "NOTA: al realizar una Pipeline, se puede incluir una fase en la que un componente sea un objeto de *ColumnTransformer*.\n",
    "\n",
    "Aplicad todo el proceso partiendo de los datos originales (DataFrame *autos*) que se deben dividir en el conjunto de entrenamiento y de test (20% de ejemplos para test) utilizando 12 como valor de la semilla. Obtened el rendimiento (RMSE) en entrenamiento y en test."
   ]
  },
  {
   "cell_type": "code",
   "execution_count": null,
   "metadata": {
    "deletable": false,
    "nbgrader": {
     "cell_type": "code",
     "checksum": "57ae3669457d6765180e0593a3a7fb4f",
     "grade": false,
     "grade_id": "cell-37f5fea4ca1aaf01",
     "locked": false,
     "schema_version": 3,
     "solution": true,
     "task": false
    }
   },
   "outputs": [],
   "source": [
    "# Creación de las Pipelines con las técnicas de pre-procesamiento de las variables categóricas\n",
    "# categorical_2_imputer_transformer = <RELLENAR>\n",
    "# categorical_entre3y6_imputer_transformer = <RELLENAR>\n",
    "# categorical_masDe6_imputer_transformer = <RELLENAR>\n",
    "\n",
    "# Creación del objeto ColumnTransformer con las transformaciones adecuadas\n",
    "# preprocesamiento = <RELLENAR>\n",
    "\n",
    "\n",
    "# Creamos la Pipeline final: pre-procesamiento, estandarizacion y KNN\n",
    "# pipe = <RELLENAR>\n",
    "\n",
    "\n",
    "# Particionado de los datos en train y test\n",
    "# X_train, X_test, y_train, y_test = <RELLENAR>\n",
    "\n",
    "# Entrenamos y evaluamos el rendimiento de la Pipeline en train y test\n",
    "# rmseTrain = <RELLENAR>\n",
    "# rmseTest = <RELLENAR>"
   ]
  },
  {
   "cell_type": "code",
   "execution_count": null,
   "metadata": {
    "deletable": false,
    "editable": false,
    "nbgrader": {
     "cell_type": "code",
     "checksum": "110b8c3448897dc865923780557651aa",
     "grade": true,
     "grade_id": "cell-ae7e2211da820e7b",
     "locked": true,
     "points": 4,
     "schema_version": 3,
     "solution": false,
     "task": false
    }
   },
   "outputs": [],
   "source": [
    "# ESTA CELDA DARÁ ERROR SI EL RESULTADO NO ES CORRECTO\n",
    "Test.assertEquals(rmseTrain, 2901.02, 'Valor de RMSE en train incorrecto')\n",
    "Test.assertEquals(rmseTest, 3711.53, 'Valor de RMSE en test incorrecto')"
   ]
  },
  {
   "cell_type": "markdown",
   "metadata": {
    "deletable": false,
    "editable": false,
    "nbgrader": {
     "cell_type": "markdown",
     "checksum": "d8c78da9856f875cf8e4d60771be8b45",
     "grade": false,
     "grade_id": "cell-9cf3bc3404468652",
     "locked": true,
     "schema_version": 3,
     "solution": false,
     "task": false
    }
   },
   "source": [
    "Al igual que en el resto de Pipelines, se pueden conseguir los mejores valores de los híper-parámetros utilizando *GridSearchCV*. Como el objeto final anterior es complicado, para conocer los nombres de los híper-parámetros susceptibles de ser tratados podemos ejecutar la siguiente línea de código."
   ]
  },
  {
   "cell_type": "code",
   "execution_count": null,
   "metadata": {
    "deletable": false,
    "editable": false,
    "nbgrader": {
     "cell_type": "code",
     "checksum": "575ee1bfdda68914ec7d9470b32b0d0e",
     "grade": false,
     "grade_id": "cell-41c1109749390dd7",
     "locked": true,
     "schema_version": 3,
     "solution": false,
     "task": false
    }
   },
   "outputs": [],
   "source": [
    "# Mostramos los nombres de los híper-parámetros\n",
    "    # Con ellos se puede generar el diccionario de valores para utilizar GridSearchCV\n",
    "pipe.get_params().keys()"
   ]
  },
  {
   "cell_type": "markdown",
   "metadata": {
    "deletable": false,
    "editable": false,
    "nbgrader": {
     "cell_type": "markdown",
     "checksum": "f5b16503665b55b1e0898bd50e952e2a",
     "grade": false,
     "grade_id": "cell-d58bc19d1ebf4718",
     "locked": true,
     "schema_version": 3,
     "solution": false,
     "task": false
    }
   },
   "source": [
    "Buscad los mejores valores de los siguientes híper-parámetros de la Pipeline:\n",
    "* MinMaxScaler\n",
    "    * feature_range: (0,1) y (0,5)\n",
    "* KNN\n",
    "    * n_neighbors: 3, 5, 7, 9\n",
    "    * weights: uniform y distance\n",
    "    * p: 1, 2, 1.5 y 3\n",
    "\n",
    "Utilizad la misma métrica de rendimiento y la misma validación de modelos que antes."
   ]
  },
  {
   "cell_type": "code",
   "execution_count": null,
   "metadata": {
    "deletable": false,
    "nbgrader": {
     "cell_type": "code",
     "checksum": "febc880bc9d00c545c4fa3b5d09f0a43",
     "grade": false,
     "grade_id": "cell-a65f615d9eecec80",
     "locked": false,
     "schema_version": 3,
     "solution": true,
     "task": false
    }
   },
   "outputs": [],
   "source": [
    "# Se crea el grid de híper-parámetros a \"optimizar\"\n",
    "# hiperParameters = <RELLENAR>\n",
    "\n",
    "# Se llama al constructor de GridSearchCV para que genere todas las combinaciones de los parámetros definidos anteriormente\n",
    "np.random.seed(12)\n",
    "# gridSearch_pipeline = <RELLENAR>\n",
    "# Se realiza el aprendizaje de todos los clasificadores considerados (todas las configuraciones)\n",
    "# gridSearch_pipeline = <RELLENAR>\n",
    "# Se muestra la mejor configuración junto con su rendimiento\n",
    "print(gridSearch_pipeline.best_score_)\n",
    "print(gridSearch_pipeline.best_params_)\n",
    "\n",
    "# Almacenamos el DataFrame con los resultados\n",
    "diccionarioResultados = gridSearch_pipeline.cv_results_\n",
    "\n",
    "# Se muestra el RMSE obtenido para cada posible combinación de híper-parámetros\n",
    "# <RELLENAR>\n",
    "\n",
    "# Se obtiene el rendimiento en entrenamiento y test por la mejor configuración de la Pipeline\n",
    "# rmseTrain = <RELLENAR>\n",
    "# rmseTest = <RELLENAR>"
   ]
  },
  {
   "cell_type": "code",
   "execution_count": null,
   "metadata": {
    "deletable": false,
    "editable": false,
    "nbgrader": {
     "cell_type": "code",
     "checksum": "106058097f78b10b1aaa4e1b9108a650",
     "grade": true,
     "grade_id": "cell-25deeaf615fd2f27",
     "locked": true,
     "points": 2,
     "schema_version": 3,
     "solution": false,
     "task": false
    }
   },
   "outputs": [],
   "source": [
    "# ESTA CELDA DARÁ ERROR SI EL RESULTADO NO ES CORRECTO\n",
    "    # EN CASO CONTRARIO NO TENDRÁ SALIDA\n",
    "Test.assertEquals(rmseTrain, 177.01, 'Valor de RMSE en train incorrecto')\n",
    "Test.assertEquals(rmseTest, 2408.35, 'Valor de RMSE en test incorrecto')"
   ]
  },
  {
   "cell_type": "code",
   "execution_count": null,
   "metadata": {
    "deletable": false,
    "editable": false,
    "nbgrader": {
     "cell_type": "code",
     "checksum": "b9a182c69e099bc0abf95ff9f6e3f1b1",
     "grade": true,
     "grade_id": "cell-e406de85edfd439e",
     "locked": true,
     "points": 2,
     "schema_version": 3,
     "solution": false,
     "task": false
    }
   },
   "outputs": [],
   "source": [
    "# ESTA CELDA DARÁ ERROR SI EL RESULTADO NO ES CORRECTO\n",
    "    # EN CASO CONTRARIO NO TENDRÁ SALIDA\n",
    "indice = np.argmax(diccionarioResultados['mean_test_score'])\n",
    "Test.assertEquals(round(np.max(diccionarioResultados['mean_test_score']), 2), -2133.58, \"RMSE de la mejor configuración incorrecto\")\n",
    "Test.assertEquals(diccionarioResultados['params'][indice], {'estandarizacion__feature_range': (0, 1), 'modelo__n_neighbors': 5, 'modelo__p': 1, 'modelo__weights': 'distance'}, \"Mejor configuración de la Pipeline incorrecta\")"
   ]
  }
 ],
 "metadata": {
  "kernelspec": {
   "display_name": "Python [conda env:py37machlearn] *",
   "language": "python",
   "name": "conda-env-py37machlearn-py"
  },
  "language_info": {
   "codemirror_mode": {
    "name": "ipython",
    "version": 3
   },
   "file_extension": ".py",
   "mimetype": "text/x-python",
   "name": "python",
   "nbconvert_exporter": "python",
   "pygments_lexer": "ipython3",
   "version": "3.7.4"
  }
 },
 "nbformat": 4,
 "nbformat_minor": 2
}
