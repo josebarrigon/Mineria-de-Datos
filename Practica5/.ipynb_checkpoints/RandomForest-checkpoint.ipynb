{
 "cells": [
  {
   "cell_type": "markdown",
   "metadata": {
    "deletable": false,
    "editable": false,
    "nbgrader": {
     "cell_type": "markdown",
     "checksum": "be3bfb64d6fe870a4c6ff891878cf847",
     "grade": false,
     "grade_id": "cell-a7f1dee03483c56a",
     "locked": true,
     "schema_version": 3,
     "solution": false
    }
   },
   "source": [
    "## Práctica de random forest"
   ]
  },
  {
   "cell_type": "markdown",
   "metadata": {
    "deletable": false,
    "editable": false,
    "nbgrader": {
     "cell_type": "markdown",
     "checksum": "9325714d3e5cc6685baa5a571f67607e",
     "grade": false,
     "grade_id": "cell-c1d42050f5d06517",
     "locked": true,
     "schema_version": 3,
     "solution": false
    }
   },
   "source": [
    "- [Random forest y mejora del sobre-aprendizaje con respecto a los árboles de decisión](#Random-forest-y-mejora-del-sobre-aprendizaje-con-respecto-a-los-árboles-de-decisión)\n",
    "- [Random forest para problemas de clasificación](#Random-forest-para-problemas-de-clasificación)\n",
    "- [Random forest para problemas de regresión](#Random-forest-para-problemas-de-regresión)"
   ]
  },
  {
   "cell_type": "markdown",
   "metadata": {
    "deletable": false,
    "editable": false,
    "nbgrader": {
     "cell_type": "markdown",
     "checksum": "6afe50b1d8308592b2c7d80c54bdb101",
     "grade": false,
     "grade_id": "cell-e30c1d2b0de9e5bc",
     "locked": true,
     "schema_version": 3,
     "solution": false
    }
   },
   "source": [
    "Importamos todas las librerías que vamos a utilizar durante la práctica."
   ]
  },
  {
   "cell_type": "code",
   "execution_count": 1,
   "metadata": {
    "deletable": false,
    "editable": false,
    "nbgrader": {
     "cell_type": "code",
     "checksum": "4b9f73c8fdd3fcd52c532fcf791b7cb6",
     "grade": false,
     "grade_id": "cell-703d361146ac2cb3",
     "locked": true,
     "schema_version": 3,
     "solution": false
    }
   },
   "outputs": [],
   "source": [
    "# %load ../../standard_import.txt\n",
    "import pandas as pd\n",
    "import numpy as np\n",
    "import matplotlib.pyplot as plt\n",
    "from test_helper import Test\n",
    "\n",
    "pd.set_option('display.notebook_repr_html', False)\n",
    "pd.set_option('display.max_columns', None)\n",
    "pd.set_option('display.max_rows', 150)\n",
    "pd.set_option('display.max_seq_items', None)\n",
    " \n",
    "#%config InlineBackend.figure_formats = {'pdf',}\n",
    "%matplotlib inline"
   ]
  },
  {
   "cell_type": "markdown",
   "metadata": {
    "deletable": false,
    "editable": false,
    "nbgrader": {
     "cell_type": "markdown",
     "checksum": "06ef97ad2e39d1901f7fe1a09df8e9e5",
     "grade": false,
     "grade_id": "cell-f6865bd5737453f2",
     "locked": true,
     "schema_version": 3,
     "solution": false
    }
   },
   "source": [
    "### Random forest y mejora del sobre-aprendizaje con respecto a los árboles de decisión"
   ]
  },
  {
   "cell_type": "markdown",
   "metadata": {
    "deletable": false,
    "editable": false,
    "nbgrader": {
     "cell_type": "markdown",
     "checksum": "acc0f9ef1ffda037cc7867009c7eddfd",
     "grade": false,
     "grade_id": "cell-89c67a4efaab096c",
     "locked": true,
     "schema_version": 3,
     "solution": false
    }
   },
   "source": [
    "En esta práctica vamos a anlizar el comportamiento de la técnica **Random Forest** tanto para problemas de clasificación como para problemas de regresión. Vamos a comenzar con los problemas de clasificaión. Scikit-learn ofrece la clase correspondiente a este clasificador que se encuentra dentro de la librería *ensemble* y se llama [*RandomForestClassifier*](http://scikit-learn.org/stable/modules/generated/sklearn.ensemble.RandomForestClassifier.html#sklearn.ensemble.RandomForestClassifier). \n",
    "La llamada al constructor y sus principales parámetros de entrada son los siguientes:\n",
    "\n",
    "    RandomForestClassifier(criterion=medidaImpureza, max_features = numVariables, n_estimators=numeroClasificadoresBase, max_depth=profMaxima, min_samples_split=ejemplosDividir, random_state=semilla)\n",
    "\n",
    "Los parámetros de entrada son:\n",
    "* medidaImpureza: tipo de medida de impureza ('gini' o 'entropy'). Por defecto es gini.\n",
    "* numVariables: número de variables a evaluar en cada nodo de cada árbol de decisión que forma en random forest. Los valores que puede tomar son:\n",
    "    * 'auto': hace la raíz cuadrada del número de variables (valor por defecto).\n",
    "    * 'sqrt': hace la raíz cuadrada del número de variables.\n",
    "    * 'log2': hace el logaritmo en base dos del número de variables.\n",
    "* numeroClasificadoresBase: valor entero que determina el número de clasificadores que compondrán el ensemble. Por defecto es 10.\n",
    "* profMaxima: profundidad máxima permitida al construir cada árbol de decisión base.\n",
    "* ejemplosDividir: número mínimo de ejemplos necesarios para dividir un nodo.\n",
    "* semilla: valor que determina la semilla para la generación de números aleatorios."
   ]
  },
  {
   "cell_type": "markdown",
   "metadata": {
    "deletable": false,
    "editable": false,
    "nbgrader": {
     "cell_type": "markdown",
     "checksum": "7431804473bb857579707cb544ce4138",
     "grade": false,
     "grade_id": "cell-6dd8cd807dd56912",
     "locked": true,
     "schema_version": 3,
     "solution": false
    }
   },
   "source": [
    "En primer lugar vamos a tratar de entender el motivo por el que los random forest mejoran el problema del sobre-entrenamiento que padecen los árboles de decisión. Para ello, vamos a visualizar la frontera de decisión que crean los árboles de decisión al utilizar datos de entrenamiento diferentes. De este modo, podréis comprobar que en función de los datos de entrada la superficie de decisión que crean es completamente diferente (ajustada a los datos con los que entrenan). Esta situación es diferente para los random forest puesto que la frontera de decisión que crean es mucho más parecida (independiente de los datos) y por este motivo mejoran el problema del sobre aprendizaje.\n",
    "\n",
    "Para ello, en primer lugar vamos a generar un dataset sintético con 2 variables de entrada y 4 clases utilizando la función [*make_blobs*](https://scikit-learn.org/stable/modules/generated/sklearn.datasets.make_blobs.html) de la librería *datasets*.\n",
    "\n",
    "Debéis crear un dataset compuesto por 300 ejemplos, con 4 clases (centros) cuyas desviaciones estándar sean 1.5 y utilizando el valor 0 como semilla."
   ]
  },
  {
   "cell_type": "code",
   "execution_count": 2,
   "metadata": {
    "deletable": false,
    "nbgrader": {
     "cell_type": "code",
     "checksum": "ef271a7d66a17984c18335018af13659",
     "grade": false,
     "grade_id": "cell-6b2f8432a0dbfbff",
     "locked": false,
     "schema_version": 3,
     "solution": true
    }
   },
   "outputs": [],
   "source": [
    "from sklearn.datasets import make_blobs\n",
    "np.random.seed(0)\n",
    "X,y = make_blobs(n_samples=300,centers=4, n_features=2,cluster_std=1.5)"
   ]
  },
  {
   "cell_type": "code",
   "execution_count": 3,
   "metadata": {
    "deletable": false,
    "editable": false,
    "nbgrader": {
     "cell_type": "code",
     "checksum": "337eec849a294f270f1c4cc89bee6ade",
     "grade": true,
     "grade_id": "cell-23bde1753f240004",
     "locked": true,
     "points": 1,
     "schema_version": 3,
     "solution": false
    }
   },
   "outputs": [
    {
     "name": "stdout",
     "output_type": "stream",
     "text": [
      "1 test passed.\n",
      "1 test passed.\n"
     ]
    }
   ],
   "source": [
    "Test.assertEquals(list(map(lambda x: round(x,2), X[:3,:].ravel())),[-0.99, 3.99, -1.66, 6.77, 1.42, 6.29], 'Valores de X incorrectos')\n",
    "Test.assertEquals(list(map(lambda x: int(x), y[:3])),[1,3,0], 'Valores de y incorrectos')"
   ]
  },
  {
   "cell_type": "markdown",
   "metadata": {
    "deletable": false,
    "editable": false,
    "nbgrader": {
     "cell_type": "markdown",
     "checksum": "6c746e11289233569a3f8876c116cbaf",
     "grade": false,
     "grade_id": "cell-9fe75c42e2f41643",
     "locked": true,
     "schema_version": 3,
     "solution": false
    }
   },
   "source": [
    "A continuación debéis aplicar la técnica Hold-out para obtener unos primeros conjuntos de entrenamiento y test utilizando el 70% de los datos para entrenar. Fijad la semilla de Numpy a 123.\n",
    "\n",
    "Podéis mostrar los datos obtenidos en una figura scatter y para diferenciar los datos de entrenamiento y de test podéis poner el borde de los ejemplos de test en negro (edgecolors='k')."
   ]
  },
  {
   "cell_type": "code",
   "execution_count": 4,
   "metadata": {
    "deletable": false,
    "nbgrader": {
     "cell_type": "code",
     "checksum": "8c0da3e807796b440f309ef8775283dd",
     "grade": false,
     "grade_id": "cell-68f4071f91d77726",
     "locked": false,
     "schema_version": 3,
     "solution": true
    }
   },
   "outputs": [
    {
     "data": {
      "text/plain": [
       "<matplotlib.collections.PathCollection at 0x7fb44934e1d0>"
      ]
     },
     "execution_count": 4,
     "metadata": {},
     "output_type": "execute_result"
    },
    {
     "data": {
      "image/png": "[encoded data removed]",
      "text/plain": [
       "<Figure size 432x288 with 1 Axes>"
      ]
     },
     "metadata": {
      "needs_background": "light"
     },
     "output_type": "display_data"
    }
   ],
   "source": [
    "from sklearn import model_selection\n",
    "np.random.seed(123)\n",
    "X_train, X_test, y_train, y_test = model_selection.train_test_split(X,y,train_size=0.7)\n",
    "plt.scatter(X_train[:,0],X_train[:,1])\n",
    "plt.scatter(X_test[:,0],X_test[:,1], edgecolors='k')"
   ]
  },
  {
   "cell_type": "markdown",
   "metadata": {
    "deletable": false,
    "editable": false,
    "nbgrader": {
     "cell_type": "markdown",
     "checksum": "b54b4f69d0ffebe51a669094d021aa39",
     "grade": false,
     "grade_id": "cell-8382919ca833cbbe",
     "locked": true,
     "schema_version": 3,
     "solution": false
    }
   },
   "source": [
    "Vamos a aplicar de nuevo el método Hold-out utilizando el 70% de los datos para entrenar y 987 como semilla de Numpy. De este modo tendremos dos conjuntos de datos diferentes para entrenar (y para testear)."
   ]
  },
  {
   "cell_type": "code",
   "execution_count": 5,
   "metadata": {
    "deletable": false,
    "nbgrader": {
     "cell_type": "code",
     "checksum": "28f45456d8d0adf0d15a3933babde4f0",
     "grade": false,
     "grade_id": "cell-40e4711db47793e8",
     "locked": false,
     "schema_version": 3,
     "solution": true
    }
   },
   "outputs": [],
   "source": [
    "np.random.seed(987)\n",
    "X_train1, X_test1, y_train1, y_test1 = model_selection.train_test_split(X,y,train_size=0.7)"
   ]
  },
  {
   "cell_type": "markdown",
   "metadata": {
    "deletable": false,
    "editable": false,
    "nbgrader": {
     "cell_type": "markdown",
     "checksum": "b321b3c64377a811b01f8ef64eb290de",
     "grade": false,
     "grade_id": "cell-4c57fd3bab006b67",
     "locked": true,
     "schema_version": 3,
     "solution": false
    }
   },
   "source": [
    "Una vez que tenemos los dos conjuntos de ejemplos de entrenamiento, vamos a realizar el aprendizaje de dos árboles de decisión C4.5 utilizando el valor 0 como semilla (cada uno con un conjunto diferente de entrenamiento de los anteriores). Se debe obtener el porcentaje de acierto en entrenamiento y test en cada caso con sus datos correspondientes. Finalmente, debéis mostrar las fronteras de decisión creadas por ambos árboles para compararlas y comprobar que son muy diferentes (cada una ajustada a los datos con los que entrena). Para poder utilizar el mismo mapa de color (cmap) tanto en la función *contourf* como en la *scatter* podéis asignar el valor 0.25 al parámetro *alpha* de contourf (se consigue que el fondo sea más transparente y se vean los ejemplos claramente). Además, debéis redondear los porcentajes de acierto (en tanto por cierto) utilizando dos decimales."
   ]
  },
  {
   "cell_type": "code",
   "execution_count": 6,
   "metadata": {
    "deletable": false,
    "nbgrader": {
     "cell_type": "code",
     "checksum": "37862cf5020458b36aa9e7aaf9d36dfd",
     "grade": false,
     "grade_id": "cell-911c255cf4ebcbf9",
     "locked": false,
     "schema_version": 3,
     "solution": true
    }
   },
   "outputs": [
    {
     "name": "stdout",
     "output_type": "stream",
     "text": [
      "100.0 73.33 100.0 73.33\n"
     ]
    },
    {
     "data": {
      "text/plain": [
       "<Figure size 720x720 with 0 Axes>"
      ]
     },
     "metadata": {},
     "output_type": "display_data"
    }
   ],
   "source": [
    "from sklearn import metrics\n",
    "from sklearn.tree import DecisionTreeClassifier\n",
    "\n",
    "np.random.seed(0)\n",
    "\n",
    "# Se crea una figura con dos subfiguras\n",
    "plt.figure(figsize=(10,10))\n",
    "\n",
    "# Llamada al constructor del árbol de decisión C4.5 con cada semilla 0 y aprendizaje del árbol de decisión \n",
    "    # con los datos del primer conjunto de train y cálculo del rendimiento en train y test (redondearlos a dos decimales)\n",
    "arbolDecision = DecisionTreeClassifier(criterion='entropy')\n",
    "arbolDecision.fit(X_train,y_train)\n",
    "train_prediction = arbolDecision.predict(X_train)\n",
    "test_prediction = arbolDecision.predict(X_test)\n",
    "accTrainDT = round(metrics.accuracy_score(y_train,train_prediction),4)*100\n",
    "accTestDT = round(metrics.accuracy_score(y_test,test_prediction),4)*100\n",
    "\n",
    "# Llamada al constructor del árbol de decisión C4.5 con cada semilla 0 y aprendizaje del árbol de decisión \n",
    "    # con los datos del segundo conjunto de train y cálculo del rendimiento en train y test (redondearlos a dos decimales)\n",
    "np.random.seed(0)\n",
    "arbolDecision1 = DecisionTreeClassifier(criterion='entropy')\n",
    "arbolDecision1.fit(X_train1,y_train1)\n",
    "train_prediction1 = arbolDecision1.predict(X_train1)\n",
    "test_prediction1 = arbolDecision1.predict(X_test1)\n",
    "accTrainDT1 = round(metrics.accuracy_score(y_train1,train_prediction1),4)*100\n",
    "accTestDT1 = round(metrics.accuracy_score(y_test1,test_prediction1),4)*100\n",
    "print(accTrainDT,accTestDT,accTrainDT1,accTestDT1)\n",
    "\n",
    "# Se calculan los mínimo y máximos de cada variable con los datos de entrenamiento a mostrar (-1 y +1 para dar margen)\n",
    "    # Utilizad el primer conjunto de entrenamiento para obtener los valores\n",
    "EjeX_min = np.min(X[:,0])-2\n",
    "EjeX_max = np.max(X[:,0])+2\n",
    "EjeY_min = np.min(X[:,1])-2\n",
    "EjeY_max = np.max(X[:,1])+2"
   ]
  },
  {
   "cell_type": "code",
   "execution_count": 7,
   "metadata": {
    "deletable": false,
    "editable": false,
    "nbgrader": {
     "cell_type": "code",
     "checksum": "3a980ff7b8d6aaf153e2399617d6d407",
     "grade": true,
     "grade_id": "cell-70f2f5057288c98f",
     "locked": true,
     "points": 2,
     "schema_version": 3,
     "solution": false
    }
   },
   "outputs": [
    {
     "name": "stdout",
     "output_type": "stream",
     "text": [
      "1 test passed.\n",
      "1 test passed.\n",
      "1 test passed.\n",
      "1 test passed.\n"
     ]
    }
   ],
   "source": [
    "Test.assertEquals(accTrainDT, 100.0, 'Accuracy de train del primer arbol incorrecto')\n",
    "Test.assertEquals(accTestDT, 73.33, 'Accuracy de test del primer arbol incorrecto')\n",
    "Test.assertEquals(accTrainDT1, 100.0, 'Accuracy de train del segundo arbol incorrecto')\n",
    "Test.assertEquals(accTestDT1, 73.33, 'Accuracy de test del segundo arbol incorrecto')"
   ]
  },
  {
   "cell_type": "markdown",
   "metadata": {
    "deletable": false,
    "editable": false,
    "nbgrader": {
     "cell_type": "markdown",
     "checksum": "ab69a196dcb4f776fc0302a369ebbb8a",
     "grade": false,
     "grade_id": "cell-8c274155929b6094",
     "locked": true,
     "schema_version": 3,
     "solution": false
    }
   },
   "source": [
    "Repetid el ejercicio anterior pero apendiendo dos random forest compuestos por 100 árboles C4.5 utilizando el valor 0 como semilla. Debéis redondear los porcentajes de acierto (en tanto por cierto) utilizando dos decimales."
   ]
  },
  {
   "cell_type": "code",
   "execution_count": 8,
   "metadata": {
    "deletable": false,
    "nbgrader": {
     "cell_type": "code",
     "checksum": "86413af4f3cee14a70bb50d4ef42a524",
     "grade": false,
     "grade_id": "cell-1ac6972621b5866a",
     "locked": false,
     "schema_version": 3,
     "solution": true
    }
   },
   "outputs": [
    {
     "data": {
      "text/plain": [
       "<Figure size 720x720 with 0 Axes>"
      ]
     },
     "metadata": {},
     "output_type": "display_data"
    }
   ],
   "source": [
    "from sklearn.ensemble import RandomForestClassifier\n",
    "np.random.seed(0)\n",
    "\n",
    "# Se crea una figura con dos subfiguras\n",
    "plt.figure(figsize=(10,10))\n",
    "\n",
    "# Llamada al constructor del árbol de decisión C4.5 con cada semilla 0 y aprendizaje del árbol de decisión \n",
    "    # con los datos del primer conjunto de train y cálculo del rendimiento en train y test (redondearlos a dos decimales)\n",
    "arbolDecision = RandomForestClassifier(criterion='entropy',n_estimators=100)\n",
    "arbolDecision.fit(X_train,y_train)\n",
    "train_prediction = arbolDecision.predict(X_train)\n",
    "test_prediction = arbolDecision.predict(X_test)\n",
    "accTrainRF = round(metrics.accuracy_score(y_train,train_prediction),4)*100\n",
    "accTestRF = round(metrics.accuracy_score(y_test,test_prediction),4)*100\n",
    "\n",
    "# Llamada al constructor del árbol de decisión C4.5 con cada semilla 0 y aprendizaje del árbol de decisión \n",
    "    # con los datos del segundo conjunto de train y cálculo del rendimiento en train y test (redondearlos a dos decimales)\n",
    "np.random.seed(0)\n",
    "arbolDecision1 = RandomForestClassifier(criterion='entropy',n_estimators=100)\n",
    "arbolDecision1.fit(X_train1,y_train1)\n",
    "train_prediction1 = arbolDecision1.predict(X_train1)\n",
    "test_prediction1 = arbolDecision1.predict(X_test1)\n",
    "accTrainRF1 = round(metrics.accuracy_score(y_train1,train_prediction1),4)*100\n",
    "accTestRF1 = round(metrics.accuracy_score(y_test1,test_prediction1),4)*100\n",
    "\n",
    "# Se calculan los mínimo y máximos de cada variable con los datos de entrenamiento a mostrar (-1 y +1 para dar margen)\n",
    "    # Utilizad el primer conjunto de entrenamiento para obtener los valores\n",
    "EjeX_min = np.min(X[:,0])-2\n",
    "EjeX_max = np.max(X[:,0])+2\n",
    "EjeY_min = np.min(X[:,1])-2\n",
    "EjeY_max = np.max(X[:,1])+2"
   ]
  },
  {
   "cell_type": "code",
   "execution_count": 9,
   "metadata": {
    "deletable": false,
    "editable": false,
    "nbgrader": {
     "cell_type": "code",
     "checksum": "0dbe0ab0fd1faafa828450052fba7c2c",
     "grade": true,
     "grade_id": "cell-e622931872c03e59",
     "locked": true,
     "points": 2,
     "schema_version": 3,
     "solution": false
    }
   },
   "outputs": [
    {
     "name": "stdout",
     "output_type": "stream",
     "text": [
      "1 test passed.\n",
      "1 test passed.\n",
      "1 test passed.\n",
      "1 test passed.\n"
     ]
    }
   ],
   "source": [
    "Test.assertEquals(accTrainRF, 100.0, 'Accuracy de train del primer random forest incorrecto')\n",
    "Test.assertEquals(accTestRF, 80.0, 'Accuracy de test del primer random forest incorrecto')\n",
    "Test.assertEquals(accTrainRF1, 100.0, 'Accuracy de train del segundo random forest incorrecto')\n",
    "Test.assertEquals(accTestRF1, 76.67, 'Accuracy de test del segundo random forest incorrecto')"
   ]
  },
  {
   "cell_type": "markdown",
   "metadata": {
    "deletable": false,
    "editable": false,
    "nbgrader": {
     "cell_type": "markdown",
     "checksum": "1b991d8f01b25b6db32dff8196a9364d",
     "grade": false,
     "grade_id": "cell-ab68b8e9bad889dc",
     "locked": true,
     "schema_version": 3,
     "solution": false
    }
   },
   "source": [
    "### Random forest para problemas de clasificación"
   ]
  },
  {
   "cell_type": "markdown",
   "metadata": {
    "deletable": false,
    "editable": false,
    "nbgrader": {
     "cell_type": "markdown",
     "checksum": "bc3abb9d668a60e9c34ea36f89e181d0",
     "grade": false,
     "grade_id": "cell-8ab970703e2e4e41",
     "locked": true,
     "schema_version": 3,
     "solution": false
    }
   },
   "source": [
    "A continuación, vamos a utilizar random forest para resolver un problema real y analizar su comportamiento en función de sus parámetros.\n",
    "\n",
    "En concreto, para desarrollar la práctica vamos a trabajar con el dataset Ionosphere. Este dataset contiene la información de un problema en el que un sistema de radar recoge información de 16 antenas con el objetivo de ver si los electrones presentan algún tipo de estructura en la ionosfera (Bueno) o no (Malo). Toda la información de este dataset se puede encontrar en la URL: https://archive.ics.uci.edu/ml/datasets/Ionosphere."
   ]
  },
  {
   "cell_type": "markdown",
   "metadata": {
    "deletable": false,
    "editable": false,
    "nbgrader": {
     "cell_type": "markdown",
     "checksum": "cf73a57d95926158ea7afd16fe360021",
     "grade": false,
     "grade_id": "cell-2fa0cb5c6416b32e",
     "locked": true,
     "schema_version": 3,
     "solution": false,
     "task": false
    }
   },
   "source": [
    "En el siguiente código se deben leer los datos del problema Ionosphere almacenados en un archivo *ionosphere.csv*. En este caso la variable de salida (la última, llamada Class) está codificada con strings puesto que es una variable categórica y, por lo tanto, debéis convertirla a valores numéricos (utilizando una codificación ordinal) para poder aplicar los métodos disponibles en Scikit-learn.\n",
    "\n",
    "Realiza la lectura de los datos almacenados en el fichero *ionosphere.csv* y guardar el resultado en una variable llamada ion. A partir de la variable ion, generad las variables X (información de entrada) e y (información de salida)."
   ]
  },
  {
   "cell_type": "code",
   "execution_count": 10,
   "metadata": {
    "deletable": false,
    "nbgrader": {
     "cell_type": "code",
     "checksum": "8ab76de4f25970af5cc2cbd8dfdea96d",
     "grade": false,
     "grade_id": "cell-db790d1ac0b3e9ae",
     "locked": false,
     "schema_version": 3,
     "solution": true
    }
   },
   "outputs": [],
   "source": [
    "# Se realiza la lectura del dataset sonar utilizando pandas\n",
    "    # La primera línea contiene los nombres de las variables\n",
    "    # header=None se utilizaría en caso de que no existiera una primera línea con los nombres para las variables\n",
    "\n",
    "# Lectura de datos del csv\n",
    "ion = pd.read_csv('ionosphere.csv')\n",
    "# Nombre de la variable a predecir\n",
    "atSalida = \"class\"\n",
    "\n",
    "# Creamos los DataFrames con las variables de entrada y con la variable de salida\n",
    "ion_output = ion.loc[:, ion.columns != 'Class'].copy()\n",
    "ion =  ion.loc[:,'Class'].copy()"
   ]
  },
  {
   "cell_type": "markdown",
   "metadata": {
    "deletable": false,
    "editable": false,
    "nbgrader": {
     "cell_type": "markdown",
     "checksum": "b9b9835eba9b3aee8488b5b460bef55c",
     "grade": false,
     "grade_id": "cell-7a76aeb1cdef1d47",
     "locked": true,
     "schema_version": 3,
     "solution": false
    }
   },
   "source": [
    "Utilizar el método de validación hold-out para obtener el accuracy de entrenamiento y de test con el dataset Ionosphere al utilizar el 75% de los ejemplos para entrenamiento y fijad la semilla de Numpy a 12. Como clasificador vamos a utilizar en primer lugar C4.5 (semilla 123) y el resto de sus valores los que utilice por defecto. Obtened el rendimiento en entrenamiento y en test.\n",
    "\n",
    "En este caso, además vamos a mostrar el número de nodos del árbol de decisión así como la máxima profundidad (mayor número de condiciones en una rama)."
   ]
  },
  {
   "cell_type": "code",
   "execution_count": 11,
   "metadata": {
    "deletable": false,
    "nbgrader": {
     "cell_type": "code",
     "checksum": "4d479423b0c8fa7645089213e248096f",
     "grade": false,
     "grade_id": "cell-aaddda78b40e5271",
     "locked": false,
     "schema_version": 3,
     "solution": true
    }
   },
   "outputs": [
    {
     "name": "stdout",
     "output_type": "stream",
     "text": [
      "Numero de nodos 27\n",
      "Maxima profundidad 7\n"
     ]
    }
   ],
   "source": [
    "# Aplicar hold-out\n",
    "X_train, X_test, y_train, y_test = model_selection.train_test_split(ion_output, ion, train_size=0.75,random_state=12)\n",
    "\n",
    "# Aprendizaje de C4.5 y cálculo de los rendimientos en train y test\n",
    "clasificador = DecisionTreeClassifier(criterion='entropy',random_state=123)\n",
    "clasificador.fit(X_train,y_train)\n",
    "train_prediction = clasificador.predict(X_train)\n",
    "test_prediction = clasificador.predict(X_test)\n",
    "\n",
    "accTrainDT = metrics.accuracy_score(y_train,train_prediction)*100\n",
    "accTestDT = metrics.accuracy_score(y_test,test_prediction)*100\n",
    "\n",
    "print(\"Numero de nodos {}\".format(clasificador.tree_.node_count))\n",
    "print(\"Maxima profundidad {}\".format(clasificador.tree_.max_depth))"
   ]
  },
  {
   "cell_type": "code",
   "execution_count": 12,
   "metadata": {
    "deletable": false,
    "editable": false,
    "nbgrader": {
     "cell_type": "code",
     "checksum": "a9b7b8d043196247d3a2b05932c48c93",
     "grade": true,
     "grade_id": "cell-47cc134029b75d7b",
     "locked": true,
     "points": 2,
     "schema_version": 3,
     "solution": false
    }
   },
   "outputs": [
    {
     "name": "stdout",
     "output_type": "stream",
     "text": [
      "1 test passed.\n",
      "1 test passed.\n"
     ]
    }
   ],
   "source": [
    "Test.assertEquals(round(accTrainDT, 2), 100.0, 'Accuracy de train incorrecto')\n",
    "Test.assertEquals(round(accTestDT, 2), 84.09, 'Accuracy de test incorrecto')"
   ]
  },
  {
   "cell_type": "markdown",
   "metadata": {
    "deletable": false,
    "editable": false,
    "nbgrader": {
     "cell_type": "markdown",
     "checksum": "b7d51f77bbf420de34388480e49a2ddb",
     "grade": false,
     "grade_id": "cell-b129804c1c5f5548",
     "locked": true,
     "schema_version": 3,
     "solution": false
    }
   },
   "source": [
    "A continuación vamos a resolver el mismo problema utilizando un random forest compuesto por 100 árboles C4.5, utilizando la raíz cuadrada como número de atributos a analizar en cada nodo y el valor 123 como semilla. Se debe obtener el rendimiento en train y en test. ¿Mejora con respecto al de un solo C4.5?\n",
    "\n",
    "NOTA: esta es la configuración base de todos los random forest que vamos a utilizar en las celdas posteriores por lo que solo deberíes cambiar los parámetros que se especifiquen en las celdas correspondientes."
   ]
  },
  {
   "cell_type": "code",
   "execution_count": 13,
   "metadata": {
    "deletable": false,
    "nbgrader": {
     "cell_type": "code",
     "checksum": "ed57185d2df71e73f0bcf533ae584db3",
     "grade": false,
     "grade_id": "cell-62e895077a854809",
     "locked": false,
     "schema_version": 3,
     "solution": true
    }
   },
   "outputs": [],
   "source": [
    "clasificador = RandomForestClassifier(criterion='entropy', n_estimators=100, max_features='sqrt' , random_state=123)\n",
    "clasificador.fit(X_train,y_train)\n",
    "\n",
    "train_prediction = clasificador.predict(X_train)\n",
    "test_prediction = clasificador.predict(X_test)\n",
    "\n",
    "accTrainRF = metrics.accuracy_score(y_train,train_prediction)*100\n",
    "accTestRF = metrics.accuracy_score(y_test,test_prediction)*100"
   ]
  },
  {
   "cell_type": "code",
   "execution_count": 14,
   "metadata": {
    "deletable": false,
    "editable": false,
    "nbgrader": {
     "cell_type": "code",
     "checksum": "9ae73c5492ae587b620e9a25c17a2c82",
     "grade": true,
     "grade_id": "cell-dcf790fba27c281a",
     "locked": true,
     "points": 2,
     "schema_version": 3,
     "solution": false
    }
   },
   "outputs": [
    {
     "name": "stdout",
     "output_type": "stream",
     "text": [
      "1 test passed.\n",
      "1 test passed.\n"
     ]
    }
   ],
   "source": [
    "Test.assertEquals(round(accTrainRF, 2), 100.00, 'Accuracy de train incorrecto')\n",
    "Test.assertEquals(round(accTestRF, 2), 90.91, 'Accuracy de test incorrecto')"
   ]
  },
  {
   "cell_type": "markdown",
   "metadata": {
    "deletable": false,
    "editable": false,
    "nbgrader": {
     "cell_type": "markdown",
     "checksum": "df6d5af377bc0d4f630df9e9a0860626",
     "grade": false,
     "grade_id": "cell-8289c45c5ed489aa",
     "locked": true,
     "schema_version": 3,
     "solution": false
    }
   },
   "source": [
    "En la siguiente celda se debe a obtener el número medio de nodos de todos los 100 árboles C4.5 utilizados en el random forest creado en la celda anterior así como la media de la máxima profundidad. Para obtenerlo, debéis acceder a cada árbol de decisión generado en el random forest y obtener ambos valores (luego hacer la media de todos) tal y como hemos visto en la celda en la que aplicábamos C4.5. Los árboles de decisión individuales que componen el random forest están almacenados en la propiedad *estimators_* que es una lista de objetos *DecisionTreeClassifier*."
   ]
  },
  {
   "cell_type": "code",
   "execution_count": 15,
   "metadata": {
    "deletable": false,
    "nbgrader": {
     "cell_type": "code",
     "checksum": "1f06e3ee7fb5693ae14792e1b47564f5",
     "grade": false,
     "grade_id": "cell-54e477d7828fb122",
     "locked": false,
     "schema_version": 3,
     "solution": true
    }
   },
   "outputs": [
    {
     "ename": "TypeError",
     "evalue": "mean() missing 1 required positional argument: 'a'",
     "output_type": "error",
     "traceback": [
      "\u001b[0;31m---------------------------------------------------------------------------\u001b[0m",
      "\u001b[0;31mTypeError\u001b[0m                                 Traceback (most recent call last)",
      "\u001b[0;32m<ipython-input-15-fd358f8b3e0e>\u001b[0m in \u001b[0;36m<module>\u001b[0;34m\u001b[0m\n\u001b[0;32m----> 1\u001b[0;31m \u001b[0mmediaNodos\u001b[0m \u001b[0;34m=\u001b[0m \u001b[0mnp\u001b[0m\u001b[0;34m.\u001b[0m\u001b[0mmean\u001b[0m\u001b[0;34m(\u001b[0m\u001b[0;34m)\u001b[0m\u001b[0;34m\u001b[0m\u001b[0;34m\u001b[0m\u001b[0m\n\u001b[0m\u001b[1;32m      2\u001b[0m \u001b[0mmediaProfundidadMax\u001b[0m \u001b[0;34m=\u001b[0m \u001b[0mnp\u001b[0m\u001b[0;34m.\u001b[0m\u001b[0mmean\u001b[0m\u001b[0;34m(\u001b[0m\u001b[0mmap\u001b[0m\u001b[0;34m(\u001b[0m\u001b[0;32mlambda\u001b[0m \u001b[0mx\u001b[0m\u001b[0;34m:\u001b[0m \u001b[0mx\u001b[0m\u001b[0;34m.\u001b[0m\u001b[0mtree_\u001b[0m\u001b[0;34m.\u001b[0m\u001b[0mmax_depth\u001b[0m\u001b[0;34m,\u001b[0m \u001b[0mclasificador\u001b[0m\u001b[0;34m.\u001b[0m\u001b[0mestimators_\u001b[0m\u001b[0;34m)\u001b[0m\u001b[0;34m)\u001b[0m\u001b[0;34m\u001b[0m\u001b[0;34m\u001b[0m\u001b[0m\n",
      "\u001b[0;31mTypeError\u001b[0m: mean() missing 1 required positional argument: 'a'"
     ]
    }
   ],
   "source": [
    "mediaNodos =\n",
    "mediaProfundidadMax = "
   ]
  },
  {
   "cell_type": "code",
   "execution_count": null,
   "metadata": {
    "deletable": false,
    "editable": false,
    "nbgrader": {
     "cell_type": "code",
     "checksum": "8162f47dd83d71f6be5ce54f6d233536",
     "grade": true,
     "grade_id": "cell-022cfcb48dd58ebe",
     "locked": true,
     "points": 2,
     "schema_version": 3,
     "solution": false
    }
   },
   "outputs": [],
   "source": [
    "Test.assertEquals(round(mediaNodos, 2), 33.92, 'Media de nodos incorrecta')\n",
    "Test.assertEquals(round(mediaProfundidadMax, 2), 8.48, 'Media de profundidad máxima incorrecta')"
   ]
  },
  {
   "cell_type": "markdown",
   "metadata": {
    "deletable": false,
    "editable": false,
    "nbgrader": {
     "cell_type": "markdown",
     "checksum": "76fb2d6c741c57a9f4106eb4eb4691e8",
     "grade": false,
     "grade_id": "cell-c3b812341328b809",
     "locked": true,
     "schema_version": 3,
     "solution": false
    }
   },
   "source": [
    "Del mismo modo que hacen los árboles de decisión, los random forest también asignan una importancia a cada variable. La importancia de cada variable (en tanto por uno) la podemos encontrar en el campo *feature\\_importances_* del objeto del random forest creado y entrenado.\n",
    "\n",
    "A partir de dicho atributo podemos crear una gráfica en la que analicemos la importancia de cada variable para solucionar el problema."
   ]
  },
  {
   "cell_type": "code",
   "execution_count": 16,
   "metadata": {
    "deletable": false,
    "nbgrader": {
     "cell_type": "code",
     "checksum": "e7650478f0fb30bdbb80707908b0f2cb",
     "grade": false,
     "grade_id": "cell-6b566502ca08032b",
     "locked": false,
     "schema_version": 3,
     "solution": true
    }
   },
   "outputs": [
    {
     "name": "stdout",
     "output_type": "stream",
     "text": [
      "La importancia de la variable  g es: 12.35366\n",
      "La importancia de la variable  g es: 11.72703\n",
      "La importancia de la variable  b es: 8.35682\n",
      "La importancia de la variable  g es: 6.44403\n",
      "La importancia de la variable  b es: 4.25783\n",
      "La importancia de la variable  g es: 4.07963\n",
      "La importancia de la variable  g es: 3.64325\n",
      "La importancia de la variable  b es: 3.07082\n",
      "La importancia de la variable  g es: 2.84784\n",
      "La importancia de la variable  b es: 2.74764\n",
      "La importancia de la variable  b es: 2.71374\n",
      "La importancia de la variable  b es: 2.58555\n",
      "La importancia de la variable  g es: 2.49124\n",
      "La importancia de la variable  b es: 2.4843\n",
      "La importancia de la variable  g es: 2.41126\n",
      "La importancia de la variable  b es: 2.26751\n",
      "La importancia de la variable  b es: 2.21618\n",
      "La importancia de la variable  b es: 2.16061\n",
      "La importancia de la variable  b es: 2.0018\n",
      "La importancia de la variable  b es: 1.93655\n",
      "La importancia de la variable  g es: 1.84053\n",
      "La importancia de la variable  g es: 1.64051\n",
      "La importancia de la variable  g es: 1.63622\n",
      "La importancia de la variable  g es: 1.6021\n",
      "La importancia de la variable  b es: 1.45815\n",
      "La importancia de la variable  b es: 1.43704\n",
      "La importancia de la variable  b es: 1.39635\n",
      "La importancia de la variable  g es: 1.36389\n",
      "La importancia de la variable  b es: 1.09525\n",
      "La importancia de la variable  g es: 1.06562\n",
      "La importancia de la variable  g es: 0.97876\n",
      "La importancia de la variable  b es: 0.90412\n",
      "La importancia de la variable  g es: 0.78414\n"
     ]
    },
    {
     "data": {
      "text/plain": [
       "<BarContainer object of 33 artists>"
      ]
     },
     "execution_count": 16,
     "metadata": {},
     "output_type": "execute_result"
    },
    {
     "data": {
      "image/png": "[encoded data removed]",
      "text/plain": [
       "<Figure size 432x288 with 1 Axes>"
      ]
     },
     "metadata": {
      "needs_background": "light"
     },
     "output_type": "display_data"
    }
   ],
   "source": [
    "# obtener una lista con la importancia de cada variable dada por el random forest en tanto por cien\n",
    "importancias = clasificador.feature_importances_*100\n",
    "# Vamos a emparejar cada valor con el nombre de cada variable (cada pareja será una tupla)\n",
    "variables_importancia = [(nombreVar, round(importancia, 5)) for nombreVar, importancia in zip(ion, importancias)]\n",
    "# Vamos a ordenar las variable de acuerdo a su importancia (de mayor a menor importancia)\n",
    "variables_importancia = sorted(variables_importancia, key = lambda x: x[1], reverse = True)\n",
    "# Imprimimos el nombre de cada variable y su importancia\n",
    "for nomVar, imp in variables_importancia:\n",
    "    print(\"La importancia de la variable {} es: {}\".format(nomVar, imp))\n",
    "\n",
    "# Creamos una figura de barras horizontales (plt.barh) con la misma información (sin ordenar por importancia: orden original de variables)\n",
    "    # Para etiquetar cada barra podéis utilizar el comando plt.yticks y poner el nombre de cada variable en cada caso\n",
    "plt.barh(range(0,len(importancias)),importancias)"
   ]
  },
  {
   "cell_type": "code",
   "execution_count": 17,
   "metadata": {
    "deletable": false,
    "editable": false,
    "nbgrader": {
     "cell_type": "code",
     "checksum": "14c73ccd3d1dc7c2433bed7356a24096",
     "grade": true,
     "grade_id": "cell-3175c0a163bbb2a6",
     "locked": true,
     "points": 1,
     "schema_version": 3,
     "solution": false
    }
   },
   "outputs": [
    {
     "name": "stdout",
     "output_type": "stream",
     "text": [
      "1 test passed.\n"
     ]
    }
   ],
   "source": [
    "Test.assertEquals(list(map(lambda x: round(x,2), importancias[:5])), [4.08, 8.36, 4.26, 11.73, 3.07], \"Valores incorrectos de las importancias\")"
   ]
  },
  {
   "cell_type": "markdown",
   "metadata": {
    "deletable": false,
    "editable": false,
    "nbgrader": {
     "cell_type": "markdown",
     "checksum": "fdf2b74d9ccde1118a90797f036a41d0",
     "grade": false,
     "grade_id": "cell-5ff9fd3cfbcf4442",
     "locked": true,
     "schema_version": 3,
     "solution": false
    }
   },
   "source": [
    "A continuación vamos a analizar el comportamiento de los random forest ante diferentes valores para sus parámetros. Evidentemente, uno de los parámetros más importantes es el número de árboles de decisión que componen el random forest así que vamos a comenzar analizando dicho factor.\n",
    "\n",
    "Lo que se debe realizar es analizar el rendimiento del random forest cuando está compuesto desde solamente 5 árboles C4.5 e ir subiendo de 5 en 5 árboles hasta alcanzar los 100 árboles de decisión. Debéis almacenar el número de árboles de cada prueba así como su rendimientto obtenido en train y en test. Finalmente, debéis realizar una gráfica (eje y con valores entre 80 y 101 para ver mejor la variación del rendimiento: parámetro *ylim*) de puntos en los que se muestre en color rojo el rendimiento en train y en color verde el rendimiento en test. Utilizad el valor 123 como semilla para random forest."
   ]
  },
  {
   "cell_type": "code",
   "execution_count": 18,
   "metadata": {
    "deletable": false,
    "nbgrader": {
     "cell_type": "code",
     "checksum": "e7f9b3d9de9cf23f7c276f7653045126",
     "grade": false,
     "grade_id": "cell-480472b7ff88bd17",
     "locked": false,
     "schema_version": 3,
     "solution": true
    }
   },
   "outputs": [
    {
     "data": {
      "text/plain": [
       "[<matplotlib.lines.Line2D at 0x7fb447a81b10>]"
      ]
     },
     "execution_count": 18,
     "metadata": {},
     "output_type": "execute_result"
    },
    {
     "data": {
      "image/png": "[encoded data removed]",
      "text/plain": [
       "<Figure size 432x288 with 1 Axes>"
      ]
     },
     "metadata": {
      "needs_background": "light"
     },
     "output_type": "display_data"
    }
   ],
   "source": [
    "X_train, X_test, y_train, y_test = model_selection.train_test_split(ion_output, ion, train_size=0.75, random_state=12)\n",
    "listaNumArboles =  range(5,105,5)\n",
    "listaAccTrain =  []\n",
    "listaAccTest =  []\n",
    "for i in listaNumArboles:\n",
    "    clasificador = RandomForestClassifier(criterion='entropy',n_estimators=i,random_state=123)\n",
    "    clasificador.fit(X_train,y_train)\n",
    "\n",
    "    train_prediction = clasificador.predict(X_train)\n",
    "    test_prediction = clasificador.predict(X_test)\n",
    "\n",
    "    accTrain = metrics.accuracy_score(y_train,train_prediction)*100\n",
    "    accTest = metrics.accuracy_score(y_test,test_prediction)*100\n",
    "    \n",
    "    #Añadimos los accuracys a lista\n",
    "    listaAccTrain.append(accTrain)\n",
    "    listaAccTest.append(accTest)\n",
    "    \n",
    "plt.plot(listaNumArboles, listaAccTest)\n",
    "plt.plot(listaNumArboles, listaAccTrain)"
   ]
  },
  {
   "cell_type": "code",
   "execution_count": 19,
   "metadata": {
    "deletable": false,
    "editable": false,
    "nbgrader": {
     "cell_type": "code",
     "checksum": "9f776970a118e8bf95a4810c28ddf82f",
     "grade": true,
     "grade_id": "cell-15fd1a0df867658b",
     "locked": true,
     "points": 3,
     "schema_version": 3,
     "solution": false
    }
   },
   "outputs": [
    {
     "name": "stdout",
     "output_type": "stream",
     "text": [
      "1 test passed.\n",
      "1 test passed.\n"
     ]
    }
   ],
   "source": [
    "Test.assertEquals(list(map(lambda x: round(x,2), listaAccTrain)), [98.86, 100.0, 100.0, 100.0, 99.62, 99.62, 100.0, 100.0, 100.0, 100.0, 100.0, 100.0, 100.0, 100.0, 100.0, 100.0, 100.0, 100.0, 100.0, 100.0], \"Valores de accuracy en train incorrectos\")\n",
    "Test.assertEquals(list(map(lambda x: round(x,2), listaAccTest)), [87.5, 87.5, 88.64, 87.5, 88.64, 87.5, 88.64, 88.64, 90.91, 88.64, 87.5, 89.77, 89.77, 89.77, 92.05, 89.77, 90.91, 89.77, 90.91, 90.91], \"Valores de accuracy en test incorrectos\")"
   ]
  },
  {
   "cell_type": "markdown",
   "metadata": {
    "deletable": false,
    "editable": false,
    "nbgrader": {
     "cell_type": "markdown",
     "checksum": "9983bb3b2937068b0fd5b7c726e1865e",
     "grade": false,
     "grade_id": "cell-19fed0079b5bf1fd",
     "locked": true,
     "schema_version": 3,
     "solution": false
    }
   },
   "source": [
    "En el caso anterior casi todos los parámetros del random forest eran los que vienen por defecto. Ahora vamos a analizar la influencia de uno de ellos. En concreto, vamos a analizar el efecto de fijar la máxima profundidad, max_depth, permitida al construir cada árbol C4.5 del random forest. Fijar dicho parámetro a 5 y repetir la gráfica anterior. ¿Cómo influye en el resultado?"
   ]
  },
  {
   "cell_type": "code",
   "execution_count": 20,
   "metadata": {
    "deletable": false,
    "nbgrader": {
     "cell_type": "code",
     "checksum": "1252edd8d6b75489101f7d2f089c27bb",
     "grade": false,
     "grade_id": "cell-00d1f004a501bd06",
     "locked": false,
     "schema_version": 3,
     "solution": true
    }
   },
   "outputs": [
    {
     "data": {
      "text/plain": [
       "[<matplotlib.lines.Line2D at 0x7fb447485890>]"
      ]
     },
     "execution_count": 20,
     "metadata": {},
     "output_type": "execute_result"
    },
    {
     "data": {
      "image/png": "[encoded data removed]",
      "text/plain": [
       "<Figure size 432x288 with 1 Axes>"
      ]
     },
     "metadata": {
      "needs_background": "light"
     },
     "output_type": "display_data"
    }
   ],
   "source": [
    "X_train, X_test, y_train, y_test = model_selection.train_test_split(ion_output, ion, train_size=0.75, random_state=12)\n",
    "listaNumArboles =  range(5,105,5)\n",
    "listaAccTrain =  []\n",
    "listaAccTest =  []\n",
    "for i in listaNumArboles:\n",
    "    clasificador = RandomForestClassifier(criterion='entropy',n_estimators=i,max_depth=5,random_state=123)\n",
    "    clasificador.fit(X_train,y_train)\n",
    "\n",
    "    train_prediction = clasificador.predict(X_train)\n",
    "    test_prediction = clasificador.predict(X_test)\n",
    "\n",
    "    accTrain = metrics.accuracy_score(y_train,train_prediction)*100\n",
    "    accTest = metrics.accuracy_score(y_test,test_prediction)*100\n",
    "    \n",
    "    #Añadimos los accuracys a lista\n",
    "    listaAccTrain.append(accTrain)\n",
    "    listaAccTest.append(accTest)  \n",
    "plt.plot(listaNumArboles, listaAccTest)\n",
    "plt.plot(listaNumArboles, listaAccTrain)"
   ]
  },
  {
   "cell_type": "code",
   "execution_count": 21,
   "metadata": {
    "deletable": false,
    "editable": false,
    "nbgrader": {
     "cell_type": "code",
     "checksum": "a6c366648fe8cd45bdcc28061f2cecdd",
     "grade": true,
     "grade_id": "cell-44374d4e267bb980",
     "locked": true,
     "points": 2,
     "schema_version": 3,
     "solution": false
    }
   },
   "outputs": [
    {
     "name": "stdout",
     "output_type": "stream",
     "text": [
      "1 test passed.\n",
      "1 test passed.\n"
     ]
    }
   ],
   "source": [
    "Test.assertEquals(list(map(lambda x: round(x,2), listaAccTrain)), [96.2, 96.58, 97.34, 96.58, 96.58, 96.58, 96.58, 96.58, 96.58, 96.58, 96.58, 96.58, 96.58, 96.58, 96.58, 96.58, 96.58, 96.58, 96.58, 96.58], \"Valores de accuracy en train incorrectos\")\n",
    "Test.assertEquals(list(map(lambda x: round(x,2), listaAccTest)), [88.64, 87.5, 89.77, 88.64, 88.64, 90.91, 90.91, 89.77, 89.77, 89.77, 90.91, 89.77, 89.77, 90.91, 90.91, 90.91, 90.91, 90.91, 90.91, 90.91], \"Valores de accuracy en test incorrectos\")"
   ]
  },
  {
   "cell_type": "markdown",
   "metadata": {
    "deletable": false,
    "editable": false,
    "nbgrader": {
     "cell_type": "markdown",
     "checksum": "9e187d375dbdcd0d3ec9083eee10efb6",
     "grade": false,
     "grade_id": "cell-daf089bf5c9db36b",
     "locked": true,
     "schema_version": 3,
     "solution": false
    }
   },
   "source": [
    "Finalmente, vamos a fijar el parámetro que establece el número mínimo de ejemplos para dividir un nodo, *min_samples_plit*, a 20. Dejad la máxima profundidad a su valor por defecto y repetir el ejercicio anterior."
   ]
  },
  {
   "cell_type": "code",
   "execution_count": 22,
   "metadata": {
    "deletable": false,
    "nbgrader": {
     "cell_type": "code",
     "checksum": "f23761ac2ab4376ae2efff384fb4f03e",
     "grade": false,
     "grade_id": "cell-5701f049ac177967",
     "locked": false,
     "schema_version": 3,
     "solution": true
    }
   },
   "outputs": [
    {
     "data": {
      "text/plain": [
       "[<matplotlib.lines.Line2D at 0x7fb44769a990>]"
      ]
     },
     "execution_count": 22,
     "metadata": {},
     "output_type": "execute_result"
    },
    {
     "data": {
      "image/png": "[encoded data removed]",
      "text/plain": [
       "<Figure size 432x288 with 1 Axes>"
      ]
     },
     "metadata": {
      "needs_background": "light"
     },
     "output_type": "display_data"
    }
   ],
   "source": [
    "X_train, X_test, y_train, y_test = model_selection.train_test_split(ion_output, ion, train_size=0.75, random_state=12)\n",
    "listaNumArboles =  range(5,105,5)\n",
    "listaAccTrain =  []\n",
    "listaAccTest =  []\n",
    "for i in listaNumArboles:\n",
    "    clasificador = RandomForestClassifier(criterion='entropy',n_estimators=i,random_state=123,min_samples_split=20)\n",
    "    clasificador.fit(X_train,y_train)\n",
    "\n",
    "    train_prediction = clasificador.predict(X_train)\n",
    "    test_prediction = clasificador.predict(X_test)\n",
    "\n",
    "    accTrain = metrics.accuracy_score(y_train,train_prediction)*100\n",
    "    accTest = metrics.accuracy_score(y_test,test_prediction)*100\n",
    "    \n",
    "    #Añadimos los accuracys a lista\n",
    "    listaAccTrain.append(accTrain)\n",
    "    listaAccTest.append(accTest) \n",
    "\n",
    "plt.plot(listaNumArboles, listaAccTest)\n",
    "plt.plot(listaNumArboles, listaAccTrain)"
   ]
  },
  {
   "cell_type": "code",
   "execution_count": 23,
   "metadata": {
    "deletable": false,
    "editable": false,
    "nbgrader": {
     "cell_type": "code",
     "checksum": "704e0b114132b06c69587fdc72385175",
     "grade": true,
     "grade_id": "cell-73e71ca534860c49",
     "locked": true,
     "points": 2,
     "schema_version": 3,
     "solution": false
    }
   },
   "outputs": [
    {
     "name": "stdout",
     "output_type": "stream",
     "text": [
      "1 test passed.\n",
      "1 test passed.\n"
     ]
    }
   ],
   "source": [
    "Test.assertEquals(list(map(lambda x: round(x,2), listaAccTrain)), [97.72, 98.1, 97.72, 97.34, 96.96, 97.72, 96.96, 96.96, 96.58, 96.96, 96.96, 96.96, 97.34, 96.96, 97.34, 97.34, 97.34, 97.34, 97.34, 97.34], \"Valores de accuracy en train incorrectos\")\n",
    "Test.assertEquals(list(map(lambda x: round(x,2), listaAccTest)), [87.5, 88.64, 93.18, 87.5, 88.64, 88.64, 87.5, 87.5, 87.5, 87.5, 88.64, 87.5, 87.5, 86.36, 87.5, 87.5, 87.5, 87.5, 87.5, 87.5], \"Valores de accuracy en test incorrectos\")"
   ]
  },
  {
   "cell_type": "markdown",
   "metadata": {
    "deletable": false,
    "editable": false,
    "nbgrader": {
     "cell_type": "markdown",
     "checksum": "429c7fb13d834d98fd8407aef2637155",
     "grade": false,
     "grade_id": "cell-3830ddca04b7272c",
     "locked": true,
     "schema_version": 3,
     "solution": false
    }
   },
   "source": [
    "El último parámetro que vamos a analizar es el que determina el número de variables a analizar en cada nodo de los árboles de decisión que componen el random forest. Este parámetro es el *max_features* y debéis analizar el rendimiento en train y test al utilizar los valores 1, 'sqrt', 'log2' y None. Evidentemente no hace falta crear una gráfica como en los apartados anteriores."
   ]
  },
  {
   "cell_type": "code",
   "execution_count": 24,
   "metadata": {
    "deletable": false,
    "nbgrader": {
     "cell_type": "code",
     "checksum": "68d4911a9033f1f6a0e94746809e17e4",
     "grade": false,
     "grade_id": "cell-26c5de2d450bcba0",
     "locked": false,
     "schema_version": 3,
     "solution": true
    }
   },
   "outputs": [],
   "source": [
    "X_train, X_test, y_train, y_test = model_selection.train_test_split(ion_output, ion, train_size=0.75, random_state=12)\n",
    "listaMaxFeatures =  [1,'sqrt','log2',None]\n",
    "listaAccTrain =  []\n",
    "listaAccTest =  []\n",
    "for i in listaMaxFeatures:\n",
    "    clasificador = RandomForestClassifier(criterion='entropy',n_estimators=100, max_features=i, random_state=123)\n",
    "    clasificador.fit(X_train,y_train)\n",
    "\n",
    "    train_prediction = clasificador.predict(X_train)\n",
    "    test_prediction = clasificador.predict(X_test)\n",
    "\n",
    "    accTrain = metrics.accuracy_score(y_train,train_prediction)*100\n",
    "    accTest = metrics.accuracy_score(y_test,test_prediction)*100\n",
    "    \n",
    "    #Añadimos los accuracys a lista\n",
    "    listaAccTrain.append(accTrain)\n",
    "    listaAccTest.append(accTest) "
   ]
  },
  {
   "cell_type": "code",
   "execution_count": 25,
   "metadata": {
    "deletable": false,
    "editable": false,
    "nbgrader": {
     "cell_type": "code",
     "checksum": "ba6a22d052d034d3bb9183ee1f7827a2",
     "grade": true,
     "grade_id": "cell-9d3d0dcdc0f61aba",
     "locked": true,
     "points": 2,
     "schema_version": 3,
     "solution": false
    }
   },
   "outputs": [
    {
     "name": "stdout",
     "output_type": "stream",
     "text": [
      "1 test passed.\n",
      "1 test passed.\n"
     ]
    }
   ],
   "source": [
    "Test.assertEquals(list(map(lambda x: round(x,2), listaAccTrain)), [100.00,100.00,100.00,100.00], \"Valores de accuracy en train incorrectos\")\n",
    "Test.assertEquals(list(map(lambda x: round(x,2), listaAccTest)), [89.77,90.91,90.91,85.23], \"Valores de accuracy en test incorrectos\")"
   ]
  },
  {
   "cell_type": "markdown",
   "metadata": {
    "deletable": false,
    "editable": false,
    "nbgrader": {
     "cell_type": "markdown",
     "checksum": "780146dd8c2b15ac42c9b0b4e2f02257",
     "grade": false,
     "grade_id": "cell-ac557fd7161e0b70",
     "locked": true,
     "schema_version": 3,
     "solution": false
    }
   },
   "source": [
    "Finalmente, debéis utilizar la función *GridSearchCV* de *model_selection* para obtener la mejor configuración del random forest. Los parámetros a analizar y sus respectivos valores a analizar son los siguientes:\n",
    "* n_estimators: [10,50,100]\n",
    "* max_features: [1,'sqrt','log2',None]\n",
    "* criterion: ['gini','entropy']\n",
    "* max_depth: [5,10,None]\n",
    "* min_samples_split: [2,10,20]\n",
    "\n",
    "Dbéis utilizar una validación cruzada de 10 particiones, el valor 12 como semilla de Numpy y el valor 123 como semilla para Random Forest. Finalmente, obtened el rendimiento en train y test por la mejor configuración obtenida.\n",
    "\n",
    "NOTA: esta celda tarda bastante tiempo en ejecutarse (varios minutos en el ordenador en el que he creado la práctica)."
   ]
  },
  {
   "cell_type": "code",
   "execution_count": 26,
   "metadata": {
    "deletable": false,
    "nbgrader": {
     "cell_type": "code",
     "checksum": "bfa9adcc5b7d0cdb740ed9051bbba008",
     "grade": false,
     "grade_id": "cell-7c087aa03d97ff09",
     "locked": false,
     "schema_version": 3,
     "solution": true
    }
   },
   "outputs": [
    {
     "data": {
      "text/plain": [
       "98.86363636363636"
      ]
     },
     "execution_count": 26,
     "metadata": {},
     "output_type": "execute_result"
    }
   ],
   "source": [
    "#Establecemos la semilla\n",
    "np.random.seed(12)\n",
    "# Almacenamos el DataFrame con los resultados\n",
    "diccionarioResultados =  {'criterion': ['gini', 'entropy'], 'n_estimators': [10,50,100] ,'min_samples_split': [2, 10, 20], 'max_depth':[5,10,None], 'max_features':[1,'sqrt','log2',None]}\n",
    "# Se obtiene el rendimiento en entrenamiento y test por la mejor configuración\n",
    "clasificador = RandomForestClassifier(random_state=123)\n",
    "clasificadores = model_selection.GridSearchCV(clasificador, diccionarioResultados, scoring='accuracy', cv=10)\n",
    "clasificadores.fit(ion_output,ion)\n",
    "\n",
    "train_prediction = clasificadores.predict(X_train)\n",
    "test_prediction = clasificadores.predict(X_test)\n",
    "accTrain = metrics.accuracy_score(y_train,train_prediction)*100\n",
    "metrics.accuracy_score(y_test,test_prediction)*100"
   ]
  },
  {
   "cell_type": "code",
   "execution_count": 27,
   "metadata": {
    "deletable": false,
    "editable": false,
    "nbgrader": {
     "cell_type": "code",
     "checksum": "589216238c6756a8cfbc5fb6eeb7fbb4",
     "grade": true,
     "grade_id": "cell-76a5fe500be03824",
     "locked": true,
     "points": 2,
     "schema_version": 3,
     "solution": false,
     "task": false
    }
   },
   "outputs": [
    {
     "name": "stdout",
     "output_type": "stream",
     "text": [
      "1 test passed.\n",
      "1 test failed. Valor de accuracy en test incorrecto\n"
     ]
    },
    {
     "ename": "Exception",
     "evalue": "Valor de accuracy en test incorrecto",
     "output_type": "error",
     "traceback": [
      "\u001b[0;31m---------------------------------------------------------------------------\u001b[0m",
      "\u001b[0;31mException\u001b[0m                                 Traceback (most recent call last)",
      "\u001b[0;32m<ipython-input-27-9d3761a868af>\u001b[0m in \u001b[0;36m<module>\u001b[0;34m\u001b[0m\n\u001b[1;32m      2\u001b[0m     \u001b[0;31m# EN CASO CONTRARIO NO TENDRÁ SALIDA\u001b[0m\u001b[0;34m\u001b[0m\u001b[0;34m\u001b[0m\u001b[0;34m\u001b[0m\u001b[0m\n\u001b[1;32m      3\u001b[0m \u001b[0mTest\u001b[0m\u001b[0;34m.\u001b[0m\u001b[0massertEquals\u001b[0m\u001b[0;34m(\u001b[0m\u001b[0mround\u001b[0m\u001b[0;34m(\u001b[0m\u001b[0maccTrain\u001b[0m\u001b[0;34m,\u001b[0m \u001b[0;36m2\u001b[0m\u001b[0;34m)\u001b[0m\u001b[0;34m,\u001b[0m \u001b[0;36m100.00\u001b[0m\u001b[0;34m,\u001b[0m \u001b[0;34m'Valor de accuracy en train incorrecto'\u001b[0m\u001b[0;34m)\u001b[0m\u001b[0;34m\u001b[0m\u001b[0;34m\u001b[0m\u001b[0m\n\u001b[0;32m----> 4\u001b[0;31m \u001b[0mTest\u001b[0m\u001b[0;34m.\u001b[0m\u001b[0massertEquals\u001b[0m\u001b[0;34m(\u001b[0m\u001b[0mround\u001b[0m\u001b[0;34m(\u001b[0m\u001b[0maccTest\u001b[0m\u001b[0;34m,\u001b[0m \u001b[0;36m2\u001b[0m\u001b[0;34m)\u001b[0m\u001b[0;34m,\u001b[0m \u001b[0;36m90.91\u001b[0m\u001b[0;34m,\u001b[0m \u001b[0;34m'Valor de accuracy en test incorrecto'\u001b[0m\u001b[0;34m)\u001b[0m\u001b[0;34m\u001b[0m\u001b[0;34m\u001b[0m\u001b[0m\n\u001b[0m",
      "\u001b[0;32m~/Documentos/Mineria/Practicas/Mineria-de-Datos/Practica5/test_helper.py\u001b[0m in \u001b[0;36massertEquals\u001b[0;34m(cls, var, val, msg)\u001b[0m\n\u001b[1;32m     37\u001b[0m   \u001b[0;34m@\u001b[0m\u001b[0mclassmethod\u001b[0m\u001b[0;34m\u001b[0m\u001b[0;34m\u001b[0m\u001b[0m\n\u001b[1;32m     38\u001b[0m   \u001b[0;32mdef\u001b[0m \u001b[0massertEquals\u001b[0m\u001b[0;34m(\u001b[0m\u001b[0mcls\u001b[0m\u001b[0;34m,\u001b[0m \u001b[0mvar\u001b[0m\u001b[0;34m,\u001b[0m \u001b[0mval\u001b[0m\u001b[0;34m,\u001b[0m \u001b[0mmsg\u001b[0m\u001b[0;34m=\u001b[0m\u001b[0;34m\"\"\u001b[0m\u001b[0;34m)\u001b[0m\u001b[0;34m:\u001b[0m\u001b[0;34m\u001b[0m\u001b[0;34m\u001b[0m\u001b[0m\n\u001b[0;32m---> 39\u001b[0;31m     \u001b[0mcls\u001b[0m\u001b[0;34m.\u001b[0m\u001b[0massertTrue\u001b[0m\u001b[0;34m(\u001b[0m\u001b[0mvar\u001b[0m \u001b[0;34m==\u001b[0m \u001b[0mval\u001b[0m\u001b[0;34m,\u001b[0m \u001b[0mmsg\u001b[0m\u001b[0;34m)\u001b[0m\u001b[0;34m\u001b[0m\u001b[0;34m\u001b[0m\u001b[0m\n\u001b[0m\u001b[1;32m     40\u001b[0m \u001b[0;34m\u001b[0m\u001b[0m\n\u001b[1;32m     41\u001b[0m   \u001b[0;34m@\u001b[0m\u001b[0mclassmethod\u001b[0m\u001b[0;34m\u001b[0m\u001b[0;34m\u001b[0m\u001b[0m\n",
      "\u001b[0;32m~/Documentos/Mineria/Practicas/Mineria-de-Datos/Practica5/test_helper.py\u001b[0m in \u001b[0;36massertTrue\u001b[0;34m(cls, result, msg)\u001b[0m\n\u001b[1;32m     28\u001b[0m     \u001b[0;32melse\u001b[0m\u001b[0;34m:\u001b[0m\u001b[0;34m\u001b[0m\u001b[0;34m\u001b[0m\u001b[0m\n\u001b[1;32m     29\u001b[0m       \u001b[0mprint\u001b[0m\u001b[0;34m(\u001b[0m\u001b[0;34m\"1 test failed. \"\u001b[0m \u001b[0;34m+\u001b[0m \u001b[0mmsg\u001b[0m\u001b[0;34m)\u001b[0m\u001b[0;34m\u001b[0m\u001b[0;34m\u001b[0m\u001b[0m\n\u001b[0;32m---> 30\u001b[0;31m       \u001b[0;32mraise\u001b[0m \u001b[0mException\u001b[0m\u001b[0;34m(\u001b[0m\u001b[0mmsg\u001b[0m\u001b[0;34m)\u001b[0m\u001b[0;34m\u001b[0m\u001b[0;34m\u001b[0m\u001b[0m\n\u001b[0m\u001b[1;32m     31\u001b[0m       \u001b[0;31m# if cls.failFast:\u001b[0m\u001b[0;34m\u001b[0m\u001b[0;34m\u001b[0m\u001b[0;34m\u001b[0m\u001b[0m\n\u001b[1;32m     32\u001b[0m         \u001b[0;31m# if cls.private:\u001b[0m\u001b[0;34m\u001b[0m\u001b[0;34m\u001b[0m\u001b[0;34m\u001b[0m\u001b[0m\n",
      "\u001b[0;31mException\u001b[0m: Valor de accuracy en test incorrecto"
     ]
    }
   ],
   "source": [
    "# ESTA CELDA DARÁ ERROR SI EL RESULTADO NO ES CORRECTO\n",
    "    # EN CASO CONTRARIO NO TENDRÁ SALIDA\n",
    "Test.assertEquals(round(accTrain, 2), 100.00, 'Valor de accuracy en train incorrecto')\n",
    "Test.assertEquals(round(accTest, 2), 90.91, 'Valor de accuracy en test incorrecto')"
   ]
  },
  {
   "cell_type": "code",
   "execution_count": 28,
   "metadata": {
    "deletable": false,
    "editable": false,
    "nbgrader": {
     "cell_type": "code",
     "checksum": "d2dfc090d4d30ea68a0ff2c0f926e0a8",
     "grade": true,
     "grade_id": "cell-176d098fa2a38ac9",
     "locked": true,
     "points": 2,
     "schema_version": 3,
     "solution": false
    }
   },
   "outputs": [
    {
     "ename": "KeyError",
     "evalue": "'mean_test_score'",
     "output_type": "error",
     "traceback": [
      "\u001b[0;31m---------------------------------------------------------------------------\u001b[0m",
      "\u001b[0;31mKeyError\u001b[0m                                  Traceback (most recent call last)",
      "\u001b[0;32m<ipython-input-28-a7940ae74d54>\u001b[0m in \u001b[0;36m<module>\u001b[0;34m\u001b[0m\n\u001b[1;32m      1\u001b[0m \u001b[0;31m# ESTA CELDA DARÁ ERROR SI EL RESULTADO NO ES CORRECTO\u001b[0m\u001b[0;34m\u001b[0m\u001b[0;34m\u001b[0m\u001b[0;34m\u001b[0m\u001b[0m\n\u001b[1;32m      2\u001b[0m     \u001b[0;31m# EN CASO CONTRARIO NO TENDRÁ SALIDA\u001b[0m\u001b[0;34m\u001b[0m\u001b[0;34m\u001b[0m\u001b[0;34m\u001b[0m\u001b[0m\n\u001b[0;32m----> 3\u001b[0;31m \u001b[0mindice\u001b[0m \u001b[0;34m=\u001b[0m \u001b[0mnp\u001b[0m\u001b[0;34m.\u001b[0m\u001b[0margmax\u001b[0m\u001b[0;34m(\u001b[0m\u001b[0mdiccionarioResultados\u001b[0m\u001b[0;34m[\u001b[0m\u001b[0;34m'mean_test_score'\u001b[0m\u001b[0;34m]\u001b[0m\u001b[0;34m)\u001b[0m\u001b[0;34m\u001b[0m\u001b[0;34m\u001b[0m\u001b[0m\n\u001b[0m\u001b[1;32m      4\u001b[0m \u001b[0mTest\u001b[0m\u001b[0;34m.\u001b[0m\u001b[0massertEquals\u001b[0m\u001b[0;34m(\u001b[0m\u001b[0mround\u001b[0m\u001b[0;34m(\u001b[0m\u001b[0mnp\u001b[0m\u001b[0;34m.\u001b[0m\u001b[0mmax\u001b[0m\u001b[0;34m(\u001b[0m\u001b[0mdiccionarioResultados\u001b[0m\u001b[0;34m[\u001b[0m\u001b[0;34m'mean_test_score'\u001b[0m\u001b[0;34m]\u001b[0m\u001b[0;34m)\u001b[0m\u001b[0;34m,\u001b[0m \u001b[0;36m4\u001b[0m\u001b[0;34m)\u001b[0m\u001b[0;34m,\u001b[0m \u001b[0;36m0.9504\u001b[0m\u001b[0;34m,\u001b[0m \u001b[0;34m\"Accuracy de la mejor configuración incorrecto\"\u001b[0m\u001b[0;34m)\u001b[0m\u001b[0;34m\u001b[0m\u001b[0;34m\u001b[0m\u001b[0m\n\u001b[1;32m      5\u001b[0m \u001b[0mTest\u001b[0m\u001b[0;34m.\u001b[0m\u001b[0massertEquals\u001b[0m\u001b[0;34m(\u001b[0m\u001b[0mdiccionarioResultados\u001b[0m\u001b[0;34m[\u001b[0m\u001b[0;34m'params'\u001b[0m\u001b[0;34m]\u001b[0m\u001b[0;34m[\u001b[0m\u001b[0mindice\u001b[0m\u001b[0;34m]\u001b[0m\u001b[0;34m,\u001b[0m \u001b[0;34m{\u001b[0m\u001b[0;34m'criterion'\u001b[0m\u001b[0;34m:\u001b[0m \u001b[0;34m'gini'\u001b[0m\u001b[0;34m,\u001b[0m \u001b[0;34m'max_depth'\u001b[0m\u001b[0;34m:\u001b[0m \u001b[0;36m10\u001b[0m\u001b[0;34m,\u001b[0m \u001b[0;34m'max_features'\u001b[0m\u001b[0;34m:\u001b[0m \u001b[0;34m'sqrt'\u001b[0m\u001b[0;34m,\u001b[0m \u001b[0;34m'min_samples_split'\u001b[0m\u001b[0;34m:\u001b[0m \u001b[0;36m2\u001b[0m\u001b[0;34m,\u001b[0m \u001b[0;34m'n_estimators'\u001b[0m\u001b[0;34m:\u001b[0m \u001b[0;36m100\u001b[0m\u001b[0;34m}\u001b[0m\u001b[0;34m,\u001b[0m \u001b[0;34m\"Mejor configuración incorrecta\"\u001b[0m\u001b[0;34m)\u001b[0m\u001b[0;34m\u001b[0m\u001b[0;34m\u001b[0m\u001b[0m\n",
      "\u001b[0;31mKeyError\u001b[0m: 'mean_test_score'"
     ]
    }
   ],
   "source": [
    "# ESTA CELDA DARÁ ERROR SI EL RESULTADO NO ES CORRECTO\n",
    "    # EN CASO CONTRARIO NO TENDRÁ SALIDA\n",
    "indice = np.argmax(diccionarioResultados['mean_test_score'])\n",
    "Test.assertEquals(round(np.max(diccionarioResultados['mean_test_score']), 4), 0.9504, \"Accuracy de la mejor configuración incorrecto\")\n",
    "Test.assertEquals(diccionarioResultados['params'][indice], {'criterion': 'gini', 'max_depth': 10, 'max_features': 'sqrt', 'min_samples_split': 2, 'n_estimators': 100}, \"Mejor configuración incorrecta\")"
   ]
  },
  {
   "cell_type": "markdown",
   "metadata": {
    "deletable": false,
    "editable": false,
    "nbgrader": {
     "cell_type": "markdown",
     "checksum": "f4e4f9bf0ffc883e8b459d45645ed789",
     "grade": false,
     "grade_id": "cell-f07771c6bb547490",
     "locked": true,
     "schema_version": 3,
     "solution": false
    }
   },
   "source": [
    "Comparad el rendimiento de la mejor configuración del random forest con el rendimiento de la mejor configuración obtenida por un solo árbol de decisión. Para ello, debéis repetir el ejericicio anterior (semilla 123 para el árbol de decisión) pero analizando solamente los parámetros que sean apropiados para los árboles de decisión. ¿Merece la pena el uso de random forest?"
   ]
  },
  {
   "cell_type": "code",
   "execution_count": 30,
   "metadata": {
    "deletable": false,
    "nbgrader": {
     "cell_type": "code",
     "checksum": "db10c7f1a777bbd47f5dc41c8fd36f23",
     "grade": false,
     "grade_id": "cell-7d6ca4bf5096baab",
     "locked": false,
     "schema_version": 3,
     "solution": true
    }
   },
   "outputs": [
    {
     "data": {
      "text/plain": [
       "97.72727272727273"
      ]
     },
     "execution_count": 30,
     "metadata": {},
     "output_type": "execute_result"
    }
   ],
   "source": [
    "#Establecemos la semilla\n",
    "np.random.seed(12)\n",
    "# Almacenamos el DataFrame con los resultados\n",
    "diccionarioResultados =  {'criterion': ['gini', 'entropy'],'min_samples_split': [2, 10, 20], 'max_depth':[5,10,None], 'max_features':[1,'sqrt','log2',None]}\n",
    "# Se obtiene el rendimiento en entrenamiento y test por la mejor configuración\n",
    "clasificador = DecisionTreeClassifier(random_state=123)\n",
    "clasificadores = model_selection.GridSearchCV(clasificador, diccionarioResultados, scoring='accuracy', cv=10)\n",
    "clasificadores.fit(ion_output,ion)\n",
    "\n",
    "train_prediction = clasificadores.predict(X_train)\n",
    "test_prediction = clasificadores.predict(X_test)\n",
    "accTrain = round(metrics.accuracy_score(y_train,train_prediction)*100,2)\n",
    "accTest = metrics.accuracy_score(y_test,test_prediction)*100"
   ]
  },
  {
   "cell_type": "code",
   "execution_count": 31,
   "metadata": {
    "deletable": false,
    "editable": false,
    "nbgrader": {
     "cell_type": "code",
     "checksum": "18be237532e5a4c85de8a0082bff24ab",
     "grade": true,
     "grade_id": "cell-a8b1c38f82e0717d",
     "locked": true,
     "points": 2,
     "schema_version": 3,
     "solution": false,
     "task": false
    }
   },
   "outputs": [
    {
     "name": "stdout",
     "output_type": "stream",
     "text": [
      "1 test failed. Valor de accuracy en train incorrecto\n"
     ]
    },
    {
     "ename": "Exception",
     "evalue": "Valor de accuracy en train incorrecto",
     "output_type": "error",
     "traceback": [
      "\u001b[0;31m---------------------------------------------------------------------------\u001b[0m",
      "\u001b[0;31mException\u001b[0m                                 Traceback (most recent call last)",
      "\u001b[0;32m<ipython-input-31-ba4c3649241c>\u001b[0m in \u001b[0;36m<module>\u001b[0;34m\u001b[0m\n\u001b[1;32m      1\u001b[0m \u001b[0;31m# ESTA CELDA DARÁ ERROR SI EL RESULTADO NO ES CORRECTO\u001b[0m\u001b[0;34m\u001b[0m\u001b[0;34m\u001b[0m\u001b[0;34m\u001b[0m\u001b[0m\n\u001b[1;32m      2\u001b[0m     \u001b[0;31m# EN CASO CONTRARIO NO TENDRÁ SALIDA\u001b[0m\u001b[0;34m\u001b[0m\u001b[0;34m\u001b[0m\u001b[0;34m\u001b[0m\u001b[0m\n\u001b[0;32m----> 3\u001b[0;31m \u001b[0mTest\u001b[0m\u001b[0;34m.\u001b[0m\u001b[0massertEquals\u001b[0m\u001b[0;34m(\u001b[0m\u001b[0mround\u001b[0m\u001b[0;34m(\u001b[0m\u001b[0maccTrain\u001b[0m\u001b[0;34m,\u001b[0m \u001b[0;36m2\u001b[0m\u001b[0;34m)\u001b[0m\u001b[0;34m,\u001b[0m \u001b[0;36m97.72\u001b[0m\u001b[0;34m,\u001b[0m \u001b[0;34m'Valor de accuracy en train incorrecto'\u001b[0m\u001b[0;34m)\u001b[0m\u001b[0;34m\u001b[0m\u001b[0;34m\u001b[0m\u001b[0m\n\u001b[0m\u001b[1;32m      4\u001b[0m \u001b[0mTest\u001b[0m\u001b[0;34m.\u001b[0m\u001b[0massertEquals\u001b[0m\u001b[0;34m(\u001b[0m\u001b[0mround\u001b[0m\u001b[0;34m(\u001b[0m\u001b[0maccTest\u001b[0m\u001b[0;34m,\u001b[0m \u001b[0;36m2\u001b[0m\u001b[0;34m)\u001b[0m\u001b[0;34m,\u001b[0m \u001b[0;36m84.09\u001b[0m\u001b[0;34m,\u001b[0m \u001b[0;34m'Valor de accuracy en test incorrecto'\u001b[0m\u001b[0;34m)\u001b[0m\u001b[0;34m\u001b[0m\u001b[0;34m\u001b[0m\u001b[0m\n",
      "\u001b[0;32m~/Documentos/Mineria/Practicas/Mineria-de-Datos/Practica5/test_helper.py\u001b[0m in \u001b[0;36massertEquals\u001b[0;34m(cls, var, val, msg)\u001b[0m\n\u001b[1;32m     37\u001b[0m   \u001b[0;34m@\u001b[0m\u001b[0mclassmethod\u001b[0m\u001b[0;34m\u001b[0m\u001b[0;34m\u001b[0m\u001b[0m\n\u001b[1;32m     38\u001b[0m   \u001b[0;32mdef\u001b[0m \u001b[0massertEquals\u001b[0m\u001b[0;34m(\u001b[0m\u001b[0mcls\u001b[0m\u001b[0;34m,\u001b[0m \u001b[0mvar\u001b[0m\u001b[0;34m,\u001b[0m \u001b[0mval\u001b[0m\u001b[0;34m,\u001b[0m \u001b[0mmsg\u001b[0m\u001b[0;34m=\u001b[0m\u001b[0;34m\"\"\u001b[0m\u001b[0;34m)\u001b[0m\u001b[0;34m:\u001b[0m\u001b[0;34m\u001b[0m\u001b[0;34m\u001b[0m\u001b[0m\n\u001b[0;32m---> 39\u001b[0;31m     \u001b[0mcls\u001b[0m\u001b[0;34m.\u001b[0m\u001b[0massertTrue\u001b[0m\u001b[0;34m(\u001b[0m\u001b[0mvar\u001b[0m \u001b[0;34m==\u001b[0m \u001b[0mval\u001b[0m\u001b[0;34m,\u001b[0m \u001b[0mmsg\u001b[0m\u001b[0;34m)\u001b[0m\u001b[0;34m\u001b[0m\u001b[0;34m\u001b[0m\u001b[0m\n\u001b[0m\u001b[1;32m     40\u001b[0m \u001b[0;34m\u001b[0m\u001b[0m\n\u001b[1;32m     41\u001b[0m   \u001b[0;34m@\u001b[0m\u001b[0mclassmethod\u001b[0m\u001b[0;34m\u001b[0m\u001b[0;34m\u001b[0m\u001b[0m\n",
      "\u001b[0;32m~/Documentos/Mineria/Practicas/Mineria-de-Datos/Practica5/test_helper.py\u001b[0m in \u001b[0;36massertTrue\u001b[0;34m(cls, result, msg)\u001b[0m\n\u001b[1;32m     28\u001b[0m     \u001b[0;32melse\u001b[0m\u001b[0;34m:\u001b[0m\u001b[0;34m\u001b[0m\u001b[0;34m\u001b[0m\u001b[0m\n\u001b[1;32m     29\u001b[0m       \u001b[0mprint\u001b[0m\u001b[0;34m(\u001b[0m\u001b[0;34m\"1 test failed. \"\u001b[0m \u001b[0;34m+\u001b[0m \u001b[0mmsg\u001b[0m\u001b[0;34m)\u001b[0m\u001b[0;34m\u001b[0m\u001b[0;34m\u001b[0m\u001b[0m\n\u001b[0;32m---> 30\u001b[0;31m       \u001b[0;32mraise\u001b[0m \u001b[0mException\u001b[0m\u001b[0;34m(\u001b[0m\u001b[0mmsg\u001b[0m\u001b[0;34m)\u001b[0m\u001b[0;34m\u001b[0m\u001b[0;34m\u001b[0m\u001b[0m\n\u001b[0m\u001b[1;32m     31\u001b[0m       \u001b[0;31m# if cls.failFast:\u001b[0m\u001b[0;34m\u001b[0m\u001b[0;34m\u001b[0m\u001b[0;34m\u001b[0m\u001b[0m\n\u001b[1;32m     32\u001b[0m         \u001b[0;31m# if cls.private:\u001b[0m\u001b[0;34m\u001b[0m\u001b[0;34m\u001b[0m\u001b[0;34m\u001b[0m\u001b[0m\n",
      "\u001b[0;31mException\u001b[0m: Valor de accuracy en train incorrecto"
     ]
    }
   ],
   "source": [
    "# ESTA CELDA DARÁ ERROR SI EL RESULTADO NO ES CORRECTO\n",
    "    # EN CASO CONTRARIO NO TENDRÁ SALIDA\n",
    "Test.assertEquals(round(accTrain, 2), 97.72, 'Valor de accuracy en train incorrecto')\n",
    "Test.assertEquals(round(accTest, 2), 84.09, 'Valor de accuracy en test incorrecto')"
   ]
  },
  {
   "cell_type": "code",
   "execution_count": null,
   "metadata": {
    "deletable": false,
    "editable": false,
    "nbgrader": {
     "cell_type": "code",
     "checksum": "a8b7d09aca692d97a6bf05073ea6d8ce",
     "grade": true,
     "grade_id": "cell-6590185b57378762",
     "locked": true,
     "points": 2,
     "schema_version": 3,
     "solution": false
    }
   },
   "outputs": [],
   "source": [
    "# ESTA CELDA DARÁ ERROR SI EL RESULTADO NO ES CORRECTO\n",
    "    # EN CASO CONTRARIO NO TENDRÁ SALIDA\n",
    "indice = np.argmax(diccionarioResultados['mean_test_score'])\n",
    "Test.assertEquals(round(np.max(diccionarioResultados['mean_test_score']), 4), 0.9090, \"Accuracy de la mejor configuración incorrecto\")\n",
    "Test.assertEquals(diccionarioResultados['params'][indice], {'criterion': 'entropy', 'max_depth': 5, 'min_samples_split': 2}, \"Mejor configuración incorrecta\")"
   ]
  },
  {
   "cell_type": "markdown",
   "metadata": {
    "deletable": false,
    "editable": false,
    "nbgrader": {
     "cell_type": "markdown",
     "checksum": "9b61e8d5505a8600b5c967adcfdd9a25",
     "grade": false,
     "grade_id": "cell-c054d51744c2a691",
     "locked": true,
     "schema_version": 3,
     "solution": false
    }
   },
   "source": [
    "### Random forest para problemas de regresión"
   ]
  },
  {
   "cell_type": "markdown",
   "metadata": {
    "deletable": false,
    "editable": false,
    "nbgrader": {
     "cell_type": "markdown",
     "checksum": "7245708a5153b79dd3729d89844ed458",
     "grade": false,
     "grade_id": "cell-2aa53126fcec684c",
     "locked": true,
     "schema_version": 3,
     "solution": false
    }
   },
   "source": [
    "Para acabar la práctica vamos a aplicar random forest para resolver problemas de regresión. La clase de Scikit-learn correspondiente a los ramdom forest para problemas de regresión es [*RandomForestRegressor*](https://scikit-learn.org/stable/modules/generated/sklearn.ensemble.RandomForestRegressor.html). También vamos a utilizar los árboles de decisión para problemas de regresión. De este modo, podremos comparar los resultados y ver si beneficia el uso de random forest o no. La clase de Scikit-learn correpospondiente a los árboles de decisión para regresión se llama [*DecisionTreeRegressor*](https://scikit-learn.org/stable/modules/generated/sklearn.tree.DecisionTreeRegressor.html). Como podéis observar los parámetros de ambas clases son son los mismos que en el caso de clasificación a excepción de criterio de división de los nodos que en este caso es el error cuadrático medio (*mse*)."
   ]
  },
  {
   "cell_type": "markdown",
   "metadata": {
    "deletable": false,
    "editable": false,
    "nbgrader": {
     "cell_type": "markdown",
     "checksum": "13412b3236d755ed1eb5d9299eac4b2f",
     "grade": false,
     "grade_id": "cell-b1482a0f82d7123a",
     "locked": true,
     "schema_version": 3,
     "solution": false
    }
   },
   "source": [
    "Para realizar esta parte de la práctica vamos a utilizar un problema que nos ofrece la librería Scikit-learn. Este problema consiste en predecir el valor de casas de Boston. Para poder leer los datos debéis utilizar la función [*load_boston*](https://scikit-learn.org/stable/modules/generated/sklearn.datasets.load_boston.html) de Scikit learn. La lectura de datos nos da un objeto dataset como los que hemos utilizado en la práctica de árboles de decisión donde resolvimos el problema de clasificación de las flores de lirio (Iris).\n",
    "\n",
    "Importar la función y leer los datos del problema. Almacenad el contenido en una variable llamada boston. Podéis ver la descripción del problema imprimiendo el campo *DESCR* del objeto."
   ]
  },
  {
   "cell_type": "code",
   "execution_count": null,
   "metadata": {
    "deletable": false,
    "nbgrader": {
     "cell_type": "code",
     "checksum": "8254c575f7cc2c9dd4f9987ae0053f23",
     "grade": false,
     "grade_id": "cell-f27f493b9b30eef8",
     "locked": false,
     "schema_version": 3,
     "solution": true
    }
   },
   "outputs": [],
   "source": [
    "# boston = <RELLENAR>"
   ]
  },
  {
   "cell_type": "markdown",
   "metadata": {
    "deletable": false,
    "editable": false,
    "nbgrader": {
     "cell_type": "markdown",
     "checksum": "1a307af80f252b24553b36e7bafbb564",
     "grade": false,
     "grade_id": "cell-414774955c9928e8",
     "locked": true,
     "schema_version": 3,
     "solution": false
    }
   },
   "source": [
    "A continuación debéis aplicar Hold-out para obtener los conjuntos de entrenamiento y de test utilizando el 70% de los ejemplos para entrenar. Fijad la semilla de Numpy a 987."
   ]
  },
  {
   "cell_type": "code",
   "execution_count": null,
   "metadata": {
    "deletable": false,
    "nbgrader": {
     "cell_type": "code",
     "checksum": "c425a65e01695c7ebf7cd8cfc7922e19",
     "grade": false,
     "grade_id": "cell-660764f5d4992f8d",
     "locked": false,
     "schema_version": 3,
     "solution": true
    }
   },
   "outputs": [],
   "source": [
    "# X_train, X_test, y_train, y_test = <RELLENAR>"
   ]
  },
  {
   "cell_type": "markdown",
   "metadata": {
    "deletable": false,
    "editable": false,
    "nbgrader": {
     "cell_type": "markdown",
     "checksum": "31dd3d0d416469c775ba8c309b88f54f",
     "grade": false,
     "grade_id": "cell-43052e7ad4ae3322",
     "locked": true,
     "schema_version": 3,
     "solution": false
    }
   },
   "source": [
    "A continuación se debe resolver el problema utilizando un random forest compuesto por 50 árboles, utilizando 'sqrt' como número de atributos a analizar en cada nodo y el valor 123 como semilla. Debéis entrenar el random forest y obtener el rendimiento en train y test. Para medir el rendimiento vamos a utilizar la raíz cuadrada del error cuadrática medio la raíz pone el error en el dominio original de la variable a predecir). Recordad que la función que nos calcula el error cuadrático medio se llama [*mean_squared_error*](https://scikit-learn.org/stable/modules/generated/sklearn.metrics.mean_squared_error.html).\n",
    "\n",
    "Además, debéis mostrar una gráfica en la que se muestre la importancia de cada variable para predecir el valor de las casas. Finalmente, tenéis que mostrar una gráfica (*plot*) en la que comparéis el valor real de las casas utilizadas en test (en verde) con el valor predicho por random forest (en rojo). Para que se vea bien la última gráfica es necesario ordenar los precios y mostrarlos de acuerdo a dicha ordenación."
   ]
  },
  {
   "cell_type": "code",
   "execution_count": null,
   "metadata": {
    "deletable": false,
    "nbgrader": {
     "cell_type": "code",
     "checksum": "399a2bf87cfee9cd455cafe5a0e513f1",
     "grade": false,
     "grade_id": "cell-64f83637db1485f8",
     "locked": false,
     "schema_version": 3,
     "solution": true
    }
   },
   "outputs": [],
   "source": [
    "from sklearn.ensemble import RandomForestRegressor\n",
    "# rmseTrainRF = <RELLENAR>\n",
    "# rmseTestRF = <RELLENAR>"
   ]
  },
  {
   "cell_type": "code",
   "execution_count": null,
   "metadata": {
    "deletable": false,
    "editable": false,
    "nbgrader": {
     "cell_type": "code",
     "checksum": "8786d0eaeeb5e25d9d7c86e82ea35755",
     "grade": true,
     "grade_id": "cell-b3ff885536276599",
     "locked": true,
     "points": 2,
     "schema_version": 3,
     "solution": false
    }
   },
   "outputs": [],
   "source": [
    "Test.assertEquals(round(rmseTrainRF, 2), 1.28, \"MSE de train incorrecto\")\n",
    "Test.assertEquals(round(rmseTestRF, 2), 3.06, \"MSE de test incorrecto\")"
   ]
  },
  {
   "cell_type": "markdown",
   "metadata": {
    "deletable": false,
    "editable": false,
    "nbgrader": {
     "cell_type": "markdown",
     "checksum": "198c4813feadbee2541016c565fe08df",
     "grade": false,
     "grade_id": "cell-e6068af0a13c1389",
     "locked": true,
     "schema_version": 3,
     "solution": false
    }
   },
   "source": [
    "Repetid el ejercicio anterior utilizando un árbol de decisión con todos sus valores por defecto excepto la semilla que la fijamos a 123."
   ]
  },
  {
   "cell_type": "code",
   "execution_count": null,
   "metadata": {
    "deletable": false,
    "nbgrader": {
     "cell_type": "code",
     "checksum": "3005ba5b455e1d241f9d73aff2bc1929",
     "grade": false,
     "grade_id": "cell-eaf4633e86248174",
     "locked": false,
     "schema_version": 3,
     "solution": true
    }
   },
   "outputs": [],
   "source": [
    "from sklearn.tree import DecisionTreeRegressor\n",
    "# rmseTrainDT = <RELLENAR>\n",
    "# rmseTestDT = <RELLENAR>"
   ]
  },
  {
   "cell_type": "code",
   "execution_count": null,
   "metadata": {
    "deletable": false,
    "editable": false,
    "nbgrader": {
     "cell_type": "code",
     "checksum": "8a108672aaa7ca7a64f67c01090a0f10",
     "grade": true,
     "grade_id": "cell-a89357479700fcdf",
     "locked": true,
     "points": 2,
     "schema_version": 3,
     "solution": false
    }
   },
   "outputs": [],
   "source": [
    "Test.assertEquals(round(rmseTrainDT, 2), 0.00, \"MSE de train incorrecto\")\n",
    "Test.assertEquals(round(rmseTestDT, 2), 4.47, \"MSE de test incorrecto\")"
   ]
  }
 ],
 "metadata": {
  "kernelspec": {
   "display_name": "Python [conda env:py37machlearn] *",
   "language": "python",
   "name": "conda-env-py37machlearn-py"
  },
  "language_info": {
   "codemirror_mode": {
    "name": "ipython",
    "version": 3
   },
   "file_extension": ".py",
   "mimetype": "text/x-python",
   "name": "python",
   "nbconvert_exporter": "python",
   "pygments_lexer": "ipython3",
   "version": "3.7.4"
  }
 },
 "nbformat": 4,
 "nbformat_minor": 1
}
