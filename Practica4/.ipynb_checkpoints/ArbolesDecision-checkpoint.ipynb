{
 "cells": [
  {
   "cell_type": "markdown",
   "metadata": {
    "deletable": false,
    "editable": false,
    "nbgrader": {
     "cell_type": "markdown",
     "checksum": "40672a81203701b2cdcd50a571d39b6b",
     "grade": false,
     "grade_id": "cell-8f4189bae933e3dc",
     "locked": true,
     "schema_version": 3,
     "solution": false
    }
   },
   "source": [
    "## Práctica de árboles de decisión\n",
    "\n",
    "- [Árboles de decisión para clasificación](#Árboles-de-decisión-para-clasificación)\n",
    "- [Extracción de variables utilizando árboles de decisión](#Extracción-de-variables-utilizando-árboles-de-decisión)"
   ]
  },
  {
   "cell_type": "markdown",
   "metadata": {
    "deletable": false,
    "editable": false,
    "nbgrader": {
     "cell_type": "markdown",
     "checksum": "c4c24da1e68efe63fd8d12283bb98a25",
     "grade": false,
     "grade_id": "cell-945d83a94dd25901",
     "locked": true,
     "schema_version": 3,
     "solution": false
    }
   },
   "source": [
    "Importamos todas las librerías que vamos a utilizar inicialmente. Posteriormente iremos importando las librerías específicas de cada apartado de la práctica."
   ]
  },
  {
   "cell_type": "code",
   "execution_count": 2,
   "metadata": {
    "deletable": false,
    "editable": false,
    "nbgrader": {
     "cell_type": "code",
     "checksum": "5363f01497837ab7683be8d14ddf8273",
     "grade": false,
     "grade_id": "cell-720481583dd0c623",
     "locked": true,
     "schema_version": 3,
     "solution": false
    }
   },
   "outputs": [],
   "source": [
    "# %load ../../standard_import.txt\n",
    "import pandas as pd\n",
    "import numpy as np\n",
    "import matplotlib.pyplot as plt\n",
    "import matplotlib.image as mpimg\n",
    "\n",
    "from test_helper import Test\n",
    "\n",
    "pd.set_option('display.notebook_repr_html', False)\n",
    "pd.set_option('display.max_columns', None)\n",
    "pd.set_option('display.max_rows', 150)\n",
    "pd.set_option('display.max_seq_items', None)\n",
    " \n",
    "#%config InlineBackend.figure_formats = {'pdf',}\n",
    "%matplotlib inline"
   ]
  },
  {
   "cell_type": "markdown",
   "metadata": {
    "deletable": false,
    "editable": false,
    "nbgrader": {
     "cell_type": "markdown",
     "checksum": "a87d16b9171abf9f1544c8696e22d2d6",
     "grade": false,
     "grade_id": "cell-a2fe87fbcbce1167",
     "locked": true,
     "schema_version": 3,
     "solution": false
    }
   },
   "source": [
    "En esta práctica vamos a analizar el comportamiento de los árboles de decisión para resolver problemas de clasificación. En concreto, para desarrollar la práctica vamos a trabajar con el dataset Iris (flores de lirio). \n",
    "\n",
    "La librería scikit-learn (sklearn) nos ofrece dicho dataset de forma automática. Para ello hay que importar en primer lugar el paquete datasets y luego utilizar la función [*load_iris()*](http://scikit-learn.org/stable/modules/generated/sklearn.datasets.load_iris.html#sklearn.datasets.load_iris), que carga el contenido del conjunto de datos Iris en la variable utilizada para tal efecto."
   ]
  },
  {
   "cell_type": "code",
   "execution_count": 3,
   "metadata": {
    "deletable": false,
    "nbgrader": {
     "cell_type": "code",
     "checksum": "e2b600f12c117efd5a37e2c5f326f75a",
     "grade": false,
     "grade_id": "cell-f1e1290c90c6f4cf",
     "locked": false,
     "schema_version": 3,
     "solution": true
    }
   },
   "outputs": [],
   "source": [
    "# Se importa el paquete datasets\n",
    "from sklearn.datasets import load_iris\n",
    "# Se lee el dataset iris y se almacena en la variable del mismo nombre\n",
    "iris = load_iris()"
   ]
  },
  {
   "cell_type": "markdown",
   "metadata": {
    "deletable": false,
    "editable": false,
    "nbgrader": {
     "cell_type": "markdown",
     "checksum": "230cff406d1ed52b7e61cb70e94739a7",
     "grade": false,
     "grade_id": "cell-abbcbf860129690e",
     "locked": true,
     "schema_version": 3,
     "solution": false
    }
   },
   "source": [
    "En la variable iris tenemos los datos asociados a los 150 ejemplos de la base de datos. En concreto:\n",
    "* Los datos de entrada (longitud y anchura de pétalo y de sépalo) están en el campo data (iris.data)\n",
    "* Las salidas (clases) están en el campo target (iris.target)\n",
    "* Los nombres de las clases están en el campo taget_names (iris.target_names)\n",
    "* Los nombres de las variables de entrada están en el campo feature_names (iris.feature_names)\n",
    "* La descripción del dataset está en el campo DESCR (iris.DESCR)\n",
    "\n",
    "Mostrar los datos de todos los campos (los 5 primeros ejemplos) para entender bien el conjunto de datos."
   ]
  },
  {
   "cell_type": "code",
   "execution_count": 5,
   "metadata": {
    "deletable": false,
    "nbgrader": {
     "cell_type": "code",
     "checksum": "05c67b01f693b732f0170bfaaa8c5b80",
     "grade": false,
     "grade_id": "cell-5aca74560d814752",
     "locked": false,
     "schema_version": 3,
     "solution": true
    }
   },
   "outputs": [
    {
     "name": "stdout",
     "output_type": "stream",
     "text": [
      "[[5.1 3.5 1.4 0.2]\n",
      " [4.9 3.  1.4 0.2]\n",
      " [4.7 3.2 1.3 0.2]\n",
      " [4.6 3.1 1.5 0.2]\n",
      " [5.  3.6 1.4 0.2]] [0 0 0 0 0] ['setosa' 'versicolor' 'virginica'] ['sepal length (cm)', 'sepal width (cm)', 'petal length (cm)', 'petal width (cm)'] .. _i\n"
     ]
    }
   ],
   "source": [
    "# Se imprime la información del dataset\n",
    "print(iris.data[0:5],\n",
    "iris.target[0:5],\n",
    "iris.target_names[0:5],\n",
    "iris.feature_names[0:5],\n",
    "iris.DESCR[0:5])"
   ]
  },
  {
   "cell_type": "markdown",
   "metadata": {
    "deletable": false,
    "editable": false,
    "nbgrader": {
     "cell_type": "markdown",
     "checksum": "7184d6417c59f32572efbceb1f9ccc51",
     "grade": false,
     "grade_id": "cell-b28d67ab55cbd64a",
     "locked": true,
     "schema_version": 3,
     "solution": false
    }
   },
   "source": [
    "### Árboles de decisión para clasificación"
   ]
  },
  {
   "cell_type": "markdown",
   "metadata": {
    "deletable": false,
    "editable": false,
    "nbgrader": {
     "cell_type": "markdown",
     "checksum": "b1679fbab9aecc5aa241cab40663f101",
     "grade": false,
     "grade_id": "cell-39e6bbc77fef3f81",
     "locked": true,
     "schema_version": 3,
     "solution": false
    }
   },
   "source": [
    "En esta práctica vamos a utilizar dos de los algoritmos más utilizados para generar árboles de decisión: C4.5 y CART. Utilizaremos ambos algoritmos para resolver el problema de clasificación de la flor Iris.\n",
    "\n",
    "En primer lugar vamos a aprender a utilizar el paquete de la librería scikit-learn (sklearn) que corresponde al paradigma de los árboles de decisión. Estos clasificadores están almacenados en la librería tree, por tanto en primer lugar debemos importarla."
   ]
  },
  {
   "cell_type": "code",
   "execution_count": 6,
   "metadata": {
    "deletable": false,
    "nbgrader": {
     "cell_type": "code",
     "checksum": "bae5a3326e7e5a051ecec41199eaa916",
     "grade": false,
     "grade_id": "cell-eb2d4c779c52f95a",
     "locked": false,
     "schema_version": 3,
     "solution": true
    }
   },
   "outputs": [],
   "source": [
    "# Se importa la librería de árboles de decisión\n",
    "from sklearn import tree"
   ]
  },
  {
   "cell_type": "markdown",
   "metadata": {
    "deletable": false,
    "editable": false,
    "nbgrader": {
     "cell_type": "markdown",
     "checksum": "f1337a45aad343e94c49bc2516c92024",
     "grade": false,
     "grade_id": "cell-2d36165f97a45f08",
     "locked": true,
     "schema_version": 3,
     "solution": false
    }
   },
   "source": [
    "Dentro de dicha librería está la clase específica que permite crear árboles de decisión para resolver problemas de clasificación que se llama [*DecisionTreeClassifier*](http://scikit-learn.org/stable/modules/generated/sklearn.tree.DecisionTreeClassifier.html#sklearn.tree.DecisionTreeClassifier).\n",
    "\n",
    "Esta clase tiene varios parámetros que se pueden utilizar para determinar el árbol de decisión a utilizar (C4.5 o CART) así como varios de sus híper-parámetros que determinarán su posterior comportamiento. La llamada al constructor del árbol de decisión es la siguiente:\n",
    "\n",
    "    clasificador = tree.DecisionTreeClassifier(criterion=tipoMedidaImpurezaNodo, min_samples_split=numeroMinimoEjemplosRama, min_samples_leaf= numeroMinimoEjemplosHoja, max_depth=maximaProfundidad, ccp_alpha=umbralAlfaEficaz, random_state=semilla)\n",
    "\n",
    "Los valores de los híper-parámetros que determinan el comportamiento del clasificador (parte derecha de la asignación de los parámetros criterion, min_samples_split y min_samples_leaf) son los siguientes:\n",
    "* tipoMedidaImpurezaNodo: tipo de medida de la impureza del nodo\n",
    "    * ‘gini’: indice GINI, árbol de decisión CART\n",
    "    * ‘entropy’: ratio de ganancia de información, árbol de decisión C4.5\n",
    "* numeroMinimoEjemplosRama: este híper-parámetro determina el número mínimo de ejemplos que debe tener un nodo interno para dividirlo más. Admite valores enteros o reales (entre 0 y 1): en caso de valores enteros determinan el valor exacto a aplicar y en caso de números reales representa el porcentaje de ejemplos a utilizar como umbral. El valor por defecto es 2 e implica realizar una expansión total del árbol.\n",
    "* numeroMinimoEjemplosHoja: este híper-parámetro determina el número mínimo de ejemplos que debe tener cualquier nodo hijo generado a partir del nodo a dividir. Si alguno no llega a este valor no se divide el nodo padre. Admite valores enteros o reales (entre 0 y 1): en caso de valores enteros determinan el valor exacto a aplicar y en caso de números reales representa el porcentaje de ejemplos a utilizar como umbral. El valor por defecto es 1 e implica realizar una expansión total del árbol.\n",
    "* maximaProfundidad: este híper-parámetro permite valores enteros y determina la profundidad máxima permitida en el árbol. Si la profunidad es mayor que este valor no se divide más el árbol. Por tanto, el arbol generado será más simple. El valor por defecto es *None*, que implica expandir el árbol sin restricciones de profundidad.\n",
    "* umbralAlfaEficaz: valor del umbral utilizado para detener el proceso de poda. Por defecto es 0.0 que implica no realizar poda.\n",
    "* semilla: valor de la semilla para generar los números aleatorios (se utiliza para seleccionar la mejor variable/umbral en caso de empates).\n",
    "\n",
    "NOTA: para resolver problemas de regresión la clase correspondiente a los árboles de decisión se llama [*DecisionTreeRegressor*](https://scikit-learn.org/stable/modules/generated/sklearn.tree.DecisionTreeRegressor.html) y sus híper-parámetros son análogos a los explicados anteriormente."
   ]
  },
  {
   "cell_type": "markdown",
   "metadata": {
    "deletable": false,
    "editable": false,
    "nbgrader": {
     "cell_type": "markdown",
     "checksum": "90e401c58bcc68396790dc192f3736b2",
     "grade": false,
     "grade_id": "cell-6412f0124195cfb0",
     "locked": true,
     "schema_version": 3,
     "solution": false,
     "task": false
    }
   },
   "source": [
    "Ejercicio: Resolver el problema de Iris utilizando utilizando los valores por defecto para controlar el tamaño del árbol de decisión. Además, debéis aplicar Hold-out como método de validación utilizando el 70% de los ejemplos para formar el conjunto de entrenamiento (12 como valor de la semilla de Numpy).\n",
    "* Comparar los resultados de accuracy en función del tipo de clasificador (CART o C4.5).\n",
    "\n",
    "NOTA:\n",
    "* Recordar que para obtener las medidas de rendimiento de los clasificadores se puede utilizar la librería *metrics*"
   ]
  },
  {
   "cell_type": "code",
   "execution_count": 7,
   "metadata": {
    "deletable": false,
    "nbgrader": {
     "cell_type": "code",
     "checksum": "8a039c311539fbf1adfa06a55102b107",
     "grade": false,
     "grade_id": "cell-ded227e63db77f3e",
     "locked": false,
     "schema_version": 3,
     "solution": true
    }
   },
   "outputs": [
    {
     "name": "stdout",
     "output_type": "stream",
     "text": [
      "gini\n",
      "95.55555555555556\n",
      "100.0\n",
      "entropy\n",
      "95.55555555555556\n",
      "100.0\n"
     ]
    }
   ],
   "source": [
    "# Se importa el paquete de métricas de rendimiento\n",
    "from sklearn import metrics, model_selection\n",
    "# Se fija la semilla de numpy para que la generación aleatoria siempre nos de los mismos números\n",
    "np.random.seed(12)\n",
    "# Particionado de los datos en train y test\n",
    "X_train, X_test, y_train, y_test = model_selection.train_test_split(\n",
    "iris.data, iris.target,train_size=0.7)\n",
    "\n",
    "# Listas para almacenar los accuracies\n",
    "listaAccTrain = []\n",
    "listaAccTest = []\n",
    "# Para cada tipo de árbol (CART y C4.5)\n",
    "for tipoArbol in ['gini','entropy']:\n",
    "    # LLamada al constructor del árbol de decisión\n",
    "    clasificador = tree.DecisionTreeClassifier(criterion=tipoArbol)\n",
    "    # Entrenamiento del árbol de decisión\n",
    "    clasificador.fit(X_train, y_train)\n",
    "    # Se realizan las predicciones del árbol de decisión con los ejemplos de entrenamiento\n",
    "    pred_Train = clasificador.predict(X_train)\n",
    "    # Se obtiene el rendimiento (accuracy)\n",
    "    accTrain = metrics.accuracy_score(y_train,pred_Train)*100\n",
    "    # Predicción de los datos de test\n",
    "    pred_Test = clasificador.predict(X_test)\n",
    "    # Cálculo del porcentaje de acierto en test (entre 0.0 y 100.0)\n",
    "    accTest = metrics.accuracy_score(y_test,pred_Test)*100\n",
    "    # Se almacena el resultado en la lista test para este porcentaje de ejemplos a utilizar como test\n",
    "    listaAccTrain.append(accTrain)\n",
    "    listaAccTest.append(accTest)\n",
    "    # Se imprime la información del tipo de árbol y rendimientos\n",
    "    print (tipoArbol)\n",
    "    print(accTest)\n",
    "    print(accTrain)"
   ]
  },
  {
   "cell_type": "code",
   "execution_count": 20,
   "metadata": {
    "deletable": false,
    "editable": false,
    "nbgrader": {
     "cell_type": "code",
     "checksum": "a5fa5840a150f8dba84bfea1c92d79e8",
     "grade": true,
     "grade_id": "cell-da417e112fd2be7f",
     "locked": true,
     "points": 3,
     "schema_version": 3,
     "solution": false
    }
   },
   "outputs": [
    {
     "name": "stdout",
     "output_type": "stream",
     "text": [
      "1 test passed.\n",
      "1 test passed.\n"
     ]
    }
   ],
   "source": [
    "# ESTA CELDA DARÁ ERROR SI EL RESULTADO NO ES CORRECTO\n",
    "    # EN CASO CONTRARIO NO TENDRÁ SALIDA\n",
    "Test.assertEquals(list(map(lambda x: round(x, 2), listaAccTrain)), [100.0, 100.0], 'Valores de accuracy en train incorrectos')\n",
    "Test.assertEquals(list(map(lambda x: round(x, 2), listaAccTest)), [95.56,95.56], 'Valores de accuracy en test incorrectos')"
   ]
  },
  {
   "cell_type": "markdown",
   "metadata": {
    "deletable": false,
    "editable": false,
    "nbgrader": {
     "cell_type": "markdown",
     "checksum": "543c323b0c2eefcfd3da0bcda2fd75bc",
     "grade": false,
     "grade_id": "cell-56008b0f280f5aba",
     "locked": true,
     "schema_version": 3,
     "solution": false
    }
   },
   "source": [
    "Fijaros que ambos árboles de decisión clasifican todos los ejemplos correctamente en entrenamiento. Esto es debido a que los árboles de decisión tienden a sobre-entrenar y, por tanto, los árboles generados pueden ser muy complicados para las características de los ejemplos de entrenamiento. Visualizaremos los árboles de decisión generados más adelante para que comprobéis este hecho.\n",
    "\n",
    "Para tratar de no realizar árboles muy complicados (ajustados a los datos de entrenamiento) podemos utilizar los valores de los híper-parámetros:\n",
    "* *min_samples_split*: determina el número mínimo de ejemplos que debe tener un nodo interno para dividirlo más.\n",
    "    * Cuanto mayor sea el valor antes se parará de dividir y el árbol será más simple (normalmente implica obtener un accuracy menor para train).\n",
    "    * Cuanto más bajo sea este valor más fácil será que los nodos se dividan y más se ajustará el árbol a los datos de entrenamiento (normalmente implica obtener un accuracy mayor para train).\n",
    "* *min_samples_leaf*: determina el número mínimo de ejemplos que debe tener un nodo para generar una hoja. Si no llega a este valor no se genera el nodo hoja.\n",
    "    * Cuanto mayor sea este valor más difícil será generar nodos hoja y, por tanto, el árbol generado será más simple. Suele implicar perder accuracy en train.\n",
    "\n",
    "Ejercicio: repetir el código anterior estableciendo el valor de los híper-parámetros *min_samples_split* y *min_samples_leaf* a:\n",
    "    * Primera configuración: 6 y 3, respectivamente.\n",
    "    * Segunda configuración: 10 y 5, respectivamente.\n",
    "Comprobar si el porcentaje de acierto aumenta o disminuye.\n",
    "\n",
    "Comenzamos con la primera configuración."
   ]
  },
  {
   "cell_type": "code",
   "execution_count": 8,
   "metadata": {
    "deletable": false,
    "nbgrader": {
     "cell_type": "code",
     "checksum": "2ccfedef28e25a72d6df65d90cde4044",
     "grade": false,
     "grade_id": "cell-e1aef4d6101544d7",
     "locked": false,
     "schema_version": 3,
     "solution": true
    }
   },
   "outputs": [
    {
     "name": "stdout",
     "output_type": "stream",
     "text": [
      "gini\n",
      "95.55555555555556\n",
      "97.14285714285714\n",
      "entropy\n",
      "95.55555555555556\n",
      "97.14285714285714\n"
     ]
    }
   ],
   "source": [
    "# Se importa el paquete de métricas de rendimiento\n",
    "from sklearn import metrics, model_selection\n",
    "# Se fija la semilla de numpy para que la generación aleatoria siempre nos de los mismos números\n",
    "np.random.seed(12)\n",
    "# Particionado de los datos en train y test\n",
    "X_train, X_test, y_train, y_test = model_selection.train_test_split(\n",
    "iris.data, iris.target,train_size=0.7)\n",
    "\n",
    "# Listas para almacenar los accuracies\n",
    "listaAccTrain = []\n",
    "listaAccTest = []\n",
    "# Para cada tipo de árbol (CART y C4.5)\n",
    "for tipoArbol in ['gini','entropy']:\n",
    "    # LLamada al constructor del árbol de decisión\n",
    "    clasificador = tree.DecisionTreeClassifier(criterion=tipoArbol,min_samples_split=6,min_samples_leaf=3)\n",
    "    # Entrenamiento del árbol de decisión\n",
    "    clasificador.fit(X_train, y_train)\n",
    "    # Se realizan las predicciones del árbol de decisión con los ejemplos de entrenamiento\n",
    "    pred_Train = clasificador.predict(X_train)\n",
    "    # Se obtiene el rendimiento (accuracy)\n",
    "    accTrain = metrics.accuracy_score(y_train,pred_Train)*100\n",
    "    # Predicción de los datos de test\n",
    "    pred_Test = clasificador.predict(X_test)\n",
    "    # Cálculo del porcentaje de acierto en test (entre 0.0 y 100.0)\n",
    "    accTest = metrics.accuracy_score(y_test,pred_Test)*100\n",
    "    # Se almacena el resultado en la lista test para este porcentaje de ejemplos a utilizar como test\n",
    "    listaAccTrain.append(accTrain)\n",
    "    listaAccTest.append(accTest)\n",
    "    # Se imprime la información del tipo de árbol y rendimientos\n",
    "    print (tipoArbol)\n",
    "    print(accTest)\n",
    "    print(accTrain)"
   ]
  },
  {
   "cell_type": "code",
   "execution_count": 22,
   "metadata": {
    "deletable": false,
    "editable": false,
    "nbgrader": {
     "cell_type": "code",
     "checksum": "fe34588db0b99f8f3e8418f12db66a1f",
     "grade": true,
     "grade_id": "cell-015218e9256a820a",
     "locked": true,
     "points": 3,
     "schema_version": 3,
     "solution": false
    }
   },
   "outputs": [
    {
     "name": "stdout",
     "output_type": "stream",
     "text": [
      "1 test passed.\n",
      "1 test passed.\n"
     ]
    }
   ],
   "source": [
    "# ESTA CELDA DARÁ ERROR SI EL RESULTADO NO ES CORRECTO\n",
    "    # EN CASO CONTRARIO NO TENDRÁ SALIDA\n",
    "Test.assertEquals(list(map(lambda x: round(x, 2), listaAccTrain)), [97.14, 97.14], 'Valores de accuracy en train incorrectos')\n",
    "Test.assertEquals(list(map(lambda x: round(x, 2), listaAccTest)), [95.56,95.56], 'Valores de accuracy en test incorrectos')"
   ]
  },
  {
   "cell_type": "markdown",
   "metadata": {
    "deletable": false,
    "editable": false,
    "nbgrader": {
     "cell_type": "markdown",
     "checksum": "1beee2cf17eb724f5efed9f0294f215b",
     "grade": false,
     "grade_id": "cell-19341c555578dddf",
     "locked": true,
     "schema_version": 3,
     "solution": false
    }
   },
   "source": [
    "Ahora aplicamos la segunda configuración (10 y 5 como valores de los híper-parámetros mencionados anteriormente)."
   ]
  },
  {
   "cell_type": "code",
   "execution_count": 23,
   "metadata": {
    "deletable": false,
    "nbgrader": {
     "cell_type": "code",
     "checksum": "25802bf801d231bfdba723a174a39a6b",
     "grade": false,
     "grade_id": "cell-10fc64e85acb67c8",
     "locked": false,
     "schema_version": 3,
     "solution": true
    }
   },
   "outputs": [
    {
     "name": "stdout",
     "output_type": "stream",
     "text": [
      "gini\n",
      "93.33333333333333\n",
      "96.19047619047619\n",
      "entropy\n",
      "93.33333333333333\n",
      "96.19047619047619\n"
     ]
    }
   ],
   "source": [
    "# Se importa el paquete de métricas de rendimiento\n",
    "from sklearn import metrics, model_selection\n",
    "# Se fija la semilla de numpy para que la generación aleatoria siempre nos de los mismos números\n",
    "np.random.seed(12)\n",
    "# Particionado de los datos en train y test\n",
    "X_train, X_test, y_train, y_test = model_selection.train_test_split(\n",
    "iris.data, iris.target,train_size=0.7)\n",
    "\n",
    "# Listas para almacenar los accuracies\n",
    "listaAccTrain = []\n",
    "listaAccTest = []\n",
    "# Para cada tipo de árbol (CART y C4.5)\n",
    "for tipoArbol in ['gini','entropy']:\n",
    "    # LLamada al constructor del árbol de decisión\n",
    "    clasificador = tree.DecisionTreeClassifier(criterion=tipoArbol,min_samples_split=10,min_samples_leaf=5)\n",
    "    # Entrenamiento del árbol de decisión\n",
    "    clasificador.fit(X_train, y_train)\n",
    "    # Se realizan las predicciones del árbol de decisión con los ejemplos de entrenamiento\n",
    "    pred_Train = clasificador.predict(X_train)\n",
    "    # Se obtiene el rendimiento (accuracy)\n",
    "    accTrain = metrics.accuracy_score(y_train,pred_Train)*100\n",
    "    # Predicción de los datos de test\n",
    "    pred_Test = clasificador.predict(X_test)\n",
    "    # Cálculo del porcentaje de acierto en test (entre 0.0 y 100.0)\n",
    "    accTest = metrics.accuracy_score(y_test,pred_Test)*100\n",
    "    # Se almacena el resultado en la lista test para este porcentaje de ejemplos a utilizar como test\n",
    "    listaAccTrain.append(accTrain)\n",
    "    listaAccTest.append(accTest)\n",
    "    # Se imprime la información del tipo de árbol y rendimientos\n",
    "    print (tipoArbol)\n",
    "    print(accTest)\n",
    "    print(accTrain)"
   ]
  },
  {
   "cell_type": "code",
   "execution_count": 24,
   "metadata": {
    "deletable": false,
    "editable": false,
    "nbgrader": {
     "cell_type": "code",
     "checksum": "73e5698befebe5a040daeb14e7b42902",
     "grade": true,
     "grade_id": "cell-48ae5a4fdc4f3bb4",
     "locked": true,
     "points": 3,
     "schema_version": 3,
     "solution": false
    }
   },
   "outputs": [
    {
     "name": "stdout",
     "output_type": "stream",
     "text": [
      "1 test passed.\n",
      "1 test passed.\n"
     ]
    }
   ],
   "source": [
    "# ESTA CELDA DARÁ ERROR SI EL RESULTADO NO ES CORRECTO\n",
    "    # EN CASO CONTRARIO NO TENDRÁ SALIDA\n",
    "Test.assertEquals(list(map(lambda x: round(x, 2), listaAccTrain)), [96.19, 96.19], 'Valores de accuracy en train incorrectos')\n",
    "Test.assertEquals(list(map(lambda x: round(x, 2), listaAccTest)), [93.33,93.33], 'Valores de accuracy en test incorrectos')"
   ]
  },
  {
   "cell_type": "markdown",
   "metadata": {
    "deletable": false,
    "editable": false,
    "nbgrader": {
     "cell_type": "markdown",
     "checksum": "04e13b603ce7711736983628d067edd5",
     "grade": false,
     "grade_id": "cell-31ff1b22d0f570e0",
     "locked": true,
     "schema_version": 3,
     "solution": false
    }
   },
   "source": [
    "Hemos mencionado que los árboles de decisión generados son más o menos complicados (más o menos ajustados a los datos de entrenamiento) y que este hecho implica ganar o perder accuracy en el conjunto de entrenamiento.\n",
    "\n",
    "Por este motivo, ahora vamos a mostrar visualmente los árboles de decisión aprendidos. Para ello, scikit-learn nos ofrece una función (del paquete tree) que puede utilizarse para mostrarlos gráficamente llamada [*plot_tree*](https://scikit-learn.org/stable/modules/generated/sklearn.tree.plot_tree.html). Su llamada y los argumentos que recibe son los siguientes:\n",
    "\n",
    "    tree.plot_tree(arbol, feature_names=nombresVariables, class_names=nombresClases, filled=True, rounded=True, node_ids=True)\n",
    "\n",
    "El significado de las variables es el siguiente:\n",
    "* arbol: el árbol de decisión a mostrar, el obtenido tras realizar el aprendizaje.\n",
    "* nombresVariables: nombres de las variables de entrada, en este caso iris.feature_names\n",
    "* nombresClases: nombres de las clases del problema, en este caso iris.target_names\n",
    "* Los argumentos (filled y rounded) hay que dejarlos como están en este ejemplo (True) para que el árbol de decisión tenga una visualización más agradable.\n",
    "* node_ids es un valor booleano que hace que se imprima el identificador de cada nodo (True) o no (False, valor por defecto).\n",
    "  \n",
    "NOTAS:\n",
    "* Los arcos que van a la izquierda cumplen la condición mostrada en el nodo del que parten y los arcos que van a la derecha no la cumplen.\n",
    "* El método [*savefig*](https://matplotlib.org/stable/api/_as_gen/matplotlib.pyplot.savefig.html) de *MatPlotLib* permite guardar el contenido de una figura en un archivo (*variableFigura.savefig(nombreFichero)*)."
   ]
  },
  {
   "cell_type": "markdown",
   "metadata": {
    "deletable": false,
    "editable": false,
    "nbgrader": {
     "cell_type": "markdown",
     "checksum": "0fadea7666ae15fd6e8345632ac8a583",
     "grade": false,
     "grade_id": "cell-cc88b0697b759b49",
     "locked": true,
     "schema_version": 3,
     "solution": false,
     "task": false
    }
   },
   "source": [
    "Ejercicio: modificar el código de la celda posterior para guardar (utilizar diferentes nombres para el archivo .png generado) y mostrar los árboles de decisión generados con los datos de entrenamiento de Hold-out con las siguientes configuraciones:\n",
    "* criterion = 'gini', min_samples_split = 2, min_samples_leaf = 1\n",
    "* criterion = 'gini', min_samples_split = 6, min_samples_leaf = 3\n",
    "* criterion = 'gini', min_samples_split = 10, min_samples_leaf = 5\n",
    "* criterion = 'entropy', min_samples_split = 10, min_samples_leaf = 5\n",
    "\n",
    "Observar la complejidad de los diferentes árboles de decisión generados por CART (criterion='gini') según incrementamos el mínimo número de ejemplos para dividir los nodos internos y generar nodos hoja."
   ]
  },
  {
   "cell_type": "code",
   "execution_count": 10,
   "metadata": {
    "deletable": false,
    "nbgrader": {
     "cell_type": "code",
     "checksum": "2aea5e3899cada9047205b66f3ef2744",
     "grade": false,
     "grade_id": "cell-767c988f87d7a16d",
     "locked": false,
     "schema_version": 3,
     "solution": true
    }
   },
   "outputs": [
    {
     "data": {
      "image/png": "[encoded data removed]",
      "text/plain": [
       "<Figure size 720x360 with 1 Axes>"
      ]
     },
     "metadata": {
      "needs_background": "light"
     },
     "output_type": "display_data"
    },
    {
     "data": {
      "image/png": "[encoded data removed]",
      "text/plain": [
       "<Figure size 720x360 with 1 Axes>"
      ]
     },
     "metadata": {
      "needs_background": "light"
     },
     "output_type": "display_data"
    },
    {
     "data": {
      "image/png": "[encoded data removed]",
      "text/plain": [
       "<Figure size 720x360 with 1 Axes>"
      ]
     },
     "metadata": {
      "needs_background": "light"
     },
     "output_type": "display_data"
    },
    {
     "data": {
      "image/png": "[encoded data removed]",
      "text/plain": [
       "<Figure size 720x360 with 1 Axes>"
      ]
     },
     "metadata": {
      "needs_background": "light"
     },
     "output_type": "display_data"
    }
   ],
   "source": [
    "# Llamada al constructor del árbol de decisión con la configuración apropiada\n",
    "c1 = [1,3,5,5]\n",
    "c2 = [2,6,10,10]\n",
    "c3 = ['gini','gini','gini','entropy']\n",
    "# Entrenamiento del árbol de decisión\n",
    "for i in range(4):\n",
    "    clasificador = tree.DecisionTreeClassifier(criterion=c3[i],min_samples_split=c2[i],min_samples_leaf=c1[i])\n",
    "    clasificador.fit(X_train,y_train)\n",
    "    \n",
    "    # Mostramos el árbol de decisión en una figura usando el método plot_tree de la clase tree\n",
    "    fig = plt.figure(figsize=(10,5))\n",
    "\n",
    "    tree.plot_tree(clasificador)\n",
    "\n",
    "    # Establecemos el nombre del fichero donde guardamos la figura\n",
    "    nombreFicheroSalida = \"tree\"+str(i)+\".png\"\n",
    "    # Guardamos la figura en un archivo png\n",
    "    fig.savefig(nombreFicheroSalida)"
   ]
  },
  {
   "cell_type": "markdown",
   "metadata": {
    "deletable": false,
    "editable": false,
    "nbgrader": {
     "cell_type": "markdown",
     "checksum": "b25f60105c784efb9797d118700b3d0c",
     "grade": false,
     "grade_id": "cell-ce3daba1b1d42eb1",
     "locked": true,
     "schema_version": 3,
     "solution": false,
     "task": false
    }
   },
   "source": [
    "También se puede obtener la representación en texto del árbol. Para ello, se debe utilizar el método [*export_text*](https://scikit-learn.org/stable/modules/generated/sklearn.tree.export_text.html) de la librería *tree* a la que se pasa commo argumento de entrada el árbol a mostrar. Además, podemos guardar dicho texto en un fichero."
   ]
  },
  {
   "cell_type": "code",
   "execution_count": 11,
   "metadata": {
    "deletable": false,
    "nbgrader": {
     "cell_type": "code",
     "checksum": "4c42e2e3e3074a5968679e64c9bad723",
     "grade": false,
     "grade_id": "cell-fc9688fe7d355e82",
     "locked": false,
     "schema_version": 3,
     "solution": true,
     "task": false
    }
   },
   "outputs": [],
   "source": [
    "# Obtenemos la representación textual del árbol generado\n",
    "text_representation = tree.export_text(clasificador)\n",
    "\n",
    "# La guardamos en un fichero\n",
    "with open(\"arbol.log\", \"w\") as fout:\n",
    "    fout.write(text_representation)"
   ]
  },
  {
   "cell_type": "markdown",
   "metadata": {
    "deletable": false,
    "editable": false,
    "nbgrader": {
     "cell_type": "markdown",
     "checksum": "2c39325d92af4dafe086909739904b19",
     "grade": false,
     "grade_id": "cell-8a9ef8c15eac6b84",
     "locked": true,
     "schema_version": 3,
     "solution": false,
     "task": false
    }
   },
   "source": [
    "La interpretabilidad global de los árboles de decisión está condicionada por dos factores:\n",
    "* *Número de hojas*: determina el número reglas y por tanto, cuantas más hojas será más difícil de interpretar globalmente el árbol obtenido. \n",
    "* *Número de condiciones para alcanzar una hoja*: cuantas más condiciones sean necesarias analizar para tomar la decisión más difícil será interpretarla.\n",
    "    * El número medio (o máximo) de condiciones para alcanzar todas las hojas del árbol da una idea global de este factor.\n",
    "    \n",
    "En Scikit-learn podemos ver algunos de los valores que caraterizan la interpretabilidad del árbol como:\n",
    "* El número de hojas del árbol de decisión, método *get_n_leaves* de la clase *DecisionTreeClassifier*.\n",
    "* La profundidad máxima del árbol de decisión, método *get_depth* de la clase *DecisionTreeClassifier*.\n",
    "* El número total de nodos del árbol de decisión, atributo *node_count* del atributo *tree_* del objeto de la clase *DecisionTreeClassifier*.\n",
    "\n",
    "Obtened dichos valores a partir del árbol de decisión CART con los valores por defecto (semilla 123)."
   ]
  },
  {
   "cell_type": "code",
   "execution_count": 12,
   "metadata": {
    "deletable": false,
    "nbgrader": {
     "cell_type": "code",
     "checksum": "eeee390a9403ed117fc171735b14e9d0",
     "grade": false,
     "grade_id": "cell-f584ae48b087418d",
     "locked": false,
     "schema_version": 3,
     "solution": true,
     "task": false
    }
   },
   "outputs": [],
   "source": [
    "np.random.seed(123)\n",
    "# Llamada al constructor del árbol de decisión con la configuración apropiada\n",
    "clasificador = tree.DecisionTreeClassifier(criterion='gini',min_samples_leaf=1,min_samples_split=2)\n",
    "# Entrenamiento del árbol de decisión\n",
    "clasificador.fit(X_train,y_train)\n",
    "# Obtenemos los valores que carazterizan la interpretabiliad de los árboles de decisión\n",
    "arbolDecision = clasificador\n",
    "numeroHojas =  clasificador.get_n_leaves()\n",
    "maxProfundidad =  clasificador.get_depth()\n",
    "numeroNodos = clasificador.tree_.node_count"
   ]
  },
  {
   "cell_type": "code",
   "execution_count": 13,
   "metadata": {
    "deletable": false,
    "editable": false,
    "nbgrader": {
     "cell_type": "code",
     "checksum": "f4e10f52ef6a818e7c546e7e1a952e85",
     "grade": true,
     "grade_id": "cell-86707b5812dc1be7",
     "locked": true,
     "points": 1,
     "schema_version": 3,
     "solution": false,
     "task": false
    }
   },
   "outputs": [
    {
     "name": "stdout",
     "output_type": "stream",
     "text": [
      "1 test passed.\n",
      "1 test passed.\n",
      "1 test passed.\n"
     ]
    }
   ],
   "source": [
    "# ESTA CELDA DARÁ ERROR SI EL RESULTADO NO ES CORRECTO\n",
    "    # EN CASO CONTRARIO NO TENDRÁ SALIDA\n",
    "Test.assertEquals(numeroHojas, 9, 'Número de hojas incorrecto')\n",
    "Test.assertEquals(maxProfundidad, 6, 'Máxima profundidad incorrecta')\n",
    "Test.assertEquals(numeroNodos, 17, 'Número de nodos incorrecto')"
   ]
  },
  {
   "cell_type": "markdown",
   "metadata": {
    "deletable": false,
    "editable": false,
    "nbgrader": {
     "cell_type": "markdown",
     "checksum": "c4dd91f21a0b3297045aaf8c78b8b5f8",
     "grade": false,
     "grade_id": "cell-f90ea8d99e833c54",
     "locked": true,
     "schema_version": 3,
     "solution": false,
     "task": false
    }
   },
   "source": [
    "Además, podemos mostrar textualmente la ruta seguida por un ejemplo para realizar su predicción. Para ello, os facilito una función que lo hace."
   ]
  },
  {
   "cell_type": "code",
   "execution_count": 14,
   "metadata": {
    "deletable": false,
    "editable": false,
    "nbgrader": {
     "cell_type": "code",
     "checksum": "cdaac8cde79b03e718cb198a6c161c5e",
     "grade": false,
     "grade_id": "cell-eeeffb9c08499d10",
     "locked": true,
     "schema_version": 3,
     "solution": false,
     "task": false
    }
   },
   "outputs": [],
   "source": [
    "# Función para mostrar textualmente la ruta seguida para clasificar un ejemplo con un arbol\n",
    "def mostrarTextualmenteRutaClasificacion(arbol, ejemplo, nombresVariables):\n",
    "# arbol: arbol de decisión entrenado\n",
    "# ejemplo: ejemplo a clasificar y mostrar su ruta\n",
    "\n",
    "    # Obtenemos valores representativos de la estructura del árbol\n",
    "    atributos = arbol.tree_.feature\n",
    "    umbrales = arbol.tree_.threshold\n",
    "\n",
    "    # Se obtiene la ruta seguida para clasificar el ejemplo\n",
    "    ruta = arbol.decision_path(ejemplo)\n",
    "    # Se obtiene el identificador del nodo hoja usado para clasificar el ejemplo\n",
    "    id_hoja = arbol.apply(ejemplo)\n",
    "\n",
    "\n",
    "    # Se obtienen los indices de los nodos a través de los que pasa el ejemplo (id_ejemplo)\n",
    "    indices_nodos = ruta.indices[ruta.indptr[id_ejemplo]:\n",
    "                                        ruta.indptr[id_ejemplo + 1]]\n",
    "\n",
    "    print('Reglas usadas para predecir el ejemplo: {}\\n'.format(ejemplo[0]))\n",
    "    for id_nodo in indices_nodos:\n",
    "        # Pasamos al siguiente nodo si es un nodo hoja\n",
    "        if id_hoja[id_ejemplo] == id_nodo:\n",
    "            continue\n",
    "\n",
    "        # Comprobamos si el valor del ejemplo es menor que el valor usado para dividir el nodo (umbral) \n",
    "        if (ejemplo[id_ejemplo, atributos[id_nodo]] <= umbrales[id_nodo]):\n",
    "            desigualdad = \"<=\"\n",
    "        else:\n",
    "            desigualdad = \">\"\n",
    "\n",
    "        print(\"Nodo decisión #{nodo} : (Ejemplo[{atributo}] = {valor}) \"\n",
    "              \"{desiguald} {umbral})\".format(\n",
    "                  nodo=id_nodo,\n",
    "                  atributo=nombresVariables[id_nodo],\n",
    "                  valor=ejemplo[0][atributos[id_nodo]],\n",
    "                  desiguald=desigualdad,\n",
    "                  umbral=umbrales[id_nodo]))"
   ]
  },
  {
   "cell_type": "markdown",
   "metadata": {
    "deletable": false,
    "editable": false,
    "nbgrader": {
     "cell_type": "markdown",
     "checksum": "d2b0bed77926f8a3becd367c7bdbb72e",
     "grade": false,
     "grade_id": "cell-900a8d6a37bcfe78",
     "locked": true,
     "schema_version": 3,
     "solution": false,
     "task": false
    }
   },
   "source": [
    "Ejercicio: muestra la ruta seguida para clasificar el primer ejemplo de test."
   ]
  },
  {
   "cell_type": "code",
   "execution_count": 15,
   "metadata": {
    "deletable": false,
    "nbgrader": {
     "cell_type": "code",
     "checksum": "765ddfe94f61470f392a5c46994798af",
     "grade": false,
     "grade_id": "cell-9e6ac52548275168",
     "locked": false,
     "schema_version": 3,
     "solution": true,
     "task": false
    }
   },
   "outputs": [
    {
     "ename": "NameError",
     "evalue": "name 'id_ejemplo' is not defined",
     "output_type": "error",
     "traceback": [
      "\u001b[0;31m---------------------------------------------------------------------------\u001b[0m",
      "\u001b[0;31mNameError\u001b[0m                                 Traceback (most recent call last)",
      "\u001b[0;32m<ipython-input-15-f97950b53185>\u001b[0m in \u001b[0;36m<module>\u001b[0;34m\u001b[0m\n\u001b[1;32m      2\u001b[0m     \u001b[0;31m# Posteriormente llamamos a la función anterior para ver la ruta seguida para clasificarlo\u001b[0m\u001b[0;34m\u001b[0m\u001b[0;34m\u001b[0m\u001b[0;34m\u001b[0m\u001b[0m\n\u001b[1;32m      3\u001b[0m \u001b[0mejemplo\u001b[0m \u001b[0;34m=\u001b[0m \u001b[0mejemplo\u001b[0m \u001b[0;34m=\u001b[0m \u001b[0miris\u001b[0m\u001b[0;34m.\u001b[0m\u001b[0mdata\u001b[0m\u001b[0;34m[\u001b[0m\u001b[0;36m0\u001b[0m\u001b[0;34m,\u001b[0m\u001b[0;34m:\u001b[0m\u001b[0;34m]\u001b[0m\u001b[0;34m.\u001b[0m\u001b[0mreshape\u001b[0m\u001b[0;34m(\u001b[0m\u001b[0;36m1\u001b[0m\u001b[0;34m,\u001b[0m\u001b[0;34m-\u001b[0m\u001b[0;36m1\u001b[0m\u001b[0;34m)\u001b[0m\u001b[0;34m\u001b[0m\u001b[0;34m\u001b[0m\u001b[0m\n\u001b[0;32m----> 4\u001b[0;31m \u001b[0mmostrarTextualmenteRutaClasificacion\u001b[0m\u001b[0;34m(\u001b[0m\u001b[0mclasificador\u001b[0m\u001b[0;34m,\u001b[0m \u001b[0mejemplo\u001b[0m\u001b[0;34m,\u001b[0m \u001b[0miris\u001b[0m\u001b[0;34m.\u001b[0m\u001b[0mfeature_names\u001b[0m\u001b[0;34m)\u001b[0m\u001b[0;34m\u001b[0m\u001b[0;34m\u001b[0m\u001b[0m\n\u001b[0m",
      "\u001b[0;32m<ipython-input-14-addb2e686f5f>\u001b[0m in \u001b[0;36mmostrarTextualmenteRutaClasificacion\u001b[0;34m(arbol, ejemplo, nombresVariables)\u001b[0m\n\u001b[1;32m     15\u001b[0m \u001b[0;34m\u001b[0m\u001b[0m\n\u001b[1;32m     16\u001b[0m     \u001b[0;31m# Se obtienen los indices de los nodos a través de los que pasa el ejemplo (id_ejemplo)\u001b[0m\u001b[0;34m\u001b[0m\u001b[0;34m\u001b[0m\u001b[0;34m\u001b[0m\u001b[0m\n\u001b[0;32m---> 17\u001b[0;31m     indices_nodos = ruta.indices[ruta.indptr[id_ejemplo]:\n\u001b[0m\u001b[1;32m     18\u001b[0m                                         ruta.indptr[id_ejemplo + 1]]\n\u001b[1;32m     19\u001b[0m \u001b[0;34m\u001b[0m\u001b[0m\n",
      "\u001b[0;31mNameError\u001b[0m: name 'id_ejemplo' is not defined"
     ]
    }
   ],
   "source": [
    "# Elegimos el ejemplo a clasificar y lo ponemos en formato ade vector (reshape(1,-1))\n",
    "    # Posteriormente llamamos a la función anterior para ver la ruta seguida para clasificarlo\n",
    "ejemplo = ejemplo = iris.data[0,:].reshape(1,-1)\n",
    "mostrarTextualmenteRutaClasificacion(clasificador, ejemplo, iris.feature_names)"
   ]
  },
  {
   "cell_type": "markdown",
   "metadata": {
    "deletable": false,
    "editable": false,
    "nbgrader": {
     "cell_type": "markdown",
     "checksum": "1d243333b5c6d0057aa58110088058a9",
     "grade": false,
     "grade_id": "cell-614bbe6fc22aaf20",
     "locked": true,
     "schema_version": 3,
     "solution": false
    }
   },
   "source": [
    "A continuación vamos a mostrar como crean la superficie de decisión de los árboles de decisión. \n",
    "\n",
    "En este caso tenemos un problema y es que este dataset tiene 4 variables y no podemos mostrar gráficamente la frontera con todas las variables del dataset Iris. Por este motivo debéis crear la gráfica con las dos últimas variables del dataset y generar el árbol de decisión CART utilizando el valor 10 para min_samples_split, el valor 5 para min_samples_leaf y el valor 123 como semilla para el constructor de los árboles de decisión.\n",
    "\n",
    "Observad la frontera de decisión y comprobad si tienen sentido con respecto al árbol de decisión generado (lo podéis mostrar para facilitar la tarea)."
   ]
  },
  {
   "cell_type": "code",
   "execution_count": 17,
   "metadata": {
    "deletable": false,
    "nbgrader": {
     "cell_type": "code",
     "checksum": "753136919859b7407294d1531f91e58b",
     "grade": false,
     "grade_id": "cell-3f982e78626b3e68",
     "locked": false,
     "schema_version": 3,
     "solution": true,
     "task": false
    }
   },
   "outputs": [
    {
     "data": {
      "text/plain": [
       "[Text(167.39999999999998, 237.82500000000002, 'X[1] <= 0.8\\ngini = 0.663\\nsamples = 105\\nvalue = [30, 36, 39]'),\n",
       " Text(111.6, 169.875, 'gini = 0.0\\nsamples = 30\\nvalue = [30, 0, 0]'),\n",
       " Text(223.2, 169.875, 'X[0] <= 4.85\\ngini = 0.499\\nsamples = 75\\nvalue = [0, 36, 39]'),\n",
       " Text(111.6, 101.92500000000001, 'X[1] <= 1.55\\ngini = 0.105\\nsamples = 36\\nvalue = [0, 34, 2]'),\n",
       " Text(55.8, 33.974999999999994, 'gini = 0.0\\nsamples = 31\\nvalue = [0, 31, 0]'),\n",
       " Text(167.39999999999998, 33.974999999999994, 'gini = 0.48\\nsamples = 5\\nvalue = [0, 3, 2]'),\n",
       " Text(334.79999999999995, 101.92500000000001, 'X[1] <= 1.7\\ngini = 0.097\\nsamples = 39\\nvalue = [0, 2, 37]'),\n",
       " Text(279.0, 33.974999999999994, 'gini = 0.444\\nsamples = 6\\nvalue = [0, 2, 4]'),\n",
       " Text(390.59999999999997, 33.974999999999994, 'gini = 0.0\\nsamples = 33\\nvalue = [0, 0, 33]')]"
      ]
     },
     "execution_count": 17,
     "metadata": {},
     "output_type": "execute_result"
    },
    {
     "data": {
      "image/png": "[encoded data removed]",
      "text/plain": [
       "<Figure size 576x360 with 1 Axes>"
      ]
     },
     "metadata": {
      "needs_background": "light"
     },
     "output_type": "display_data"
    }
   ],
   "source": [
    "# Llamada al constructor del árbol de decisión y entrenamiento\n",
    "arbolDecision = tree.DecisionTreeClassifier(criterion='gini',min_samples_leaf=5,min_samples_split=10)\n",
    "arbolDecision.fit(X_train[:,2:4],y_train)\n",
    "\n",
    "# Se calculan los mínimos y máximos de cada variable a mostrar (+-1 para dar margen)\n",
    "x3_min = X_train.min(axis=1)[-1] - 1\n",
    "x3_max = X_train.max(axis=1)[-1] + 1\n",
    "x4_min = X_train.min(axis=1)[-2] - 1\n",
    "x4_max = X_train.max(axis=1)[-2] + 1\n",
    "\n",
    "# Paso de los ejemplos que vamos a generar para mostrar la frontera de decisión\n",
    "h = .02\n",
    "# Se crean todas las combinaciones de valores de las dos variables comprendidos entre los mínimos y máximos con paso h\n",
    "xx3, xx4 = np.meshgrid(np.arange(x3_min, x3_max, h), np.arange(x4_min, x4_max, h))\n",
    "# Se predicen todos los ejemplos generados (combinaciones) con la función meshgrid\n",
    "pred = np.hstack((xx3.reshape((-1,1)),xx4.reshape((-1,1))))\n",
    "Z = arbolDecision.predict(pred)\n",
    "# Se ponen los resultados en forma de matriz para poder visualizarlos\n",
    "Z = Z.reshape(xx3.shape)\n",
    "\n",
    "fig = plt.figure(figsize=(8,5))\n",
    "# Se muestran los resultados en la gráfica\n",
    "# La función contourf colorea toda la superficie\n",
    "plt.contourf(xx3, xx4, Z, cmap=plt.cm.Set1, alpha=0.25)\n",
    "# Se muestran los datos del problema: la función scatter muestra puntos aislados y los colorea en función de su valor\n",
    "#  plt.scatter(#<RELLENAR>, edgecolors='k', cmap=plt.cm.Set1)\n",
    "# Se asignan etiquetas a los ejes y a la gráfica\n",
    "plt.xlabel(iris.feature_names[-2])\n",
    "plt.ylabel(iris.feature_names[-1])\n",
    "plt.title('Frontera de decision generada por CART');\n",
    "\n",
    "# Mostramos el árbol de decisión en una figura usando el método plot_tree de la clase tree\n",
    "tree.plot_tree(arbolDecision)"
   ]
  },
  {
   "cell_type": "markdown",
   "metadata": {
    "deletable": false,
    "editable": false,
    "nbgrader": {
     "cell_type": "markdown",
     "checksum": "6078c2493bb19aa92ce248db198d46b3",
     "grade": false,
     "grade_id": "cell-4577a70751f8c21f",
     "locked": true,
     "schema_version": 3,
     "solution": false,
     "task": false
    }
   },
   "source": [
    "### Poda de árboles de decisión\n",
    "\n",
    "Existen diversas técnicas de poda, la que aplica Scikit-learn es la que obtiene el sub-árbol, $T$, que obtiene la mejor (mínima) relación entre coste y complejidad tal y como hemos visto en teoría.\n",
    "\n",
    "La medida de coste es tradicionalmente el ratio de error de los nodos hoja. Sin embargo, en Scikit-learn se utiliza la media ponderada de la impureza de los nodos hoja como valor del coste.\n",
    "\n",
    "Para tener una idea de los valores que pueden ser útiles para el híper-parámetro que determina la condición de parada de la poda, podemos utilizar el método *cost_complexity_pruning_path* de la clase *DecisionTreeClassifier* al que se deben pasar los datos de entrenamiento. Este método devuelve todos los $\\alpha$ eficaces que se utilizarían hasta podar el árbol entero (solo quedaría el nodo raíz etiquetado con la clase mayoritaria del problema) así como la impureza del árbol podado para cada $\\alpha$ eficaz. \n",
    "\n",
    "Crea una gráfica en la que se muestre la relación entre los valores de los diferentes $\\alpha$ eficaces con la impureza del árbol tras realizar la poda con ellos. Utiliza todos los valores de los híper-parámetros por defecto para el árbol CART (semilla 123)."
   ]
  },
  {
   "cell_type": "code",
   "execution_count": null,
   "metadata": {
    "deletable": false,
    "nbgrader": {
     "cell_type": "code",
     "checksum": "66370ae72f8abe8f854865b9181f9b52",
     "grade": false,
     "grade_id": "cell-2b663e2e6d316da3",
     "locked": false,
     "schema_version": 3,
     "solution": true,
     "task": false
    }
   },
   "outputs": [],
   "source": [
    "# LLamada al constructor del árbol de decisión y entrenamiento del mismo\n",
    "# arbolDecision = <RELLENAR>\n",
    "# Se obtienen los alfas eficaces y sus impurezas asociadas: método cost_complexity_pruning_path\n",
    "# alfas_impurezas = <RELLENAR>\n",
    "# Desempaquetado de los valores que nos interesan\n",
    "alfas_eficaces, impurezas = alfas_impurezas.ccp_alphas, alfas_impurezas.impurities\n",
    "\n",
    "# Generamos la figura con todos los valores menos el último de los alfa eficaces en el eje x y las correspondientes impurezas en el eje y\n",
    "# <RELLENAR>"
   ]
  },
  {
   "cell_type": "markdown",
   "metadata": {
    "deletable": false,
    "editable": false,
    "nbgrader": {
     "cell_type": "markdown",
     "checksum": "bd7c341f8b327ee05cd102843e30832b",
     "grade": false,
     "grade_id": "cell-6d66596fcf4b971b",
     "locked": true,
     "schema_version": 3,
     "solution": false,
     "task": false
    }
   },
   "source": [
    "Como podemos ver en la gráfica anterior, a medida que aumenta el valor de los $\\alpha$ eficaces también aumenta la impureza total del árbol podado. Esto es debido a que como el árbol es más pequeño habrá menos hojas puras y por tanto, la impureza total del árbol aumenta. Otros factores que implica el aumento de los $\\alpha$ eficaces son:\n",
    "* El número de nodos así como la máxima profundidad del árbol disminuyen.\n",
    "* El rendimiento de entrenamiento normalmente disminuye.\n",
    "    * El árbol suele generalizar mejor (el rendimiento en test incluso suele mejorar). \n",
    "\n",
    "NOTA: si el número de $\\alpha$ eficaces es muy grande el tiempo de cómputo de las gráficas realizadas en los ejemplos de la web puede ser muy grande."
   ]
  },
  {
   "cell_type": "markdown",
   "metadata": {
    "deletable": false,
    "editable": false,
    "nbgrader": {
     "cell_type": "markdown",
     "checksum": "30124df59860c1f0795ba3eb21d4f505",
     "grade": false,
     "grade_id": "cell-3d4c0cf34ae32c7c",
     "locked": true,
     "schema_version": 3,
     "solution": false,
     "task": false
    }
   },
   "source": [
    "Vamos a realizar la poda del árbol anterior utilizando 0.02 como valor del híper-parámetro *ccp_alpha* puesto que la impureza total no aumenta mucho y la complejidad del árbol dismunuirá. Obten el rendimiento en train y test y las métricas de interpretabilidad del árbol que hemos visto anteriormente. Mostrad el árbol de decisión podado."
   ]
  },
  {
   "cell_type": "code",
   "execution_count": null,
   "metadata": {
    "deletable": false,
    "nbgrader": {
     "cell_type": "code",
     "checksum": "5b9780d0169a374d0164b4e446472955",
     "grade": false,
     "grade_id": "cell-0b1373be72a94cde",
     "locked": false,
     "schema_version": 3,
     "solution": true,
     "task": false
    }
   },
   "outputs": [],
   "source": [
    "# arbolDecision = <RELLENAR>\n",
    "# accTrain = <RELLENAR>\n",
    "# accTest = <RELLENAR>\n",
    "# numeroHojas = <RELLENAR>\n",
    "# maxProfundidad = <RELLENAR>\n",
    "# numeroNodos = <RELLENAR>\n",
    "\n",
    "# Mostramos el árbol de decisión en una figura usando el método plot_tree de la clase tree\n",
    "# <RELLENAR>"
   ]
  },
  {
   "cell_type": "code",
   "execution_count": null,
   "metadata": {
    "deletable": false,
    "editable": false,
    "nbgrader": {
     "cell_type": "code",
     "checksum": "08e37d15c002664e081085807a5a5d8b",
     "grade": true,
     "grade_id": "cell-9076a1f79b02038f",
     "locked": true,
     "points": 2,
     "schema_version": 3,
     "solution": false,
     "task": false
    }
   },
   "outputs": [],
   "source": [
    "# ESTA CELDA DARÁ ERROR SI EL RESULTADO NO ES CORRECTO\n",
    "    # EN CASO CONTRARIO NO TENDRÁ SALIDA\n",
    "Test.assertEquals(numeroHojas, 4, 'Número de hojas incorrecto')\n",
    "Test.assertEquals(maxProfundidad, 3, 'Máxima profundidad incorrecta')\n",
    "Test.assertEquals(numeroNodos, 7, 'Número de nodos incorrecto')\n",
    "Test.assertEquals(round(accTrain, 2), 97.14, 'Valor de accuracy en train incorrecto')\n",
    "Test.assertEquals(round(accTest, 2), 95.56, 'Valor de accuracy en test incorrecto')"
   ]
  },
  {
   "cell_type": "markdown",
   "metadata": {
    "deletable": false,
    "editable": false,
    "nbgrader": {
     "cell_type": "markdown",
     "checksum": "b78f6549c3f45cfa61b708f67574d33e",
     "grade": false,
     "grade_id": "cell-8814ba0ec4de0592",
     "locked": true,
     "schema_version": 3,
     "solution": false
    }
   },
   "source": [
    "Finalmente, vamos a obtener la mejor configuración de los árboles de decisión para aboradar el problema de Iris utilizando una validación cruzada de 10 particiones y el valor 12 como semilla de Numpy para poder replicar los resultados obtenidos. Utilizad el siguiente grid de híper-parámetros:\n",
    "* Criterion: gini y entropy\n",
    "* Min_samples_split': 2, 5 y 10\n",
    "* Min_samples_leaf: 1, 2 y 4\n",
    "* Ccp_alpha: 0.001, 0.002 y 0.03\n",
    "\n",
    "Obtened el rendimiento en train y test con la mejor configuración."
   ]
  },
  {
   "cell_type": "code",
   "execution_count": null,
   "metadata": {
    "deletable": false,
    "nbgrader": {
     "cell_type": "code",
     "checksum": "60c6d27216516f6f3a40fe8c4d21793c",
     "grade": false,
     "grade_id": "cell-768b399c6504af90",
     "locked": false,
     "schema_version": 3,
     "solution": true
    }
   },
   "outputs": [],
   "source": [
    "# Se fija la semilla de numpy para que la generación aleatoria siempre nos de los mismos números\n",
    "# <RELLENAR>\n",
    "\n",
    "# Almacenamos el DataFrame con los resultados\n",
    "# diccionarioResultados =  <RELLENAR>\n",
    "# Se obtiene el rendimiento en entrenamiento y test por la mejor configuración\n",
    "# accTrain = <RELLENAR>\n",
    "# accTest = <RELLENAR>"
   ]
  },
  {
   "cell_type": "code",
   "execution_count": null,
   "metadata": {
    "deletable": false,
    "editable": false,
    "nbgrader": {
     "cell_type": "code",
     "checksum": "9b6e9699d8eaabe07201ef85761892ea",
     "grade": true,
     "grade_id": "cell-46e36d8f38024230",
     "locked": true,
     "points": 2,
     "schema_version": 3,
     "solution": false
    }
   },
   "outputs": [],
   "source": [
    "# ESTA CELDA DARÁ ERROR SI EL RESULTADO NO ES CORRECTO\n",
    "    # EN CASO CONTRARIO NO TENDRÁ SALIDA\n",
    "Test.assertEquals(round(accTrain, 2), 98.10, 'Valor de accuracy en train incorrecto')\n",
    "Test.assertEquals(round(accTest, 2), 95.56, 'Valor de accuracy en test incorrecto')"
   ]
  },
  {
   "cell_type": "code",
   "execution_count": null,
   "metadata": {
    "deletable": false,
    "editable": false,
    "nbgrader": {
     "cell_type": "code",
     "checksum": "c6a5aa0a0b5083566c89ee4cbac4b528",
     "grade": true,
     "grade_id": "cell-f53e9cc75277b9ed",
     "locked": true,
     "points": 9,
     "schema_version": 3,
     "solution": false,
     "task": false
    }
   },
   "outputs": [],
   "source": [
    "# ESTA CELDA DARÁ ERROR SI EL RESULTADO NO ES CORRECTO\n",
    "    # EN CASO CONTRARIO NO TENDRÁ SALIDA\n",
    "indice = np.argmax(diccionarioResultados['mean_test_score'])\n",
    "Test.assertEquals(round(np.max(diccionarioResultados['mean_test_score']), 4), 0.9445, \"Accuracy de la mejor configuración incorrecto\")\n",
    "Test.assertEquals(diccionarioResultados['params'][indice], {'ccp_alpha': 0.001, 'criterion': 'gini', 'min_samples_leaf': 1, 'min_samples_split': 5}, \"Mejor configuración incorrecta\")"
   ]
  },
  {
   "cell_type": "markdown",
   "metadata": {
    "deletable": false,
    "editable": false,
    "nbgrader": {
     "cell_type": "markdown",
     "checksum": "46835ed918de3b8efa7ed58713da54e0",
     "grade": false,
     "grade_id": "cell-4c84331d64d33b74",
     "locked": true,
     "schema_version": 3,
     "solution": false
    }
   },
   "source": [
    "### Extracción de variables utilizando árboles de decisión"
   ]
  },
  {
   "cell_type": "markdown",
   "metadata": {
    "deletable": false,
    "editable": false,
    "nbgrader": {
     "cell_type": "markdown",
     "checksum": "7feb5c3eb5a28938c421aab16411ec36",
     "grade": false,
     "grade_id": "cell-1ef4a8fbd55379a4",
     "locked": true,
     "schema_version": 3,
     "solution": false
    }
   },
   "source": [
    "Por último vamos a utilizar los árboles de decisión como método de selección de variables.\n",
    "\n",
    "En primer lugar vamos a utilizar una técnica de Exploratory Data Analysis (EDA) para visualizar la importancia de las variables. La técnica es la de las coordenadas paralelas ofrecida por la librería de pandas. Toda la información de dicha técnica la podéis encontrar en la siguiente URL: https://pandas.pydata.org/docs/reference/api/pandas.plotting.parallel_coordinates.html\n",
    "\n",
    "Para poder aplicarla en primer lugar tenemos que generar un DataFrame (pandas.DataFrame(data=datos, index=indices, columns=nombreColumnas)) a partir de los datos que tenemos. Para generar un DataFrame se deben especificar tres parámetros:\n",
    "* data: hay que concatenar horizontalmente (función hstack de numpy) los datos de entrada con los de salida puestos en forma de columna.\n",
    "* index: los índices de los ejemplos (lista con los valores desde 0 hasta el número de ejemplos del dataset.\n",
    "* columns: lista con los nombres de las variables de entrada, feature_names, a la que se debe concatenar el nombre de la variable de salida ('Clase')\n",
    "\n",
    "Realizar la gráfica correspondiente a las coordenadas paralelas del dataset Iris con los ejemplos de entrenamiento."
   ]
  },
  {
   "cell_type": "code",
   "execution_count": null,
   "metadata": {
    "deletable": false,
    "nbgrader": {
     "cell_type": "code",
     "checksum": "5d825ea69b1a521b396db9e536d03512",
     "grade": false,
     "grade_id": "cell-297b10141189cd4e",
     "locked": false,
     "schema_version": 3,
     "solution": true
    }
   },
   "outputs": [],
   "source": [
    "# Se importa la función que crea la gráfica de coordenadas paralelas\n",
    "from pandas.plotting import parallel_coordinates\n",
    "\n",
    "# Se concatenan horizontalmente los datos de entrada con los de salida\n",
    "# <RELLENAR>\n",
    "# Se crean los índices de los ejemplos\n",
    "# <RELLENAR>\n",
    "# Se obtienen los nombres de las variables (entrada y salida)\n",
    "# <RELLENAR>\n",
    "# Se genera el DataFrame para poder aplicar la función parallel_coordinates\n",
    "# <RELLENAR>\n",
    "\n",
    "# Se aplica la función parallel_coordinates sobre el DataFrame generado y usando la Clase como variable de discriminación\n",
    "# <RELLENAR>"
   ]
  },
  {
   "cell_type": "markdown",
   "metadata": {
    "deletable": false,
    "editable": false,
    "nbgrader": {
     "cell_type": "markdown",
     "checksum": "a9787700261cdbf0b99930d7d3d1d40f",
     "grade": false,
     "grade_id": "cell-2f33014c55cc463e",
     "locked": true,
     "schema_version": 3,
     "solution": false
    }
   },
   "source": [
    "Según la gráfica anterior se puede comprobar como las dos variables más importantes son las dos últimas puesto que los ejemplos (líneas) son prácticamente separables utilizando dichas variables.\n",
    "\n",
    "Ahora vamos a mostrar un gráfico de puntos (scatter) para comprobar la separabilidad entre los ejemplos de todas las clases de acuerdo a estas dos variables más importantes."
   ]
  },
  {
   "cell_type": "code",
   "execution_count": null,
   "metadata": {
    "deletable": false,
    "nbgrader": {
     "cell_type": "code",
     "checksum": "11ae8d78376b3bdd610fa2b7b8687627",
     "grade": false,
     "grade_id": "cell-b5b1b790625e09cd",
     "locked": false,
     "schema_version": 3,
     "solution": true
    }
   },
   "outputs": [],
   "source": [
    "# Se crea un gráfico de puntos con los ejemplos de las dos variables de interés\n",
    "# <RELLENAR>"
   ]
  },
  {
   "cell_type": "markdown",
   "metadata": {
    "deletable": false,
    "editable": false,
    "nbgrader": {
     "cell_type": "markdown",
     "checksum": "b698bd9878f623a21d8117bde2cfb97e",
     "grade": false,
     "grade_id": "cell-fcd6b12258adefdd",
     "locked": true,
     "schema_version": 3,
     "solution": false
    }
   },
   "source": [
    "Una vez comprobado que las dos variables más importantes son las dos últimas (y que los ejemplos son prácticamente separables con ellas) vamos a comprobar si mediante el árbol de decisión podemos extraer estas dos mismas variables si lo aplicamos como un modelo de selección de variables.\n",
    "\n",
    "Para ello, la librería de selección de variables (feature_selection) de Scikit-learn nos ofrece la clase [*SelectFromModel*](http://scikit-learn.org/stable/modules/generated/sklearn.feature_selection.SelectFromModel.html#sklearn.feature_selection.SelectFromModel) que nos facilita la tarea. La llamada al constructor de esta clase es la siguiente:\n",
    "\n",
    "    modelo = SelectFromModel(estimator, threshold=valorUmbral)\n",
    "\n",
    "Los argmnetos son los siguientes: \n",
    "* estimator: modelo a partir del cual obtener las variables\n",
    "    * Si la clase del modelo tiene un atributo que determine la importancia de las variables se puede aplicar esta clase\n",
    "* threshold=valorUmbral: valor del umbral para seleccionar las variables, puede ser\n",
    "    * Valor numérico: valor asignado al umbral (float)\n",
    "    * String: método a utilizar, por ejemplo la mediana de los valores de la importancia de todas las variables ('median' o 'mean'). También puede ser un string que indique que el valor sea un tanto por ciento mayor que la media por ejemplo ('1.25*mean').\n",
    "\n",
    "Todas las variables que tengan una importancia mayor que el umbral establecido o generado son seleccionadas.\n",
    "\n",
    "Una vez ejecutada la llamada al constructor hemos generado un objeto (almacenado en la variable model en el código de la celda posterior) que debemos entrenar (como si fuera un clasificador). Para ello llamamos al método *fit*. Una vez entrenado, podemos comprobar las variables seleccionadas ejecutando el método *get_support()* que devuelve una lista de booleanos con tantos elementos como variables y que tendrá valor True en las posiciones de las variables seleccionadas. \n",
    "\n",
    "Además, este objeto puede ser utilizado para transformar los datos y realizar la selección de variables. Para ello se utiliza el método *transform* del objeto almacenado en la variable model (*model.transform(datosATransformar)*). Este método nos devuelve los datos de entrada pero solamente de las variables seleccionadas (las que estén a True al ejecutar el método *get_support()*).\n",
    "\n",
    "Ejercicio: utilizando la mediana como método para calcular el umbral\n",
    "* Aplicar el método de selección de variables a partir del árbol de decisión C4.5 ('entropy') con min_samples_split=10 y min_samples_leaf=5 (semilla 123). Se debe realizar el entrenamiento con los ejemplos de entrenamiento.\n",
    "* Realizar la transformación de los datos originales y guardar los datos transformados en X_new.\n",
    "* Obtener la lista de booleanos con las variables seleccionadas a partir del árbol de decisión.\n",
    "* Aprender de nuevo un árbol de decisión (misma configuración) con los datos en X_new.\n",
    "* Calcular e imprimir el porcentaje de ejemplos correctamente clasificados.\n",
    "* Mostrar y guardar el árbol de decisión generado."
   ]
  },
  {
   "cell_type": "code",
   "execution_count": null,
   "metadata": {
    "deletable": false,
    "nbgrader": {
     "cell_type": "code",
     "checksum": "4075bf22abdf2f690136de1faf8cef7d",
     "grade": false,
     "grade_id": "cell-27c0a0b871986231",
     "locked": false,
     "schema_version": 3,
     "solution": true
    }
   },
   "outputs": [],
   "source": [
    "# Se importa la función que permite seleccionar variables a partir de un modelo\n",
    "from sklearn.feature_selection import SelectFromModel\n",
    "\n",
    "# Se llama al constructor del árbol de decisión\n",
    "# arbolDecision = <RELLENAR>\n",
    "# Se aplica la selección a partir del modelo\n",
    "# model = <RELLENAR>\n",
    "# Se entrena el objeto de la clase SelectFromModel\n",
    "# <RELLENAR>\n",
    "# Se transforman los datos originales de entrenamiento de acuerdo a las variables seleccionadas\n",
    "# X_new = <RELLENAR>\n",
    "X_new.shape\n",
    "\n",
    "# Se obtienen las variables seleccionadas: lista de booleanos\n",
    "# booleanas = <RELLENAR>\n",
    "# Se obtienen los nombres de las variables seleccionadas\n",
    "variablesSeleccionadas = [iris.feature_names[i] for i in range(len(iris.feature_names)) if booleanas[i]==True]\n",
    "print(\"Las variables seleccionadas son \", variablesSeleccionadas)\n",
    "\n",
    "# Llamada al constructor del árbol de decisión\n",
    "# arbolDecision = <RELLENAR>\n",
    "# Entrenamiento del árbol de decisión con los datos transformados\n",
    "# arbolDecision = <RELLENAR>\n",
    "# Predicción de las clases de los datos de entrenamiento transformados\n",
    "# prediccionesTrain = <RELLENAR>\n",
    "# Se obtiene el accuracy en enrenamiento del nuevo árbol\n",
    "# accuracyTrain = <RELLENAR>\n",
    "\n",
    "# Obtenición del rendimiento con los datos de test\n",
    "# accuracyTest = <RELLENAR>\n",
    "\n",
    "# Se muestra y almacena el nuevo árbol de decisión aprendido\n",
    "# <RELLENAR>"
   ]
  },
  {
   "cell_type": "code",
   "execution_count": null,
   "metadata": {
    "deletable": false,
    "editable": false,
    "nbgrader": {
     "cell_type": "code",
     "checksum": "20117db71ae2eb4c0287439365ffb57e",
     "grade": true,
     "grade_id": "cell-926d1e0a9e7ce7af",
     "locked": true,
     "points": 5,
     "schema_version": 3,
     "solution": false
    }
   },
   "outputs": [],
   "source": [
    "# ESTA CELDA DARÁ ERROR SI EL RESULTADO NO ES CORRECTO\n",
    "    # EN CASO CONTRARIO NO TENDRÁ SALIDA\n",
    "Test.assertEquals(round(accuracyTrain, 2), 96.19, 'Accuracy en train incorrecto')\n",
    "Test.assertEquals(round(accuracyTest, 2), 93.33, 'Accuracy en test incorrecto')"
   ]
  }
 ],
 "metadata": {
  "kernelspec": {
   "display_name": "Python 3",
   "language": "python",
   "name": "python3"
  },
  "language_info": {
   "codemirror_mode": {
    "name": "ipython",
    "version": 3
   },
   "file_extension": ".py",
   "mimetype": "text/x-python",
   "name": "python",
   "nbconvert_exporter": "python",
   "pygments_lexer": "ipython3",
   "version": "3.7.4"
  }
 },
 "nbformat": 4,
 "nbformat_minor": 1
}
