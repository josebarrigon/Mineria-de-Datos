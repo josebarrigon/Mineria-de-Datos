{
 "cells": [
  {
   "cell_type": "markdown",
   "metadata": {
    "deletable": false,
    "editable": false,
    "nbgrader": {
     "cell_type": "markdown",
     "checksum": "4bedd5e5f7a9641644b165cfd8fc36c4",
     "grade": false,
     "grade_id": "cell-69b0ea38aab19fa9",
     "locked": true,
     "schema_version": 3,
     "solution": false
    }
   },
   "source": [
    "## Práctica de pre-procesamiento y del algoritmo KNN\n",
    "\n",
    "- [Análisis Exploratorio de Datos](#Análisis-Exploratorio-de-Datos)\n",
    "- [Transformación](#Transformación)\n",
    "- [Detección de outliers](#Detección-de-outliers)\n",
    "- [Estandarización](#Estandarización)\n",
    "- [Problemas de regresión con el algoritmo KNN](#Problemas-de-regresión-con-el-algoritmo-KNN)\n",
    "- [Problemas de clasificación con el algoritmo KNN](#Problemas-de-clasificación-con-el-algoritmo-KNN)"
   ]
  },
  {
   "cell_type": "code",
   "execution_count": 1,
   "metadata": {
    "deletable": false,
    "editable": false,
    "nbgrader": {
     "cell_type": "code",
     "checksum": "3d5dff07c4d119f609e5f3ee6586c6ff",
     "grade": false,
     "grade_id": "cell-73041ba3da499204",
     "locked": true,
     "schema_version": 3,
     "solution": false
    }
   },
   "outputs": [],
   "source": [
    "# %load ../../standard_import.txt\n",
    "import pandas as pd\n",
    "import numpy as np\n",
    "import matplotlib.pyplot as plt\n",
    "\n",
    "from test_helper import Test\n",
    "\n",
    "pd.set_option('display.notebook_repr_html', False)\n",
    "pd.set_option('display.max_columns', None)\n",
    "pd.set_option('display.max_rows', 150)\n",
    "pd.set_option('display.max_seq_items', None)\n",
    " \n",
    "#%config InlineBackend.figure_formats = {'pdf',}\n",
    "%matplotlib inline  "
   ]
  },
  {
   "cell_type": "markdown",
   "metadata": {
    "deletable": false,
    "editable": false,
    "nbgrader": {
     "cell_type": "markdown",
     "checksum": "a48ddef62416b12bacbf0fb396ddf347",
     "grade": false,
     "grade_id": "cell-a66f2b553632c7d7",
     "locked": true,
     "schema_version": 3,
     "solution": false
    }
   },
   "source": [
    "### Lectura de Datos"
   ]
  },
  {
   "cell_type": "markdown",
   "metadata": {
    "deletable": false,
    "editable": false,
    "nbgrader": {
     "cell_type": "markdown",
     "checksum": "bfedaf1938f2c45483bfc5118f422787",
     "grade": false,
     "grade_id": "cell-5c3770302021f86b",
     "locked": true,
     "schema_version": 3,
     "solution": false
    }
   },
   "source": [
    "En esta práctica vamos a trabajar con un problema de regresión. En concreto vamos a trabajar con el problema de la predicción del valor de una casa en base a su superficie y a su número de habitaciones. \n",
    "\n",
    "Para ello tenemos un fichero con el histórico de casas de  una empresa que tiene sede en Estados Unidos y en España: \n",
    "* El fichero es datosRegresion.txt y contiene casas caracterizadas por su superficie y su número de habitaciones de las que se dispone de su valoración.\n",
    "\n",
    "Leer los datos almacenados en dicho fichero mediante la función *read_csv* de Pandas y genera dos DataFrames para almacenar los datos de entrada (X) y de salida (y)."
   ]
  },
  {
   "cell_type": "code",
   "execution_count": 41,
   "metadata": {
    "deletable": false,
    "nbgrader": {
     "cell_type": "code",
     "checksum": "bd8e87e87396ea38b67417821b146e9b",
     "grade": false,
     "grade_id": "cell-92615e6b89b2231d",
     "locked": false,
     "schema_version": 3,
     "solution": true
    }
   },
   "outputs": [],
   "source": [
    "# Creamos dos listas con los nombres de las variables de entrada y salida respecivamente\n",
    "variablesEntrada =  list(pd.read_csv('datosRegresion.txt',usecols = [0,1],nrows=1).columns)\n",
    "variableSalida =  list(pd.read_csv('datosRegresion.txt',usecols =[2],nrows=1).columns)\n",
    "\n",
    "# Lectura de datos, el delimitador de atributos es la coma ','\n",
    "datos = pd.read_csv('datosRegresion.txt')\n",
    "\n",
    "# Generamos dos DataFrames: uno para la información de entrada (X) y otro para la de salida (y)\n",
    "    # para acceder a los datos se debe usar el método loc \n",
    "    # para realizar una copia rompiendo la referencia a la variable original se debe usar el método copy\n",
    "X = datos.loc[:,['Superficie','NumHabitaciones']].copy()\n",
    "y = datos.loc[:,['Valoracion']].copy()"
   ]
  },
  {
   "cell_type": "markdown",
   "metadata": {
    "deletable": false,
    "editable": false,
    "nbgrader": {
     "cell_type": "markdown",
     "checksum": "dc7f5d992b97b9a00bbc10755e3b9a5d",
     "grade": false,
     "grade_id": "cell-c90078ed77e8f6be",
     "locked": true,
     "schema_version": 3,
     "solution": false,
     "task": false
    }
   },
   "source": [
    "### Análisis exploratorio de datos"
   ]
  },
  {
   "cell_type": "markdown",
   "metadata": {
    "deletable": false,
    "editable": false,
    "nbgrader": {
     "cell_type": "markdown",
     "checksum": "61086738b29c0faeaca56026141db292",
     "grade": false,
     "grade_id": "cell-90344f57791c36fd",
     "locked": true,
     "schema_version": 3,
     "solution": false,
     "task": false
    }
   },
   "source": [
    "En primer lugar vamos a mostrar el resumen estadístico de la información de las variables de entrada y de salida. Para ello se puede utilizar el método *describe*: https://pandas.pydata.org/pandas-docs/stable/reference/api/pandas.DataFrame.describe.html"
   ]
  },
  {
   "cell_type": "code",
   "execution_count": 14,
   "metadata": {
    "deletable": false,
    "nbgrader": {
     "cell_type": "code",
     "checksum": "6a4dd44fe014f75dd00ac294b62bf54e",
     "grade": false,
     "grade_id": "cell-3b50c20726480495",
     "locked": false,
     "schema_version": 3,
     "solution": true,
     "task": false
    }
   },
   "outputs": [],
   "source": [
    "resumenEntrada = X.describe()\n",
    "resumenSalida = y.describe()"
   ]
  },
  {
   "cell_type": "markdown",
   "metadata": {
    "deletable": false,
    "editable": false,
    "nbgrader": {
     "cell_type": "markdown",
     "checksum": "15b42da2ebf01c8de086f1f78188723b",
     "grade": false,
     "grade_id": "cell-50cc895449d1d20a",
     "locked": true,
     "schema_version": 3,
     "solution": false,
     "task": false
    }
   },
   "source": [
    "Como las variables en las que recogemos los datos también son DataFrames podemos acceder fácilmente al contenido de cualquier valor estadístico. Se muestran varios ejemplos en la celda posterior."
   ]
  },
  {
   "cell_type": "code",
   "execution_count": 15,
   "metadata": {
    "deletable": false,
    "editable": false,
    "nbgrader": {
     "cell_type": "code",
     "checksum": "5efd11b10058ed9895d81ab8ff4fda57",
     "grade": false,
     "grade_id": "cell-7cf16a50c8bda89d",
     "locked": true,
     "schema_version": 3,
     "solution": false,
     "task": false
    }
   },
   "outputs": [
    {
     "name": "stdout",
     "output_type": "stream",
     "text": [
      "Superficie         1685.280702\n",
      "NumHabitaciones       3.649123\n",
      "Name: mean, dtype: float64\n",
      "98.0\n",
      "min     1.0\n",
      "max    30.0\n",
      "Name: NumHabitaciones, dtype: float64\n",
      "57.0\n"
     ]
    }
   ],
   "source": [
    "# Acceso a las medias de todos los atributos de entrada\n",
    "print(resumenEntrada.loc['mean', :])\n",
    "# Acceso al mínimo de la superficie\n",
    "print(resumenEntrada.loc['min', 'Superficie'])\n",
    "# Acceso al mínimo y al máximo del número de habitaciones\n",
    "print(resumenEntrada.loc[['min', 'max'], 'NumHabitaciones'])\n",
    "# Acceso al conteo del número de valores de la valoración\n",
    "print(resumenSalida.loc['count', 'Valoracion'])"
   ]
  },
  {
   "cell_type": "markdown",
   "metadata": {
    "deletable": false,
    "editable": false,
    "nbgrader": {
     "cell_type": "markdown",
     "checksum": "2a2eb2978d56f2d5caf3f405b46dd97d",
     "grade": false,
     "grade_id": "cell-4ac880552d66d46a",
     "locked": true,
     "schema_version": 3,
     "solution": false,
     "task": false
    }
   },
   "source": [
    "Vamos a mostrar gráficamente el contenido de las variables de entrada. \n",
    "\n",
    "Para ello, cread una gráfica compuesta por 2 subgráficas (1 filas y 2 columnas). Para acceder a cada subgráfica y mostrar lo que se desee en ella, se debe usar el método *subplot* de matplotlib: https://matplotlib.org/3.3.2/api/_as_gen/matplotlib.pyplot.subplot.html\n",
    "\n",
    "Para facilitar la interpretación de las gráficas, es útil habilitar el grid, *plt.grid(True)*, y establecer los límites del eje y al mínimo y máximo de los valores de la variable a mostrar, *ylim((mínimo, máximo))*."
   ]
  },
  {
   "cell_type": "code",
   "execution_count": 6,
   "metadata": {},
   "outputs": [
    {
     "data": {
      "text/plain": [
       "168999"
      ]
     },
     "execution_count": 6,
     "metadata": {},
     "output_type": "execute_result"
    }
   ],
   "source": [
    "int(y.min(axis=0))"
   ]
  },
  {
   "cell_type": "code",
   "execution_count": 7,
   "metadata": {
    "deletable": false,
    "nbgrader": {
     "cell_type": "code",
     "checksum": "008eb900a8bb1456f8d9f2a9fb4ebdad",
     "grade": false,
     "grade_id": "cell-aa0c530a387f3a65",
     "locked": false,
     "schema_version": 3,
     "solution": true,
     "task": false
    }
   },
   "outputs": [
    {
     "data": {
      "text/plain": [
       "<Figure size 1008x504 with 0 Axes>"
      ]
     },
     "metadata": {},
     "output_type": "display_data"
    },
    {
     "data": {
      "image/png": "[encoded data removed]",
      "text/plain": [
       "<Figure size 432x288 with 2 Axes>"
      ]
     },
     "metadata": {
      "needs_background": "light"
     },
     "output_type": "display_data"
    }
   ],
   "source": [
    "fig = plt.figure(figsize=(14,7))\n",
    "fig,(ax1,ax2) = plt.subplots(1,2)\n",
    "\n",
    "ax1.set_ylim(int(y.min(axis=0)),int(y.max(axis=0)))\n",
    "ax1.plot(y.values)\n",
    "                           \n",
    "ax2.plot(X.values)\n",
    "                 \n",
    "ax1.grid(True)\n",
    "ax2.grid(True)"
   ]
  },
  {
   "cell_type": "markdown",
   "metadata": {
    "deletable": false,
    "editable": false,
    "nbgrader": {
     "cell_type": "markdown",
     "checksum": "7010783509ffd8a8f93ce56eec6caef5",
     "grade": false,
     "grade_id": "cell-3eec054f9bf314f3",
     "locked": true,
     "schema_version": 3,
     "solution": false,
     "task": false
    }
   },
   "source": [
    "A continuación vamos a mostrar gráficamente la distribución de los datos de las variables de entrada junto con los diagramas de cajas y bigotes (boxplot). Para ello, cread una gráfica compuesta por 4 subgráficas (2 filas y 2 columnas).\n",
    "\n",
    "En cada fila, en la columna izquierda mostrad la distribución de los datos de una variable usando *hist* (https://matplotlib.org/3.1.1/gallery/statistics/hist.html) y en la columna de la derecha mostrad el *boxplot* (https://matplotlib.org/3.1.1/api/_as_gen/matplotlib.pyplot.boxplot.html) de la misma variable. Para poner títulos a los ejes se utilizan los métodos *xlabel* e *ylabel*.\n",
    "\n",
    "NOTA: cread el histograma utilizando 20 contenedores (bins) y no determinéis el rango del eje y para la gráfica del histograma."
   ]
  },
  {
   "cell_type": "code",
   "execution_count": 8,
   "metadata": {
    "deletable": false,
    "nbgrader": {
     "cell_type": "code",
     "checksum": "ee1b41c2bf75758c16ab3f70264cef38",
     "grade": false,
     "grade_id": "cell-58f051068be0deec",
     "locked": false,
     "schema_version": 3,
     "solution": true,
     "task": false
    }
   },
   "outputs": [
    {
     "data": {
      "text/plain": [
       "<Figure size 1152x720 with 0 Axes>"
      ]
     },
     "execution_count": 8,
     "metadata": {},
     "output_type": "execute_result"
    },
    {
     "data": {
      "text/plain": [
       "<Figure size 1152x720 with 0 Axes>"
      ]
     },
     "metadata": {},
     "output_type": "display_data"
    }
   ],
   "source": [
    "plt.figure(figsize=(16,10))\n",
    "# <RELLENAR>"
   ]
  },
  {
   "cell_type": "markdown",
   "metadata": {
    "deletable": false,
    "editable": false,
    "nbgrader": {
     "cell_type": "markdown",
     "checksum": "e7a23c851b19f1e6ab80421d67c15cb2",
     "grade": false,
     "grade_id": "cell-d83ef5a5d7b8fc94",
     "locked": true,
     "schema_version": 3,
     "solution": false,
     "task": false
    }
   },
   "source": [
    "Podemos observar que en la superficie existe un problema de escala (recordad que la empresa tiene sedes en EEUU y en España) ya que en el plot se observa que los últimos valores son mucho más pequeños que los primeros y esto se confirma en el histograma con la presencia de muchos datos cercanos a 0 y luego una distribución normal. Además, podemos ver que existen varios outliers. Con respecto al número de habitaciones, podemos observar que no existen problemas de escala pero que si que tenemos algún outlier en los datos."
   ]
  },
  {
   "cell_type": "markdown",
   "metadata": {
    "deletable": false,
    "editable": false,
    "nbgrader": {
     "cell_type": "markdown",
     "checksum": "187d5e53cfba2875f6434757fca0f814",
     "grade": false,
     "grade_id": "cell-4bda492a93f41903",
     "locked": true,
     "schema_version": 3,
     "solution": false,
     "task": false
    }
   },
   "source": [
    "### Transformación"
   ]
  },
  {
   "cell_type": "markdown",
   "metadata": {
    "deletable": false,
    "editable": false,
    "nbgrader": {
     "cell_type": "markdown",
     "checksum": "e56b67bb0c97c835f865831ae7e64082",
     "grade": false,
     "grade_id": "cell-dcc3a7e0b26c9ba7",
     "locked": true,
     "schema_version": 3,
     "solution": false,
     "task": false
    }
   },
   "source": [
    "En primer lugar vamos a tratar de solucionar el problema de escala. El hecho de que la empresa tenga sedes en EEUU y en España nos hace pensar que unas casas estarán medidas en pies cuadrados y otras en metros cuadrados (1 $m^2$ = 10,7639 $pies^2$). Por ello, debemos transformar todas las superficies medidas en pies cuadrados a metros cuadrados. Vamos a utilizar el valor 750 como umbral para decidir las casas medidas en una unidad métrica u otra (las mayores de 750 las consideraremos medidas en pies cuadrados)."
   ]
  },
  {
   "cell_type": "code",
   "execution_count": 16,
   "metadata": {},
   "outputs": [],
   "source": [
    "def transformaSuperficie(X,s):\n",
    "    mask = X[s]>750 \n",
    "    X[s][mask] =X[s][mask] / 10.7639\n",
    "    return X"
   ]
  },
  {
   "cell_type": "code",
   "execution_count": 42,
   "metadata": {
    "deletable": false,
    "nbgrader": {
     "cell_type": "code",
     "checksum": "25c2007577582c072e605d0cd1b547db",
     "grade": false,
     "grade_id": "cell-c1050c9e5c09d83e",
     "locked": false,
     "schema_version": 3,
     "solution": true,
     "task": false
    }
   },
   "outputs": [],
   "source": [
    "X = transformaSuperficie(X,'Superficie')"
   ]
  },
  {
   "cell_type": "code",
   "execution_count": 43,
   "metadata": {
    "deletable": false,
    "editable": false,
    "nbgrader": {
     "cell_type": "code",
     "checksum": "a28d5cc7c3f1e4e10a934692da8e2ca4",
     "grade": true,
     "grade_id": "cell-b4447af663ce1eb7",
     "locked": true,
     "points": 2,
     "schema_version": 3,
     "solution": false,
     "task": false
    }
   },
   "outputs": [
    {
     "name": "stdout",
     "output_type": "stream",
     "text": [
      "1 test passed.\n"
     ]
    }
   ],
   "source": [
    "Test.assertEquals(list(map(lambda x: round(x, 2), X['Superficie'].head())), [195.47, 148.65, 222.97, 131.55, 278.71], 'Superficies transformadas incorrectamente')"
   ]
  },
  {
   "cell_type": "markdown",
   "metadata": {
    "deletable": false,
    "editable": false,
    "nbgrader": {
     "cell_type": "markdown",
     "checksum": "c0b45dd6173ff56e013d25634f2e35f7",
     "grade": false,
     "grade_id": "cell-7cd9cacb397a3ca8",
     "locked": true,
     "schema_version": 3,
     "solution": false
    }
   },
   "source": [
    "Según la descripción del contenido de los ficheros podemos ver que existe un problema de escala ya que unas casas están medidas en pies cuadrados y otras en metros cuadrados. Un metro cuadrado equivale a 10,7639 pies cuadrados. \n",
    "\n",
    "Realiza una función llamada **transformaSuperficie** que reciba un dataset y el índice de la columna a tratar. La función debe devolver el dataset en el que los datos de la columna correspondiente ha sido transformada de pies cuadrados a metros cuadrados."
   ]
  },
  {
   "cell_type": "markdown",
   "metadata": {
    "deletable": false,
    "editable": false,
    "nbgrader": {
     "cell_type": "markdown",
     "checksum": "0938ce6f8d3931f5bcb3a9337fe4e720",
     "grade": false,
     "grade_id": "cell-5b48acd8acdfbb21",
     "locked": true,
     "schema_version": 3,
     "solution": false,
     "task": false
    }
   },
   "source": [
    "### Detección de outliers"
   ]
  },
  {
   "cell_type": "markdown",
   "metadata": {
    "deletable": false,
    "editable": false,
    "nbgrader": {
     "cell_type": "markdown",
     "checksum": "9feb3e78fd04093d7d52a578be3491ab",
     "grade": false,
     "grade_id": "cell-9de71d3523df8f73",
     "locked": true,
     "schema_version": 3,
     "solution": false,
     "task": false
    }
   },
   "source": [
    "En primer lugar vamos a implementar el método de detección de outliers basado en el rango intercuartil. Para ello, debéis implementar una función llamada *deteccionOutliers_IQR* que reciba como parámetros de entrada un DataFrame y el valor de k (por defecto debe ser 1.5) y devuelva como salida una lista con tantos booleanos como ejemplos y que en cada posición determine si ese ejemplo contiene outliers (True) o no (False).\n",
    "\n",
    "NOTA 1: el método *logical_or* de Numpy realica la unión lógica de dos listas de booleanos.\n",
    "\n",
    "NOTA 2: el método *any(axis=eje)* devuelve True si existe al menos un True en el *eje* que esté siendo consultado."
   ]
  },
  {
   "cell_type": "code",
   "execution_count": 45,
   "metadata": {
    "deletable": false,
    "nbgrader": {
     "cell_type": "code",
     "checksum": "ce2988400a04b35bf4161787a2855f5f",
     "grade": false,
     "grade_id": "cell-c88ce738f6a1e0ff",
     "locked": false,
     "schema_version": 3,
     "solution": true,
     "task": false
    }
   },
   "outputs": [],
   "source": [
    "# Para calcular el IQR y los \"putnos de corte\" debéis utilizar el método describe y acceder a los campos apropiados\n",
    "def deteccionOutliers_IQR(df,k=1.5):\n",
    "    Q1=df.describe().loc['25%', :]\n",
    "    Q2=df.describe().loc['50%', :]\n",
    "    Q3=df.describe().loc['75%', :]\n",
    "    IQR = Q3-Q1\n",
    "    return np.logical_or(df > Q3 + k * IQR, df < Q1 - k * IQR).any(axis=1)"
   ]
  },
  {
   "cell_type": "markdown",
   "metadata": {
    "deletable": false,
    "editable": false,
    "nbgrader": {
     "cell_type": "markdown",
     "checksum": "988373274b1cfe49f0b0e234594ea8a4",
     "grade": false,
     "grade_id": "cell-cf3bbf8f1320bf7b",
     "locked": true,
     "schema_version": 3,
     "solution": false,
     "task": false
    }
   },
   "source": [
    "Ahora vamos a utilizar la función anterior para detectar outliers en los datos de entrada (X). Después, vamos a generar dos DataFrames (X_sinOut_IQR e y_sinOut_IQR) en los que eliminaremos los ejemplos que contengan outliers utilizando el valor 3.0 como valor de k.\n",
    "\n",
    "NOTA 1: el método *logical_not* de Numpy realica la negación lógica de una lista de booleanos.\n",
    "\n",
    "NOTA 2: recordad utilizar el método copy de Pandas para no perder el DataFrame X original."
   ]
  },
  {
   "cell_type": "code",
   "execution_count": 53,
   "metadata": {
    "deletable": false,
    "nbgrader": {
     "cell_type": "code",
     "checksum": "1cbb750062f8f00739a626d3697d3381",
     "grade": false,
     "grade_id": "cell-c14926233fb02152",
     "locked": false,
     "schema_version": 3,
     "solution": true,
     "task": false
    }
   },
   "outputs": [],
   "source": [
    "# obtenemos el listado de booleanos que representa la presencia de outliers\n",
    "outliers_IQR= deteccionOutliers_IQR(X,3)\n",
    "X_sinOut_IQR = X[np.logical_not(outliers_IQR)].copy()\n",
    "y_sinOut_IQR = y[np.logical_not(outliers_IQR)].copy()"
   ]
  },
  {
   "cell_type": "code",
   "execution_count": 54,
   "metadata": {
    "deletable": false,
    "editable": false,
    "nbgrader": {
     "cell_type": "code",
     "checksum": "e9431018e7c3d1423668d22524f3997f",
     "grade": true,
     "grade_id": "cell-e3fbb6a9fc4ebe16",
     "locked": true,
     "points": 3,
     "schema_version": 3,
     "solution": false,
     "task": false
    }
   },
   "outputs": [
    {
     "name": "stdout",
     "output_type": "stream",
     "text": [
      "1 test passed.\n",
      "1 test passed.\n",
      "1 test passed.\n",
      "1 test passed.\n"
     ]
    }
   ],
   "source": [
    "Test.assertEquals(X_sinOut_IQR.shape, (55, 2), 'Dimensiones de X_sinOut_IQR incorrectas')\n",
    "Test.assertEquals(y_sinOut_IQR.shape, (55, 1), 'Dimensiones de y_sinOut_IQR incorrectas')\n",
    "Test.assertEquals(X.shape, (57, 2), 'Dimensiones de X original incorrectas')\n",
    "Test.assertEquals(y.shape, (57, 1), 'Dimensiones de y original incorrectas')"
   ]
  },
  {
   "cell_type": "markdown",
   "metadata": {
    "deletable": false,
    "editable": false,
    "nbgrader": {
     "cell_type": "markdown",
     "checksum": "0755bfe37351209d8f84c091ed6076d1",
     "grade": false,
     "grade_id": "cell-12c56d05b4021938",
     "locked": true,
     "schema_version": 3,
     "solution": false,
     "task": false
    }
   },
   "source": [
    "Ahora vamos a realizar el mismo proceso pero para el método de detección de outliers basado en la media y la desviación estándar explicado en clase de teoría. \n",
    "\n",
    "Definir una función llamda *deteccionOutliers_MeanStd* que reciba los datos sobre los que detectar los outliers y el valor de la variable k (por defecto debe ser 2). Esta función debe devolver una lista con tantos booleanos como ejemplos y que en cada posición determine si ese ejemplo contiene outliers (True) o no (False)."
   ]
  },
  {
   "cell_type": "code",
   "execution_count": 52,
   "metadata": {
    "deletable": false,
    "nbgrader": {
     "cell_type": "code",
     "checksum": "c11a230ed30c5c627041388f97145d92",
     "grade": false,
     "grade_id": "cell-bb36376d2a17aa0e",
     "locked": false,
     "schema_version": 3,
     "solution": true,
     "task": false
    }
   },
   "outputs": [],
   "source": [
    "# Para calcular la media y la desviación debéis utilizar los métodos mean y std, respectivamente, y determinar el eje apropiado\n",
    "def deteccionOutliers_MeanStd(df, k=1.5):\n",
    "    mean = df.mean()\n",
    "    std = df.std()\n",
    "    return np.logical_or(df > mean + k * std, df < mean - k * std).any(axis=1)"
   ]
  },
  {
   "cell_type": "markdown",
   "metadata": {
    "deletable": false,
    "editable": false,
    "nbgrader": {
     "cell_type": "markdown",
     "checksum": "e4a95bde828cbfb9382d63c06aabbbeb",
     "grade": false,
     "grade_id": "cell-0f19a3793e1a04cf",
     "locked": true,
     "schema_version": 3,
     "solution": false,
     "task": false
    }
   },
   "source": [
    "Ahora vamos a utilizar la función anterior para detectar outliers en los datos de entrada (X). Después, vamos a generar dos DataFrames (X_sinOut_ms e y_sinOut_ms) en los que eliminaremos los ejemplos que contengan outliers utilizando el valor 3.0 como valor de k."
   ]
  },
  {
   "cell_type": "code",
   "execution_count": 55,
   "metadata": {
    "deletable": false,
    "nbgrader": {
     "cell_type": "code",
     "checksum": "cb2c37f3250f273409ececd9b14b9974",
     "grade": false,
     "grade_id": "cell-241ab44c843373c9",
     "locked": false,
     "schema_version": 3,
     "solution": true,
     "task": false
    }
   },
   "outputs": [],
   "source": [
    "# obtenemos el listado de booleanos que representa la presencia de outliers\n",
    "outliers_ms= deteccionOutliers_MeanStd(X,3)\n",
    "X_sinOut_ms = X[np.logical_not(outliers_ms)].copy()\n",
    "y_sinOut_ms = y[np.logical_not(outliers_ms)].copy()"
   ]
  },
  {
   "cell_type": "code",
   "execution_count": 56,
   "metadata": {
    "deletable": false,
    "editable": false,
    "nbgrader": {
     "cell_type": "code",
     "checksum": "3929d6fb99791417975d0ad787b9df4c",
     "grade": true,
     "grade_id": "cell-4003248ff8cdb535",
     "locked": true,
     "points": 0,
     "schema_version": 3,
     "solution": false,
     "task": false
    }
   },
   "outputs": [
    {
     "name": "stdout",
     "output_type": "stream",
     "text": [
      "1 test passed.\n",
      "1 test passed.\n",
      "1 test passed.\n",
      "1 test passed.\n"
     ]
    }
   ],
   "source": [
    "Test.assertEquals(X_sinOut_ms.shape, (55, 2), 'Dimensiones de X_sinOut_ms incorrectas')\n",
    "Test.assertEquals(y_sinOut_ms.shape, (55, 1), 'Dimensiones de y_sinOut_ms incorrectas')\n",
    "Test.assertEquals(X.shape, (57, 2), 'Dimensiones de X original incorrectas')\n",
    "Test.assertEquals(y.shape, (57, 1), 'Dimensiones de y original incorrectas')"
   ]
  },
  {
   "cell_type": "markdown",
   "metadata": {
    "deletable": false,
    "editable": false,
    "nbgrader": {
     "cell_type": "markdown",
     "checksum": "b93010d72aa603a983db76c7467bd3c2",
     "grade": false,
     "grade_id": "cell-b2d78826e0244291",
     "locked": true,
     "schema_version": 3,
     "solution": false,
     "task": false
    }
   },
   "source": [
    "Para vuestra información, la librería *stats* de Scipy ofrece el método *zscore* (https://docs.scipy.org/doc/scipy/reference/generated/scipy.stats.zscore.html) con el que se puede obtener el mismo resultado que con la función que acabamos de implementar. "
   ]
  },
  {
   "cell_type": "code",
   "execution_count": 57,
   "metadata": {
    "deletable": false,
    "editable": false,
    "nbgrader": {
     "cell_type": "code",
     "checksum": "2fe2a2a2318cec838ef11d47ffb9b8c4",
     "grade": false,
     "grade_id": "cell-0bdd620f3f3b879f",
     "locked": true,
     "schema_version": 3,
     "solution": false,
     "task": false
    }
   },
   "outputs": [
    {
     "name": "stdout",
     "output_type": "stream",
     "text": [
      "(55, 2)\n"
     ]
    }
   ],
   "source": [
    "from scipy import stats\n",
    "X_sinOut_ms_Scipy = X[(np.abs(stats.zscore(datos)) < 3.0).all(axis=1)].copy()\n",
    "print(X_sinOut_ms_Scipy.shape)"
   ]
  },
  {
   "cell_type": "markdown",
   "metadata": {
    "deletable": false,
    "editable": false,
    "nbgrader": {
     "cell_type": "markdown",
     "checksum": "8223050ebaeb00f2d6befa7c32a215cb",
     "grade": false,
     "grade_id": "cell-4513c24e3f273969",
     "locked": true,
     "schema_version": 3,
     "solution": false,
     "task": false
    }
   },
   "source": [
    "### Estandarización"
   ]
  },
  {
   "cell_type": "markdown",
   "metadata": {
    "deletable": false,
    "editable": false,
    "nbgrader": {
     "cell_type": "markdown",
     "checksum": "ff222a939a67fbd0e11024c1d9a72a95",
     "grade": false,
     "grade_id": "cell-8cc0fd36c7548f6f",
     "locked": true,
     "schema_version": 3,
     "solution": false,
     "task": false
    }
   },
   "source": [
    "Por útlimo, en los datos iniciales se puede observar que el rango de las dos variables de entrada es muy diferente. Por este motivo se debe realizar un proceso de estandarización de los datos para que todas las variables de entrada tengan el mismo rango y, por tanto, la misma importancia.\n",
    "\n",
    "Vamos a realizar dos formas de realizar la estandarización. La primera de ellas es el método basado en la media y la desviación estándar. Se debe implementar una función llamada **estandarizarMediaStd** que reciba el DataFrame a estandarización y que realice el siguiente proceso:\n",
    "* Calcular la media de los valores de todas las variables para todas las instancias\n",
    "* Calcular la desviación estándar de los valores de todas las variables para todas las instancias\n",
    "* A cada valor se le debe restar la media y el resultado dividirlo por la desviación estándar\n",
    "* Devolver los datos estandarizados así como las medias y las desviaciones estándar calculadas"
   ]
  },
  {
   "cell_type": "code",
   "execution_count": 59,
   "metadata": {
    "deletable": false,
    "nbgrader": {
     "cell_type": "code",
     "checksum": "25036a8ffcc263074c3fe331531c5449",
     "grade": false,
     "grade_id": "cell-426978244117992b",
     "locked": false,
     "schema_version": 3,
     "solution": true,
     "task": false
    }
   },
   "outputs": [],
   "source": [
    "def estandarizarMediaStd(df):\n",
    "    media = np.mean(df)\n",
    "    std = np.std(df)\n",
    "    datosEstandarizados = (df-media)/std\n",
    "    return datosEstandarizados,media,std"
   ]
  },
  {
   "cell_type": "markdown",
   "metadata": {
    "deletable": false,
    "editable": false,
    "nbgrader": {
     "cell_type": "markdown",
     "checksum": "13ec709fd88a820e812c3a112c7ad062",
     "grade": false,
     "grade_id": "cell-2606f5ee6e9457c1",
     "locked": true,
     "schema_version": 3,
     "solution": false,
     "task": false
    }
   },
   "source": [
    "Para estandarizar nuevos datos de test se debe realizar el mismo proceso que en el caso anterior pero, como son datos nuevos (datos de test), tenemos que utilizar la media y la desviación estándar obtenidas con los datos de entrenamiento. De esta forma la estandarización se realizará para todos los datos en las mismas condiciones. \n",
    "\n",
    "Definir una función llamda **estandarizarMediaStdTest** que estandarice nuevos datos de test que serán pasados como parámetros de entrada. Para ello se aplica la misma ecuación que para la función anterior pero utilizando la media y la desviación estándar pasadas como parámetros de entrada (serán las obtenidas con el conjunto de entrenamiento). La función devuelve los nuevos datos estandarizados."
   ]
  },
  {
   "cell_type": "code",
   "execution_count": 60,
   "metadata": {
    "deletable": false,
    "nbgrader": {
     "cell_type": "code",
     "checksum": "d68f4d088912fcbec8c818d2a244bc74",
     "grade": false,
     "grade_id": "cell-5d5eb6510e06f80f",
     "locked": false,
     "schema_version": 3,
     "solution": true,
     "task": false
    }
   },
   "outputs": [],
   "source": [
    "def estandarizarMediaStdTest(df,media,std):\n",
    "    datosEstandarizados = (df-media)/std\n",
    "    return datosEstandarizados,media,std"
   ]
  },
  {
   "cell_type": "markdown",
   "metadata": {
    "deletable": false,
    "editable": false,
    "nbgrader": {
     "cell_type": "markdown",
     "checksum": "32c24f865d16304fec3b031fd2ed02b9",
     "grade": false,
     "grade_id": "cell-0346f17c2759eced",
     "locked": true,
     "schema_version": 3,
     "solution": false,
     "task": false
    }
   },
   "source": [
    "La librería Scikit-Learn de Python nos provee una clase que realiza un proceso de estandarición similar (usa la varianza en lugar de la desviación estándar). Dicha clase está dentro de la librería *Preprocessing*. La clase en concreto que realiza este proceso es la llamada StandardScaler, cuya información se puede ver en la siguiente URL: http://scikit-learn.org/stable/modules/generated/sklearn.preprocessing.StandardScaler.html#sklearn.preprocessing.StandardScaler. \n",
    "\n",
    "Para crear un objeto de esta clase es suficiente con llamar al constructor: preprocessing.StandardScaler(). Esta llamada devuelve un objeto con el que podemos llamar a varios métodos, los que vamos a utilizar son:\n",
    "* fit: recibe como parámetro de entrada los datos de entrenamiento y calcula la media y la desviación estándar para cada variable. La media queda almacenada en el campo mean_ y la varianza en el campo var_.\n",
    "* transform: recibe como parámetro de entrada los datos a estandarizar y devuelve los datos estandarizados utilizando los valores aprendidos previamente y almacenados en mean_ y var_.\n",
    "* fit_transform: realiza el proceso de ambas funciones previamente descritas en una sola función."
   ]
  },
  {
   "cell_type": "code",
   "execution_count": 61,
   "metadata": {
    "deletable": false,
    "editable": false,
    "nbgrader": {
     "cell_type": "code",
     "checksum": "8e98a4b7c6b022cca1579ae913617ae8",
     "grade": false,
     "grade_id": "cell-da4b76b07d8e89c0",
     "locked": true,
     "schema_version": 3,
     "solution": false,
     "task": false
    }
   },
   "outputs": [],
   "source": [
    "from sklearn import preprocessing\n",
    "\n",
    "normalizarScikitPorMedia = preprocessing.StandardScaler()"
   ]
  },
  {
   "cell_type": "markdown",
   "metadata": {
    "deletable": false,
    "editable": false,
    "nbgrader": {
     "cell_type": "markdown",
     "checksum": "625b2ffdc869b84d4031e3e3c81428ce",
     "grade": false,
     "grade_id": "cell-0871aa5b9a90bb46",
     "locked": true,
     "schema_version": 3,
     "solution": false,
     "task": false
    }
   },
   "source": [
    "El segundo método de estandarización es el basado en el mínimo y el máximo de los datos de entrenamiento. Se debe implementar una función llamada **estandarizarMaxMin** que reciba el DataFrame a estandarizar y que realice el siguiente proceso:\n",
    "* Calcular el mínimo de los valores de todas las variables para todas las instancias\n",
    "* Calcular el máximo de los valores de todas las variables para todas las instancias\n",
    "* A cada valor se le debe restar el mínimo y el resultado dividirlo por la diferencia entre el máximo y el mínimo\n",
    "* Devolver los datos estandarizados así como los mínimos y los máximos calculados"
   ]
  },
  {
   "cell_type": "code",
   "execution_count": 81,
   "metadata": {
    "deletable": false,
    "nbgrader": {
     "cell_type": "code",
     "checksum": "9dc0751f525002fb4284bde1cab49a3c",
     "grade": false,
     "grade_id": "cell-a0898afa7dd653ed",
     "locked": false,
     "schema_version": 3,
     "solution": true,
     "task": false
    }
   },
   "outputs": [],
   "source": [
    "def estandarizarMaxMin(df):\n",
    "    df_min = np.min(df)\n",
    "    df_max = np.max(df)\n",
    "    datosEstandarizados = (df - df_min)/abs(df_max-df_min)\n",
    "    return datosEstandarizados,df_min,df_max"
   ]
  },
  {
   "cell_type": "markdown",
   "metadata": {
    "deletable": false,
    "editable": false,
    "nbgrader": {
     "cell_type": "markdown",
     "checksum": "0d472e0e23dc7bcade1e011799870da9",
     "grade": false,
     "grade_id": "cell-51567c4853a41bcf",
     "locked": true,
     "schema_version": 3,
     "solution": false,
     "task": false
    }
   },
   "source": [
    "Definir una función llamada **estandarizarMaxMinTest** que estandarice nuevos datos de test (pasados como argumento de entrada) utilizando los mínimos y los máximos. Para ello se aplica la misma ecuación que para la función anterior pero utilizando los mínimos y los máximos pasados como parámetros de entrada (serán los obtenidos con el conjunto de entrenamiento). La función devuelve los nuevos datos estandarizados."
   ]
  },
  {
   "cell_type": "code",
   "execution_count": 63,
   "metadata": {
    "deletable": false,
    "nbgrader": {
     "cell_type": "code",
     "checksum": "6fbf9b37a9002bdbf37340c3d7a73804",
     "grade": false,
     "grade_id": "cell-d345b0a52ec813b3",
     "locked": false,
     "schema_version": 3,
     "solution": true,
     "task": false
    }
   },
   "outputs": [],
   "source": [
    "def estandarizarMaxMinTest(df,df_min,df_max):\n",
    "    datosEstandarizados = (df - df_min)/abs(df_max-df_min)\n",
    "    return datosEstandarizados,minimo,maximo"
   ]
  },
  {
   "cell_type": "markdown",
   "metadata": {
    "deletable": false,
    "editable": false,
    "nbgrader": {
     "cell_type": "markdown",
     "checksum": "0f8de75a47cc36f6fcea898b5ee17e5e",
     "grade": false,
     "grade_id": "cell-dd3d3d264dca1c1b",
     "locked": true,
     "schema_version": 3,
     "solution": false,
     "task": false
    }
   },
   "source": [
    "La librería Scikit-Learn de Python también nos provee una clase que realiza este proceso de estandarización. La clase en concreto que realiza este proceso es la llamada MinMaxScaler, cuya información se puede ver en la siguiente URL: http://scikit-learn.org/stable/modules/generated/sklearn.preprocessing.MinMaxScaler.html#sklearn.preprocessing.MinMaxScaler. \n",
    "\n",
    "Para crear un objeto de esta clase es suficiente con llamar al constructor: preprocessing.MinMaxScaler(). Esta llamada devuelve un objeto con el que podemos llamar a los mismos métodos explicados para la clase StandardScaler. En este caso el valor mínimo para cada variable (calculado con la función Fit) queda almacenado en el campo `data_min_` y el máximo en el campo `data_max_`."
   ]
  },
  {
   "cell_type": "code",
   "execution_count": 64,
   "metadata": {
    "deletable": false,
    "editable": false,
    "nbgrader": {
     "cell_type": "code",
     "checksum": "40374b2e30f7fd4159bb1075f12373cb",
     "grade": false,
     "grade_id": "cell-0781f3d5895d251b",
     "locked": true,
     "schema_version": 3,
     "solution": false,
     "task": false
    }
   },
   "outputs": [],
   "source": [
    "normalizarScikitPorMinMax = preprocessing.MinMaxScaler()"
   ]
  },
  {
   "cell_type": "markdown",
   "metadata": {
    "deletable": false,
    "editable": false,
    "nbgrader": {
     "cell_type": "markdown",
     "checksum": "ff486b1213e36a721b4bdc6be3e700f6",
     "grade": false,
     "grade_id": "cell-d615814ac2a902e8",
     "locked": true,
     "schema_version": 3,
     "solution": false
    }
   },
   "source": [
    "### Problemas de regresión con el algoritmo KNN"
   ]
  },
  {
   "cell_type": "markdown",
   "metadata": {
    "deletable": false,
    "editable": false,
    "nbgrader": {
     "cell_type": "markdown",
     "checksum": "418eb445395b1ab12f94cfbd8f0130a6",
     "grade": false,
     "grade_id": "cell-1844fb6dd970dace",
     "locked": true,
     "schema_version": 3,
     "solution": false
    }
   },
   "source": [
    "A continuación vamos a aplicar todas las funciones definidas anteriormente para realizar la fase de solucionar el problema de la valoración de las casas. \n",
    "\n",
    "En este caso vamos a aplicar el algoritmo de los K vecinos más cercanos para problemas de regresión. La librería Scikit-Learn nos ofrece una implementación de dicho método que está dentro del paquete neighbors y cuya clase específica es KNeighborsRegressor, cuya información se puede consultar en la siguiente URL: http://scikit-learn.org/stable/modules/generated/sklearn.neighbors.KNeighborsRegressor.html#sklearn.neighbors.KNeighborsRegressor\n",
    "\n",
    "Lo primero que se debe realizar es llamar a la función que crea el modelo de regresión. Esta función tiene varios parámetros que determinan el comportamiento del algoritmo. La llamada al constructor y sus parámetros son los siguientes:\n",
    "\n",
    "    modeloRegresion = neighbors.KNeighborsRegressor(n_neighbors  = K, weights = tipoVoto, metric = tipoDistancia, p = r)\n",
    "\n",
    "Los diferentes parámetros de entrada son\n",
    "* n_neighbors = K: número de vecinos a considerar (valor por defecto = 5)\n",
    "* weights = tipoVoto: forma de votar (peso de cada ejemplo cercano). tipoVoto puede tomar los siguientes valores:\n",
    "    * 'uniform': voto por mayoría  (valor por defecto)\n",
    "    * 'distance': voto en función de la inversa de la distancia\n",
    "* metric = tipoDistancia: forma de calcular la distancia entre los ejemplos.  tipoDistancia puede tomar los siguientes valores:\n",
    "    * 'manhattan': distancia de manhattan\n",
    "    * 'euclidean': distancia euclidea\n",
    "    * 'minkowski': distancia de Minkowski (valor por defecto)\n",
    "* r: en caso de utilizar la distancia de Minkowski hay que especificar el valor del parámetro p que se corresponde al exponente r visto en la clase de teoría. r puede cualquier valor, entre ellos:\n",
    "    * r = 1: distancia de manhattan\n",
    "    * r = 2: distancia euclidea (valor por defecto)\n",
    "    \n",
    "Crear el modelo inicial con todos los valores por defecto. Almacenar el modelo en una variable."
   ]
  },
  {
   "cell_type": "code",
   "execution_count": 65,
   "metadata": {
    "deletable": false,
    "nbgrader": {
     "cell_type": "code",
     "checksum": "5a38c1aaa0e51d826c3472179cbaa6af",
     "grade": false,
     "grade_id": "cell-92a36bbcc87784a0",
     "locked": false,
     "schema_version": 3,
     "solution": true,
     "task": false
    }
   },
   "outputs": [],
   "source": [
    "from sklearn import neighbors\n",
    "\n",
    "modeloReg = neighbors.KNeighborsRegressor()"
   ]
  },
  {
   "cell_type": "markdown",
   "metadata": {
    "deletable": false,
    "editable": false,
    "nbgrader": {
     "cell_type": "markdown",
     "checksum": "1cd2cf66db591b8345a826816daad9c8",
     "grade": false,
     "grade_id": "cell-abdb801de57b4355",
     "locked": true,
     "schema_version": 3,
     "solution": false,
     "task": false
    }
   },
   "source": [
    "Una vez creado el modelo debemos entrenarlo. Para ello se debe llamar al método *fit* del objeto creado anteriormente. A dicho método se le deben pasar los datos de entrenamiento (en este caso todos los datos disponibles) tanto de las variables de entrada como de la salida."
   ]
  },
  {
   "cell_type": "code",
   "execution_count": 66,
   "metadata": {
    "deletable": false,
    "nbgrader": {
     "cell_type": "code",
     "checksum": "0ba997df737723350cc8e4942c9d944c",
     "grade": false,
     "grade_id": "cell-f2400b3f14c9594f",
     "locked": false,
     "schema_version": 3,
     "solution": true,
     "task": false
    }
   },
   "outputs": [
    {
     "data": {
      "text/plain": [
       "KNeighborsRegressor(algorithm='auto', leaf_size=30, metric='minkowski',\n",
       "                    metric_params=None, n_jobs=None, n_neighbors=5, p=2,\n",
       "                    weights='uniform')"
      ]
     },
     "execution_count": 66,
     "metadata": {},
     "output_type": "execute_result"
    }
   ],
   "source": [
    "modeloReg.fit(X,y)"
   ]
  },
  {
   "cell_type": "markdown",
   "metadata": {
    "deletable": false,
    "editable": false,
    "nbgrader": {
     "cell_type": "markdown",
     "checksum": "e0594ad9582a99175a291572b29f2f94",
     "grade": false,
     "grade_id": "cell-fc185f57174d1546",
     "locked": true,
     "schema_version": 3,
     "solution": false,
     "task": false
    }
   },
   "source": [
    "Una vez que el modelo está entrenado lo podemos utilizar para realizar predicciones de nuevos datos. Para ello se debe llamar al método *predict* al que se pasa como parámetro de entrada los ejemplos a predecir (en este caso vamos a predecir el valor de todas las casas disponibles). Guardar el resultado de las predicciones en una variable."
   ]
  },
  {
   "cell_type": "code",
   "execution_count": 67,
   "metadata": {
    "deletable": false,
    "nbgrader": {
     "cell_type": "code",
     "checksum": "11245f579241f44e12511a6b5d53fcaa",
     "grade": false,
     "grade_id": "cell-7261e986d8db944b",
     "locked": false,
     "schema_version": 3,
     "solution": true,
     "task": false
    }
   },
   "outputs": [],
   "source": [
    "predicciones=modeloReg.predict(X)"
   ]
  },
  {
   "cell_type": "markdown",
   "metadata": {
    "deletable": false,
    "editable": false,
    "nbgrader": {
     "cell_type": "markdown",
     "checksum": "eb95cd6e388da5ab6af873de9d2da08f",
     "grade": false,
     "grade_id": "cell-7da97569f960f5f1",
     "locked": true,
     "schema_version": 3,
     "solution": false,
     "task": false
    }
   },
   "source": [
    "En este punto ya tenemos las predicciones de todas las casas por lo que podemos calcular el rendimiento del modelo. La librería Scikit-Learn ofrece una función que calcula el error cuadrático medio de las predicciones. Esta clase está dentro del paquete *metrics* y se llama *mean_squared_error* (https://scikit-learn.org/stable/modules/generated/sklearn.metrics.mean_squared_error.html). A esta función se le pasa como argumentos de entrada los valores reales de los ejemplos y las predicciones realizadas por el modelo. Obviamente, devuelve el error cuadrático medio de las predicciones realizadas y para devovler el error en la escala original de los datos hay que hacer la raíz cuadrada del error devuelto por dicho método.\n",
    "\n",
    "Utilizar dicha función para calcular el error cuadrático medio de las predicciones realizadas anteriormente y ponerlo en la escala original."
   ]
  },
  {
   "cell_type": "code",
   "execution_count": 69,
   "metadata": {
    "deletable": false,
    "nbgrader": {
     "cell_type": "code",
     "checksum": "6841c658f967d3f8ddc170369a02c533",
     "grade": false,
     "grade_id": "cell-7ebea8e2ab04e5f2",
     "locked": false,
     "schema_version": 3,
     "solution": true,
     "task": false
    }
   },
   "outputs": [
    {
     "name": "stdout",
     "output_type": "stream",
     "text": [
      "72763.3677225258\n"
     ]
    }
   ],
   "source": [
    "from sklearn.metrics import mean_squared_error\n",
    "\n",
    "error =  mean_squared_error(y,predicciones,squared=False)\n",
    "print(error)"
   ]
  },
  {
   "cell_type": "code",
   "execution_count": 70,
   "metadata": {
    "deletable": false,
    "editable": false,
    "nbgrader": {
     "cell_type": "code",
     "checksum": "98190990ad4613e8135da0577ece19e8",
     "grade": true,
     "grade_id": "cell-57bae79ebb4463cc",
     "locked": true,
     "points": 2,
     "schema_version": 3,
     "solution": false,
     "task": false
    }
   },
   "outputs": [
    {
     "name": "stdout",
     "output_type": "stream",
     "text": [
      "1 test passed.\n"
     ]
    }
   ],
   "source": [
    "Test.assertEquals(round(error, 2), 72763.37, 'Error incorrecto')"
   ]
  },
  {
   "cell_type": "markdown",
   "metadata": {
    "deletable": false,
    "editable": false,
    "nbgrader": {
     "cell_type": "markdown",
     "checksum": "7ae4f118d62a7b029be4370ffe5e9673",
     "grade": false,
     "grade_id": "cell-8e8ef5494ce99636",
     "locked": true,
     "schema_version": 3,
     "solution": false,
     "task": false
    }
   },
   "source": [
    "Una vez que sabemos utilizar la librería de Scikit-Learn para aplicar el algoritmo KNN de regresión, vamos a utilizarla para entrenar KNN solamente con las casas que no tengan outliers (detectados por el método del rango intercuartil), predecir sus valores y obtener el error. ¿Es menor o mayor al de antes? ¿Tiene sentido?"
   ]
  },
  {
   "cell_type": "code",
   "execution_count": 71,
   "metadata": {
    "deletable": false,
    "nbgrader": {
     "cell_type": "code",
     "checksum": "b6073a61fc4bc510f4be41bd202854b6",
     "grade": false,
     "grade_id": "cell-a5c990f58799f43f",
     "locked": false,
     "schema_version": 3,
     "solution": true,
     "task": false
    }
   },
   "outputs": [],
   "source": [
    "modeloReg = modeloReg.fit(X_sinOut_IQR,y_sinOut_IQR)\n",
    "predicciones = modeloReg.predict(X_sinOut_IQR)\n",
    "error_sinOutliers = mean_squared_error(y_sinOut_IQR,predicciones,squared=False)"
   ]
  },
  {
   "cell_type": "code",
   "execution_count": 72,
   "metadata": {
    "deletable": false,
    "editable": false,
    "nbgrader": {
     "cell_type": "code",
     "checksum": "b5a190accea02d6f2f4df4555339da7c",
     "grade": true,
     "grade_id": "cell-b54da3fe6f164cab",
     "locked": true,
     "points": 1,
     "schema_version": 3,
     "solution": false,
     "task": false
    }
   },
   "outputs": [
    {
     "name": "stdout",
     "output_type": "stream",
     "text": [
      "1 test passed.\n"
     ]
    }
   ],
   "source": [
    "Test.assertEquals(round(error_sinOutliers, 2), 60858.18, 'Error incorrecto')"
   ]
  },
  {
   "cell_type": "markdown",
   "metadata": {
    "deletable": false,
    "editable": false,
    "nbgrader": {
     "cell_type": "markdown",
     "checksum": "52122815cbfc1eeb2aa2ee8bc9d14732",
     "grade": false,
     "grade_id": "cell-680844ed8b28d508",
     "locked": true,
     "schema_version": 3,
     "solution": false,
     "task": false
    }
   },
   "source": [
    "Finalmente, vamos a estudiar la influencia de la estandarización de los datos a la hora de realizar las predicciones. En primer lugar vamos a realizar la estandarización por el método de la media y la desviación estándar.\n",
    "\n",
    "Debéis realizar lo siguiente:\n",
    "* Llamar a la función que hemos implementado para estandarizar los datos (sin los outliers detectados por el método del rango intercuartil) según este método.\n",
    "* Realizar el aprendizaje con los ejemplos estandarizados\n",
    "* Realizar la predicción de los ejemplos estandarizados\n",
    "* Calcular el error cuadrático medio y ponerlo en su escala original\n",
    "\n",
    "¿Es mayor o menor que el obtenido sin estandarizar los datos?"
   ]
  },
  {
   "cell_type": "code",
   "execution_count": 76,
   "metadata": {
    "deletable": false,
    "nbgrader": {
     "cell_type": "code",
     "checksum": "e1e80e2894dfcac98841da9b89cabfbb",
     "grade": false,
     "grade_id": "cell-1857fd053302bbc0",
     "locked": false,
     "schema_version": 3,
     "solution": true,
     "task": false
    }
   },
   "outputs": [],
   "source": [
    "# Llamada a la función de estandarización de datos y aprendizaje del modelo\n",
    "Xnorm,media,std = estandarizarMediaStd(X_sinOut_IQR)\n",
    "modeloReg =  modeloReg.fit(Xnorm,y_sinOut_IQR)\n",
    "predicciones = modeloReg.predict(Xnorm)\n",
    "error_norm_ms = mean_squared_error(y_sinOut_IQR,predicciones,squared=False)"
   ]
  },
  {
   "cell_type": "code",
   "execution_count": 77,
   "metadata": {
    "deletable": false,
    "editable": false,
    "nbgrader": {
     "cell_type": "code",
     "checksum": "6b2aa4e00eb5e49a58d59bdf682ebb2f",
     "grade": true,
     "grade_id": "cell-4b8f9d811b8e640d",
     "locked": true,
     "points": 2,
     "schema_version": 3,
     "solution": false,
     "task": false
    }
   },
   "outputs": [
    {
     "name": "stdout",
     "output_type": "stream",
     "text": [
      "1 test passed.\n"
     ]
    }
   ],
   "source": [
    "Test.assertEquals(round(error_norm_ms, 2), 60981.86, 'Error incorrecto')"
   ]
  },
  {
   "cell_type": "markdown",
   "metadata": {
    "deletable": false,
    "editable": false,
    "nbgrader": {
     "cell_type": "markdown",
     "checksum": "e91042f9c4cf32140d95c7b899a7711e",
     "grade": false,
     "grade_id": "cell-d52a41d00174d5fd",
     "locked": true,
     "schema_version": 3,
     "solution": false,
     "task": false
    }
   },
   "source": [
    "Realizar el mismo proceso que antes pero utilizando la estandarización por el máximo y el mínimo."
   ]
  },
  {
   "cell_type": "code",
   "execution_count": 84,
   "metadata": {
    "deletable": false,
    "nbgrader": {
     "cell_type": "code",
     "checksum": "d4f814bca36ad75f480e0e91e9c14d2f",
     "grade": false,
     "grade_id": "cell-77606ff637918a0c",
     "locked": false,
     "schema_version": 3,
     "solution": true,
     "task": false
    }
   },
   "outputs": [],
   "source": [
    "# Llamada a la función de estandarización de datos y aprendizaje del modelo\n",
    "Xnorm, minimo, maximo = estandarizarMaxMin(X_sinOut_IQR)  \n",
    "modeloReg =  modeloReg.fit(Xnorm,y_sinOut_IQR)\n",
    "predicciones = modeloReg.predict(Xnorm)\n",
    "error_norm_maxmin = mean_squared_error(y_sinOut_IQR,predicciones,squared=False)"
   ]
  },
  {
   "cell_type": "code",
   "execution_count": 85,
   "metadata": {
    "deletable": false,
    "editable": false,
    "nbgrader": {
     "cell_type": "code",
     "checksum": "b4bad819811b0d8506f91d195600d4df",
     "grade": true,
     "grade_id": "cell-7ee1ca7e8c47941a",
     "locked": true,
     "points": 2,
     "schema_version": 3,
     "solution": false,
     "task": false
    }
   },
   "outputs": [
    {
     "name": "stdout",
     "output_type": "stream",
     "text": [
      "1 test passed.\n"
     ]
    }
   ],
   "source": [
    "Test.assertEquals(round(error_norm_maxmin, 2), 60398.23, 'Error incorrecto')"
   ]
  },
  {
   "cell_type": "markdown",
   "metadata": {
    "deletable": false,
    "editable": false,
    "nbgrader": {
     "cell_type": "markdown",
     "checksum": "fc0b78e695c226c66ea03b5b90545db3",
     "grade": false,
     "grade_id": "cell-b4152b5423b26068",
     "locked": true,
     "schema_version": 3,
     "solution": false
    }
   },
   "source": [
    "### Problemas de clasificación con el algoritmo KNN"
   ]
  },
  {
   "cell_type": "markdown",
   "metadata": {
    "deletable": false,
    "editable": false,
    "nbgrader": {
     "cell_type": "markdown",
     "checksum": "86819adae493ec2f7ea4f8f92264478e",
     "grade": false,
     "grade_id": "cell-bb2c51280b9f9a7d",
     "locked": true,
     "schema_version": 3,
     "solution": false
    }
   },
   "source": [
    "En esta segunda parte de la práctica vamos a trabajar con un problema de clasificación. En concreto vamos a trabajar con el problema de la predicción de si un microchip pasa los tests de calidad o no en base a dos pruebas que se les han realizado.\n",
    "\n",
    "Leer los datos almacenados en el fichero datosClasificacion.txt mediante la función mediante la función *read_csv* de Pandas. Almacenar los datos en una variable llamada datosClasificacion y genera dos DataFrames para almacenar los datos de entrada (X) y de salida (y)."
   ]
  },
  {
   "cell_type": "code",
   "execution_count": 88,
   "metadata": {
    "deletable": false,
    "nbgrader": {
     "cell_type": "code",
     "checksum": "c0d08d663d68189a930e01459754b172",
     "grade": false,
     "grade_id": "cell-7a6481cc52363e25",
     "locked": false,
     "schema_version": 3,
     "solution": true
    }
   },
   "outputs": [],
   "source": [
    "# Creamos dos listas con los nombres de las variables de entrada y salida respecivamente\n",
    "variablesEntrada =  ['Prueba1','Prueba2']\n",
    "variableSalida =  ['Clase']\n",
    "# Lectura de datos, el delimitador de atributos es la coma ','\n",
    "datosClasificacion = pd.read_csv('datosClasificacion.txt')\n",
    "# Generamos dos DataFrames: uno para la información de entrada (X) y otro para la de salida (y)\n",
    "    # para acceder a los datos se debe usar el método loc \n",
    "    # para realizar una copia rompiendo la referencia a la variable original se debe usar el método copy\n",
    "X = datosClasificacion.loc[:,variablesEntrada]\n",
    "y = datosClasificacion.loc[:,variableSalida]"
   ]
  },
  {
   "cell_type": "markdown",
   "metadata": {
    "deletable": false,
    "editable": false,
    "nbgrader": {
     "cell_type": "markdown",
     "checksum": "0d273aad84a670049f5550918569a157",
     "grade": false,
     "grade_id": "cell-0bc03e30f8cb6e27",
     "locked": true,
     "schema_version": 3,
     "solution": false
    }
   },
   "source": [
    "Normalizar los datos de entrada con el método de la media y la desviación estándar ofrecito por la librería Scikit-Learn. Mostrar los valores de los 5 primeros ejemplos."
   ]
  },
  {
   "cell_type": "code",
   "execution_count": 89,
   "metadata": {
    "deletable": false,
    "nbgrader": {
     "cell_type": "code",
     "checksum": "d5b9f78f64ec894895ca896106cbb58a",
     "grade": false,
     "grade_id": "cell-13ae6ff3ed634f28",
     "locked": false,
     "schema_version": 3,
     "solution": true
    }
   },
   "outputs": [
    {
     "name": "stdout",
     "output_type": "stream",
     "text": [
      "[[-0.00710129  0.99791805]\n",
      " [-0.29829632  0.9696688 ]\n",
      " [-0.54290103  0.98379343]\n",
      " [-0.8690393   0.61655322]\n",
      " [-1.14858928  0.5459301 ]]\n"
     ]
    }
   ],
   "source": [
    "# Se crea el objeto para realizar la normalización por la media y la desviación\n",
    "myStandardScaler = preprocessing.StandardScaler()\n",
    "# Se entrena el objeto y se transofman los datos de entrada\n",
    "Xnorm = myStandardScaler.fit_transform(X)\n",
    "print(Xnorm[:5,:])"
   ]
  },
  {
   "cell_type": "markdown",
   "metadata": {
    "deletable": false,
    "editable": false,
    "nbgrader": {
     "cell_type": "markdown",
     "checksum": "d3ff6ab19deca967d526bde3e273b004",
     "grade": false,
     "grade_id": "cell-27f5c8c6ba1cce56",
     "locked": true,
     "schema_version": 3,
     "solution": false
    }
   },
   "source": [
    "En este caso, al ser un problema de clasificación, debemos aplicar el algoritmo KNN para problemas de clasificación. La librería Scikit-Learn nos ofrece una implementación de dicho método que está dentro del paquete neighbors y cuya clase específica es KNeighborsClassifier, cuya información se puede consultar en la siguiente URL: http://scikit-learn.org/stable/modules/generated/sklearn.neighbors.KNeighborsClassifier.html#sklearn.neighbors.KNeighborsClassifier\n",
    "\n",
    "Esta clase funciona exactamente igual que la que soluciona problemas de regresión.\n",
    "    \n",
    "Crear el modelo inicial con todos los valores por defecto. Almacenar el modelo en una variable."
   ]
  },
  {
   "cell_type": "code",
   "execution_count": 90,
   "metadata": {
    "deletable": false,
    "nbgrader": {
     "cell_type": "code",
     "checksum": "dac88483e53be7167cbdd0681cbcac29",
     "grade": false,
     "grade_id": "cell-8206f9c417e9346e",
     "locked": false,
     "schema_version": 3,
     "solution": true
    }
   },
   "outputs": [],
   "source": [
    "modeloClas = neighbors.KNeighborsClassifier()"
   ]
  },
  {
   "cell_type": "markdown",
   "metadata": {
    "deletable": false,
    "editable": false,
    "nbgrader": {
     "cell_type": "markdown",
     "checksum": "6ba0395eafa7aff063d45d9eaf77d624",
     "grade": false,
     "grade_id": "cell-9b459d97dbadc28a",
     "locked": true,
     "schema_version": 3,
     "solution": false
    }
   },
   "source": [
    "El entrenamiento (fit) y la predicción de nuevos ejemplos (predict) se realizan igual que antes.\n",
    "\n",
    "Sin embargo, para obtener el rendimiento del clasificador debemos aplicar otras funciones de la librería metrics. En concreto vamos a aplicar:\n",
    "* accuracy_score: los parámetros de entrada son las clases reales y las predicciones y devuelve el ratio de ejemplos correctamente clasificados.\n",
    "    * URL: http://scikit-learn.org/stable/modules/generated/sklearn.metrics.accuracy_score.html#sklearn.metrics.accuracy_score\n",
    "* confusion_matrix: los parámetros de entrada son las clases reales y las predicciones y devuelve la matriz de confusión.\n",
    "    * URL: http://scikit-learn.org/stable/modules/generated/sklearn.metrics.confusion_matrix.html#sklearn.metrics.confusion_matrix\n",
    "* classification_report: los parámetros de entrada son las clases reales y las predicciones y devuelve varias medidas de rendimiento como la precisión, el recall, la medida F1 y el soporte (número real de ejemplos de cada clase).\n",
    "    * URL: http://scikit-learn.org/stable/modules/generated/sklearn.metrics.classification_report.html#sklearn.metrics.classification_report\n",
    "\n",
    "Entrenar el clasificador con los datos normalizados, realizar sus predicciones y mostrar el resultado de las tres funciones de rendimiento anteriores.\n",
    "\n",
    "NOTA: como la variable con la información de salida (y) es un DataFrame, para acceder a su contenido tendréis que hacer y['nombreVariableSalida']."
   ]
  },
  {
   "cell_type": "code",
   "execution_count": 105,
   "metadata": {
    "deletable": false,
    "nbgrader": {
     "cell_type": "code",
     "checksum": "36a1fdee56e708c42705c52982502489",
     "grade": false,
     "grade_id": "cell-726d23b02050f1f2",
     "locked": false,
     "schema_version": 3,
     "solution": true
    }
   },
   "outputs": [
    {
     "name": "stdout",
     "output_type": "stream",
     "text": [
      "0.847457627118644\n",
      "0.847457627118644\n",
      "[[48 12]\n",
      " [ 6 52]]\n",
      "              precision    recall  f1-score   support\n",
      "\n",
      "           0       0.89      0.80      0.84        60\n",
      "           1       0.81      0.90      0.85        58\n",
      "\n",
      "    accuracy                           0.85       118\n",
      "   macro avg       0.85      0.85      0.85       118\n",
      "weighted avg       0.85      0.85      0.85       118\n",
      "\n"
     ]
    }
   ],
   "source": [
    "from sklearn import metrics\n",
    "\n",
    "# Entrenamineto del modelo\n",
    "modeloClas = modeloClas.fit(Xnorm,y['Clase'].ravel())\n",
    "# Predicciones de los datos\n",
    "predicciones = modeloClas.predict(Xnorm)\n",
    "# Cálculo del accuracy\n",
    "accuracy = metrics.accuracy_score(y,predicciones)\n",
    "# print accuracy\n",
    "print(accuracy)\n",
    "# Cálculo de la matriz de confusión\n",
    "matrizConfusion = metrics.confusion_matrix(y,predicciones)\n",
    "\n",
    "print(accuracy)\n",
    "print(matrizConfusion)\n",
    "print(metrics.classification_report(y['Clase'], predicciones))"
   ]
  },
  {
   "cell_type": "code",
   "execution_count": 106,
   "metadata": {
    "deletable": false,
    "editable": false,
    "nbgrader": {
     "cell_type": "code",
     "checksum": "e4a97309dc52bc94156973fc211354b3",
     "grade": true,
     "grade_id": "cell-a84291bc970881d2",
     "locked": true,
     "points": 4,
     "schema_version": 3,
     "solution": false
    }
   },
   "outputs": [
    {
     "name": "stdout",
     "output_type": "stream",
     "text": [
      "1 test passed.\n",
      "1 test passed.\n"
     ]
    }
   ],
   "source": [
    "Test.assertEquals(round(accuracy, 5), 0.84746, 'Accuracy incorrecto')\n",
    "Test.assertEquals(list(map(lambda ind: ind, list(matrizConfusion.ravel()))), [48, 12, 6, 52], 'Matriz de confusion incorrecta')"
   ]
  },
  {
   "cell_type": "markdown",
   "metadata": {
    "deletable": false,
    "editable": false,
    "nbgrader": {
     "cell_type": "markdown",
     "checksum": "d9c02b1f46bc88f03b902fd6f6884d2f",
     "grade": false,
     "grade_id": "cell-85b3c8954c1bcc0a",
     "locked": true,
     "schema_version": 3,
     "solution": false
    }
   },
   "source": [
    "Ahora, vamos analizar el efecto de los parámetros del algoritmo KNN en los resultados obtenidos (accuracy rate):\n",
    "* Número de vecinos (parámetro n_neighbors)\n",
    "    * Probar los resultados con 1, 3, 5 y 7 vecinos"
   ]
  },
  {
   "cell_type": "code",
   "execution_count": 109,
   "metadata": {
    "deletable": false,
    "nbgrader": {
     "cell_type": "code",
     "checksum": "fa2f67194420395d8bf5630a14f826c6",
     "grade": false,
     "grade_id": "cell-a3565537bb6f45a2",
     "locked": false,
     "schema_version": 3,
     "solution": true
    }
   },
   "outputs": [
    {
     "name": "stdout",
     "output_type": "stream",
     "text": [
      "1 1.0\n",
      "3 0.8559322033898306\n",
      "5 0.847457627118644\n",
      "7 0.8305084745762712\n"
     ]
    }
   ],
   "source": [
    "# Lista con los accuracies por cada valor k\n",
    "accScikit = []\n",
    "for k in [1,3,5,7]:\n",
    "#     # Creación del modelo\n",
    "    modeloClas = neighbors.KNeighborsClassifier(n_neighbors=k)\n",
    "#     # Entrenamiento del modelo\n",
    "    modeloClas = modeloClas.fit(Xnorm,y['Clase'].ravel())\n",
    "#     # Predicciones de los datos\n",
    "    predicciones = modeloClas.predict(Xnorm)\n",
    "#     # Cálculo del accuracy rate\n",
    "    accuracy = metrics.accuracy_score(y,predicciones)\n",
    "#     # Se añade el accuracy a la lista\n",
    "    accScikit.append(accuracy)\n",
    "#     # Se muestra el número de vecinos y el accuracy\n",
    "    print(k,accuracy)"
   ]
  },
  {
   "cell_type": "code",
   "execution_count": 110,
   "metadata": {
    "deletable": false,
    "editable": false,
    "nbgrader": {
     "cell_type": "code",
     "checksum": "04c1de8fc34a5a977e0bed8265105c3e",
     "grade": true,
     "grade_id": "cell-5aac97b247a05d59",
     "locked": true,
     "points": 2,
     "schema_version": 3,
     "solution": false
    }
   },
   "outputs": [
    {
     "name": "stdout",
     "output_type": "stream",
     "text": [
      "1 test passed.\n"
     ]
    }
   ],
   "source": [
    "Test.assertEquals(list(map(lambda ind: round(ind, 3), list(accScikit))), [1.0, 0.856, 0.847, 0.831], 'Accuracies incorrectos')"
   ]
  },
  {
   "cell_type": "markdown",
   "metadata": {
    "deletable": false,
    "editable": false,
    "nbgrader": {
     "cell_type": "markdown",
     "checksum": "bc7b1be438c07fa1331245ec149e2406",
     "grade": false,
     "grade_id": "cell-e7a3880969123f0c",
     "locked": true,
     "schema_version": 3,
     "solution": false
    }
   },
   "source": [
    "Utilizando un número de vecinos igual a 3, vamos a analizar el efecto de la forma de votación.\n",
    "* Tipo de voto (parámetro weights)\n",
    "    * Probar los valores 'uniform', 'distance'"
   ]
  },
  {
   "cell_type": "code",
   "execution_count": 112,
   "metadata": {
    "deletable": false,
    "nbgrader": {
     "cell_type": "code",
     "checksum": "74a58c9316da10534c07fea1da8facaa",
     "grade": false,
     "grade_id": "cell-a10fe0bf4d99f77e",
     "locked": false,
     "schema_version": 3,
     "solution": true
    }
   },
   "outputs": [
    {
     "name": "stdout",
     "output_type": "stream",
     "text": [
      "uniform 0.8559322033898306\n",
      "distance 1.0\n"
     ]
    }
   ],
   "source": [
    "# Lista con los accuracies por cada tipo de voto\n",
    "n_neighbors = 3\n",
    "accScikit = []\n",
    "for tipoVoto in ['uniform','distance']:\n",
    "#     # Creación del modelo\n",
    "    modeloClas = neighbors.KNeighborsClassifier(n_neighbors=n_neighbors,weights=tipoVoto)\n",
    "#     # Entrenamiento del modelo\n",
    "    modeloClas = modeloClas.fit(Xnorm,y['Clase'].ravel())\n",
    "#     # Predicciones de los datos\n",
    "    predicciones = modeloClas.predict(Xnorm)\n",
    "#     # Cálculo del accuracy rate\n",
    "    accuracy = metrics.accuracy_score(y,predicciones)\n",
    "#     # Se añade el accuracy a la lista\n",
    "    accScikit.append(accuracy)\n",
    "#     # Se muestra el tipo de voto y el accuracy\n",
    "#     print tipoVoto, accuracy\n",
    "    print (tipoVoto, accuracy)"
   ]
  },
  {
   "cell_type": "code",
   "execution_count": 113,
   "metadata": {
    "deletable": false,
    "editable": false,
    "nbgrader": {
     "cell_type": "code",
     "checksum": "e0f3877da15de19f7d48194d8bff220f",
     "grade": true,
     "grade_id": "cell-26c587b37134c939",
     "locked": true,
     "points": 2,
     "schema_version": 3,
     "solution": false
    }
   },
   "outputs": [
    {
     "name": "stdout",
     "output_type": "stream",
     "text": [
      "1 test passed.\n"
     ]
    }
   ],
   "source": [
    "Test.assertEquals(list(map(lambda ind: round(ind, 3), list(accScikit))), [0.856, 1.0], 'Accuracies incorrectos')"
   ]
  },
  {
   "cell_type": "markdown",
   "metadata": {
    "deletable": false,
    "editable": false,
    "nbgrader": {
     "cell_type": "markdown",
     "checksum": "daa27231af88e41590d417046f4bdd30",
     "grade": false,
     "grade_id": "cell-c5caff72f2a16583",
     "locked": true,
     "schema_version": 3,
     "solution": false
    }
   },
   "source": [
    "Utilizando un número de vecinos igual a 3, vamos a analizar el efecto de la forma de votación.\n",
    "* Tipo de distancia (parámetro metric)\n",
    "    * Probar los valores 'manhattan', 'euclidean'"
   ]
  },
  {
   "cell_type": "code",
   "execution_count": 115,
   "metadata": {
    "deletable": false,
    "nbgrader": {
     "cell_type": "code",
     "checksum": "d065f1c3a3826b82372dd815f9a1c756",
     "grade": false,
     "grade_id": "cell-0306011e4cadff42",
     "locked": false,
     "schema_version": 3,
     "solution": true
    }
   },
   "outputs": [
    {
     "name": "stdout",
     "output_type": "stream",
     "text": [
      "manhattan 0.8813559322033898\n",
      "euclidean 0.8559322033898306\n"
     ]
    }
   ],
   "source": [
    "# Lista con los accuracies por cada tipo de voto\n",
    "k = 3\n",
    "accScikit = []\n",
    "for tipoDistancia in ['manhattan','euclidean']:\n",
    "#     # Creación del modelo\n",
    "    modeloClas = neighbors.KNeighborsClassifier(n_neighbors=k,metric=tipoDistancia)\n",
    "#     # Entrenamiento del modelo\n",
    "    modeloClas = modeloClas.fit(Xnorm,y['Clase'].ravel())\n",
    "#     # Predicciones de los datos\n",
    "    predicciones = modeloClas.predict(Xnorm)\n",
    "#     # Cálculo del accuracy rate\n",
    "    accuracy = metrics.accuracy_score(y,predicciones)\n",
    "#     # Se añade el accuracy a la lista\n",
    "    accScikit.append(accuracy)\n",
    "#     # Se muestra el tipo de distancia y el accuracy\n",
    "#     print tipoDistancia, accuracy\n",
    "    print (tipoDistancia, accuracy)"
   ]
  },
  {
   "cell_type": "code",
   "execution_count": 116,
   "metadata": {
    "deletable": false,
    "editable": false,
    "nbgrader": {
     "cell_type": "code",
     "checksum": "bff659a636f1f63e7ec49af55d557c76",
     "grade": true,
     "grade_id": "cell-ccae8e7025438cee",
     "locked": true,
     "points": 2,
     "schema_version": 3,
     "solution": false
    }
   },
   "outputs": [
    {
     "name": "stdout",
     "output_type": "stream",
     "text": [
      "1 test passed.\n"
     ]
    }
   ],
   "source": [
    "Test.assertEquals(list(map(lambda ind: round(ind, 3), list(accScikit))), [0.881, 0.856], 'Accuracies incorrectos')"
   ]
  },
  {
   "cell_type": "markdown",
   "metadata": {
    "deletable": false,
    "editable": false,
    "nbgrader": {
     "cell_type": "markdown",
     "checksum": "5cdc75fc1d9f18a579534d73305c1e24",
     "grade": false,
     "grade_id": "cell-11e896bd562637c3",
     "locked": true,
     "schema_version": 3,
     "solution": false
    }
   },
   "source": [
    "Por último, vamos a visualizar la frontera de decisión que genera el clasificador KNN. Debéis hacer lo siguiente:\n",
    "* Aprender el clasificador con los datos normalizados utilizando 3 vecinos, y la distancia de Manhattan. (A realizar)\n",
    "* Se crea una nube de puntos con todas las combinaciones entre el mínimo (-0.1) y el máximo (+0.1) con incrementos de 0.02 de las dos variables.\n",
    "* Se realiza la predicción de todos los ejemplos generados.\n",
    "* Se crea la gráfica donde la predicción de cada clase sale en dieferentes colores (contour) y se muestran los ejemplos de entrenamiento (scatter)"
   ]
  },
  {
   "cell_type": "code",
   "execution_count": 120,
   "metadata": {
    "deletable": false,
    "nbgrader": {
     "cell_type": "code",
     "checksum": "17c34990378d4156e44d07ef0c2f252c",
     "grade": false,
     "grade_id": "cell-eb1168a8b0783f85",
     "locked": false,
     "schema_version": 3,
     "solution": true
    }
   },
   "outputs": [
    {
     "data": {
      "image/png": "[encoded data removed]",
      "text/plain": [
       "<Figure size 432x288 with 1 Axes>"
      ]
     },
     "metadata": {
      "needs_background": "light"
     },
     "output_type": "display_data"
    }
   ],
   "source": [
    "# Creación del modelo\n",
    "modeloClas = neighbors.KNeighborsClassifier(n_neighbors=3,metric='manhattan')\n",
    "# Entrenamiento del modelo\n",
    "modeloClas = modeloClas.fit(Xnorm,y['Clase'].ravel())\n",
    "\n",
    "#se crea una gráfica para mostrar la superficie de decisión del clasificador aprendido\n",
    "h = .02  # tamaño de avance en el mesh\n",
    "#TAREA: calcula el mínimo (menos 1) y el máximo (más 1) de las variables de entrada\n",
    "x0_min = Xnorm[:, 0].min() - 0.1\n",
    "x0_max = Xnorm[:, 0].max() + 0.1\n",
    "x1_min = Xnorm[:, 1].min() - 0.1\n",
    "x1_max = Xnorm[:, 1].max() + 0.1\n",
    "\n",
    "# Se crean todas las combinaciones de valores\n",
    "xx0, xx1 = np.meshgrid(np.arange(x0_min, x0_max, h), np.arange(x1_min, x1_max, h))\n",
    "# Se predicen todos los puntos de la superficio de la gráfica con el clasificador aprendido\n",
    "Z = modeloClas.predict(np.c_[xx0.ravel(), xx1.ravel()])\n",
    "\n",
    "#Se muestran los resultados en la gráfica: la función contourf colorea toda la superficie\n",
    "Z = Z.reshape(xx0.shape)\n",
    "plt.figure(1)\n",
    "plt.contourf(xx0, xx1, Z, cmap=plt.cm.Paired, alpha=0.5)\n",
    "\n",
    "#Se muestran los datos del problema: la funcion scatter muestra puntos aislados y los colorea en función de su valor\n",
    "plt.scatter(Xnorm[:, 0], Xnorm[:, 1], c=y['Clase'], cmap=plt.cm.Paired, edgecolors='k')\n",
    "#se muestra la figura\n",
    "plt.show()"
   ]
  }
 ],
 "metadata": {
  "kernelspec": {
   "display_name": "Python [conda env:py37machlearn] *",
   "language": "python",
   "name": "conda-env-py37machlearn-py"
  },
  "language_info": {
   "codemirror_mode": {
    "name": "ipython",
    "version": 3
   },
   "file_extension": ".py",
   "mimetype": "text/x-python",
   "name": "python",
   "nbconvert_exporter": "python",
   "pygments_lexer": "ipython3",
   "version": "3.7.4"
  }
 },
 "nbformat": 4,
 "nbformat_minor": 1
}
