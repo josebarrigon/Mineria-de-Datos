{
 "cells": [
  {
   "cell_type": "markdown",
   "metadata": {
    "deletable": false,
    "editable": false,
    "nbgrader": {
     "cell_type": "markdown",
     "checksum": "0f20d9d9a88a3654ea9b33e0fc926bb2",
     "grade": false,
     "grade_id": "cell-d9b9e0f9d65bd725",
     "locked": true,
     "schema_version": 3,
     "solution": false
    }
   },
   "source": [
    "# Minería de datos descriptiva: Titanic\n",
    "\n",
    "En esta primera práctica de Pandas vamos a implementar unos ejemplos de análisis de datos con un dataset muy sencillo (y muy típico para el aprendizaje) que contiene la información de los datos del Titanic.\n",
    "\n",
    "Una vez importado el módulo pandas, vamos a echar un vistazo al dataset titanic: cuántas filas tiene, cuántas columnas, qué indica cada columna, etc."
   ]
  },
  {
   "cell_type": "code",
   "execution_count": 1,
   "metadata": {
    "deletable": false,
    "editable": false,
    "nbgrader": {
     "cell_type": "code",
     "checksum": "588d0b9bd0c4158539648b7c28e1e6bd",
     "grade": false,
     "grade_id": "cell-2932e3ebb7404137",
     "locked": true,
     "schema_version": 3,
     "solution": false
    }
   },
   "outputs": [],
   "source": [
    "import pandas as pd"
   ]
  },
  {
   "cell_type": "markdown",
   "metadata": {
    "deletable": false,
    "editable": false,
    "nbgrader": {
     "cell_type": "markdown",
     "checksum": "77ab77185b108dd1bedf82c55d437268",
     "grade": false,
     "grade_id": "cell-65fe8bfe16e00799",
     "locked": true,
     "schema_version": 3,
     "solution": false
    }
   },
   "source": [
    "En primer lugar se importa una librería para realizar las comparaciones entre los resultados obtenidos y los que se deberían obtener a lo largo de la práctica. De este modo podéis saber en muchos apartados si el resultado es correcto."
   ]
  },
  {
   "cell_type": "code",
   "execution_count": 2,
   "metadata": {
    "deletable": false,
    "editable": false,
    "nbgrader": {
     "cell_type": "code",
     "checksum": "75a87b6cefdfe06a641b326c9c94353d",
     "grade": false,
     "grade_id": "cell-af082412fcb5e76b",
     "locked": true,
     "schema_version": 3,
     "solution": false
    }
   },
   "outputs": [],
   "source": [
    "from test_helper import Test"
   ]
  },
  {
   "cell_type": "markdown",
   "metadata": {
    "deletable": false,
    "editable": false,
    "nbgrader": {
     "cell_type": "markdown",
     "checksum": "8d7d7a6c472ff78cc531e0de77b18809",
     "grade": false,
     "grade_id": "cell-5aef4815ccb00ec3",
     "locked": true,
     "schema_version": 3,
     "solution": false
    }
   },
   "source": [
    "Lee los datos contenidos en el archivo titanic.csv. Para ello utiliza la función read_csv. Muestra el número de filas y columnas del dataset."
   ]
  },
  {
   "cell_type": "code",
   "execution_count": 3,
   "metadata": {
    "deletable": false,
    "nbgrader": {
     "cell_type": "code",
     "checksum": "7763459696c5c6ae075d3ec53aa6b899",
     "grade": false,
     "grade_id": "cell-bf7283f2e7c5315f",
     "locked": false,
     "schema_version": 3,
     "solution": true
    }
   },
   "outputs": [],
   "source": [
    "titanic = pd.read_csv('titanic.csv') "
   ]
  },
  {
   "cell_type": "code",
   "execution_count": 8,
   "metadata": {
    "deletable": false,
    "editable": false,
    "nbgrader": {
     "cell_type": "code",
     "checksum": "c39b4fd1242d71a627c4c696f29b7f3a",
     "grade": true,
     "grade_id": "cell-8fe8357348e05258",
     "locked": true,
     "points": 1,
     "schema_version": 3,
     "solution": false
    }
   },
   "outputs": [
    {
     "name": "stdout",
     "output_type": "stream",
     "text": [
      "1 test passed.\n"
     ]
    }
   ],
   "source": [
    "Test.assertEquals(titanic.shape, (891, 12), 'Dimensiones incorrectas')"
   ]
  },
  {
   "cell_type": "markdown",
   "metadata": {
    "deletable": false,
    "editable": false,
    "nbgrader": {
     "cell_type": "markdown",
     "checksum": "2d3a5385a9ea788f3557b07c299da4e7",
     "grade": false,
     "grade_id": "cell-9bfde55e992bc40e",
     "locked": true,
     "schema_version": 3,
     "solution": false
    }
   },
   "source": [
    "Muestra toda la información de los 5 primeros pasajeros."
   ]
  },
  {
   "cell_type": "code",
   "execution_count": 10,
   "metadata": {
    "deletable": false,
    "nbgrader": {
     "cell_type": "code",
     "checksum": "d37c2a1f2e6784cd848cb0eede278733",
     "grade": false,
     "grade_id": "cell-c71fda9af68da762",
     "locked": false,
     "schema_version": 3,
     "solution": true
    }
   },
   "outputs": [
    {
     "data": {
      "text/html": [
       "<div>\n",
       "<style scoped>\n",
       "    .dataframe tbody tr th:only-of-type {\n",
       "        vertical-align: middle;\n",
       "    }\n",
       "\n",
       "    .dataframe tbody tr th {\n",
       "        vertical-align: top;\n",
       "    }\n",
       "\n",
       "    .dataframe thead th {\n",
       "        text-align: right;\n",
       "    }\n",
       "</style>\n",
       "<table border=\"1\" class=\"dataframe\">\n",
       "  <thead>\n",
       "    <tr style=\"text-align: right;\">\n",
       "      <th></th>\n",
       "      <th>PassengerId</th>\n",
       "      <th>Survived</th>\n",
       "      <th>Pclass</th>\n",
       "      <th>Name</th>\n",
       "      <th>Sex</th>\n",
       "      <th>Age</th>\n",
       "      <th>SibSp</th>\n",
       "      <th>Parch</th>\n",
       "      <th>Ticket</th>\n",
       "      <th>Fare</th>\n",
       "      <th>Cabin</th>\n",
       "      <th>Embarked</th>\n",
       "    </tr>\n",
       "  </thead>\n",
       "  <tbody>\n",
       "    <tr>\n",
       "      <td>0</td>\n",
       "      <td>1</td>\n",
       "      <td>0</td>\n",
       "      <td>3</td>\n",
       "      <td>Braund, Mr. Owen Harris</td>\n",
       "      <td>male</td>\n",
       "      <td>22.0</td>\n",
       "      <td>1</td>\n",
       "      <td>0</td>\n",
       "      <td>A/5 21171</td>\n",
       "      <td>7.2500</td>\n",
       "      <td>NaN</td>\n",
       "      <td>S</td>\n",
       "    </tr>\n",
       "    <tr>\n",
       "      <td>1</td>\n",
       "      <td>2</td>\n",
       "      <td>1</td>\n",
       "      <td>1</td>\n",
       "      <td>Cumings, Mrs. John Bradley (Florence Briggs Th...</td>\n",
       "      <td>female</td>\n",
       "      <td>38.0</td>\n",
       "      <td>1</td>\n",
       "      <td>0</td>\n",
       "      <td>PC 17599</td>\n",
       "      <td>71.2833</td>\n",
       "      <td>C85</td>\n",
       "      <td>C</td>\n",
       "    </tr>\n",
       "    <tr>\n",
       "      <td>2</td>\n",
       "      <td>3</td>\n",
       "      <td>1</td>\n",
       "      <td>3</td>\n",
       "      <td>Heikkinen, Miss. Laina</td>\n",
       "      <td>female</td>\n",
       "      <td>26.0</td>\n",
       "      <td>0</td>\n",
       "      <td>0</td>\n",
       "      <td>STON/O2. 3101282</td>\n",
       "      <td>7.9250</td>\n",
       "      <td>NaN</td>\n",
       "      <td>S</td>\n",
       "    </tr>\n",
       "    <tr>\n",
       "      <td>3</td>\n",
       "      <td>4</td>\n",
       "      <td>1</td>\n",
       "      <td>1</td>\n",
       "      <td>Futrelle, Mrs. Jacques Heath (Lily May Peel)</td>\n",
       "      <td>female</td>\n",
       "      <td>35.0</td>\n",
       "      <td>1</td>\n",
       "      <td>0</td>\n",
       "      <td>113803</td>\n",
       "      <td>53.1000</td>\n",
       "      <td>C123</td>\n",
       "      <td>S</td>\n",
       "    </tr>\n",
       "    <tr>\n",
       "      <td>4</td>\n",
       "      <td>5</td>\n",
       "      <td>0</td>\n",
       "      <td>3</td>\n",
       "      <td>Allen, Mr. William Henry</td>\n",
       "      <td>male</td>\n",
       "      <td>35.0</td>\n",
       "      <td>0</td>\n",
       "      <td>0</td>\n",
       "      <td>373450</td>\n",
       "      <td>8.0500</td>\n",
       "      <td>NaN</td>\n",
       "      <td>S</td>\n",
       "    </tr>\n",
       "  </tbody>\n",
       "</table>\n",
       "</div>"
      ],
      "text/plain": [
       "   PassengerId  Survived  Pclass  \\\n",
       "0            1         0       3   \n",
       "1            2         1       1   \n",
       "2            3         1       3   \n",
       "3            4         1       1   \n",
       "4            5         0       3   \n",
       "\n",
       "                                                Name     Sex   Age  SibSp  \\\n",
       "0                            Braund, Mr. Owen Harris    male  22.0      1   \n",
       "1  Cumings, Mrs. John Bradley (Florence Briggs Th...  female  38.0      1   \n",
       "2                             Heikkinen, Miss. Laina  female  26.0      0   \n",
       "3       Futrelle, Mrs. Jacques Heath (Lily May Peel)  female  35.0      1   \n",
       "4                           Allen, Mr. William Henry    male  35.0      0   \n",
       "\n",
       "   Parch            Ticket     Fare Cabin Embarked  \n",
       "0      0         A/5 21171   7.2500   NaN        S  \n",
       "1      0          PC 17599  71.2833   C85        C  \n",
       "2      0  STON/O2. 3101282   7.9250   NaN        S  \n",
       "3      0            113803  53.1000  C123        S  \n",
       "4      0            373450   8.0500   NaN        S  "
      ]
     },
     "execution_count": 10,
     "metadata": {},
     "output_type": "execute_result"
    }
   ],
   "source": [
    "titanic.head()"
   ]
  },
  {
   "cell_type": "markdown",
   "metadata": {
    "deletable": false,
    "editable": false,
    "nbgrader": {
     "cell_type": "markdown",
     "checksum": "0a0a3f45dfe757cb327ddc4c5f514f26",
     "grade": false,
     "grade_id": "cell-7a5a55784e08c04e",
     "locked": true,
     "schema_version": 3,
     "solution": false
    }
   },
   "source": [
    "Muestra los nombres de las columnas (es el índice de las mismas)"
   ]
  },
  {
   "cell_type": "code",
   "execution_count": 16,
   "metadata": {
    "deletable": false,
    "nbgrader": {
     "cell_type": "code",
     "checksum": "4649f0fda64f3f8eba2f0cd26ef7ca2b",
     "grade": false,
     "grade_id": "cell-72ad7cb77f727da5",
     "locked": false,
     "schema_version": 3,
     "solution": true
    }
   },
   "outputs": [
    {
     "data": {
      "text/plain": [
       "['PassengerId',\n",
       " 'Survived',\n",
       " 'Pclass',\n",
       " 'Name',\n",
       " 'Sex',\n",
       " 'Age',\n",
       " 'SibSp',\n",
       " 'Parch',\n",
       " 'Ticket',\n",
       " 'Fare',\n",
       " 'Cabin',\n",
       " 'Embarked']"
      ]
     },
     "execution_count": 16,
     "metadata": {},
     "output_type": "execute_result"
    }
   ],
   "source": [
    "list(titanic.columns) "
   ]
  },
  {
   "cell_type": "markdown",
   "metadata": {
    "deletable": false,
    "editable": false,
    "nbgrader": {
     "cell_type": "markdown",
     "checksum": "d36d6c7df060f31f976ea3c08e6f5cc8",
     "grade": false,
     "grade_id": "cell-2a41bcaac6d20b91",
     "locked": true,
     "schema_version": 3,
     "solution": false
    }
   },
   "source": [
    "A continuación puedes leer una descripción de cada una de las columnas que forman parte del dataset\n",
    "\n",
    "-\tPassengerId: identificador del pasajero\n",
    "-\tSurvided: superviviente. 0 (no superviviente); 1 (superviviente)\n",
    "-\tPclass: clase del pasajero. 1 (primera clase); 2 (segunda clase); 3 (tercera clase)\n",
    "-\tName: Nombre del pasajero\n",
    "-\tSex: Sexo del pasajero\n",
    "-\tAge: Edad del pasajero\n",
    "-\tSibSp: Número de hermanos / cónyuge embarcados\n",
    "-\tParch: Número de padres / hijos embarcados\n",
    "-\tTicket: Número de ticket del pasajero\n",
    "-\tCabin: Cabina del pasajero\n",
    "-\tEmbarked: Puerto de embarque. C (Cherbourg); Q (Queenstown); S (Southhampton)\n",
    "-   Fare: precio del billete del pasajero"
   ]
  },
  {
   "cell_type": "markdown",
   "metadata": {
    "deletable": false,
    "editable": false,
    "nbgrader": {
     "cell_type": "markdown",
     "checksum": "566a6c900703d0de4c2bf21d4d2dff6f",
     "grade": false,
     "grade_id": "cell-aacd707cbf5080fc",
     "locked": true,
     "schema_version": 3,
     "solution": false
    }
   },
   "source": [
    "Vamos a comenzar con al primera exploración de los datos"
   ]
  },
  {
   "cell_type": "markdown",
   "metadata": {
    "deletable": false,
    "editable": false,
    "nbgrader": {
     "cell_type": "markdown",
     "checksum": "b753b40c6665a83a7fec04a52d425a33",
     "grade": false,
     "grade_id": "cell-3a76100cf26ea626",
     "locked": true,
     "schema_version": 3,
     "solution": false
    }
   },
   "source": [
    "Muestra el nombre de los 10 primeros pasajeros que aparezcan en el dataset."
   ]
  },
  {
   "cell_type": "code",
   "execution_count": 63,
   "metadata": {
    "deletable": false,
    "nbgrader": {
     "cell_type": "code",
     "checksum": "56202cfcc9a44f0da48f252e0a701282",
     "grade": false,
     "grade_id": "cell-38455e868d8d3dfb",
     "locked": false,
     "schema_version": 3,
     "solution": true
    }
   },
   "outputs": [],
   "source": [
    "nombres = titanic.head(10).Name"
   ]
  },
  {
   "cell_type": "code",
   "execution_count": 64,
   "metadata": {
    "deletable": false,
    "editable": false,
    "nbgrader": {
     "cell_type": "code",
     "checksum": "7e5c314d2316a8433073754104b96721",
     "grade": true,
     "grade_id": "cell-33a18eead7462b29",
     "locked": true,
     "points": 1,
     "schema_version": 3,
     "solution": false
    }
   },
   "outputs": [
    {
     "name": "stdout",
     "output_type": "stream",
     "text": [
      "1 test passed.\n"
     ]
    }
   ],
   "source": [
    "Test.assertEquals(list(nombres.values[0:3]), ['Braund, Mr. Owen Harris', 'Cumings, Mrs. John Bradley (Florence Briggs Thayer)', 'Heikkinen, Miss. Laina'], 'Nombres incorrectos')"
   ]
  },
  {
   "cell_type": "markdown",
   "metadata": {
    "deletable": false,
    "editable": false,
    "nbgrader": {
     "cell_type": "markdown",
     "checksum": "ca2a439a0edce90394734b5d8a2d92f2",
     "grade": false,
     "grade_id": "cell-173ab221fafeed8b",
     "locked": true,
     "schema_version": 3,
     "solution": false
    }
   },
   "source": [
    "Muestra el nombre, el sexo y la edad de los 10 primeros pasajeros que aparezcan en el dataset."
   ]
  },
  {
   "cell_type": "code",
   "execution_count": 65,
   "metadata": {
    "deletable": false,
    "nbgrader": {
     "cell_type": "code",
     "checksum": "8a4d3e22e85a4b8b51748e80adaa0cfd",
     "grade": false,
     "grade_id": "cell-7ad2da8838a97a92",
     "locked": false,
     "schema_version": 3,
     "solution": true
    }
   },
   "outputs": [],
   "source": [
    "info= titanic.head(10)[['Name','Sex', 'Age']]"
   ]
  },
  {
   "cell_type": "code",
   "execution_count": 66,
   "metadata": {
    "deletable": false,
    "editable": false,
    "nbgrader": {
     "cell_type": "code",
     "checksum": "d85cb924acff16c9e4d6f17d7a947e79",
     "grade": true,
     "grade_id": "cell-6f42f77420b249c1",
     "locked": true,
     "points": 1,
     "schema_version": 3,
     "solution": false
    }
   },
   "outputs": [
    {
     "name": "stdout",
     "output_type": "stream",
     "text": [
      "1 test passed.\n"
     ]
    }
   ],
   "source": [
    "Test.assertEquals(list(info.loc[0]),['Braund, Mr. Owen Harris', 'male', 22.0], 'Datos incorrectos')"
   ]
  },
  {
   "cell_type": "markdown",
   "metadata": {
    "deletable": false,
    "editable": false,
    "nbgrader": {
     "cell_type": "markdown",
     "checksum": "44e47c490d55adb584cd6ac91228efbc",
     "grade": false,
     "grade_id": "cell-9c3c6cbdb664c62c",
     "locked": true,
     "schema_version": 3,
     "solution": false
    }
   },
   "source": [
    "Por último, realiza las mismas operaciones pero con los 10 últimos pasajeros"
   ]
  },
  {
   "cell_type": "code",
   "execution_count": 67,
   "metadata": {
    "deletable": false,
    "nbgrader": {
     "cell_type": "code",
     "checksum": "aa9744e1383c0937faf67921200e5be4",
     "grade": false,
     "grade_id": "cell-7d6040e6fac5cf27",
     "locked": false,
     "schema_version": 3,
     "solution": true
    }
   },
   "outputs": [],
   "source": [
    "nombres = titanic.tail(10).Name"
   ]
  },
  {
   "cell_type": "code",
   "execution_count": 68,
   "metadata": {
    "deletable": false,
    "editable": false,
    "nbgrader": {
     "cell_type": "code",
     "checksum": "c93bab6b0be875a27c20946ec65b18ab",
     "grade": true,
     "grade_id": "cell-2f064f2db6150e00",
     "locked": true,
     "points": 1,
     "schema_version": 3,
     "solution": false
    }
   },
   "outputs": [
    {
     "name": "stdout",
     "output_type": "stream",
     "text": [
      "1 test passed.\n"
     ]
    }
   ],
   "source": [
    "Test.assertEquals(list(nombres.values[0:3]), ['Markun, Mr. Johann', 'Dahlberg, Miss. Gerda Ulrika', 'Banfield, Mr. Frederick James'], 'Nombres incorrectos')"
   ]
  },
  {
   "cell_type": "code",
   "execution_count": 69,
   "metadata": {
    "deletable": false,
    "nbgrader": {
     "cell_type": "code",
     "checksum": "e646390639a22f60073ea3021393ebbc",
     "grade": false,
     "grade_id": "cell-a5c4932a8b6f2e47",
     "locked": false,
     "schema_version": 3,
     "solution": true
    }
   },
   "outputs": [],
   "source": [
    "info= titanic.tail(10)[['Name','Sex', 'Age']]"
   ]
  },
  {
   "cell_type": "code",
   "execution_count": 70,
   "metadata": {
    "deletable": false,
    "editable": false,
    "nbgrader": {
     "cell_type": "code",
     "checksum": "bdf4eb25cdcc9ecee887861bb61fb5b4",
     "grade": true,
     "grade_id": "cell-e3f32c66116f5574",
     "locked": true,
     "points": 1,
     "schema_version": 3,
     "solution": false
    }
   },
   "outputs": [
    {
     "name": "stdout",
     "output_type": "stream",
     "text": [
      "1 test passed.\n"
     ]
    }
   ],
   "source": [
    "Test.assertEquals(list(info.iloc[-1]),['Dooley, Mr. Patrick', 'male', 32.0], 'Datos incorrectos')"
   ]
  },
  {
   "cell_type": "markdown",
   "metadata": {
    "deletable": false,
    "editable": false,
    "nbgrader": {
     "cell_type": "markdown",
     "checksum": "4f3107bc5ecfa953379b9497d1a50c4f",
     "grade": false,
     "grade_id": "cell-1c0dcd909af8b8f6",
     "locked": true,
     "schema_version": 3,
     "solution": false
    }
   },
   "source": [
    "Mostrar el nombre, sexo y edad de los pasajeros mayores de 60 años (22 en total)."
   ]
  },
  {
   "cell_type": "code",
   "execution_count": 77,
   "metadata": {
    "deletable": false,
    "nbgrader": {
     "cell_type": "code",
     "checksum": "e6e4b8bd68792bcfd09e952a7e6c03a5",
     "grade": false,
     "grade_id": "cell-e4a1f9f3659109e9",
     "locked": false,
     "schema_version": 3,
     "solution": true
    }
   },
   "outputs": [],
   "source": [
    "mayores60 = titanic[['Name','Sex', 'Age']][titanic.Age>60]"
   ]
  },
  {
   "cell_type": "code",
   "execution_count": 78,
   "metadata": {
    "deletable": false,
    "editable": false,
    "nbgrader": {
     "cell_type": "code",
     "checksum": "cd6f680ed302b345df6201b4bd2a88db",
     "grade": true,
     "grade_id": "cell-0df09ca9d4c04119",
     "locked": true,
     "points": 2,
     "schema_version": 3,
     "solution": false
    }
   },
   "outputs": [
    {
     "name": "stdout",
     "output_type": "stream",
     "text": [
      "1 test passed.\n",
      "1 test passed.\n"
     ]
    }
   ],
   "source": [
    "Test.assertEquals(mayores60.shape,(22, 3), 'Dimensiones incorrectas')\n",
    "Test.assertEquals(list(mayores60.iloc[0]),['Wheadon, Mr. Edward H', 'male', 66.0], 'Datos incorrectos')"
   ]
  },
  {
   "cell_type": "markdown",
   "metadata": {
    "deletable": false,
    "editable": false,
    "nbgrader": {
     "cell_type": "markdown",
     "checksum": "21f97ba2f53c4f2e51d6728d4cb0aee4",
     "grade": false,
     "grade_id": "cell-cdd117c6f6873a0e",
     "locked": true,
     "schema_version": 3,
     "solution": false
    }
   },
   "source": [
    "Obtener un listado de los nombres de las mujeres que viajaron en primera clase (94 en total)."
   ]
  },
  {
   "cell_type": "code",
   "execution_count": 88,
   "metadata": {
    "deletable": false,
    "nbgrader": {
     "cell_type": "code",
     "checksum": "3e2d7e4a61dd6b08f0d654581051f817",
     "grade": false,
     "grade_id": "cell-8238307aeea35acc",
     "locked": false,
     "schema_version": 3,
     "solution": true
    }
   },
   "outputs": [],
   "source": [
    "mujeresPrimera = titanic[['Name']][(titanic.Pclass) == 1 & (titanic.Sex == 'female')]"
   ]
  },
  {
   "cell_type": "code",
   "execution_count": 89,
   "metadata": {
    "deletable": false,
    "editable": false,
    "nbgrader": {
     "cell_type": "code",
     "checksum": "06259763db0ced0812feee94bf001317",
     "grade": true,
     "grade_id": "cell-e20c2e5682db360f",
     "locked": true,
     "points": 2,
     "schema_version": 3,
     "solution": false
    }
   },
   "outputs": [
    {
     "name": "stdout",
     "output_type": "stream",
     "text": [
      "1 test passed.\n"
     ]
    }
   ],
   "source": [
    "Test.assertEquals(list(mujeresPrimera.values[:5]),['Cumings, Mrs. John Bradley (Florence Briggs Thayer)', 'Futrelle, Mrs. Jacques Heath (Lily May Peel)', 'Bonnell, Miss. Elizabeth', 'Spencer, Mrs. William Augustus (Marie Eugenie)', 'Harper, Mrs. Henry Sleeper (Myna Haxtun)'], 'Nombres incorrectos')"
   ]
  },
  {
   "cell_type": "markdown",
   "metadata": {
    "deletable": false,
    "editable": false,
    "nbgrader": {
     "cell_type": "markdown",
     "checksum": "f28fdfa3355f9a4b25a4a85748186db9",
     "grade": false,
     "grade_id": "cell-ce10b29e68b8d21e",
     "locked": true,
     "schema_version": 3,
     "solution": false
    }
   },
   "source": [
    "Para facilitar el procesado, vamos a cambiar el contenido de la columna Sex: los ‘male’ van a pasar a ser ‘M’ y los female van a pasar a ser ‘F’. Para ello, primero debéis crear una función que reciba un parámetro de entrada y devuelva el carácter ‘M’ si la entrada es ‘male’ o ‘F’ si la entrada es ‘female’. Después, debéis utilizar la función apply para cambiar el dataset."
   ]
  },
  {
   "cell_type": "code",
   "execution_count": 80,
   "metadata": {},
   "outputs": [],
   "source": [
    "def cambioNombre(nombre):\n",
    "    if nombre == 'female':\n",
    "        return 'F'\n",
    "    else:\n",
    "        return 'M'"
   ]
  },
  {
   "cell_type": "code",
   "execution_count": 81,
   "metadata": {
    "deletable": false,
    "nbgrader": {
     "cell_type": "code",
     "checksum": "63807edcb95c8a74dd841d8135b04daf",
     "grade": false,
     "grade_id": "cell-57cb285786f30182",
     "locked": false,
     "schema_version": 3,
     "solution": true
    }
   },
   "outputs": [],
   "source": [
    "titanic.Sex = titanic.Sex.apply(cambioNombre)"
   ]
  },
  {
   "cell_type": "code",
   "execution_count": 82,
   "metadata": {
    "deletable": false,
    "editable": false,
    "nbgrader": {
     "cell_type": "code",
     "checksum": "1a791b0a6603118096d03de0f91c262a",
     "grade": true,
     "grade_id": "cell-5cdb9fb23354e275",
     "locked": true,
     "points": 3,
     "schema_version": 3,
     "solution": false
    }
   },
   "outputs": [
    {
     "name": "stdout",
     "output_type": "stream",
     "text": [
      "1 test passed.\n"
     ]
    }
   ],
   "source": [
    "Test.assertEquals(list(titanic.Sex[:10]),['M', 'F', 'F', 'F', 'M', 'M', 'M', 'M', 'F', 'F'], 'Sexo cambiado incorrectamente')"
   ]
  },
  {
   "cell_type": "markdown",
   "metadata": {
    "collapsed": true,
    "deletable": false,
    "editable": false,
    "nbgrader": {
     "cell_type": "markdown",
     "checksum": "1c67667cd23928215ccec2fc28d29960",
     "grade": false,
     "grade_id": "cell-413519a61d42c5c7",
     "locked": true,
     "schema_version": 3,
     "solution": false
    }
   },
   "source": [
    "Calcular la edad media de los hombre y de las mujeres. Utilizar la función groupby."
   ]
  },
  {
   "cell_type": "code",
   "execution_count": 85,
   "metadata": {
    "deletable": false,
    "nbgrader": {
     "cell_type": "code",
     "checksum": "c4f9f01ee3eab11d2dc6ae1471b0e4ae",
     "grade": false,
     "grade_id": "cell-cd7ac39f0a3e36b7",
     "locked": false,
     "schema_version": 3,
     "solution": true
    }
   },
   "outputs": [],
   "source": [
    "mediasFM = titanic.groupby(['Sex']).mean().Age"
   ]
  },
  {
   "cell_type": "code",
   "execution_count": 86,
   "metadata": {
    "deletable": false,
    "editable": false,
    "nbgrader": {
     "cell_type": "code",
     "checksum": "b3b8c0116075618d3d90e9b9e8e827b2",
     "grade": true,
     "grade_id": "cell-9d92c0ea44cba3ea",
     "locked": true,
     "points": 2,
     "schema_version": 3,
     "solution": false
    }
   },
   "outputs": [
    {
     "name": "stdout",
     "output_type": "stream",
     "text": [
      "1 test passed.\n",
      "1 test passed.\n"
     ]
    }
   ],
   "source": [
    "Test.assertEquals(list(mediasFM.index),['F', 'M'], 'Valores de sexo incorectos')\n",
    "Test.assertEquals(list(map(lambda x: round(x,3), mediasFM.values)),[27.916, 30.727], 'Medias por sexo incorectas')"
   ]
  },
  {
   "cell_type": "markdown",
   "metadata": {
    "deletable": false,
    "editable": false,
    "nbgrader": {
     "cell_type": "markdown",
     "checksum": "ea16aa23fee91054068e69335502b926",
     "grade": false,
     "grade_id": "cell-059206508e6ec77f",
     "locked": true,
     "schema_version": 3,
     "solution": false
    }
   },
   "source": [
    "Calcular la edad máxima y mínima de los hombre y de las mujeres. Utilizar la función groupby."
   ]
  },
  {
   "cell_type": "code",
   "execution_count": 69,
   "metadata": {
    "deletable": false,
    "nbgrader": {
     "cell_type": "code",
     "checksum": "df3e3bcb768e212c06ae936eb7c6e485",
     "grade": false,
     "grade_id": "cell-f342823a837a21e3",
     "locked": false,
     "schema_version": 3,
     "solution": true
    }
   },
   "outputs": [],
   "source": [
    "edadMaxFM = titanic.groupby(['Sex']).max().Age"
   ]
  },
  {
   "cell_type": "code",
   "execution_count": 72,
   "metadata": {
    "deletable": false,
    "editable": false,
    "nbgrader": {
     "cell_type": "code",
     "checksum": "a5c775d32111bea9a5353c42a33cd5e5",
     "grade": true,
     "grade_id": "cell-05dbdcf03cb013a6",
     "locked": true,
     "points": 1,
     "schema_version": 3,
     "solution": false
    }
   },
   "outputs": [
    {
     "name": "stdout",
     "output_type": "stream",
     "text": [
      "1 test passed.\n"
     ]
    }
   ],
   "source": [
    "Test.assertEquals(list(map(lambda x: round(x,3), edadMaxFM.values)),[63.0, 80.0], 'Máximos por sexo incorrectos')"
   ]
  },
  {
   "cell_type": "code",
   "execution_count": 73,
   "metadata": {
    "deletable": false,
    "nbgrader": {
     "cell_type": "code",
     "checksum": "4c41ba19039b1ee99b323c62fa1741f5",
     "grade": false,
     "grade_id": "cell-1cd94fa28f71b8ab",
     "locked": false,
     "schema_version": 3,
     "solution": true
    }
   },
   "outputs": [],
   "source": [
    "edadMinFM = titanic.groupby(['Sex']).min().Age"
   ]
  },
  {
   "cell_type": "code",
   "execution_count": 74,
   "metadata": {
    "deletable": false,
    "editable": false,
    "nbgrader": {
     "cell_type": "code",
     "checksum": "c1e53f95a8d7c3947bc1aec1f97aefe0",
     "grade": true,
     "grade_id": "cell-ae9d6a2a5a9d167f",
     "locked": true,
     "points": 1,
     "schema_version": 3,
     "solution": false
    }
   },
   "outputs": [
    {
     "name": "stdout",
     "output_type": "stream",
     "text": [
      "1 test passed.\n"
     ]
    }
   ],
   "source": [
    "Test.assertEquals(list(map(lambda x: round(x,3), edadMinFM.values)),[0.75, 0.42], 'Mínimos por sexo incorrectos')"
   ]
  },
  {
   "cell_type": "markdown",
   "metadata": {
    "deletable": false,
    "editable": false,
    "nbgrader": {
     "cell_type": "markdown",
     "checksum": "a48f6f4db7fa7c473216bcd064961ffd",
     "grade": false,
     "grade_id": "cell-04b5719e4c29a69c",
     "locked": true,
     "schema_version": 3,
     "solution": false
    }
   },
   "source": [
    "Queremos saber desde qué puerto era desde el que se montaba un mayor número de pasajeros. "
   ]
  },
  {
   "cell_type": "code",
   "execution_count": 65,
   "metadata": {
    "deletable": false,
    "nbgrader": {
     "cell_type": "code",
     "checksum": "6de1d7d7a1e4d39566a2af70ded476ad",
     "grade": false,
     "grade_id": "cell-a32a82fe6b784213",
     "locked": false,
     "schema_version": 3,
     "solution": true
    }
   },
   "outputs": [],
   "source": [
    "conteoPuertos = titanic.groupby(['Embarked']).count().PassengerId"
   ]
  },
  {
   "cell_type": "code",
   "execution_count": 66,
   "metadata": {
    "deletable": false,
    "editable": false,
    "nbgrader": {
     "cell_type": "code",
     "checksum": "9d360a18880b281c2ec7af75a78978a7",
     "grade": true,
     "grade_id": "cell-cbb8d6b0f1057f1f",
     "locked": true,
     "points": 2,
     "schema_version": 3,
     "solution": false
    }
   },
   "outputs": [
    {
     "name": "stdout",
     "output_type": "stream",
     "text": [
      "1 test passed.\n",
      "1 test passed.\n"
     ]
    }
   ],
   "source": [
    "Test.assertEquals(list(conteoPuertos.index),['C', 'Q', 'S'], 'Puertos incorectos')\n",
    "Test.assertEquals(list(conteoPuertos.values),[168, 77, 644], 'Conteos por puerto incorrectos')"
   ]
  },
  {
   "cell_type": "markdown",
   "metadata": {
    "deletable": false,
    "editable": false,
    "nbgrader": {
     "cell_type": "markdown",
     "checksum": "c6c5b1421cf667dd252185cc2567208f",
     "grade": false,
     "grade_id": "cell-f03050fe337e0fba",
     "locked": true,
     "schema_version": 3,
     "solution": false
    }
   },
   "source": [
    "Mostrar, además el número de embarques de cada clase en cada puerto. "
   ]
  },
  {
   "cell_type": "code",
   "execution_count": 153,
   "metadata": {
    "deletable": false,
    "nbgrader": {
     "cell_type": "code",
     "checksum": "2996345e9c1bdfaf3c03701369fca29d",
     "grade": false,
     "grade_id": "cell-a543b94435e075ca",
     "locked": false,
     "schema_version": 3,
     "solution": true
    }
   },
   "outputs": [],
   "source": [
    "conteoPuertosClase = titanic.groupby(['Embarked','Pclass']).count()\n",
    "conteoPuertosClase = conteoPuertosClase.PassengerId"
   ]
  },
  {
   "cell_type": "code",
   "execution_count": 151,
   "metadata": {
    "deletable": false,
    "editable": false,
    "nbgrader": {
     "cell_type": "code",
     "checksum": "43983a55690fc66a5fa91d7fc5456466",
     "grade": true,
     "grade_id": "cell-a1a69b95b635f5e0",
     "locked": true,
     "points": 2,
     "schema_version": 3,
     "solution": false
    }
   },
   "outputs": [
    {
     "name": "stdout",
     "output_type": "stream",
     "text": [
      "1 test passed.\n"
     ]
    }
   ],
   "source": [
    "Test.assertEquals(list(conteoPuertosClase.values),[85, 17, 66, 2, 3, 72, 127, 164, 353], 'Conteos por puerto y clase incorrectos')"
   ]
  },
  {
   "cell_type": "markdown",
   "metadata": {
    "deletable": false,
    "editable": false,
    "nbgrader": {
     "cell_type": "markdown",
     "checksum": "1ba04f42a2e1ccb1a78e0a72e7eb8747",
     "grade": false,
     "grade_id": "cell-954839265830dff1",
     "locked": true,
     "schema_version": 3,
     "solution": false
    }
   },
   "source": [
    "Realiza el ejercicio anterior pero utilizando una pivot table."
   ]
  },
  {
   "cell_type": "code",
   "execution_count": 132,
   "metadata": {
    "deletable": false,
    "nbgrader": {
     "cell_type": "code",
     "checksum": "53c41221bdc1aeaa093f70ab907fc86b",
     "grade": false,
     "grade_id": "cell-a0ea25ec7d92e288",
     "locked": false,
     "schema_version": 3,
     "solution": true
    }
   },
   "outputs": [],
   "source": [
    "conteoPuertosClasePT = pd.pivot_table(titanic, values='PassengerId', index=['Pclass'], columns=['Embarked'], aggfunc='count')"
   ]
  },
  {
   "cell_type": "code",
   "execution_count": 133,
   "metadata": {
    "deletable": false,
    "editable": false,
    "nbgrader": {
     "cell_type": "code",
     "checksum": "96d971d964f31c8bbbcac747bc8e028e",
     "grade": true,
     "grade_id": "cell-1317ec6fe9d56743",
     "locked": true,
     "points": 3,
     "schema_version": 3,
     "solution": false
    }
   },
   "outputs": [
    {
     "name": "stdout",
     "output_type": "stream",
     "text": [
      "1 test passed.\n",
      "1 test passed.\n",
      "1 test passed.\n"
     ]
    }
   ],
   "source": [
    "Test.assertEquals(list(conteoPuertosClasePT.index),[1, 2, 3], 'Categorias (filas) incorrectas')\n",
    "Test.assertEquals(list(conteoPuertosClasePT.columns),['C', 'Q', 'S'], 'Puertos (columnas) incorrectos')\n",
    "Test.assertEquals(list(conteoPuertosClasePT.values.ravel()),[85, 2, 127, 17, 3, 164, 66, 72, 353], 'Conteos por puerto y clase incorrectos')"
   ]
  },
  {
   "cell_type": "markdown",
   "metadata": {
    "deletable": false,
    "editable": false,
    "nbgrader": {
     "cell_type": "markdown",
     "checksum": "adb5944761cc790c13f809bb6c461140",
     "grade": false,
     "grade_id": "cell-a526043c517e5685",
     "locked": true,
     "schema_version": 3,
     "solution": false
    }
   },
   "source": [
    "Queremos conocer cuánto costaban los tickets del Titanic. Para ello, calcular la tarifa media de los pasajes. "
   ]
  },
  {
   "cell_type": "code",
   "execution_count": 48,
   "metadata": {
    "deletable": false,
    "nbgrader": {
     "cell_type": "code",
     "checksum": "e7800ab22f5cd267576fe163544db4e5",
     "grade": false,
     "grade_id": "cell-cf0f19154d37970e",
     "locked": false,
     "schema_version": 3,
     "solution": true
    }
   },
   "outputs": [],
   "source": [
    "mediaBillete = titanic.Fare.mean()"
   ]
  },
  {
   "cell_type": "code",
   "execution_count": 49,
   "metadata": {
    "deletable": false,
    "editable": false,
    "nbgrader": {
     "cell_type": "code",
     "checksum": "14a8c06978a88992dbe06f987a0974a9",
     "grade": true,
     "grade_id": "cell-86704ecd2323f622",
     "locked": true,
     "points": 1,
     "schema_version": 3,
     "solution": false
    }
   },
   "outputs": [
    {
     "name": "stdout",
     "output_type": "stream",
     "text": [
      "1 test passed.\n"
     ]
    }
   ],
   "source": [
    "Test.assertEquals(round(mediaBillete, 3),32.204, 'Media de precio de billete incorrecta')"
   ]
  },
  {
   "cell_type": "markdown",
   "metadata": {
    "deletable": false,
    "editable": false,
    "nbgrader": {
     "cell_type": "markdown",
     "checksum": "3ffdb051589d513b01d33347d846bb68",
     "grade": false,
     "grade_id": "cell-349694725e20afbf",
     "locked": true,
     "schema_version": 3,
     "solution": false
    }
   },
   "source": [
    "A continuación, mostar la media de las tarifas en función de la clase. ¿Cuánto costaba de media un pasaje de primera clase? ¿Y de segunda? ¿Y de tercera? "
   ]
  },
  {
   "cell_type": "code",
   "execution_count": 60,
   "metadata": {
    "deletable": false,
    "nbgrader": {
     "cell_type": "code",
     "checksum": "f1e90ba2f5c8113b1a47d7365d7de1d8",
     "grade": false,
     "grade_id": "cell-7ebe02d09db5cc03",
     "locked": false,
     "schema_version": 3,
     "solution": true
    }
   },
   "outputs": [],
   "source": [
    "mediaBilleteClase = titanic.groupby(['Pclass']).mean().Fare"
   ]
  },
  {
   "cell_type": "code",
   "execution_count": 61,
   "metadata": {
    "deletable": false,
    "editable": false,
    "nbgrader": {
     "cell_type": "code",
     "checksum": "8213e37a824cb3998a9c1e0b3ca18b83",
     "grade": true,
     "grade_id": "cell-157f4f742cd3b627",
     "locked": true,
     "points": 2,
     "schema_version": 3,
     "solution": false
    }
   },
   "outputs": [
    {
     "name": "stdout",
     "output_type": "stream",
     "text": [
      "1 test passed.\n"
     ]
    }
   ],
   "source": [
    "Test.assertEquals(list(map(lambda x: round(x,3), list(mediaBilleteClase.values))),[84.155, 20.662, 13.676], 'Medias de precios de billete por calse incorrectas')"
   ]
  },
  {
   "cell_type": "markdown",
   "metadata": {
    "deletable": false,
    "editable": false,
    "nbgrader": {
     "cell_type": "markdown",
     "checksum": "90be22771e6384cb6b975f6f11731735",
     "grade": false,
     "grade_id": "cell-0140a2c5f14b1a2d",
     "locked": true,
     "schema_version": 3,
     "solution": false
    }
   },
   "source": [
    "¿Murió mucha gente en el Titanic? Para ello, calcula el porcentaje de pasajeros que se salvaron. "
   ]
  },
  {
   "cell_type": "code",
   "execution_count": 123,
   "metadata": {
    "deletable": false,
    "nbgrader": {
     "cell_type": "code",
     "checksum": "b409a7a8dba798f9d30f29b8617fc3d6",
     "grade": false,
     "grade_id": "cell-c9bb48d9d29eb6e7",
     "locked": false,
     "schema_version": 3,
     "solution": true
    }
   },
   "outputs": [],
   "source": [
    "porcentajeSupervivientes = (titanic.Survived.sum()/titanic.Survived.size) * 100"
   ]
  },
  {
   "cell_type": "code",
   "execution_count": 125,
   "metadata": {
    "deletable": false,
    "editable": false,
    "nbgrader": {
     "cell_type": "code",
     "checksum": "a7497a0f22f48b51a1fcd7bf764a29bf",
     "grade": true,
     "grade_id": "cell-504f12fbbc5c3edc",
     "locked": true,
     "points": 2,
     "schema_version": 3,
     "solution": false
    }
   },
   "outputs": [
    {
     "name": "stdout",
     "output_type": "stream",
     "text": [
      "1 test passed.\n"
     ]
    }
   ],
   "source": [
    "Test.assertEquals(round(porcentajeSupervivientes, 3),38.384, 'Porcentaje de supervivientes incorrecto')"
   ]
  },
  {
   "cell_type": "markdown",
   "metadata": {
    "deletable": false,
    "editable": false,
    "nbgrader": {
     "cell_type": "markdown",
     "checksum": "b6709cf6a466cb6439db58723421ba9a",
     "grade": false,
     "grade_id": "cell-1d2e747f17c67c88",
     "locked": true,
     "schema_version": 3,
     "solution": false
    }
   },
   "source": [
    "¿Es cierto que los botes salvavidas se reservaron para los pasajeros de primera clase? Obtén el porcentaje de pasajeros que se salvaron de cada clase. "
   ]
  },
  {
   "cell_type": "code",
   "execution_count": 128,
   "metadata": {
    "deletable": false,
    "nbgrader": {
     "cell_type": "code",
     "checksum": "09e826415e297919a2240b410f928016",
     "grade": false,
     "grade_id": "cell-30cc118aa9fc0486",
     "locked": false,
     "schema_version": 3,
     "solution": true
    }
   },
   "outputs": [],
   "source": [
    "porcentajeSupervivientesClases = (titanic.groupby(['Pclass']).Survived.sum()/titanic.groupby(['Pclass']).Survived.count())*100"
   ]
  },
  {
   "cell_type": "code",
   "execution_count": 129,
   "metadata": {
    "deletable": false,
    "editable": false,
    "nbgrader": {
     "cell_type": "code",
     "checksum": "d7126378ad9e7da05211330c2f092c25",
     "grade": true,
     "grade_id": "cell-5de82e14e8f4cbd1",
     "locked": true,
     "points": 3,
     "schema_version": 3,
     "solution": false
    }
   },
   "outputs": [
    {
     "name": "stdout",
     "output_type": "stream",
     "text": [
      "1 test passed.\n"
     ]
    }
   ],
   "source": [
    "Test.assertEquals(list(map(lambda x: round(x, 3), porcentajeSupervivientesClases.values)),[62.963, 47.283, 24.236], 'Porcentaje de supervivientes por clase incorrecto')"
   ]
  },
  {
   "cell_type": "markdown",
   "metadata": {
    "deletable": false,
    "editable": false,
    "nbgrader": {
     "cell_type": "markdown",
     "checksum": "6b633d205d871582fc85fb48ef3cb2d0",
     "grade": false,
     "grade_id": "cell-20db4c5476396b14",
     "locked": true,
     "schema_version": 3,
     "solution": false
    }
   },
   "source": [
    "Y eso de primero niños y mujeres, ¿es cierto? Calcula el porcentaje de mujeres y de hombres que se salvaron."
   ]
  },
  {
   "cell_type": "code",
   "execution_count": 130,
   "metadata": {
    "deletable": false,
    "nbgrader": {
     "cell_type": "code",
     "checksum": "ee204c721d99af9dd3b73160cc9b30f5",
     "grade": false,
     "grade_id": "cell-6a2d6f9968073f33",
     "locked": false,
     "schema_version": 3,
     "solution": true
    }
   },
   "outputs": [],
   "source": [
    "porcentajeSupervivientesSexo = (titanic.groupby(['Sex']).Survived.sum()/titanic.groupby(['Sex']).Survived.count())*100"
   ]
  },
  {
   "cell_type": "code",
   "execution_count": 131,
   "metadata": {
    "deletable": false,
    "editable": false,
    "nbgrader": {
     "cell_type": "code",
     "checksum": "288fcd403e8a803e32a1bec713588d98",
     "grade": true,
     "grade_id": "cell-e22dc1e1e6177d08",
     "locked": true,
     "points": 2,
     "schema_version": 3,
     "solution": false
    }
   },
   "outputs": [
    {
     "name": "stdout",
     "output_type": "stream",
     "text": [
      "1 test passed.\n"
     ]
    }
   ],
   "source": [
    "Test.assertEquals(list(map(lambda x: round(x, 3), porcentajeSupervivientesSexo.values)),[74.204, 18.891], 'Porcentaje de supervivientes por sexo incorrecto')"
   ]
  },
  {
   "cell_type": "markdown",
   "metadata": {
    "deletable": false,
    "editable": false,
    "nbgrader": {
     "cell_type": "markdown",
     "checksum": "8eb1ce9b2eaf83a4cf615a41a0bea30c",
     "grade": false,
     "grade_id": "cell-58b3bc64b6cc8854",
     "locked": true,
     "schema_version": 3,
     "solution": false
    }
   },
   "source": [
    "De los pasajeros que se salvaron de cada clase, ¿Qué porcentaje eran hombres y mujeres? Utiliza una pivot table como paso auxiliar para ello."
   ]
  },
  {
   "cell_type": "code",
   "execution_count": 158,
   "metadata": {
    "deletable": false,
    "nbgrader": {
     "cell_type": "code",
     "checksum": "d2c6cbc8735d6af1b64664fa2e6ace57",
     "grade": false,
     "grade_id": "cell-70ed0de1b2fd93de",
     "locked": false,
     "schema_version": 3,
     "solution": true
    }
   },
   "outputs": [
    {
     "data": {
      "text/html": [
       "<div>\n",
       "<style scoped>\n",
       "    .dataframe tbody tr th:only-of-type {\n",
       "        vertical-align: middle;\n",
       "    }\n",
       "\n",
       "    .dataframe tbody tr th {\n",
       "        vertical-align: top;\n",
       "    }\n",
       "\n",
       "    .dataframe thead th {\n",
       "        text-align: right;\n",
       "    }\n",
       "</style>\n",
       "<table border=\"1\" class=\"dataframe\">\n",
       "  <thead>\n",
       "    <tr style=\"text-align: right;\">\n",
       "      <th>Sex</th>\n",
       "      <th>F</th>\n",
       "      <th>M</th>\n",
       "    </tr>\n",
       "    <tr>\n",
       "      <th>Pclass</th>\n",
       "      <th></th>\n",
       "      <th></th>\n",
       "    </tr>\n",
       "  </thead>\n",
       "  <tbody>\n",
       "    <tr>\n",
       "      <td>1</td>\n",
       "      <td>91</td>\n",
       "      <td>45</td>\n",
       "    </tr>\n",
       "    <tr>\n",
       "      <td>2</td>\n",
       "      <td>70</td>\n",
       "      <td>17</td>\n",
       "    </tr>\n",
       "    <tr>\n",
       "      <td>3</td>\n",
       "      <td>72</td>\n",
       "      <td>47</td>\n",
       "    </tr>\n",
       "  </tbody>\n",
       "</table>\n",
       "</div>"
      ],
      "text/plain": [
       "Sex      F   M\n",
       "Pclass        \n",
       "1       91  45\n",
       "2       70  17\n",
       "3       72  47"
      ]
     },
     "execution_count": 158,
     "metadata": {},
     "output_type": "execute_result"
    }
   ],
   "source": [
    "tabla = pd.pivot_table(titanic, values='Survived', index=['Pclass'], columns=['Sex'], aggfunc='sum')\n",
    "porcentajeSupervivientesSexoClase.columns = tabla.apply(lambda row: (row.iloc[0])/row.iloc[1]*100, axis=1)"
   ]
  },
  {
   "cell_type": "code",
   "execution_count": 143,
   "metadata": {
    "deletable": false,
    "editable": false,
    "nbgrader": {
     "cell_type": "code",
     "checksum": "f77314539c4fa8a4e2069ab35113d68a",
     "grade": true,
     "grade_id": "cell-b99552f880f55ec9",
     "locked": true,
     "points": 4,
     "schema_version": 3,
     "solution": false
    }
   },
   "outputs": [
    {
     "name": "stdout",
     "output_type": "stream",
     "text": [
      "1 test passed.\n",
      "1 test passed.\n",
      "1 test failed. Porcentajes de supervivientes por clase y sexo incorrectos\n"
     ]
    },
    {
     "ename": "Exception",
     "evalue": "Porcentajes de supervivientes por clase y sexo incorrectos",
     "output_type": "error",
     "traceback": [
      "\u001b[0;31m---------------------------------------------------------------------------\u001b[0m",
      "\u001b[0;31mException\u001b[0m                                 Traceback (most recent call last)",
      "\u001b[0;32m<ipython-input-143-694978bb4bd8>\u001b[0m in \u001b[0;36m<module>\u001b[0;34m\u001b[0m\n\u001b[1;32m      1\u001b[0m \u001b[0mTest\u001b[0m\u001b[0;34m.\u001b[0m\u001b[0massertEquals\u001b[0m\u001b[0;34m(\u001b[0m\u001b[0mlist\u001b[0m\u001b[0;34m(\u001b[0m\u001b[0mporcentajeSupervivientesSexoClase\u001b[0m\u001b[0;34m.\u001b[0m\u001b[0mindex\u001b[0m\u001b[0;34m)\u001b[0m\u001b[0;34m,\u001b[0m\u001b[0;34m[\u001b[0m\u001b[0;36m1\u001b[0m\u001b[0;34m,\u001b[0m \u001b[0;36m2\u001b[0m\u001b[0;34m,\u001b[0m \u001b[0;36m3\u001b[0m\u001b[0;34m]\u001b[0m\u001b[0;34m,\u001b[0m \u001b[0;34m'Clases (filas) incorrectas'\u001b[0m\u001b[0;34m)\u001b[0m\u001b[0;34m\u001b[0m\u001b[0;34m\u001b[0m\u001b[0m\n\u001b[1;32m      2\u001b[0m \u001b[0mTest\u001b[0m\u001b[0;34m.\u001b[0m\u001b[0massertEquals\u001b[0m\u001b[0;34m(\u001b[0m\u001b[0mlist\u001b[0m\u001b[0;34m(\u001b[0m\u001b[0mporcentajeSupervivientesSexoClase\u001b[0m\u001b[0;34m.\u001b[0m\u001b[0mcolumns\u001b[0m\u001b[0;34m)\u001b[0m\u001b[0;34m,\u001b[0m\u001b[0;34m[\u001b[0m\u001b[0;34m'F'\u001b[0m\u001b[0;34m,\u001b[0m \u001b[0;34m'M'\u001b[0m\u001b[0;34m]\u001b[0m\u001b[0;34m,\u001b[0m \u001b[0;34m'Sexo (columnas) incorrecto'\u001b[0m\u001b[0;34m)\u001b[0m\u001b[0;34m\u001b[0m\u001b[0;34m\u001b[0m\u001b[0m\n\u001b[0;32m----> 3\u001b[0;31m \u001b[0mTest\u001b[0m\u001b[0;34m.\u001b[0m\u001b[0massertEquals\u001b[0m\u001b[0;34m(\u001b[0m\u001b[0mlist\u001b[0m\u001b[0;34m(\u001b[0m\u001b[0mmap\u001b[0m\u001b[0;34m(\u001b[0m\u001b[0;32mlambda\u001b[0m \u001b[0mx\u001b[0m\u001b[0;34m:\u001b[0m \u001b[0mround\u001b[0m\u001b[0;34m(\u001b[0m\u001b[0mx\u001b[0m\u001b[0;34m,\u001b[0m \u001b[0;36m3\u001b[0m\u001b[0;34m)\u001b[0m\u001b[0;34m,\u001b[0m\u001b[0mporcentajeSupervivientesSexoClase\u001b[0m\u001b[0;34m.\u001b[0m\u001b[0mvalues\u001b[0m\u001b[0;34m.\u001b[0m\u001b[0mravel\u001b[0m\u001b[0;34m(\u001b[0m\u001b[0;34m)\u001b[0m\u001b[0;34m)\u001b[0m\u001b[0;34m)\u001b[0m\u001b[0;34m,\u001b[0m\u001b[0;34m[\u001b[0m\u001b[0;36m66.912\u001b[0m\u001b[0;34m,\u001b[0m \u001b[0;36m33.088\u001b[0m\u001b[0;34m,\u001b[0m \u001b[0;36m80.46\u001b[0m\u001b[0;34m,\u001b[0m \u001b[0;36m19.54\u001b[0m\u001b[0;34m,\u001b[0m \u001b[0;36m60.504\u001b[0m\u001b[0;34m,\u001b[0m \u001b[0;36m39.496\u001b[0m\u001b[0;34m]\u001b[0m\u001b[0;34m,\u001b[0m \u001b[0;34m'Porcentajes de supervivientes por clase y sexo incorrectos'\u001b[0m\u001b[0;34m)\u001b[0m\u001b[0;34m\u001b[0m\u001b[0;34m\u001b[0m\u001b[0m\n\u001b[0m",
      "\u001b[0;32m~/Documentos/Mineria/Practicas/Practica1/MD_Descriptiva_Titanic/test_helper.py\u001b[0m in \u001b[0;36massertEquals\u001b[0;34m(cls, var, val, msg)\u001b[0m\n\u001b[1;32m     37\u001b[0m   \u001b[0;34m@\u001b[0m\u001b[0mclassmethod\u001b[0m\u001b[0;34m\u001b[0m\u001b[0;34m\u001b[0m\u001b[0m\n\u001b[1;32m     38\u001b[0m   \u001b[0;32mdef\u001b[0m \u001b[0massertEquals\u001b[0m\u001b[0;34m(\u001b[0m\u001b[0mcls\u001b[0m\u001b[0;34m,\u001b[0m \u001b[0mvar\u001b[0m\u001b[0;34m,\u001b[0m \u001b[0mval\u001b[0m\u001b[0;34m,\u001b[0m \u001b[0mmsg\u001b[0m\u001b[0;34m=\u001b[0m\u001b[0;34m\"\"\u001b[0m\u001b[0;34m)\u001b[0m\u001b[0;34m:\u001b[0m\u001b[0;34m\u001b[0m\u001b[0;34m\u001b[0m\u001b[0m\n\u001b[0;32m---> 39\u001b[0;31m     \u001b[0mcls\u001b[0m\u001b[0;34m.\u001b[0m\u001b[0massertTrue\u001b[0m\u001b[0;34m(\u001b[0m\u001b[0mvar\u001b[0m \u001b[0;34m==\u001b[0m \u001b[0mval\u001b[0m\u001b[0;34m,\u001b[0m \u001b[0mmsg\u001b[0m\u001b[0;34m)\u001b[0m\u001b[0;34m\u001b[0m\u001b[0;34m\u001b[0m\u001b[0m\n\u001b[0m\u001b[1;32m     40\u001b[0m \u001b[0;34m\u001b[0m\u001b[0m\n\u001b[1;32m     41\u001b[0m   \u001b[0;34m@\u001b[0m\u001b[0mclassmethod\u001b[0m\u001b[0;34m\u001b[0m\u001b[0;34m\u001b[0m\u001b[0m\n",
      "\u001b[0;32m~/Documentos/Mineria/Practicas/Practica1/MD_Descriptiva_Titanic/test_helper.py\u001b[0m in \u001b[0;36massertTrue\u001b[0;34m(cls, result, msg)\u001b[0m\n\u001b[1;32m     28\u001b[0m     \u001b[0;32melse\u001b[0m\u001b[0;34m:\u001b[0m\u001b[0;34m\u001b[0m\u001b[0;34m\u001b[0m\u001b[0m\n\u001b[1;32m     29\u001b[0m       \u001b[0mprint\u001b[0m\u001b[0;34m(\u001b[0m\u001b[0;34m\"1 test failed. \"\u001b[0m \u001b[0;34m+\u001b[0m \u001b[0mmsg\u001b[0m\u001b[0;34m)\u001b[0m\u001b[0;34m\u001b[0m\u001b[0;34m\u001b[0m\u001b[0m\n\u001b[0;32m---> 30\u001b[0;31m       \u001b[0;32mraise\u001b[0m \u001b[0mException\u001b[0m\u001b[0;34m(\u001b[0m\u001b[0mmsg\u001b[0m\u001b[0;34m)\u001b[0m\u001b[0;34m\u001b[0m\u001b[0;34m\u001b[0m\u001b[0m\n\u001b[0m\u001b[1;32m     31\u001b[0m       \u001b[0;31m# if cls.failFast:\u001b[0m\u001b[0;34m\u001b[0m\u001b[0;34m\u001b[0m\u001b[0;34m\u001b[0m\u001b[0m\n\u001b[1;32m     32\u001b[0m         \u001b[0;31m# if cls.private:\u001b[0m\u001b[0;34m\u001b[0m\u001b[0;34m\u001b[0m\u001b[0;34m\u001b[0m\u001b[0m\n",
      "\u001b[0;31mException\u001b[0m: Porcentajes de supervivientes por clase y sexo incorrectos"
     ]
    }
   ],
   "source": [
    "Test.assertEquals(list(porcentajeSupervivientesSexoClase.index),[1, 2, 3], 'Clases (filas) incorrectas')\n",
    "Test.assertEquals(list(porcentajeSupervivientesSexoClase.columns),['F', 'M'], 'Sexo (columnas) incorrecto')\n",
    "Test.assertEquals(list(map(lambda x: round(x, 3),porcentajeSupervivientesSexoClase.values.ravel())),[66.912, 33.088, 80.46, 19.54, 60.504, 39.496], 'Porcentajes de supervivientes por clase y sexo incorrectos')"
   ]
  }
 ],
 "metadata": {
  "anaconda-cloud": {},
  "kernelspec": {
   "display_name": "Python [conda env:py37machlearn] *",
   "language": "python",
   "name": "conda-env-py37machlearn-py"
  },
  "language_info": {
   "codemirror_mode": {
    "name": "ipython",
    "version": 3
   },
   "file_extension": ".py",
   "mimetype": "text/x-python",
   "name": "python",
   "nbconvert_exporter": "python",
   "pygments_lexer": "ipython3",
   "version": "3.7.4"
  }
 },
 "nbformat": 4,
 "nbformat_minor": 1
}
